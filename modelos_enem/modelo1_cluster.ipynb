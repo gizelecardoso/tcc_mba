{
 "cells": [
  {
   "cell_type": "code",
   "execution_count": 15,
   "source": [
    "import pandas as pd\r\n",
    "import numpy as np\r\n",
    "import matplotlib.pyplot as plt\r\n",
    "import seaborn as sns\r\n",
    "\r\n",
    "sns.set_theme()\r\n",
    "\r\n",
    "from sklearn.cluster import KMeans\r\n",
    "\r\n",
    "from scipy.cluster import hierarchy\r\n",
    "\r\n",
    "from sklearn.impute import SimpleImputer\r\n",
    "from sklearn.metrics import silhouette_score"
   ],
   "outputs": [],
   "metadata": {}
  },
  {
   "cell_type": "markdown",
   "source": [
    "## Carregando Bases de Dados"
   ],
   "metadata": {}
  },
  {
   "cell_type": "code",
   "execution_count": 16,
   "source": [
    "enem_total = pd.read_csv('../src/enem_total.csv')\r\n",
    "\r\n",
    "enem = pd.read_csv('../src/enem_total_quant.csv')\r\n",
    "\r\n",
    "enem_pad = pd.read_csv('../src/enem_total_quant_pad.csv')\r\n",
    "\r\n",
    "enem_pad.set_index('NU_INSCRICAO', drop=True, inplace=True)\r\n",
    "\r\n",
    "enem.head()"
   ],
   "outputs": [
    {
     "output_type": "execute_result",
     "data": {
      "text/html": [
       "<div>\n",
       "<style scoped>\n",
       "    .dataframe tbody tr th:only-of-type {\n",
       "        vertical-align: middle;\n",
       "    }\n",
       "\n",
       "    .dataframe tbody tr th {\n",
       "        vertical-align: top;\n",
       "    }\n",
       "\n",
       "    .dataframe thead th {\n",
       "        text-align: right;\n",
       "    }\n",
       "</style>\n",
       "<table border=\"1\" class=\"dataframe\">\n",
       "  <thead>\n",
       "    <tr style=\"text-align: right;\">\n",
       "      <th></th>\n",
       "      <th>NU_INSCRICAO</th>\n",
       "      <th>NU_IDADE</th>\n",
       "      <th>NU_NOTA_CN</th>\n",
       "      <th>NU_NOTA_CH</th>\n",
       "      <th>NU_NOTA_LC</th>\n",
       "      <th>NU_NOTA_MT</th>\n",
       "      <th>NU_NOTA_COMP1</th>\n",
       "      <th>NU_NOTA_COMP2</th>\n",
       "      <th>NU_NOTA_COMP3</th>\n",
       "      <th>NU_NOTA_COMP4</th>\n",
       "      <th>NU_NOTA_COMP5</th>\n",
       "      <th>NU_NOTA_REDACAO</th>\n",
       "      <th>Q005</th>\n",
       "      <th>NU_NOTA_MEDIA</th>\n",
       "    </tr>\n",
       "  </thead>\n",
       "  <tbody>\n",
       "    <tr>\n",
       "      <th>0</th>\n",
       "      <td>190001237802</td>\n",
       "      <td>22.0</td>\n",
       "      <td>513.6</td>\n",
       "      <td>575.5</td>\n",
       "      <td>570.7</td>\n",
       "      <td>677.0</td>\n",
       "      <td>160.0</td>\n",
       "      <td>120.0</td>\n",
       "      <td>170.0</td>\n",
       "      <td>170.0</td>\n",
       "      <td>200.0</td>\n",
       "      <td>860.0</td>\n",
       "      <td>3.0</td>\n",
       "      <td>584.200</td>\n",
       "    </tr>\n",
       "    <tr>\n",
       "      <th>1</th>\n",
       "      <td>190001421548</td>\n",
       "      <td>22.0</td>\n",
       "      <td>484.6</td>\n",
       "      <td>488.4</td>\n",
       "      <td>507.2</td>\n",
       "      <td>594.7</td>\n",
       "      <td>140.0</td>\n",
       "      <td>120.0</td>\n",
       "      <td>120.0</td>\n",
       "      <td>160.0</td>\n",
       "      <td>60.0</td>\n",
       "      <td>600.0</td>\n",
       "      <td>3.0</td>\n",
       "      <td>518.725</td>\n",
       "    </tr>\n",
       "    <tr>\n",
       "      <th>2</th>\n",
       "      <td>190001592266</td>\n",
       "      <td>17.0</td>\n",
       "      <td>543.9</td>\n",
       "      <td>548.1</td>\n",
       "      <td>502.5</td>\n",
       "      <td>480.7</td>\n",
       "      <td>120.0</td>\n",
       "      <td>90.0</td>\n",
       "      <td>120.0</td>\n",
       "      <td>120.0</td>\n",
       "      <td>0.0</td>\n",
       "      <td>400.0</td>\n",
       "      <td>5.0</td>\n",
       "      <td>518.800</td>\n",
       "    </tr>\n",
       "    <tr>\n",
       "      <th>3</th>\n",
       "      <td>190001475147</td>\n",
       "      <td>19.0</td>\n",
       "      <td>518.2</td>\n",
       "      <td>351.7</td>\n",
       "      <td>417.6</td>\n",
       "      <td>459.0</td>\n",
       "      <td>120.0</td>\n",
       "      <td>120.0</td>\n",
       "      <td>120.0</td>\n",
       "      <td>120.0</td>\n",
       "      <td>20.0</td>\n",
       "      <td>500.0</td>\n",
       "      <td>4.0</td>\n",
       "      <td>436.625</td>\n",
       "    </tr>\n",
       "    <tr>\n",
       "      <th>4</th>\n",
       "      <td>190001867756</td>\n",
       "      <td>23.0</td>\n",
       "      <td>373.8</td>\n",
       "      <td>393.6</td>\n",
       "      <td>451.0</td>\n",
       "      <td>484.7</td>\n",
       "      <td>120.0</td>\n",
       "      <td>90.0</td>\n",
       "      <td>90.0</td>\n",
       "      <td>100.0</td>\n",
       "      <td>0.0</td>\n",
       "      <td>300.0</td>\n",
       "      <td>3.0</td>\n",
       "      <td>425.775</td>\n",
       "    </tr>\n",
       "  </tbody>\n",
       "</table>\n",
       "</div>"
      ],
      "text/plain": [
       "   NU_INSCRICAO  NU_IDADE  NU_NOTA_CN  NU_NOTA_CH  NU_NOTA_LC  NU_NOTA_MT  \\\n",
       "0  190001237802      22.0       513.6       575.5       570.7       677.0   \n",
       "1  190001421548      22.0       484.6       488.4       507.2       594.7   \n",
       "2  190001592266      17.0       543.9       548.1       502.5       480.7   \n",
       "3  190001475147      19.0       518.2       351.7       417.6       459.0   \n",
       "4  190001867756      23.0       373.8       393.6       451.0       484.7   \n",
       "\n",
       "   NU_NOTA_COMP1  NU_NOTA_COMP2  NU_NOTA_COMP3  NU_NOTA_COMP4  NU_NOTA_COMP5  \\\n",
       "0          160.0          120.0          170.0          170.0          200.0   \n",
       "1          140.0          120.0          120.0          160.0           60.0   \n",
       "2          120.0           90.0          120.0          120.0            0.0   \n",
       "3          120.0          120.0          120.0          120.0           20.0   \n",
       "4          120.0           90.0           90.0          100.0            0.0   \n",
       "\n",
       "   NU_NOTA_REDACAO  Q005  NU_NOTA_MEDIA  \n",
       "0            860.0   3.0        584.200  \n",
       "1            600.0   3.0        518.725  \n",
       "2            400.0   5.0        518.800  \n",
       "3            500.0   4.0        436.625  \n",
       "4            300.0   3.0        425.775  "
      ]
     },
     "metadata": {},
     "execution_count": 16
    }
   ],
   "metadata": {}
  },
  {
   "cell_type": "code",
   "execution_count": 17,
   "source": [
    "enem_pad.head()"
   ],
   "outputs": [
    {
     "output_type": "execute_result",
     "data": {
      "text/html": [
       "<div>\n",
       "<style scoped>\n",
       "    .dataframe tbody tr th:only-of-type {\n",
       "        vertical-align: middle;\n",
       "    }\n",
       "\n",
       "    .dataframe tbody tr th {\n",
       "        vertical-align: top;\n",
       "    }\n",
       "\n",
       "    .dataframe thead th {\n",
       "        text-align: right;\n",
       "    }\n",
       "</style>\n",
       "<table border=\"1\" class=\"dataframe\">\n",
       "  <thead>\n",
       "    <tr style=\"text-align: right;\">\n",
       "      <th></th>\n",
       "      <th>NU_IDADE</th>\n",
       "      <th>NU_NOTA_CN</th>\n",
       "      <th>NU_NOTA_CH</th>\n",
       "      <th>NU_NOTA_LC</th>\n",
       "      <th>NU_NOTA_MT</th>\n",
       "      <th>NU_NOTA_COMP1</th>\n",
       "      <th>NU_NOTA_COMP2</th>\n",
       "      <th>NU_NOTA_COMP3</th>\n",
       "      <th>NU_NOTA_COMP4</th>\n",
       "      <th>NU_NOTA_COMP5</th>\n",
       "      <th>NU_NOTA_REDACAO</th>\n",
       "      <th>Q005</th>\n",
       "      <th>NU_NOTA_MEDIA</th>\n",
       "    </tr>\n",
       "    <tr>\n",
       "      <th>NU_INSCRICAO</th>\n",
       "      <th></th>\n",
       "      <th></th>\n",
       "      <th></th>\n",
       "      <th></th>\n",
       "      <th></th>\n",
       "      <th></th>\n",
       "      <th></th>\n",
       "      <th></th>\n",
       "      <th></th>\n",
       "      <th></th>\n",
       "      <th></th>\n",
       "      <th></th>\n",
       "      <th></th>\n",
       "    </tr>\n",
       "  </thead>\n",
       "  <tbody>\n",
       "    <tr>\n",
       "      <th>190001237802</th>\n",
       "      <td>0.025038</td>\n",
       "      <td>0.430864</td>\n",
       "      <td>0.743696</td>\n",
       "      <td>0.715873</td>\n",
       "      <td>1.475362</td>\n",
       "      <td>1.531819</td>\n",
       "      <td>-0.455473</td>\n",
       "      <td>1.905869</td>\n",
       "      <td>1.678562</td>\n",
       "      <td>1.765516</td>\n",
       "      <td>1.638358</td>\n",
       "      <td>-0.610414</td>\n",
       "      <td>1.079994</td>\n",
       "    </tr>\n",
       "    <tr>\n",
       "      <th>190001421548</th>\n",
       "      <td>0.025038</td>\n",
       "      <td>0.032918</td>\n",
       "      <td>-0.452761</td>\n",
       "      <td>-0.506077</td>\n",
       "      <td>0.694142</td>\n",
       "      <td>0.583889</td>\n",
       "      <td>-0.455473</td>\n",
       "      <td>-0.229759</td>\n",
       "      <td>1.276303</td>\n",
       "      <td>-0.740683</td>\n",
       "      <td>-0.091095</td>\n",
       "      <td>-0.610414</td>\n",
       "      <td>0.063155</td>\n",
       "    </tr>\n",
       "    <tr>\n",
       "      <th>190001592266</th>\n",
       "      <td>-0.960845</td>\n",
       "      <td>0.846649</td>\n",
       "      <td>0.367314</td>\n",
       "      <td>-0.596521</td>\n",
       "      <td>-0.387986</td>\n",
       "      <td>-0.364042</td>\n",
       "      <td>-1.735008</td>\n",
       "      <td>-0.229759</td>\n",
       "      <td>-0.332733</td>\n",
       "      <td>-1.814768</td>\n",
       "      <td>-1.421443</td>\n",
       "      <td>0.854579</td>\n",
       "      <td>0.064319</td>\n",
       "    </tr>\n",
       "    <tr>\n",
       "      <th>190001475147</th>\n",
       "      <td>-0.566491</td>\n",
       "      <td>0.493987</td>\n",
       "      <td>-2.330553</td>\n",
       "      <td>-2.230278</td>\n",
       "      <td>-0.593970</td>\n",
       "      <td>-0.364042</td>\n",
       "      <td>-0.455473</td>\n",
       "      <td>-0.229759</td>\n",
       "      <td>-0.332733</td>\n",
       "      <td>-1.456740</td>\n",
       "      <td>-0.756269</td>\n",
       "      <td>0.122083</td>\n",
       "      <td>-1.211875</td>\n",
       "    </tr>\n",
       "    <tr>\n",
       "      <th>190001867756</th>\n",
       "      <td>0.222215</td>\n",
       "      <td>-1.487511</td>\n",
       "      <td>-1.754990</td>\n",
       "      <td>-1.587552</td>\n",
       "      <td>-0.350016</td>\n",
       "      <td>-0.364042</td>\n",
       "      <td>-1.735008</td>\n",
       "      <td>-1.511136</td>\n",
       "      <td>-1.137250</td>\n",
       "      <td>-1.814768</td>\n",
       "      <td>-2.086618</td>\n",
       "      <td>-0.610414</td>\n",
       "      <td>-1.380377</td>\n",
       "    </tr>\n",
       "  </tbody>\n",
       "</table>\n",
       "</div>"
      ],
      "text/plain": [
       "              NU_IDADE  NU_NOTA_CN  NU_NOTA_CH  NU_NOTA_LC  NU_NOTA_MT  \\\n",
       "NU_INSCRICAO                                                             \n",
       "190001237802  0.025038    0.430864    0.743696    0.715873    1.475362   \n",
       "190001421548  0.025038    0.032918   -0.452761   -0.506077    0.694142   \n",
       "190001592266 -0.960845    0.846649    0.367314   -0.596521   -0.387986   \n",
       "190001475147 -0.566491    0.493987   -2.330553   -2.230278   -0.593970   \n",
       "190001867756  0.222215   -1.487511   -1.754990   -1.587552   -0.350016   \n",
       "\n",
       "              NU_NOTA_COMP1  NU_NOTA_COMP2  NU_NOTA_COMP3  NU_NOTA_COMP4  \\\n",
       "NU_INSCRICAO                                                               \n",
       "190001237802       1.531819      -0.455473       1.905869       1.678562   \n",
       "190001421548       0.583889      -0.455473      -0.229759       1.276303   \n",
       "190001592266      -0.364042      -1.735008      -0.229759      -0.332733   \n",
       "190001475147      -0.364042      -0.455473      -0.229759      -0.332733   \n",
       "190001867756      -0.364042      -1.735008      -1.511136      -1.137250   \n",
       "\n",
       "              NU_NOTA_COMP5  NU_NOTA_REDACAO      Q005  NU_NOTA_MEDIA  \n",
       "NU_INSCRICAO                                                           \n",
       "190001237802       1.765516         1.638358 -0.610414       1.079994  \n",
       "190001421548      -0.740683        -0.091095 -0.610414       0.063155  \n",
       "190001592266      -1.814768        -1.421443  0.854579       0.064319  \n",
       "190001475147      -1.456740        -0.756269  0.122083      -1.211875  \n",
       "190001867756      -1.814768        -2.086618 -0.610414      -1.380377  "
      ]
     },
     "metadata": {},
     "execution_count": 17
    }
   ],
   "metadata": {}
  },
  {
   "cell_type": "markdown",
   "source": [
    "## Cluster KMEANS com método Silhouette e Elbow"
   ],
   "metadata": {}
  },
  {
   "cell_type": "code",
   "execution_count": 18,
   "source": [
    "inertias = []\r\n",
    "valores_silhueta = []\r\n",
    "\r\n",
    "for k in np.arange(2,10):\r\n",
    "  kmeans = KMeans(n_clusters=k)\r\n",
    "  labels = kmeans.fit_predict(enem_pad)\r\n",
    "  inertias.append(kmeans.inertia_)\r\n",
    "  media_silhueta = silhouette_score(enem_pad, labels)\r\n",
    "  valores_silhueta.append(media_silhueta)"
   ],
   "outputs": [],
   "metadata": {}
  },
  {
   "cell_type": "code",
   "execution_count": 19,
   "source": [
    "valores_silhueta"
   ],
   "outputs": [
    {
     "output_type": "execute_result",
     "data": {
      "text/plain": [
       "[0.2855207131247267,\n",
       " 0.18895169167564504,\n",
       " 0.1909669822385866,\n",
       " 0.1638189442033202,\n",
       " 0.16525008994567067,\n",
       " 0.15780709654843203,\n",
       " 0.1438279700749339,\n",
       " 0.12015695998630427]"
      ]
     },
     "metadata": {},
     "execution_count": 19
    }
   ],
   "metadata": {}
  },
  {
   "cell_type": "code",
   "execution_count": 20,
   "source": [
    "#Plotando o gráfico do Elbow Method\r\n",
    "plt.figure(figsize=(8,6))\r\n",
    "plt.plot(np.arange(2,10), inertias, '-o')\r\n",
    "plt.xlabel('Número de cluster')\r\n",
    "plt.ylabel('Inertia')"
   ],
   "outputs": [
    {
     "output_type": "execute_result",
     "data": {
      "text/plain": [
       "Text(0, 0.5, 'Inertia')"
      ]
     },
     "metadata": {},
     "execution_count": 20
    },
    {
     "output_type": "display_data",
     "data": {
      "image/png": "[encoded data removed]",
      "text/plain": [
       "<Figure size 576x432 with 1 Axes>"
      ]
     },
     "metadata": {}
    }
   ],
   "metadata": {}
  },
  {
   "cell_type": "code",
   "execution_count": 21,
   "source": [
    "#Plotando o gráfico da Silhueta\r\n",
    "plt.figure(figsize=(8,6))\r\n",
    "plt.plot(np.arange(2,10), valores_silhueta, '-o')\r\n",
    "plt.xlabel('Número de cluster')\r\n",
    "plt.ylabel('Silhueta')"
   ],
   "outputs": [
    {
     "output_type": "execute_result",
     "data": {
      "text/plain": [
       "Text(0, 0.5, 'Silhueta')"
      ]
     },
     "metadata": {},
     "execution_count": 21
    },
    {
     "output_type": "display_data",
     "data": {
      "image/png": "[encoded data removed]",
      "text/plain": [
       "<Figure size 576x432 with 1 Axes>"
      ]
     },
     "metadata": {}
    }
   ],
   "metadata": {}
  },
  {
   "cell_type": "code",
   "execution_count": 22,
   "source": [
    "n_cluster = 5\r\n",
    "kmeans = KMeans(n_clusters = n_cluster)\r\n",
    "predict = kmeans.fit_predict(enem_pad)\r\n",
    "enem['group'] = predict\r\n",
    "enem_total['group'] = predict"
   ],
   "outputs": [],
   "metadata": {}
  },
  {
   "cell_type": "code",
   "execution_count": 23,
   "source": [
    "centroids = kmeans.cluster_centers_\r\n",
    "\r\n",
    "max = len(centroids[0])\r\n",
    "for i in range(max):\r\n",
    "    print(enem.columns.values[i],\": {:.4f}\".format(centroids[:, i].var()))"
   ],
   "outputs": [
    {
     "output_type": "stream",
     "name": "stdout",
     "text": [
      "NU_INSCRICAO : 0.1109\n",
      "NU_IDADE : 0.6010\n",
      "NU_NOTA_CN : 0.5944\n",
      "NU_NOTA_CH : 0.6026\n",
      "NU_NOTA_LC : 0.6960\n",
      "NU_NOTA_MT : 0.6967\n",
      "NU_NOTA_COMP1 : 0.6532\n",
      "NU_NOTA_COMP2 : 0.8295\n",
      "NU_NOTA_COMP3 : 0.7949\n",
      "NU_NOTA_COMP4 : 0.6907\n",
      "NU_NOTA_COMP5 : 0.9542\n",
      "NU_NOTA_REDACAO : 0.0013\n",
      "Q005 : 0.8612\n"
     ]
    }
   ],
   "metadata": {}
  },
  {
   "cell_type": "markdown",
   "source": [
    "## Extraindo Informações dos Grupos"
   ],
   "metadata": {}
  },
  {
   "cell_type": "markdown",
   "source": [
    "### Baseado nas Notas - var quant, consideradas no Cluster"
   ],
   "metadata": {}
  },
  {
   "cell_type": "code",
   "execution_count": 24,
   "source": [
    "description = enem.groupby(\"group\")[\"NU_IDADE\", \"NU_NOTA_CH\", \"NU_NOTA_CN\", \"NU_NOTA_LC\", \"NU_NOTA_MT\", \"NU_NOTA_COMP1\", \"NU_NOTA_COMP2\", \"NU_NOTA_COMP3\", \"NU_NOTA_COMP4\", \"NU_NOTA_COMP5\", \"NU_NOTA_REDACAO\", \"Q005\"]\r\n",
    "n_clients = description.size()\r\n",
    "description = description.mean()\r\n",
    "description['group'] = n_clients\r\n",
    "print(description)"
   ],
   "outputs": [
    {
     "output_type": "stream",
     "name": "stdout",
     "text": [
      "        NU_IDADE  NU_NOTA_CH  NU_NOTA_CN  NU_NOTA_LC  NU_NOTA_MT  \\\n",
      "group                                                              \n",
      "0      21.418301  479.735948  432.566667  509.802369  455.192157   \n",
      "1      19.737179  612.662660  581.594872  597.626282  685.304487   \n",
      "2      19.994444  526.822222  476.364444  537.370278  506.326667   \n",
      "3      23.102941  563.847426  522.908456  562.741176  571.658456   \n",
      "4      24.036364  457.515455  435.205455  481.664659  448.355455   \n",
      "\n",
      "       NU_NOTA_COMP1  NU_NOTA_COMP2  NU_NOTA_COMP3  NU_NOTA_COMP4  \\\n",
      "group                                                               \n",
      "0         122.026144     124.248366     118.660131     120.915033   \n",
      "1         155.512821     160.576923     159.487179     162.500000   \n",
      "2         145.111111     151.055556     147.055556     153.000000   \n",
      "3         124.044118     124.669118     119.191176     120.992647   \n",
      "4         106.045455     109.181818     100.454545     103.000000   \n",
      "\n",
      "       NU_NOTA_COMP5  NU_NOTA_REDACAO      Q005  group  \n",
      "group                                                   \n",
      "0          99.803922       585.424837  3.908497    306  \n",
      "1         165.000000       839.038462  3.775641    156  \n",
      "2         141.222222       750.000000  3.833333    180  \n",
      "3          99.044118       586.286765  3.775735    272  \n",
      "4          28.727273       415.590909  3.840909    220  \n"
     ]
    },
    {
     "output_type": "stream",
     "name": "stderr",
     "text": [
      "C:\\Users\\DESKTOP\\AppData\\Local\\Temp/ipykernel_11756/194860749.py:1: FutureWarning: Indexing with multiple keys (implicitly converted to a tuple of keys) will be deprecated, use a list instead.\n",
      "  description = enem.groupby(\"group\")[\"NU_IDADE\", \"NU_NOTA_CH\", \"NU_NOTA_CN\", \"NU_NOTA_LC\", \"NU_NOTA_MT\", \"NU_NOTA_COMP1\", \"NU_NOTA_COMP2\", \"NU_NOTA_COMP3\", \"NU_NOTA_COMP4\", \"NU_NOTA_COMP5\", \"NU_NOTA_REDACAO\", \"Q005\"]\n"
     ]
    }
   ],
   "metadata": {}
  },
  {
   "cell_type": "markdown",
   "source": [
    "#### O que podemos tirar das médias dos grupos\r\n",
    "\r\n",
    " 1. Quanto menor a idade maior a nota nas provas - Grupo 4\r\n",
    " 2. Quanto maior a idade menor a nota nas provas - Grupo 3\r\n",
    " 3. A segunda menor média de pessoas que residem na residência estão dentro desse grupo - Grupo 4\r\n",
    " 4. A menor quantidade de pessoas está dentro desse grupo - Grupo 4\r\n",
    " 5. O Grupo 0 está bem próximo para baixo do Grupo 4, tirando a quantidade de pessoas na residência que é maior e a quantidade total naquele grupo (o que talvez tenha ajudado a diminuir a média geral)\r\n",
    "\r\n",
    " Tem uma lógica sequencia de grupos, em ordem decrescente:\r\n",
    " \r\n",
    " - 19 anos * GRUPO 4: maiores médias de notas, menores médias de idades, menor média de quantidade de pessoas no grupo e de pessoas morando na residência\r\n",
    " - 23 anos * GRUPO 2: Destoa por ter a idade média acima do próximo grupo da lista, e notas médias um pouco menores que o grupo anterior\r\n",
    " - 20 anos * GRUPO 0: Maiores notas de comp e de redação que o anterior, menores notas de provas que o anterior.\r\n",
    " - 21 anos * GRUPO 1: Maior média de quantidade de pessoas no grupo e maior média de quantidade de pessias morando na residência.\r\n",
    " - 23 anos * GRUPO 0:\r\n",
    "\r\n"
   ],
   "metadata": {}
  },
  {
   "cell_type": "markdown",
   "source": [
    "### Baseada na Raça"
   ],
   "metadata": {}
  },
  {
   "cell_type": "code",
   "execution_count": 101,
   "source": [
    "description = enem_total.groupby([\"group\", 'TP_COR_RACA'])['NU_NOTA_MEDIA'].mean()\r\n",
    "\r\n",
    "enem_raca = pd.DataFrame(description)\r\n",
    "\r\n",
    "enem_raca\r\n"
   ],
   "outputs": [
    {
     "output_type": "execute_result",
     "data": {
      "text/html": [
       "<div>\n",
       "<style scoped>\n",
       "    .dataframe tbody tr th:only-of-type {\n",
       "        vertical-align: middle;\n",
       "    }\n",
       "\n",
       "    .dataframe tbody tr th {\n",
       "        vertical-align: top;\n",
       "    }\n",
       "\n",
       "    .dataframe thead th {\n",
       "        text-align: right;\n",
       "    }\n",
       "</style>\n",
       "<table border=\"1\" class=\"dataframe\">\n",
       "  <thead>\n",
       "    <tr style=\"text-align: right;\">\n",
       "      <th></th>\n",
       "      <th></th>\n",
       "      <th>NU_NOTA_MEDIA</th>\n",
       "    </tr>\n",
       "    <tr>\n",
       "      <th>group</th>\n",
       "      <th>TP_COR_RACA</th>\n",
       "      <th></th>\n",
       "    </tr>\n",
       "  </thead>\n",
       "  <tbody>\n",
       "    <tr>\n",
       "      <th rowspan=\"6\" valign=\"top\">0</th>\n",
       "      <th>0</th>\n",
       "      <td>487.546429</td>\n",
       "    </tr>\n",
       "    <tr>\n",
       "      <th>1</th>\n",
       "      <td>476.485526</td>\n",
       "    </tr>\n",
       "    <tr>\n",
       "      <th>2</th>\n",
       "      <td>454.936849</td>\n",
       "    </tr>\n",
       "    <tr>\n",
       "      <th>3</th>\n",
       "      <td>469.494798</td>\n",
       "    </tr>\n",
       "    <tr>\n",
       "      <th>4</th>\n",
       "      <td>478.418750</td>\n",
       "    </tr>\n",
       "    <tr>\n",
       "      <th>5</th>\n",
       "      <td>455.754167</td>\n",
       "    </tr>\n",
       "    <tr>\n",
       "      <th rowspan=\"5\" valign=\"top\">1</th>\n",
       "      <th>0</th>\n",
       "      <td>618.175000</td>\n",
       "    </tr>\n",
       "    <tr>\n",
       "      <th>1</th>\n",
       "      <td>624.138315</td>\n",
       "    </tr>\n",
       "    <tr>\n",
       "      <th>2</th>\n",
       "      <td>611.841250</td>\n",
       "    </tr>\n",
       "    <tr>\n",
       "      <th>3</th>\n",
       "      <td>616.742742</td>\n",
       "    </tr>\n",
       "    <tr>\n",
       "      <th>4</th>\n",
       "      <td>607.700000</td>\n",
       "    </tr>\n",
       "    <tr>\n",
       "      <th rowspan=\"5\" valign=\"top\">2</th>\n",
       "      <th>1</th>\n",
       "      <td>515.317453</td>\n",
       "    </tr>\n",
       "    <tr>\n",
       "      <th>2</th>\n",
       "      <td>509.623333</td>\n",
       "    </tr>\n",
       "    <tr>\n",
       "      <th>3</th>\n",
       "      <td>509.867827</td>\n",
       "    </tr>\n",
       "    <tr>\n",
       "      <th>4</th>\n",
       "      <td>514.949219</td>\n",
       "    </tr>\n",
       "    <tr>\n",
       "      <th>5</th>\n",
       "      <td>521.275000</td>\n",
       "    </tr>\n",
       "    <tr>\n",
       "      <th rowspan=\"6\" valign=\"top\">3</th>\n",
       "      <th>0</th>\n",
       "      <td>547.383333</td>\n",
       "    </tr>\n",
       "    <tr>\n",
       "      <th>1</th>\n",
       "      <td>560.457598</td>\n",
       "    </tr>\n",
       "    <tr>\n",
       "      <th>2</th>\n",
       "      <td>544.630882</td>\n",
       "    </tr>\n",
       "    <tr>\n",
       "      <th>3</th>\n",
       "      <td>554.523810</td>\n",
       "    </tr>\n",
       "    <tr>\n",
       "      <th>4</th>\n",
       "      <td>545.304167</td>\n",
       "    </tr>\n",
       "    <tr>\n",
       "      <th>5</th>\n",
       "      <td>570.475000</td>\n",
       "    </tr>\n",
       "    <tr>\n",
       "      <th rowspan=\"6\" valign=\"top\">4</th>\n",
       "      <th>0</th>\n",
       "      <td>464.250000</td>\n",
       "    </tr>\n",
       "    <tr>\n",
       "      <th>1</th>\n",
       "      <td>459.076154</td>\n",
       "    </tr>\n",
       "    <tr>\n",
       "      <th>2</th>\n",
       "      <td>454.622857</td>\n",
       "    </tr>\n",
       "    <tr>\n",
       "      <th>3</th>\n",
       "      <td>454.269353</td>\n",
       "    </tr>\n",
       "    <tr>\n",
       "      <th>4</th>\n",
       "      <td>471.025000</td>\n",
       "    </tr>\n",
       "    <tr>\n",
       "      <th>5</th>\n",
       "      <td>417.487500</td>\n",
       "    </tr>\n",
       "  </tbody>\n",
       "</table>\n",
       "</div>"
      ],
      "text/plain": [
       "                   NU_NOTA_MEDIA\n",
       "group TP_COR_RACA               \n",
       "0     0               487.546429\n",
       "      1               476.485526\n",
       "      2               454.936849\n",
       "      3               469.494798\n",
       "      4               478.418750\n",
       "      5               455.754167\n",
       "1     0               618.175000\n",
       "      1               624.138315\n",
       "      2               611.841250\n",
       "      3               616.742742\n",
       "      4               607.700000\n",
       "2     1               515.317453\n",
       "      2               509.623333\n",
       "      3               509.867827\n",
       "      4               514.949219\n",
       "      5               521.275000\n",
       "3     0               547.383333\n",
       "      1               560.457598\n",
       "      2               544.630882\n",
       "      3               554.523810\n",
       "      4               545.304167\n",
       "      5               570.475000\n",
       "4     0               464.250000\n",
       "      1               459.076154\n",
       "      2               454.622857\n",
       "      3               454.269353\n",
       "      4               471.025000\n",
       "      5               417.487500"
      ]
     },
     "metadata": {},
     "execution_count": 101
    }
   ],
   "metadata": {}
  },
  {
   "cell_type": "markdown",
   "source": [
    "### Usando GROUP_BY por RAÇA"
   ],
   "metadata": {}
  },
  {
   "cell_type": "code",
   "execution_count": 77,
   "source": [
    "nota = enem_total.groupby('TP_COR_RACA')[\"NU_NOTA_MEDIA\"].mean()\r\n",
    "\r\n",
    "enem_group = pd.DataFrame(nota)"
   ],
   "outputs": [],
   "metadata": {}
  },
  {
   "cell_type": "markdown",
   "source": [
    "* Administração: 570 a 771\r\n",
    "* Medicina: 769 a 901"
   ],
   "metadata": {}
  },
  {
   "cell_type": "code",
   "execution_count": 78,
   "source": [
    "enem_group = enem_group.sort_values(by='NU_NOTA_MEDIA', ascending=False)"
   ],
   "outputs": [],
   "metadata": {}
  },
  {
   "cell_type": "code",
   "execution_count": 79,
   "source": [
    "enem_group.reset_index(level=0, inplace=True)"
   ],
   "outputs": [],
   "metadata": {}
  },
  {
   "cell_type": "code",
   "execution_count": 80,
   "source": [
    "enem_group"
   ],
   "outputs": [
    {
     "output_type": "execute_result",
     "data": {
      "text/html": [
       "<div>\n",
       "<style scoped>\n",
       "    .dataframe tbody tr th:only-of-type {\n",
       "        vertical-align: middle;\n",
       "    }\n",
       "\n",
       "    .dataframe tbody tr th {\n",
       "        vertical-align: top;\n",
       "    }\n",
       "\n",
       "    .dataframe thead th {\n",
       "        text-align: right;\n",
       "    }\n",
       "</style>\n",
       "<table border=\"1\" class=\"dataframe\">\n",
       "  <thead>\n",
       "    <tr style=\"text-align: right;\">\n",
       "      <th></th>\n",
       "      <th>TP_COR_RACA</th>\n",
       "      <th>NU_NOTA_MEDIA</th>\n",
       "    </tr>\n",
       "  </thead>\n",
       "  <tbody>\n",
       "    <tr>\n",
       "      <th>0</th>\n",
       "      <td>1</td>\n",
       "      <td>530.402449</td>\n",
       "    </tr>\n",
       "    <tr>\n",
       "      <th>1</th>\n",
       "      <td>0</td>\n",
       "      <td>526.696429</td>\n",
       "    </tr>\n",
       "    <tr>\n",
       "      <th>2</th>\n",
       "      <td>4</td>\n",
       "      <td>512.860880</td>\n",
       "    </tr>\n",
       "    <tr>\n",
       "      <th>3</th>\n",
       "      <td>3</td>\n",
       "      <td>508.805422</td>\n",
       "    </tr>\n",
       "    <tr>\n",
       "      <th>4</th>\n",
       "      <td>2</td>\n",
       "      <td>501.746969</td>\n",
       "    </tr>\n",
       "    <tr>\n",
       "      <th>5</th>\n",
       "      <td>5</td>\n",
       "      <td>466.125000</td>\n",
       "    </tr>\n",
       "  </tbody>\n",
       "</table>\n",
       "</div>"
      ],
      "text/plain": [
       "   TP_COR_RACA  NU_NOTA_MEDIA\n",
       "0            1     530.402449\n",
       "1            0     526.696429\n",
       "2            4     512.860880\n",
       "3            3     508.805422\n",
       "4            2     501.746969\n",
       "5            5     466.125000"
      ]
     },
     "metadata": {},
     "execution_count": 80
    }
   ],
   "metadata": {}
  },
  {
   "cell_type": "markdown",
   "source": [
    "Legenda:\r\n",
    "{ 0: Não declarado,\r\n",
    "1: Branca,\r\n",
    "2: Preta,\r\n",
    "3: Parda,\r\n",
    "4: Amarela,\r\n",
    "5: Indígena } "
   ],
   "metadata": {}
  },
  {
   "cell_type": "code",
   "execution_count": 81,
   "source": [
    "old = list(range(0,6))\r\n",
    "\r\n",
    "new = ['Não declarado', 'Branca', 'Preta', 'Parda', 'Amarela', 'Indígena']"
   ],
   "outputs": [],
   "metadata": {}
  },
  {
   "cell_type": "code",
   "execution_count": 82,
   "source": [
    "enem_group['TP_COR_RACA'] = enem_group['TP_COR_RACA'].replace(old, new)"
   ],
   "outputs": [],
   "metadata": {}
  },
  {
   "cell_type": "code",
   "execution_count": 83,
   "source": [
    "enem_group"
   ],
   "outputs": [
    {
     "output_type": "execute_result",
     "data": {
      "text/html": [
       "<div>\n",
       "<style scoped>\n",
       "    .dataframe tbody tr th:only-of-type {\n",
       "        vertical-align: middle;\n",
       "    }\n",
       "\n",
       "    .dataframe tbody tr th {\n",
       "        vertical-align: top;\n",
       "    }\n",
       "\n",
       "    .dataframe thead th {\n",
       "        text-align: right;\n",
       "    }\n",
       "</style>\n",
       "<table border=\"1\" class=\"dataframe\">\n",
       "  <thead>\n",
       "    <tr style=\"text-align: right;\">\n",
       "      <th></th>\n",
       "      <th>TP_COR_RACA</th>\n",
       "      <th>NU_NOTA_MEDIA</th>\n",
       "    </tr>\n",
       "  </thead>\n",
       "  <tbody>\n",
       "    <tr>\n",
       "      <th>0</th>\n",
       "      <td>Branca</td>\n",
       "      <td>530.402449</td>\n",
       "    </tr>\n",
       "    <tr>\n",
       "      <th>1</th>\n",
       "      <td>Não declarado</td>\n",
       "      <td>526.696429</td>\n",
       "    </tr>\n",
       "    <tr>\n",
       "      <th>2</th>\n",
       "      <td>Amarela</td>\n",
       "      <td>512.860880</td>\n",
       "    </tr>\n",
       "    <tr>\n",
       "      <th>3</th>\n",
       "      <td>Parda</td>\n",
       "      <td>508.805422</td>\n",
       "    </tr>\n",
       "    <tr>\n",
       "      <th>4</th>\n",
       "      <td>Preta</td>\n",
       "      <td>501.746969</td>\n",
       "    </tr>\n",
       "    <tr>\n",
       "      <th>5</th>\n",
       "      <td>Indígena</td>\n",
       "      <td>466.125000</td>\n",
       "    </tr>\n",
       "  </tbody>\n",
       "</table>\n",
       "</div>"
      ],
      "text/plain": [
       "     TP_COR_RACA  NU_NOTA_MEDIA\n",
       "0         Branca     530.402449\n",
       "1  Não declarado     526.696429\n",
       "2        Amarela     512.860880\n",
       "3          Parda     508.805422\n",
       "4          Preta     501.746969\n",
       "5       Indígena     466.125000"
      ]
     },
     "metadata": {},
     "execution_count": 83
    }
   ],
   "metadata": {}
  },
  {
   "cell_type": "markdown",
   "source": [
    "Em média a os autodeclarados Pretos, Pardos e Indígenas estão com as menores médias de notas do ENEM."
   ],
   "metadata": {}
  }
 ],
 "metadata": {
  "orig_nbformat": 4,
  "language_info": {
   "name": "python",
   "version": "3.9.7",
   "mimetype": "text/x-python",
   "codemirror_mode": {
    "name": "ipython",
    "version": 3
   },
   "pygments_lexer": "ipython3",
   "nbconvert_exporter": "python",
   "file_extension": ".py"
  },
  "kernelspec": {
   "name": "python3",
   "display_name": "Python 3.9.7 64-bit"
  },
  "interpreter": {
   "hash": "d716d3087447d732d408563f09e95056395e35756340cb54fdc49b8a8ffe1616"
  }
 },
 "nbformat": 4,
 "nbformat_minor": 2
}