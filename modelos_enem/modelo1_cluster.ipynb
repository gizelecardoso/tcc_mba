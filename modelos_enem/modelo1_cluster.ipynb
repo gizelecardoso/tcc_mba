{
 "cells": [
  {
   "cell_type": "code",
   "execution_count": 1,
   "source": [
    "import pandas as pd\r\n",
    "import numpy as np\r\n",
    "import matplotlib.pyplot as plt\r\n",
    "import seaborn as sns\r\n",
    "\r\n",
    "sns.set_theme()\r\n",
    "\r\n",
    "from sklearn.cluster import KMeans\r\n",
    "\r\n",
    "from scipy.cluster import hierarchy\r\n",
    "\r\n",
    "from sklearn.impute import SimpleImputer\r\n",
    "from sklearn.metrics import silhouette_score"
   ],
   "outputs": [],
   "metadata": {}
  },
  {
   "cell_type": "markdown",
   "source": [
    "## Carregando Bases de Dados"
   ],
   "metadata": {}
  },
  {
   "cell_type": "code",
   "execution_count": 2,
   "source": [
    "enem_total = pd.read_csv('../src/enem_total.csv')\r\n",
    "\r\n",
    "enem = pd.read_csv('../src/enem_total_quant.csv')\r\n",
    "\r\n",
    "enem_pad = pd.read_csv('../src/enem_total_quant_pad.csv')\r\n",
    "\r\n",
    "enem_pad.set_index('NU_INSCRICAO', drop=True, inplace=True)\r\n",
    "\r\n",
    "enem.head()"
   ],
   "outputs": [
    {
     "output_type": "execute_result",
     "data": {
      "text/html": [
       "<div>\n",
       "<style scoped>\n",
       "    .dataframe tbody tr th:only-of-type {\n",
       "        vertical-align: middle;\n",
       "    }\n",
       "\n",
       "    .dataframe tbody tr th {\n",
       "        vertical-align: top;\n",
       "    }\n",
       "\n",
       "    .dataframe thead th {\n",
       "        text-align: right;\n",
       "    }\n",
       "</style>\n",
       "<table border=\"1\" class=\"dataframe\">\n",
       "  <thead>\n",
       "    <tr style=\"text-align: right;\">\n",
       "      <th></th>\n",
       "      <th>NU_INSCRICAO</th>\n",
       "      <th>NU_IDADE</th>\n",
       "      <th>NU_NOTA_CN</th>\n",
       "      <th>NU_NOTA_CH</th>\n",
       "      <th>NU_NOTA_LC</th>\n",
       "      <th>NU_NOTA_MT</th>\n",
       "      <th>NU_NOTA_COMP1</th>\n",
       "      <th>NU_NOTA_COMP2</th>\n",
       "      <th>NU_NOTA_COMP3</th>\n",
       "      <th>NU_NOTA_COMP4</th>\n",
       "      <th>NU_NOTA_COMP5</th>\n",
       "      <th>NU_NOTA_REDACAO</th>\n",
       "      <th>Q005</th>\n",
       "      <th>NU_NOTA_MEDIA</th>\n",
       "    </tr>\n",
       "  </thead>\n",
       "  <tbody>\n",
       "    <tr>\n",
       "      <th>0</th>\n",
       "      <td>190003903183</td>\n",
       "      <td>19.0</td>\n",
       "      <td>437.900000</td>\n",
       "      <td>423.700000</td>\n",
       "      <td>457.200000</td>\n",
       "      <td>461.900000</td>\n",
       "      <td>90.000000</td>\n",
       "      <td>113.860174</td>\n",
       "      <td>110.33980</td>\n",
       "      <td>90.000000</td>\n",
       "      <td>20.000000</td>\n",
       "      <td>340.000000</td>\n",
       "      <td>5.0</td>\n",
       "      <td>445.175000</td>\n",
       "    </tr>\n",
       "    <tr>\n",
       "      <th>1</th>\n",
       "      <td>190005124618</td>\n",
       "      <td>19.0</td>\n",
       "      <td>426.200000</td>\n",
       "      <td>548.700000</td>\n",
       "      <td>537.900000</td>\n",
       "      <td>427.700000</td>\n",
       "      <td>120.000000</td>\n",
       "      <td>120.000000</td>\n",
       "      <td>120.00000</td>\n",
       "      <td>120.000000</td>\n",
       "      <td>120.000000</td>\n",
       "      <td>600.000000</td>\n",
       "      <td>4.0</td>\n",
       "      <td>485.125000</td>\n",
       "    </tr>\n",
       "    <tr>\n",
       "      <th>2</th>\n",
       "      <td>190001447215</td>\n",
       "      <td>30.5</td>\n",
       "      <td>478.650951</td>\n",
       "      <td>508.523747</td>\n",
       "      <td>522.027327</td>\n",
       "      <td>524.382679</td>\n",
       "      <td>121.023304</td>\n",
       "      <td>124.093217</td>\n",
       "      <td>116.13592</td>\n",
       "      <td>122.950137</td>\n",
       "      <td>93.368051</td>\n",
       "      <td>577.570629</td>\n",
       "      <td>3.0</td>\n",
       "      <td>508.396176</td>\n",
       "    </tr>\n",
       "    <tr>\n",
       "      <th>3</th>\n",
       "      <td>190003825026</td>\n",
       "      <td>17.0</td>\n",
       "      <td>359.300000</td>\n",
       "      <td>520.100000</td>\n",
       "      <td>430.100000</td>\n",
       "      <td>493.300000</td>\n",
       "      <td>100.000000</td>\n",
       "      <td>120.000000</td>\n",
       "      <td>110.33980</td>\n",
       "      <td>100.000000</td>\n",
       "      <td>20.000000</td>\n",
       "      <td>440.000000</td>\n",
       "      <td>4.0</td>\n",
       "      <td>450.700000</td>\n",
       "    </tr>\n",
       "    <tr>\n",
       "      <th>4</th>\n",
       "      <td>190001995539</td>\n",
       "      <td>17.0</td>\n",
       "      <td>494.700000</td>\n",
       "      <td>503.700000</td>\n",
       "      <td>545.200000</td>\n",
       "      <td>585.600000</td>\n",
       "      <td>160.000000</td>\n",
       "      <td>130.233043</td>\n",
       "      <td>125.79612</td>\n",
       "      <td>170.000000</td>\n",
       "      <td>180.000000</td>\n",
       "      <td>820.000000</td>\n",
       "      <td>5.0</td>\n",
       "      <td>532.300000</td>\n",
       "    </tr>\n",
       "  </tbody>\n",
       "</table>\n",
       "</div>"
      ],
      "text/plain": [
       "   NU_INSCRICAO  NU_IDADE  NU_NOTA_CN  NU_NOTA_CH  NU_NOTA_LC  NU_NOTA_MT  \\\n",
       "0  190003903183      19.0  437.900000  423.700000  457.200000  461.900000   \n",
       "1  190005124618      19.0  426.200000  548.700000  537.900000  427.700000   \n",
       "2  190001447215      30.5  478.650951  508.523747  522.027327  524.382679   \n",
       "3  190003825026      17.0  359.300000  520.100000  430.100000  493.300000   \n",
       "4  190001995539      17.0  494.700000  503.700000  545.200000  585.600000   \n",
       "\n",
       "   NU_NOTA_COMP1  NU_NOTA_COMP2  NU_NOTA_COMP3  NU_NOTA_COMP4  NU_NOTA_COMP5  \\\n",
       "0      90.000000     113.860174      110.33980      90.000000      20.000000   \n",
       "1     120.000000     120.000000      120.00000     120.000000     120.000000   \n",
       "2     121.023304     124.093217      116.13592     122.950137      93.368051   \n",
       "3     100.000000     120.000000      110.33980     100.000000      20.000000   \n",
       "4     160.000000     130.233043      125.79612     170.000000     180.000000   \n",
       "\n",
       "   NU_NOTA_REDACAO  Q005  NU_NOTA_MEDIA  \n",
       "0       340.000000   5.0     445.175000  \n",
       "1       600.000000   4.0     485.125000  \n",
       "2       577.570629   3.0     508.396176  \n",
       "3       440.000000   4.0     450.700000  \n",
       "4       820.000000   5.0     532.300000  "
      ]
     },
     "metadata": {},
     "execution_count": 2
    }
   ],
   "metadata": {}
  },
  {
   "cell_type": "code",
   "execution_count": 3,
   "source": [
    "enem_pad.head()"
   ],
   "outputs": [
    {
     "output_type": "execute_result",
     "data": {
      "text/html": [
       "<div>\n",
       "<style scoped>\n",
       "    .dataframe tbody tr th:only-of-type {\n",
       "        vertical-align: middle;\n",
       "    }\n",
       "\n",
       "    .dataframe tbody tr th {\n",
       "        vertical-align: top;\n",
       "    }\n",
       "\n",
       "    .dataframe thead th {\n",
       "        text-align: right;\n",
       "    }\n",
       "</style>\n",
       "<table border=\"1\" class=\"dataframe\">\n",
       "  <thead>\n",
       "    <tr style=\"text-align: right;\">\n",
       "      <th></th>\n",
       "      <th>NU_IDADE</th>\n",
       "      <th>NU_NOTA_CN</th>\n",
       "      <th>NU_NOTA_CH</th>\n",
       "      <th>NU_NOTA_LC</th>\n",
       "      <th>NU_NOTA_MT</th>\n",
       "      <th>NU_NOTA_COMP1</th>\n",
       "      <th>NU_NOTA_COMP2</th>\n",
       "      <th>NU_NOTA_COMP3</th>\n",
       "      <th>NU_NOTA_COMP4</th>\n",
       "      <th>NU_NOTA_COMP5</th>\n",
       "      <th>NU_NOTA_REDACAO</th>\n",
       "      <th>Q005</th>\n",
       "      <th>NU_NOTA_MEDIA</th>\n",
       "    </tr>\n",
       "    <tr>\n",
       "      <th>NU_INSCRICAO</th>\n",
       "      <th></th>\n",
       "      <th></th>\n",
       "      <th></th>\n",
       "      <th></th>\n",
       "      <th></th>\n",
       "      <th></th>\n",
       "      <th></th>\n",
       "      <th></th>\n",
       "      <th></th>\n",
       "      <th></th>\n",
       "      <th></th>\n",
       "      <th></th>\n",
       "      <th></th>\n",
       "    </tr>\n",
       "  </thead>\n",
       "  <tbody>\n",
       "    <tr>\n",
       "      <th>190003903183</th>\n",
       "      <td>-0.428397</td>\n",
       "      <td>-0.636175</td>\n",
       "      <td>-1.231092</td>\n",
       "      <td>-1.334171</td>\n",
       "      <td>-0.687464</td>\n",
       "      <td>-1.705344</td>\n",
       "      <td>-1.669531</td>\n",
       "      <td>-1.399352</td>\n",
       "      <td>-1.590848</td>\n",
       "      <td>-1.625610</td>\n",
       "      <td>-1.941498</td>\n",
       "      <td>0.833696</td>\n",
       "      <td>-1.095479</td>\n",
       "    </tr>\n",
       "    <tr>\n",
       "      <th>190005124618</th>\n",
       "      <td>-0.428397</td>\n",
       "      <td>-0.822042</td>\n",
       "      <td>0.573291</td>\n",
       "      <td>0.284978</td>\n",
       "      <td>-1.080209</td>\n",
       "      <td>-0.197405</td>\n",
       "      <td>-0.470414</td>\n",
       "      <td>0.357392</td>\n",
       "      <td>-0.217934</td>\n",
       "      <td>0.531056</td>\n",
       "      <td>0.134470</td>\n",
       "      <td>0.119915</td>\n",
       "      <td>-0.399954</td>\n",
       "    </tr>\n",
       "    <tr>\n",
       "      <th>190001447215</th>\n",
       "      <td>2.047514</td>\n",
       "      <td>0.011198</td>\n",
       "      <td>-0.006655</td>\n",
       "      <td>-0.033489</td>\n",
       "      <td>0.030073</td>\n",
       "      <td>-0.145969</td>\n",
       "      <td>0.328998</td>\n",
       "      <td>-0.345306</td>\n",
       "      <td>-0.082924</td>\n",
       "      <td>-0.043306</td>\n",
       "      <td>-0.044617</td>\n",
       "      <td>-0.593865</td>\n",
       "      <td>0.005194</td>\n",
       "    </tr>\n",
       "    <tr>\n",
       "      <th>190003825026</th>\n",
       "      <td>-0.858990</td>\n",
       "      <td>-1.884821</td>\n",
       "      <td>0.160449</td>\n",
       "      <td>-1.877900</td>\n",
       "      <td>-0.326874</td>\n",
       "      <td>-1.202697</td>\n",
       "      <td>-0.470414</td>\n",
       "      <td>-1.399352</td>\n",
       "      <td>-1.133210</td>\n",
       "      <td>-1.625610</td>\n",
       "      <td>-1.143049</td>\n",
       "      <td>0.119915</td>\n",
       "      <td>-0.999289</td>\n",
       "    </tr>\n",
       "    <tr>\n",
       "      <th>190001995539</th>\n",
       "      <td>-0.858990</td>\n",
       "      <td>0.266155</td>\n",
       "      <td>-0.076287</td>\n",
       "      <td>0.431443</td>\n",
       "      <td>0.733079</td>\n",
       "      <td>1.813181</td>\n",
       "      <td>1.528115</td>\n",
       "      <td>1.411439</td>\n",
       "      <td>2.070257</td>\n",
       "      <td>1.825056</td>\n",
       "      <td>1.891058</td>\n",
       "      <td>0.833696</td>\n",
       "      <td>0.421357</td>\n",
       "    </tr>\n",
       "  </tbody>\n",
       "</table>\n",
       "</div>"
      ],
      "text/plain": [
       "              NU_IDADE  NU_NOTA_CN  NU_NOTA_CH  NU_NOTA_LC  NU_NOTA_MT  \\\n",
       "NU_INSCRICAO                                                             \n",
       "190003903183 -0.428397   -0.636175   -1.231092   -1.334171   -0.687464   \n",
       "190005124618 -0.428397   -0.822042    0.573291    0.284978   -1.080209   \n",
       "190001447215  2.047514    0.011198   -0.006655   -0.033489    0.030073   \n",
       "190003825026 -0.858990   -1.884821    0.160449   -1.877900   -0.326874   \n",
       "190001995539 -0.858990    0.266155   -0.076287    0.431443    0.733079   \n",
       "\n",
       "              NU_NOTA_COMP1  NU_NOTA_COMP2  NU_NOTA_COMP3  NU_NOTA_COMP4  \\\n",
       "NU_INSCRICAO                                                               \n",
       "190003903183      -1.705344      -1.669531      -1.399352      -1.590848   \n",
       "190005124618      -0.197405      -0.470414       0.357392      -0.217934   \n",
       "190001447215      -0.145969       0.328998      -0.345306      -0.082924   \n",
       "190003825026      -1.202697      -0.470414      -1.399352      -1.133210   \n",
       "190001995539       1.813181       1.528115       1.411439       2.070257   \n",
       "\n",
       "              NU_NOTA_COMP5  NU_NOTA_REDACAO      Q005  NU_NOTA_MEDIA  \n",
       "NU_INSCRICAO                                                           \n",
       "190003903183      -1.625610        -1.941498  0.833696      -1.095479  \n",
       "190005124618       0.531056         0.134470  0.119915      -0.399954  \n",
       "190001447215      -0.043306        -0.044617 -0.593865       0.005194  \n",
       "190003825026      -1.625610        -1.143049  0.119915      -0.999289  \n",
       "190001995539       1.825056         1.891058  0.833696       0.421357  "
      ]
     },
     "metadata": {},
     "execution_count": 3
    }
   ],
   "metadata": {}
  },
  {
   "cell_type": "markdown",
   "source": [
    "## Cluster KMEANS com método Silhouette e Elbow"
   ],
   "metadata": {}
  },
  {
   "cell_type": "code",
   "execution_count": 4,
   "source": [
    "inertias = []\r\n",
    "valores_silhueta = []\r\n",
    "\r\n",
    "for k in np.arange(2,10):\r\n",
    "  kmeans = KMeans(n_clusters=k)\r\n",
    "  labels = kmeans.fit_predict(enem_pad)\r\n",
    "  inertias.append(kmeans.inertia_)\r\n",
    "  media_silhueta = silhouette_score(enem_pad, labels)\r\n",
    "  valores_silhueta.append(media_silhueta)"
   ],
   "outputs": [],
   "metadata": {}
  },
  {
   "cell_type": "code",
   "execution_count": 5,
   "source": [
    "valores_silhueta"
   ],
   "outputs": [
    {
     "output_type": "execute_result",
     "data": {
      "text/plain": [
       "[0.3290351257394067,\n",
       " 0.25738837590644337,\n",
       " 0.19383784965371853,\n",
       " 0.19656006419167676,\n",
       " 0.18470345438067506,\n",
       " 0.1824226249513278,\n",
       " 0.17544625901886549,\n",
       " 0.159126265708013]"
      ]
     },
     "metadata": {},
     "execution_count": 5
    }
   ],
   "metadata": {}
  },
  {
   "cell_type": "code",
   "execution_count": 6,
   "source": [
    "#Plotando o gráfico do Elbow Method\r\n",
    "plt.figure(figsize=(8,6))\r\n",
    "plt.plot(np.arange(2,10), inertias, '-o')\r\n",
    "plt.xlabel('Número de cluster')\r\n",
    "plt.ylabel('Inertia')"
   ],
   "outputs": [
    {
     "output_type": "execute_result",
     "data": {
      "text/plain": [
       "Text(0, 0.5, 'Inertia')"
      ]
     },
     "metadata": {},
     "execution_count": 6
    },
    {
     "output_type": "display_data",
     "data": {
      "image/png": "[encoded data removed]",
      "text/plain": [
       "<Figure size 576x432 with 1 Axes>"
      ]
     },
     "metadata": {}
    }
   ],
   "metadata": {}
  },
  {
   "cell_type": "code",
   "execution_count": 7,
   "source": [
    "#Plotando o gráfico da Silhueta\r\n",
    "plt.figure(figsize=(8,6))\r\n",
    "plt.plot(np.arange(2,10), valores_silhueta, '-o')\r\n",
    "plt.xlabel('Número de cluster')\r\n",
    "plt.ylabel('Silhueta')"
   ],
   "outputs": [
    {
     "output_type": "execute_result",
     "data": {
      "text/plain": [
       "Text(0, 0.5, 'Silhueta')"
      ]
     },
     "metadata": {},
     "execution_count": 7
    },
    {
     "output_type": "display_data",
     "data": {
      "image/png": "[encoded data removed]",
      "text/plain": [
       "<Figure size 576x432 with 1 Axes>"
      ]
     },
     "metadata": {}
    }
   ],
   "metadata": {}
  },
  {
   "cell_type": "code",
   "execution_count": 8,
   "source": [
    "n_cluster = 5\r\n",
    "kmeans = KMeans(n_clusters = n_cluster)\r\n",
    "predict = kmeans.fit_predict(enem_pad)\r\n",
    "enem['group'] = predict\r\n",
    "enem_total['group'] = predict"
   ],
   "outputs": [],
   "metadata": {}
  },
  {
   "cell_type": "code",
   "execution_count": 9,
   "source": [
    "centroids = kmeans.cluster_centers_\r\n",
    "\r\n",
    "max = len(centroids[0])\r\n",
    "for i in range(max):\r\n",
    "    print(enem.columns.values[i],\": {:.4f}\".format(centroids[:, i].var()))"
   ],
   "outputs": [
    {
     "output_type": "stream",
     "name": "stdout",
     "text": [
      "NU_INSCRICAO : 0.5810\n",
      "NU_IDADE : 0.5877\n",
      "NU_NOTA_CN : 0.6115\n",
      "NU_NOTA_CH : 0.5801\n",
      "NU_NOTA_LC : 0.5536\n",
      "NU_NOTA_MT : 0.5771\n",
      "NU_NOTA_COMP1 : 0.4529\n",
      "NU_NOTA_COMP2 : 0.6732\n",
      "NU_NOTA_COMP3 : 0.5991\n",
      "NU_NOTA_COMP4 : 0.5877\n",
      "NU_NOTA_COMP5 : 0.7828\n",
      "NU_NOTA_REDACAO : 0.0739\n",
      "Q005 : 0.7919\n"
     ]
    }
   ],
   "metadata": {}
  },
  {
   "cell_type": "markdown",
   "source": [
    "## Extraindo Informações dos Grupos"
   ],
   "metadata": {}
  },
  {
   "cell_type": "markdown",
   "source": [
    "### Baseado nas Notas - var quant, consideradas no Cluster"
   ],
   "metadata": {}
  },
  {
   "cell_type": "code",
   "execution_count": 10,
   "source": [
    "description = enem.groupby(\"group\")[\"NU_IDADE\", \"NU_NOTA_CH\", \"NU_NOTA_CN\", \"NU_NOTA_LC\", \"NU_NOTA_MT\", \"NU_NOTA_COMP1\", \"NU_NOTA_COMP2\", \"NU_NOTA_COMP3\", \"NU_NOTA_COMP4\", \"NU_NOTA_COMP5\", \"NU_NOTA_REDACAO\", \"Q005\"]\r\n",
    "n_clients = description.size()\r\n",
    "description = description.mean()\r\n",
    "description['group'] = n_clients\r\n",
    "print(description)"
   ],
   "outputs": [
    {
     "output_type": "stream",
     "name": "stdout",
     "text": [
      "        NU_IDADE  NU_NOTA_CH  NU_NOTA_CN  NU_NOTA_LC  NU_NOTA_MT  \\\n",
      "group                                                              \n",
      "0      28.167145  515.832364  480.042800  526.498105  516.218438   \n",
      "1      19.159371  597.556790  560.090274  585.486897  635.396158   \n",
      "2      18.957931  466.801997  432.999756  498.667420  464.343897   \n",
      "3      19.033310  522.162338  487.334136  534.068496  533.693356   \n",
      "4      20.710638  439.497920  424.897624  472.207210  453.528950   \n",
      "\n",
      "       NU_NOTA_COMP1  NU_NOTA_COMP2  NU_NOTA_COMP3  NU_NOTA_COMP4  \\\n",
      "group                                                               \n",
      "0         120.663293     122.809532     116.876110     120.575583   \n",
      "1         151.279461     127.745414     124.881058     154.107744   \n",
      "2         128.630409     123.353615     121.925378     133.842621   \n",
      "3         120.547444     122.414886     117.117863     120.424958   \n",
      "4         104.997636     116.925733     111.815093     103.229314   \n",
      "\n",
      "       NU_NOTA_COMP5  NU_NOTA_REDACAO      Q005  group  \n",
      "group                                                   \n",
      "0          90.768972       569.258824  3.107984   1741  \n",
      "1         148.855219       759.259259  3.643098   1782  \n",
      "2         118.105843       644.958816  4.033793   1450  \n",
      "3          93.646380       571.550959  4.118475   2912  \n",
      "4          40.907801       419.839243  4.054374   2115  \n"
     ]
    },
    {
     "output_type": "stream",
     "name": "stderr",
     "text": [
      "C:\\Users\\DESKTOP\\AppData\\Local\\Temp/ipykernel_13092/194860749.py:1: FutureWarning: Indexing with multiple keys (implicitly converted to a tuple of keys) will be deprecated, use a list instead.\n",
      "  description = enem.groupby(\"group\")[\"NU_IDADE\", \"NU_NOTA_CH\", \"NU_NOTA_CN\", \"NU_NOTA_LC\", \"NU_NOTA_MT\", \"NU_NOTA_COMP1\", \"NU_NOTA_COMP2\", \"NU_NOTA_COMP3\", \"NU_NOTA_COMP4\", \"NU_NOTA_COMP5\", \"NU_NOTA_REDACAO\", \"Q005\"]\n"
     ]
    }
   ],
   "metadata": {}
  },
  {
   "cell_type": "markdown",
   "source": [
    "#### O que podemos tirar das médias dos grupos\r\n",
    "\r\n",
    " 1. Quanto menor a idade maior a nota nas provas - Grupo 4\r\n",
    " 2. Quanto maior a idade menor a nota nas provas - Grupo 3\r\n",
    " 3. A segunda menor média de pessoas que residem na residência estão dentro desse grupo - Grupo 4\r\n",
    " 4. A menor quantidade de pessoas está dentro desse grupo - Grupo 4\r\n",
    " 5. O Grupo 0 está bem próximo para baixo do Grupo 4, tirando a quantidade de pessoas na residência que é maior e a quantidade total naquele grupo (o que talvez tenha ajudado a diminuir a média geral)\r\n",
    "\r\n",
    " Tem uma lógica sequencia de grupos, em ordem decrescente:\r\n",
    " \r\n",
    " - 19 anos * GRUPO 4: maiores médias de notas, menores médias de idades, menor média de quantidade de pessoas no grupo e de pessoas morando na residência\r\n",
    " - 23 anos * GRUPO 2: Destoa por ter a idade média acima do próximo grupo da lista, e notas médias um pouco menores que o grupo anterior\r\n",
    " - 20 anos * GRUPO 0: Maiores notas de comp e de redação que o anterior, menores notas de provas que o anterior.\r\n",
    " - 21 anos * GRUPO 1: Maior média de quantidade de pessoas no grupo e maior média de quantidade de pessias morando na residência.\r\n",
    " - 23 anos * GRUPO 0:\r\n",
    "\r\n"
   ],
   "metadata": {}
  },
  {
   "cell_type": "markdown",
   "source": [
    "### Baseada na Raça"
   ],
   "metadata": {}
  },
  {
   "cell_type": "code",
   "execution_count": 11,
   "source": [
    "description = enem_total.groupby([\"group\", 'TP_COR_RACA'])['NU_NOTA_MEDIA'].mean()\r\n",
    "\r\n",
    "enem_raca = pd.DataFrame(description)\r\n",
    "\r\n",
    "enem_raca\r\n"
   ],
   "outputs": [
    {
     "output_type": "execute_result",
     "data": {
      "text/html": [
       "<div>\n",
       "<style scoped>\n",
       "    .dataframe tbody tr th:only-of-type {\n",
       "        vertical-align: middle;\n",
       "    }\n",
       "\n",
       "    .dataframe tbody tr th {\n",
       "        vertical-align: top;\n",
       "    }\n",
       "\n",
       "    .dataframe thead th {\n",
       "        text-align: right;\n",
       "    }\n",
       "</style>\n",
       "<table border=\"1\" class=\"dataframe\">\n",
       "  <thead>\n",
       "    <tr style=\"text-align: right;\">\n",
       "      <th></th>\n",
       "      <th></th>\n",
       "      <th>NU_NOTA_MEDIA</th>\n",
       "    </tr>\n",
       "    <tr>\n",
       "      <th>group</th>\n",
       "      <th>TP_COR_RACA</th>\n",
       "      <th></th>\n",
       "    </tr>\n",
       "  </thead>\n",
       "  <tbody>\n",
       "    <tr>\n",
       "      <th rowspan=\"6\" valign=\"top\">0</th>\n",
       "      <th>0</th>\n",
       "      <td>506.862366</td>\n",
       "    </tr>\n",
       "    <tr>\n",
       "      <th>1</th>\n",
       "      <td>512.379826</td>\n",
       "    </tr>\n",
       "    <tr>\n",
       "      <th>2</th>\n",
       "      <td>506.266289</td>\n",
       "    </tr>\n",
       "    <tr>\n",
       "      <th>3</th>\n",
       "      <td>509.096065</td>\n",
       "    </tr>\n",
       "    <tr>\n",
       "      <th>4</th>\n",
       "      <td>511.593271</td>\n",
       "    </tr>\n",
       "    <tr>\n",
       "      <th>5</th>\n",
       "      <td>521.051941</td>\n",
       "    </tr>\n",
       "    <tr>\n",
       "      <th rowspan=\"6\" valign=\"top\">1</th>\n",
       "      <th>0</th>\n",
       "      <td>606.465064</td>\n",
       "    </tr>\n",
       "    <tr>\n",
       "      <th>1</th>\n",
       "      <td>601.195074</td>\n",
       "    </tr>\n",
       "    <tr>\n",
       "      <th>2</th>\n",
       "      <td>580.062500</td>\n",
       "    </tr>\n",
       "    <tr>\n",
       "      <th>3</th>\n",
       "      <td>585.959775</td>\n",
       "    </tr>\n",
       "    <tr>\n",
       "      <th>4</th>\n",
       "      <td>595.785904</td>\n",
       "    </tr>\n",
       "    <tr>\n",
       "      <th>5</th>\n",
       "      <td>580.452083</td>\n",
       "    </tr>\n",
       "    <tr>\n",
       "      <th rowspan=\"6\" valign=\"top\">2</th>\n",
       "      <th>0</th>\n",
       "      <td>458.188251</td>\n",
       "    </tr>\n",
       "    <tr>\n",
       "      <th>1</th>\n",
       "      <td>469.984955</td>\n",
       "    </tr>\n",
       "    <tr>\n",
       "      <th>2</th>\n",
       "      <td>463.933577</td>\n",
       "    </tr>\n",
       "    <tr>\n",
       "      <th>3</th>\n",
       "      <td>464.070106</td>\n",
       "    </tr>\n",
       "    <tr>\n",
       "      <th>4</th>\n",
       "      <td>462.987734</td>\n",
       "    </tr>\n",
       "    <tr>\n",
       "      <th>5</th>\n",
       "      <td>464.737500</td>\n",
       "    </tr>\n",
       "    <tr>\n",
       "      <th rowspan=\"6\" valign=\"top\">3</th>\n",
       "      <th>0</th>\n",
       "      <td>521.565134</td>\n",
       "    </tr>\n",
       "    <tr>\n",
       "      <th>1</th>\n",
       "      <td>521.927877</td>\n",
       "    </tr>\n",
       "    <tr>\n",
       "      <th>2</th>\n",
       "      <td>516.173639</td>\n",
       "    </tr>\n",
       "    <tr>\n",
       "      <th>3</th>\n",
       "      <td>517.545906</td>\n",
       "    </tr>\n",
       "    <tr>\n",
       "      <th>4</th>\n",
       "      <td>520.639510</td>\n",
       "    </tr>\n",
       "    <tr>\n",
       "      <th>5</th>\n",
       "      <td>524.701636</td>\n",
       "    </tr>\n",
       "    <tr>\n",
       "      <th rowspan=\"6\" valign=\"top\">4</th>\n",
       "      <th>0</th>\n",
       "      <td>449.272836</td>\n",
       "    </tr>\n",
       "    <tr>\n",
       "      <th>1</th>\n",
       "      <td>453.935601</td>\n",
       "    </tr>\n",
       "    <tr>\n",
       "      <th>2</th>\n",
       "      <td>446.928502</td>\n",
       "    </tr>\n",
       "    <tr>\n",
       "      <th>3</th>\n",
       "      <td>444.712714</td>\n",
       "    </tr>\n",
       "    <tr>\n",
       "      <th>4</th>\n",
       "      <td>447.959555</td>\n",
       "    </tr>\n",
       "    <tr>\n",
       "      <th>5</th>\n",
       "      <td>436.770837</td>\n",
       "    </tr>\n",
       "  </tbody>\n",
       "</table>\n",
       "</div>"
      ],
      "text/plain": [
       "                   NU_NOTA_MEDIA\n",
       "group TP_COR_RACA               \n",
       "0     0               506.862366\n",
       "      1               512.379826\n",
       "      2               506.266289\n",
       "      3               509.096065\n",
       "      4               511.593271\n",
       "      5               521.051941\n",
       "1     0               606.465064\n",
       "      1               601.195074\n",
       "      2               580.062500\n",
       "      3               585.959775\n",
       "      4               595.785904\n",
       "      5               580.452083\n",
       "2     0               458.188251\n",
       "      1               469.984955\n",
       "      2               463.933577\n",
       "      3               464.070106\n",
       "      4               462.987734\n",
       "      5               464.737500\n",
       "3     0               521.565134\n",
       "      1               521.927877\n",
       "      2               516.173639\n",
       "      3               517.545906\n",
       "      4               520.639510\n",
       "      5               524.701636\n",
       "4     0               449.272836\n",
       "      1               453.935601\n",
       "      2               446.928502\n",
       "      3               444.712714\n",
       "      4               447.959555\n",
       "      5               436.770837"
      ]
     },
     "metadata": {},
     "execution_count": 11
    }
   ],
   "metadata": {}
  },
  {
   "cell_type": "markdown",
   "source": [
    "### Usando GROUP_BY por RAÇA"
   ],
   "metadata": {}
  },
  {
   "cell_type": "code",
   "execution_count": 12,
   "source": [
    "nota = enem_total.groupby('TP_COR_RACA')[\"NU_NOTA_MEDIA\"].mean()\r\n",
    "\r\n",
    "enem_group = pd.DataFrame(nota)"
   ],
   "outputs": [],
   "metadata": {}
  },
  {
   "cell_type": "markdown",
   "source": [
    "* Administração: 570 a 771\r\n",
    "* Medicina: 769 a 901"
   ],
   "metadata": {}
  },
  {
   "cell_type": "code",
   "execution_count": 13,
   "source": [
    "enem_group = enem_group.sort_values(by='NU_NOTA_MEDIA', ascending=False)"
   ],
   "outputs": [],
   "metadata": {}
  },
  {
   "cell_type": "code",
   "execution_count": 14,
   "source": [
    "enem_group.reset_index(level=0, inplace=True)"
   ],
   "outputs": [],
   "metadata": {}
  },
  {
   "cell_type": "code",
   "execution_count": 15,
   "source": [
    "enem_group"
   ],
   "outputs": [
    {
     "output_type": "execute_result",
     "data": {
      "text/html": [
       "<div>\n",
       "<style scoped>\n",
       "    .dataframe tbody tr th:only-of-type {\n",
       "        vertical-align: middle;\n",
       "    }\n",
       "\n",
       "    .dataframe tbody tr th {\n",
       "        vertical-align: top;\n",
       "    }\n",
       "\n",
       "    .dataframe thead th {\n",
       "        text-align: right;\n",
       "    }\n",
       "</style>\n",
       "<table border=\"1\" class=\"dataframe\">\n",
       "  <thead>\n",
       "    <tr style=\"text-align: right;\">\n",
       "      <th></th>\n",
       "      <th>TP_COR_RACA</th>\n",
       "      <th>NU_NOTA_MEDIA</th>\n",
       "    </tr>\n",
       "  </thead>\n",
       "  <tbody>\n",
       "    <tr>\n",
       "      <th>0</th>\n",
       "      <td>1</td>\n",
       "      <td>525.559595</td>\n",
       "    </tr>\n",
       "    <tr>\n",
       "      <th>1</th>\n",
       "      <td>0</td>\n",
       "      <td>513.275293</td>\n",
       "    </tr>\n",
       "    <tr>\n",
       "      <th>2</th>\n",
       "      <td>4</td>\n",
       "      <td>510.504370</td>\n",
       "    </tr>\n",
       "    <tr>\n",
       "      <th>3</th>\n",
       "      <td>3</td>\n",
       "      <td>497.912044</td>\n",
       "    </tr>\n",
       "    <tr>\n",
       "      <th>4</th>\n",
       "      <td>2</td>\n",
       "      <td>495.010635</td>\n",
       "    </tr>\n",
       "    <tr>\n",
       "      <th>5</th>\n",
       "      <td>5</td>\n",
       "      <td>487.360179</td>\n",
       "    </tr>\n",
       "  </tbody>\n",
       "</table>\n",
       "</div>"
      ],
      "text/plain": [
       "   TP_COR_RACA  NU_NOTA_MEDIA\n",
       "0            1     525.559595\n",
       "1            0     513.275293\n",
       "2            4     510.504370\n",
       "3            3     497.912044\n",
       "4            2     495.010635\n",
       "5            5     487.360179"
      ]
     },
     "metadata": {},
     "execution_count": 15
    }
   ],
   "metadata": {}
  },
  {
   "cell_type": "markdown",
   "source": [
    "Legenda:\r\n",
    "{ 0: Não declarado,\r\n",
    "1: Branca,\r\n",
    "2: Preta,\r\n",
    "3: Parda,\r\n",
    "4: Amarela,\r\n",
    "5: Indígena } "
   ],
   "metadata": {}
  },
  {
   "cell_type": "code",
   "execution_count": 16,
   "source": [
    "old = list(range(0,6))\r\n",
    "\r\n",
    "new = ['Não declarado', 'Branca', 'Preta', 'Parda', 'Amarela', 'Indígena']"
   ],
   "outputs": [],
   "metadata": {}
  },
  {
   "cell_type": "code",
   "execution_count": 17,
   "source": [
    "enem_group['TP_COR_RACA'] = enem_group['TP_COR_RACA'].replace(old, new)"
   ],
   "outputs": [],
   "metadata": {}
  },
  {
   "cell_type": "code",
   "execution_count": 18,
   "source": [
    "enem_group"
   ],
   "outputs": [
    {
     "output_type": "execute_result",
     "data": {
      "text/html": [
       "<div>\n",
       "<style scoped>\n",
       "    .dataframe tbody tr th:only-of-type {\n",
       "        vertical-align: middle;\n",
       "    }\n",
       "\n",
       "    .dataframe tbody tr th {\n",
       "        vertical-align: top;\n",
       "    }\n",
       "\n",
       "    .dataframe thead th {\n",
       "        text-align: right;\n",
       "    }\n",
       "</style>\n",
       "<table border=\"1\" class=\"dataframe\">\n",
       "  <thead>\n",
       "    <tr style=\"text-align: right;\">\n",
       "      <th></th>\n",
       "      <th>TP_COR_RACA</th>\n",
       "      <th>NU_NOTA_MEDIA</th>\n",
       "    </tr>\n",
       "  </thead>\n",
       "  <tbody>\n",
       "    <tr>\n",
       "      <th>0</th>\n",
       "      <td>Branca</td>\n",
       "      <td>525.559595</td>\n",
       "    </tr>\n",
       "    <tr>\n",
       "      <th>1</th>\n",
       "      <td>Não declarado</td>\n",
       "      <td>513.275293</td>\n",
       "    </tr>\n",
       "    <tr>\n",
       "      <th>2</th>\n",
       "      <td>Amarela</td>\n",
       "      <td>510.504370</td>\n",
       "    </tr>\n",
       "    <tr>\n",
       "      <th>3</th>\n",
       "      <td>Parda</td>\n",
       "      <td>497.912044</td>\n",
       "    </tr>\n",
       "    <tr>\n",
       "      <th>4</th>\n",
       "      <td>Preta</td>\n",
       "      <td>495.010635</td>\n",
       "    </tr>\n",
       "    <tr>\n",
       "      <th>5</th>\n",
       "      <td>Indígena</td>\n",
       "      <td>487.360179</td>\n",
       "    </tr>\n",
       "  </tbody>\n",
       "</table>\n",
       "</div>"
      ],
      "text/plain": [
       "     TP_COR_RACA  NU_NOTA_MEDIA\n",
       "0         Branca     525.559595\n",
       "1  Não declarado     513.275293\n",
       "2        Amarela     510.504370\n",
       "3          Parda     497.912044\n",
       "4          Preta     495.010635\n",
       "5       Indígena     487.360179"
      ]
     },
     "metadata": {},
     "execution_count": 18
    }
   ],
   "metadata": {}
  },
  {
   "cell_type": "markdown",
   "source": [
    "Em média a os autodeclarados Pretos, Pardos e Indígenas estão com as menores médias de notas do ENEM."
   ],
   "metadata": {}
  }
 ],
 "metadata": {
  "orig_nbformat": 4,
  "language_info": {
   "name": "python",
   "version": "3.9.7",
   "mimetype": "text/x-python",
   "codemirror_mode": {
    "name": "ipython",
    "version": 3
   },
   "pygments_lexer": "ipython3",
   "nbconvert_exporter": "python",
   "file_extension": ".py"
  },
  "kernelspec": {
   "name": "python3",
   "display_name": "Python 3.9.7 64-bit"
  },
  "interpreter": {
   "hash": "d716d3087447d732d408563f09e95056395e35756340cb54fdc49b8a8ffe1616"
  }
 },
 "nbformat": 4,
 "nbformat_minor": 2
}