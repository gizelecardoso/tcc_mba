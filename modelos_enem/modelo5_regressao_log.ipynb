{
 "cells": [
  {
   "cell_type": "code",
   "execution_count": 1,
   "source": [
    "import pandas as pd\r\n",
    "import numpy as np\r\n",
    "import matplotlib.pyplot as plt\r\n",
    "import seaborn as sns\r\n",
    "\r\n",
    "sns.set_theme()"
   ],
   "outputs": [],
   "metadata": {}
  },
  {
   "cell_type": "code",
   "execution_count": 2,
   "source": [
    "from sklearn.linear_model import LogisticRegression\r\n",
    "\r\n",
    "from sklearn.metrics import confusion_matrix\r\n",
    "from sklearn.metrics import ConfusionMatrixDisplay\r\n",
    "from sklearn.metrics import plot_confusion_matrix\r\n",
    "from sklearn.metrics import classification_report\r\n",
    "\r\n",
    "from sklearn.metrics import roc_auc_score\r\n",
    "from sklearn.metrics import roc_curve\r\n",
    "from sklearn.metrics import auc\r\n",
    "\r\n",
    "from sklearn.model_selection import train_test_split\r\n",
    "from sklearn.model_selection import KFold\r\n",
    "from sklearn.model_selection import cross_val_score\r\n",
    "from sklearn.model_selection import GridSearchCV"
   ],
   "outputs": [],
   "metadata": {}
  },
  {
   "cell_type": "markdown",
   "source": [
    "## Preparando Dados"
   ],
   "metadata": {}
  },
  {
   "cell_type": "code",
   "execution_count": 3,
   "source": [
    "enem = pd.read_csv('../src/enem_total_dum.csv')\r\n",
    "\r\n",
    "enem.set_index('NU_INSCRICAO', drop=True, inplace=True)\r\n",
    "\r\n",
    "enem.head()"
   ],
   "outputs": [
    {
     "output_type": "execute_result",
     "data": {
      "text/html": [
       "<div>\n",
       "<style scoped>\n",
       "    .dataframe tbody tr th:only-of-type {\n",
       "        vertical-align: middle;\n",
       "    }\n",
       "\n",
       "    .dataframe tbody tr th {\n",
       "        vertical-align: top;\n",
       "    }\n",
       "\n",
       "    .dataframe thead th {\n",
       "        text-align: right;\n",
       "    }\n",
       "</style>\n",
       "<table border=\"1\" class=\"dataframe\">\n",
       "  <thead>\n",
       "    <tr style=\"text-align: right;\">\n",
       "      <th></th>\n",
       "      <th>APPROVED_ADM</th>\n",
       "      <th>APPROVED_MED</th>\n",
       "      <th>TP_SEXO_M</th>\n",
       "      <th>TP_COR_RACA_1</th>\n",
       "      <th>TP_COR_RACA_2</th>\n",
       "      <th>TP_COR_RACA_3</th>\n",
       "      <th>TP_COR_RACA_4</th>\n",
       "      <th>TP_COR_RACA_5</th>\n",
       "      <th>TP_ESTADO_CIVIL_1</th>\n",
       "      <th>TP_ESTADO_CIVIL_2</th>\n",
       "      <th>...</th>\n",
       "      <th>Q006_P</th>\n",
       "      <th>Q006_Q</th>\n",
       "      <th>NU_IDADE</th>\n",
       "      <th>NU_NOTA_CN</th>\n",
       "      <th>NU_NOTA_CH</th>\n",
       "      <th>NU_NOTA_LC</th>\n",
       "      <th>NU_NOTA_MT</th>\n",
       "      <th>NU_NOTA_REDACAO</th>\n",
       "      <th>Q005</th>\n",
       "      <th>NU_NOTA_MEDIA</th>\n",
       "    </tr>\n",
       "    <tr>\n",
       "      <th>NU_INSCRICAO</th>\n",
       "      <th></th>\n",
       "      <th></th>\n",
       "      <th></th>\n",
       "      <th></th>\n",
       "      <th></th>\n",
       "      <th></th>\n",
       "      <th></th>\n",
       "      <th></th>\n",
       "      <th></th>\n",
       "      <th></th>\n",
       "      <th></th>\n",
       "      <th></th>\n",
       "      <th></th>\n",
       "      <th></th>\n",
       "      <th></th>\n",
       "      <th></th>\n",
       "      <th></th>\n",
       "      <th></th>\n",
       "      <th></th>\n",
       "      <th></th>\n",
       "      <th></th>\n",
       "    </tr>\n",
       "  </thead>\n",
       "  <tbody>\n",
       "    <tr>\n",
       "      <th>190003903183</th>\n",
       "      <td>0</td>\n",
       "      <td>0</td>\n",
       "      <td>0</td>\n",
       "      <td>0</td>\n",
       "      <td>0</td>\n",
       "      <td>1</td>\n",
       "      <td>0</td>\n",
       "      <td>0</td>\n",
       "      <td>1</td>\n",
       "      <td>0</td>\n",
       "      <td>...</td>\n",
       "      <td>0</td>\n",
       "      <td>0</td>\n",
       "      <td>19</td>\n",
       "      <td>437.9</td>\n",
       "      <td>423.7</td>\n",
       "      <td>457.2</td>\n",
       "      <td>461.9</td>\n",
       "      <td>0.0</td>\n",
       "      <td>5</td>\n",
       "      <td>445.175</td>\n",
       "    </tr>\n",
       "    <tr>\n",
       "      <th>190005124618</th>\n",
       "      <td>0</td>\n",
       "      <td>0</td>\n",
       "      <td>0</td>\n",
       "      <td>0</td>\n",
       "      <td>1</td>\n",
       "      <td>0</td>\n",
       "      <td>0</td>\n",
       "      <td>0</td>\n",
       "      <td>1</td>\n",
       "      <td>0</td>\n",
       "      <td>...</td>\n",
       "      <td>0</td>\n",
       "      <td>0</td>\n",
       "      <td>19</td>\n",
       "      <td>426.2</td>\n",
       "      <td>548.7</td>\n",
       "      <td>537.9</td>\n",
       "      <td>427.7</td>\n",
       "      <td>600.0</td>\n",
       "      <td>4</td>\n",
       "      <td>485.125</td>\n",
       "    </tr>\n",
       "    <tr>\n",
       "      <th>190001447215</th>\n",
       "      <td>0</td>\n",
       "      <td>0</td>\n",
       "      <td>0</td>\n",
       "      <td>0</td>\n",
       "      <td>0</td>\n",
       "      <td>1</td>\n",
       "      <td>0</td>\n",
       "      <td>0</td>\n",
       "      <td>0</td>\n",
       "      <td>1</td>\n",
       "      <td>...</td>\n",
       "      <td>0</td>\n",
       "      <td>0</td>\n",
       "      <td>39</td>\n",
       "      <td>471.0</td>\n",
       "      <td>512.2</td>\n",
       "      <td>527.3</td>\n",
       "      <td>501.5</td>\n",
       "      <td>580.0</td>\n",
       "      <td>3</td>\n",
       "      <td>503.000</td>\n",
       "    </tr>\n",
       "    <tr>\n",
       "      <th>190003825026</th>\n",
       "      <td>0</td>\n",
       "      <td>0</td>\n",
       "      <td>1</td>\n",
       "      <td>0</td>\n",
       "      <td>0</td>\n",
       "      <td>1</td>\n",
       "      <td>0</td>\n",
       "      <td>0</td>\n",
       "      <td>1</td>\n",
       "      <td>0</td>\n",
       "      <td>...</td>\n",
       "      <td>0</td>\n",
       "      <td>0</td>\n",
       "      <td>17</td>\n",
       "      <td>359.3</td>\n",
       "      <td>520.1</td>\n",
       "      <td>430.1</td>\n",
       "      <td>493.3</td>\n",
       "      <td>440.0</td>\n",
       "      <td>4</td>\n",
       "      <td>450.700</td>\n",
       "    </tr>\n",
       "    <tr>\n",
       "      <th>190001995539</th>\n",
       "      <td>0</td>\n",
       "      <td>0</td>\n",
       "      <td>0</td>\n",
       "      <td>1</td>\n",
       "      <td>0</td>\n",
       "      <td>0</td>\n",
       "      <td>0</td>\n",
       "      <td>0</td>\n",
       "      <td>1</td>\n",
       "      <td>0</td>\n",
       "      <td>...</td>\n",
       "      <td>0</td>\n",
       "      <td>0</td>\n",
       "      <td>17</td>\n",
       "      <td>494.7</td>\n",
       "      <td>503.7</td>\n",
       "      <td>545.2</td>\n",
       "      <td>585.6</td>\n",
       "      <td>880.0</td>\n",
       "      <td>5</td>\n",
       "      <td>532.300</td>\n",
       "    </tr>\n",
       "  </tbody>\n",
       "</table>\n",
       "<p>5 rows × 86 columns</p>\n",
       "</div>"
      ],
      "text/plain": [
       "              APPROVED_ADM  APPROVED_MED  TP_SEXO_M  TP_COR_RACA_1  \\\n",
       "NU_INSCRICAO                                                         \n",
       "190003903183             0             0          0              0   \n",
       "190005124618             0             0          0              0   \n",
       "190001447215             0             0          0              0   \n",
       "190003825026             0             0          1              0   \n",
       "190001995539             0             0          0              1   \n",
       "\n",
       "              TP_COR_RACA_2  TP_COR_RACA_3  TP_COR_RACA_4  TP_COR_RACA_5  \\\n",
       "NU_INSCRICAO                                                               \n",
       "190003903183              0              1              0              0   \n",
       "190005124618              1              0              0              0   \n",
       "190001447215              0              1              0              0   \n",
       "190003825026              0              1              0              0   \n",
       "190001995539              0              0              0              0   \n",
       "\n",
       "              TP_ESTADO_CIVIL_1  TP_ESTADO_CIVIL_2  ...  Q006_P  Q006_Q  \\\n",
       "NU_INSCRICAO                                        ...                   \n",
       "190003903183                  1                  0  ...       0       0   \n",
       "190005124618                  1                  0  ...       0       0   \n",
       "190001447215                  0                  1  ...       0       0   \n",
       "190003825026                  1                  0  ...       0       0   \n",
       "190001995539                  1                  0  ...       0       0   \n",
       "\n",
       "              NU_IDADE  NU_NOTA_CN  NU_NOTA_CH  NU_NOTA_LC  NU_NOTA_MT  \\\n",
       "NU_INSCRICAO                                                             \n",
       "190003903183        19       437.9       423.7       457.2       461.9   \n",
       "190005124618        19       426.2       548.7       537.9       427.7   \n",
       "190001447215        39       471.0       512.2       527.3       501.5   \n",
       "190003825026        17       359.3       520.1       430.1       493.3   \n",
       "190001995539        17       494.7       503.7       545.2       585.6   \n",
       "\n",
       "              NU_NOTA_REDACAO  Q005  NU_NOTA_MEDIA  \n",
       "NU_INSCRICAO                                        \n",
       "190003903183              0.0     5        445.175  \n",
       "190005124618            600.0     4        485.125  \n",
       "190001447215            580.0     3        503.000  \n",
       "190003825026            440.0     4        450.700  \n",
       "190001995539            880.0     5        532.300  \n",
       "\n",
       "[5 rows x 86 columns]"
      ]
     },
     "metadata": {},
     "execution_count": 3
    }
   ],
   "metadata": {}
  },
  {
   "cell_type": "code",
   "execution_count": 4,
   "source": [
    "enem.shape"
   ],
   "outputs": [
    {
     "output_type": "execute_result",
     "data": {
      "text/plain": [
       "(10000, 86)"
      ]
     },
     "metadata": {},
     "execution_count": 4
    }
   ],
   "metadata": {}
  },
  {
   "cell_type": "code",
   "execution_count": 5,
   "source": [
    "def plot_roc_curve(texto, y_true, y_score, figsize=(10,6)):\r\n",
    "    fpr, tpr, _ = roc_curve(y_true, y_score)\r\n",
    "    plt.figure(figsize = figsize)\r\n",
    "    auc_value = roc_auc_score(y_true, y_score)\r\n",
    "    plt.plot(fpr, tpr, color = 'orange', label = 'ROC CURVE (area = %0.2f)' % auc_value)\r\n",
    "    plt.plot([0,1], [0,1], color = 'darkblue', linestyle = '--')\r\n",
    "    plt.xlabel('Especificidade')\r\n",
    "    plt.ylabel('Sensibilidade')\r\n",
    "    plt.title('Curva ROC {}'.format(texto))\r\n",
    "    plt.legend()\r\n",
    "\r\n",
    "    text = '../img/curva_roc_{}.png'.format(texto)\r\n",
    "    plt.savefig(text,  bbox_inches='tight')\r\n",
    "    plt.show()"
   ],
   "outputs": [],
   "metadata": {}
  },
  {
   "cell_type": "code",
   "execution_count": 6,
   "source": [
    "def plot_confusion(texto, modelo, x, y, figsize=(10,6)):\r\n",
    "    fig, ax = plt.subplots(figsize=figsize)\r\n",
    "    plt.rcParams.update({'font.size': 16})\r\n",
    "    plot_confusion_matrix(modelo, x, y, cmap='Blues', ax = ax)\r\n",
    "    plt.xlabel('Previsto', fontsize=18)\r\n",
    "    plt.ylabel('Real', fontsize=18)\r\n",
    "    plt.title('Matriz de Confusão {}'.format(texto), fontsize=18)\r\n",
    "\r\n",
    "    text = '../img/confusion_{}.png'.format(texto)\r\n",
    "    plt.savefig(text,  bbox_inches='tight')\r\n",
    "    plt.show()"
   ],
   "outputs": [],
   "metadata": {}
  },
  {
   "cell_type": "code",
   "execution_count": 7,
   "source": [
    "X = enem.drop(['APPROVED_ADM', 'APPROVED_MED'], axis=1)\r\n",
    "y = enem['APPROVED_ADM']"
   ],
   "outputs": [],
   "metadata": {}
  },
  {
   "cell_type": "code",
   "execution_count": 8,
   "source": [
    "X_train, X_test, y_train, y_test = train_test_split(X, y, test_size = 0.3)"
   ],
   "outputs": [],
   "metadata": {}
  },
  {
   "cell_type": "markdown",
   "source": [
    "## Primeiro Modelo Logístico"
   ],
   "metadata": {}
  },
  {
   "cell_type": "code",
   "execution_count": 9,
   "source": [
    "model = LogisticRegression()"
   ],
   "outputs": [],
   "metadata": {}
  },
  {
   "cell_type": "code",
   "execution_count": 10,
   "source": [
    "y.value_counts()"
   ],
   "outputs": [
    {
     "output_type": "execute_result",
     "data": {
      "text/plain": [
       "0    8467\n",
       "1    1533\n",
       "Name: APPROVED_ADM, dtype: int64"
      ]
     },
     "metadata": {},
     "execution_count": 10
    }
   ],
   "metadata": {}
  },
  {
   "cell_type": "code",
   "execution_count": 11,
   "source": [
    "model_fit = model.fit(X_train, y_train)"
   ],
   "outputs": [
    {
     "output_type": "stream",
     "name": "stderr",
     "text": [
      "C:\\Users\\DESKTOP\\AppData\\Local\\Programs\\Python\\Python39\\lib\\site-packages\\sklearn\\linear_model\\_logistic.py:814: ConvergenceWarning: lbfgs failed to converge (status=1):\n",
      "STOP: TOTAL NO. of ITERATIONS REACHED LIMIT.\n",
      "\n",
      "Increase the number of iterations (max_iter) or scale the data as shown in:\n",
      "    https://scikit-learn.org/stable/modules/preprocessing.html\n",
      "Please also refer to the documentation for alternative solver options:\n",
      "    https://scikit-learn.org/stable/modules/linear_model.html#logistic-regression\n",
      "  n_iter_i = _check_optimize_result(\n"
     ]
    }
   ],
   "metadata": {}
  },
  {
   "cell_type": "code",
   "execution_count": 12,
   "source": [
    "yhat_train = model.predict_proba(X_train)\r\n",
    "yhat_train = yhat_train[:, 1]"
   ],
   "outputs": [],
   "metadata": {}
  },
  {
   "cell_type": "code",
   "execution_count": 13,
   "source": [
    "yhat_train"
   ],
   "outputs": [
    {
     "output_type": "execute_result",
     "data": {
      "text/plain": [
       "array([0.07558008, 0.15167554, 0.02931913, ..., 0.12511248, 0.00205314,\n",
       "       0.8119073 ])"
      ]
     },
     "metadata": {},
     "execution_count": 13
    }
   ],
   "metadata": {}
  },
  {
   "cell_type": "code",
   "execution_count": 14,
   "source": [
    "yhat_test = model.predict_proba(X_test)\r\n",
    "yhat_test = yhat_test[:, 1]"
   ],
   "outputs": [],
   "metadata": {}
  },
  {
   "cell_type": "code",
   "execution_count": 15,
   "source": [
    "matrix = confusion_matrix(y_train, model.predict(X_train))"
   ],
   "outputs": [],
   "metadata": {}
  },
  {
   "cell_type": "code",
   "execution_count": 16,
   "source": [
    "plot_confusion('treino', model, X_train, y_train)"
   ],
   "outputs": [
    {
     "output_type": "stream",
     "name": "stderr",
     "text": [
      "C:\\Users\\DESKTOP\\AppData\\Local\\Programs\\Python\\Python39\\lib\\site-packages\\sklearn\\utils\\deprecation.py:87: FutureWarning: Function plot_confusion_matrix is deprecated; Function `plot_confusion_matrix` is deprecated in 1.0 and will be removed in 1.2. Use one of the class methods: ConfusionMatrixDisplay.from_predictions or ConfusionMatrixDisplay.from_estimator.\n",
      "  warnings.warn(msg, category=FutureWarning)\n"
     ]
    },
    {
     "output_type": "display_data",
     "data": {
      "image/png": "[encoded data removed]",
      "text/plain": [
       "<Figure size 720x432 with 2 Axes>"
      ]
     },
     "metadata": {}
    }
   ],
   "metadata": {}
  },
  {
   "cell_type": "code",
   "execution_count": 17,
   "source": [
    "print(classification_report(y_train, model.predict(X_train)))"
   ],
   "outputs": [
    {
     "output_type": "stream",
     "name": "stdout",
     "text": [
      "              precision    recall  f1-score   support\n",
      "\n",
      "           0       0.94      0.97      0.95      5924\n",
      "           1       0.78      0.63      0.70      1076\n",
      "\n",
      "    accuracy                           0.92      7000\n",
      "   macro avg       0.86      0.80      0.82      7000\n",
      "weighted avg       0.91      0.92      0.91      7000\n",
      "\n"
     ]
    }
   ],
   "metadata": {}
  },
  {
   "cell_type": "code",
   "execution_count": 18,
   "source": [
    "print('AUC: %0.5f' % roc_auc_score(y_train, yhat_train))"
   ],
   "outputs": [
    {
     "output_type": "stream",
     "name": "stdout",
     "text": [
      "AUC: 0.91645\n"
     ]
    }
   ],
   "metadata": {}
  },
  {
   "cell_type": "code",
   "execution_count": 19,
   "source": [
    "plot_roc_curve('treino', y_train, yhat_train)"
   ],
   "outputs": [
    {
     "output_type": "display_data",
     "data": {
      "image/png": "[encoded data removed]",
      "text/plain": [
       "<Figure size 720x432 with 1 Axes>"
      ]
     },
     "metadata": {}
    }
   ],
   "metadata": {}
  },
  {
   "cell_type": "code",
   "execution_count": 20,
   "source": [
    "matrix = confusion_matrix(y_test, model.predict(X_test))"
   ],
   "outputs": [],
   "metadata": {}
  },
  {
   "cell_type": "code",
   "execution_count": 21,
   "source": [
    "plot_confusion('teste', model, X_test, y_test)"
   ],
   "outputs": [
    {
     "output_type": "stream",
     "name": "stderr",
     "text": [
      "C:\\Users\\DESKTOP\\AppData\\Local\\Programs\\Python\\Python39\\lib\\site-packages\\sklearn\\utils\\deprecation.py:87: FutureWarning: Function plot_confusion_matrix is deprecated; Function `plot_confusion_matrix` is deprecated in 1.0 and will be removed in 1.2. Use one of the class methods: ConfusionMatrixDisplay.from_predictions or ConfusionMatrixDisplay.from_estimator.\n",
      "  warnings.warn(msg, category=FutureWarning)\n"
     ]
    },
    {
     "output_type": "display_data",
     "data": {
      "image/png": "[encoded data removed]",
      "text/plain": [
       "<Figure size 720x432 with 2 Axes>"
      ]
     },
     "metadata": {}
    }
   ],
   "metadata": {}
  },
  {
   "cell_type": "code",
   "execution_count": 22,
   "source": [
    "print(classification_report(y_test, model.predict(X_test)))"
   ],
   "outputs": [
    {
     "output_type": "stream",
     "name": "stdout",
     "text": [
      "              precision    recall  f1-score   support\n",
      "\n",
      "           0       0.94      0.96      0.95      2543\n",
      "           1       0.75      0.66      0.70       457\n",
      "\n",
      "    accuracy                           0.91      3000\n",
      "   macro avg       0.84      0.81      0.83      3000\n",
      "weighted avg       0.91      0.91      0.91      3000\n",
      "\n"
     ]
    }
   ],
   "metadata": {}
  },
  {
   "cell_type": "code",
   "execution_count": 23,
   "source": [
    "print('AUC: %0.5f' % roc_auc_score(y_test, yhat_test))"
   ],
   "outputs": [
    {
     "output_type": "stream",
     "name": "stdout",
     "text": [
      "AUC: 0.91754\n"
     ]
    }
   ],
   "metadata": {}
  },
  {
   "cell_type": "code",
   "execution_count": 24,
   "source": [
    "plot_roc_curve('teste', y_test, yhat_test)"
   ],
   "outputs": [
    {
     "output_type": "display_data",
     "data": {
      "image/png": "[encoded data removed]",
      "text/plain": [
       "<Figure size 720x432 with 1 Axes>"
      ]
     },
     "metadata": {}
    }
   ],
   "metadata": {}
  },
  {
   "cell_type": "markdown",
   "source": [
    "## Previsão"
   ],
   "metadata": {}
  },
  {
   "cell_type": "markdown",
   "source": [
    "### Dataframe Previsão Padrão"
   ],
   "metadata": {}
  },
  {
   "cell_type": "code",
   "execution_count": 25,
   "source": [
    "default_prevision = pd.DataFrame(\r\n",
    "    [\r\n",
    "        {\r\n",
    "        'TP_SEXO_M': 0, \r\n",
    "        'TP_COR_RACA_1': 0, \r\n",
    "        'TP_COR_RACA_2': 0, \r\n",
    "        'TP_COR_RACA_3': 0,\r\n",
    "        'TP_COR_RACA_4': 0, \r\n",
    "        'TP_COR_RACA_5': 0, \r\n",
    "        'TP_ESTADO_CIVIL_1': 0,\r\n",
    "        'TP_ESTADO_CIVIL_2': 0, \r\n",
    "        'TP_ESTADO_CIVIL_3': 0, \r\n",
    "        'TP_ESTADO_CIVIL_4': 0,\r\n",
    "        'SG_UF_RESIDENCIA_AL': 0, \r\n",
    "        'SG_UF_RESIDENCIA_AM': 0, \r\n",
    "        'SG_UF_RESIDENCIA_AP': 0,\r\n",
    "        'SG_UF_RESIDENCIA_BA': 0, \r\n",
    "        'SG_UF_RESIDENCIA_CE': 0, \r\n",
    "        'SG_UF_RESIDENCIA_DF': 0,\r\n",
    "        'SG_UF_RESIDENCIA_ES': 0, \r\n",
    "        'SG_UF_RESIDENCIA_GO': 0, \r\n",
    "        'SG_UF_RESIDENCIA_MA': 0,\r\n",
    "        'SG_UF_RESIDENCIA_MG': 0, \r\n",
    "        'SG_UF_RESIDENCIA_MS': 0, \r\n",
    "        'SG_UF_RESIDENCIA_MT': 0,\r\n",
    "        'SG_UF_RESIDENCIA_PA': 0, \r\n",
    "        'SG_UF_RESIDENCIA_PB': 0, \r\n",
    "        'SG_UF_RESIDENCIA_PE': 0,\r\n",
    "        'SG_UF_RESIDENCIA_PI': 0, \r\n",
    "        'SG_UF_RESIDENCIA_PR': 0, \r\n",
    "        'SG_UF_RESIDENCIA_RJ': 0,\r\n",
    "        'SG_UF_RESIDENCIA_RN': 0, \r\n",
    "        'SG_UF_RESIDENCIA_RO': 0, \r\n",
    "        'SG_UF_RESIDENCIA_RR': 0,\r\n",
    "        'SG_UF_RESIDENCIA_RS': 0, \r\n",
    "        'SG_UF_RESIDENCIA_SC': 0, \r\n",
    "        'SG_UF_RESIDENCIA_SE': 0,\r\n",
    "        'SG_UF_RESIDENCIA_SP': 0, \r\n",
    "        'SG_UF_RESIDENCIA_TO': 0, \r\n",
    "        'Q001_B': 0, \r\n",
    "        'Q001_C': 0,\r\n",
    "        'Q001_D': 0, \r\n",
    "        'Q001_E': 0, \r\n",
    "        'Q001_F': 0, \r\n",
    "        'Q001_G': 0, \r\n",
    "        'Q001_H': 0, \r\n",
    "        'Q002_B': 0, \r\n",
    "        'Q002_C': 0,\r\n",
    "        'Q002_D': 0, \r\n",
    "        'Q002_E': 0, \r\n",
    "        'Q002_F': 0, \r\n",
    "        'Q002_G': 0, \r\n",
    "        'Q002_H': 0, \r\n",
    "        'Q003_B': 0, \r\n",
    "        'Q003_C': 0,\r\n",
    "        'Q003_D': 0, \r\n",
    "        'Q003_E': 0, \r\n",
    "        'Q003_F': 0, \r\n",
    "        'Q004_B': 0, \r\n",
    "        'Q004_C': 0, \r\n",
    "        'Q004_D': 0, \r\n",
    "        'Q004_E': 0,\r\n",
    "        'Q004_F': 0, \r\n",
    "        'Q006_B': 0, \r\n",
    "        'Q006_C': 0, \r\n",
    "        'Q006_D': 0, \r\n",
    "        'Q006_E': 0, \r\n",
    "        'Q006_F': 0, \r\n",
    "        'Q006_G': 0,\r\n",
    "        'Q006_H': 0, \r\n",
    "        'Q006_I': 0, \r\n",
    "        'Q006_J': 0, \r\n",
    "        'Q006_K': 0, \r\n",
    "        'Q006_L': 0, \r\n",
    "        'Q006_M': 0, \r\n",
    "        'Q006_N': 0,\r\n",
    "        'Q006_O': 0, \r\n",
    "        'Q006_P': 0, \r\n",
    "        'Q006_Q': 0, \r\n",
    "        'NU_IDADE': 0, \r\n",
    "        'NU_NOTA_CN': 0, \r\n",
    "        'NU_NOTA_CH': 0,\r\n",
    "        'NU_NOTA_LC': 0, \r\n",
    "        'NU_NOTA_MT': 0, \r\n",
    "        'NU_NOTA_REDACAO': 0, \r\n",
    "        'Q005': 0, \r\n",
    "        'NU_NOTA_MEDIA': 0\r\n",
    "}])"
   ],
   "outputs": [],
   "metadata": {}
  },
  {
   "cell_type": "code",
   "execution_count": 26,
   "source": [
    "columns = ['TP_SEXO_M', 'TP_COR_RACA_1', 'TP_COR_RACA_2', 'TP_COR_RACA_3',\r\n",
    "       'TP_COR_RACA_4', 'TP_COR_RACA_5', 'TP_ESTADO_CIVIL_1',\r\n",
    "       'TP_ESTADO_CIVIL_2', 'TP_ESTADO_CIVIL_3', 'TP_ESTADO_CIVIL_4',\r\n",
    "       'SG_UF_RESIDENCIA_AL', 'SG_UF_RESIDENCIA_AM', 'SG_UF_RESIDENCIA_AP',\r\n",
    "       'SG_UF_RESIDENCIA_BA', 'SG_UF_RESIDENCIA_CE', 'SG_UF_RESIDENCIA_DF',\r\n",
    "       'SG_UF_RESIDENCIA_ES', 'SG_UF_RESIDENCIA_GO', 'SG_UF_RESIDENCIA_MA',\r\n",
    "       'SG_UF_RESIDENCIA_MG', 'SG_UF_RESIDENCIA_MS', 'SG_UF_RESIDENCIA_MT',\r\n",
    "       'SG_UF_RESIDENCIA_PA', 'SG_UF_RESIDENCIA_PB', 'SG_UF_RESIDENCIA_PE',\r\n",
    "       'SG_UF_RESIDENCIA_PI', 'SG_UF_RESIDENCIA_PR', 'SG_UF_RESIDENCIA_RJ',\r\n",
    "       'SG_UF_RESIDENCIA_RN', 'SG_UF_RESIDENCIA_RO', 'SG_UF_RESIDENCIA_RR',\r\n",
    "       'SG_UF_RESIDENCIA_RS', 'SG_UF_RESIDENCIA_SC', 'SG_UF_RESIDENCIA_SE',\r\n",
    "       'SG_UF_RESIDENCIA_SP', 'SG_UF_RESIDENCIA_TO', 'Q001_B', 'Q001_C',\r\n",
    "       'Q001_D', 'Q001_E', 'Q001_F', 'Q001_G', 'Q001_H', 'Q002_B', 'Q002_C',\r\n",
    "       'Q002_D', 'Q002_E', 'Q002_F', 'Q002_G', 'Q002_H', 'Q003_B', 'Q003_C',\r\n",
    "       'Q003_D', 'Q003_E', 'Q003_F', 'Q004_B', 'Q004_C', 'Q004_D', 'Q004_E',\r\n",
    "       'Q004_F', 'Q006_B', 'Q006_C', 'Q006_D', 'Q006_E', 'Q006_F', 'Q006_G',\r\n",
    "       'Q006_H', 'Q006_I', 'Q006_J', 'Q006_K', 'Q006_L', 'Q006_M', 'Q006_N',\r\n",
    "       'Q006_O', 'Q006_P', 'Q006_Q', 'NU_IDADE', 'NU_NOTA_CN', 'NU_NOTA_CH',\r\n",
    "       'NU_NOTA_LC', 'NU_NOTA_MT', 'NU_NOTA_REDACAO', 'Q005', 'NU_NOTA_MEDIA']\r\n",
    "\r\n",
    "values = [\r\n",
    "    0, 0, 1, 0,\r\n",
    "    0, 0, 0, \r\n",
    "    1, 0, 0,\r\n",
    "    0, 0, 0,\r\n",
    "    0, 0, 0,\r\n",
    "    0, 0, 0,\r\n",
    "    0, 0, 0,\r\n",
    "    0, 0, 0,\r\n",
    "    0, 0, 0,\r\n",
    "    0, 0, 0,\r\n",
    "    0, 0, 0,\r\n",
    "    1, 0, 0, 0,\r\n",
    "    0, 1, 0, 0, 0, 0, 1,\r\n",
    "    0, 0, 0, 0, 0, 0, 1,\r\n",
    "    0, 0, 0, 1, 0, 0, 0,\r\n",
    "    0, 0, 0, 0, 0, 0, 0,\r\n",
    "    1, 0, 0, 0, 0, 0, 0,\r\n",
    "    0, 0, 0, 20, 800, 800,\r\n",
    "    800, 800, 800, 5, 800\r\n",
    "]\r\n",
    "\r\n",
    "df = pd.DataFrame([values], columns = columns)\r\n",
    "\r\n",
    "#df['column'] = columns\r\n",
    "#df['value'] = values"
   ],
   "outputs": [],
   "metadata": {}
  },
  {
   "cell_type": "markdown",
   "source": [
    "### Analises Diferentes"
   ],
   "metadata": {}
  },
  {
   "cell_type": "markdown",
   "source": [
    "Analise 1 - Qual a porcentagem de chance de um Estudante do sexo Masculino, Branco, Solteiro, morador do Estado de São Paulo, com 18 anos, notas em torno de 700, 3 pessoas morando na casa e uma renda maior que 19000 passar no ENEM?"
   ],
   "metadata": {}
  },
  {
   "cell_type": "code",
   "execution_count": 27,
   "source": [
    "previsao1 = default_prevision.copy()\r\n",
    "\r\n",
    "previsao1.TP_SEXO_M = 1\r\n",
    "previsao1.TP_COR_RACA_1 = 1\r\n",
    "previsao1.TP_ESTADO_CIVIL_1 = 1\r\n",
    "previsao1.SG_UF_RESIDENCIA_SP = 1\r\n",
    "previsao1.Q001_G = 1\r\n",
    "previsao1.Q002_G = 1\r\n",
    "previsao1.Q006_Q = 1\r\n",
    "previsao1.NU_IDADE = 18\r\n",
    "previsao1.NU_NOTA_CN = 700\r\n",
    "previsao1.NU_NOTA_CH = 700\r\n",
    "previsao1.NU_NOTA_LC = 700\r\n",
    "previsao1.NU_NOTA_MT = 700\r\n",
    "previsao1.NU_NOTA_REDACAO = 700\r\n",
    "previsao1.Q005 = 3\r\n",
    "previsao1.NU_NOTA_MEDIA = 700\r\n",
    "\r\n",
    "yhat_prev = model.predict_proba(previsao1)\r\n",
    "\r\n",
    "print('Ele teria {}% de probabilidade de passar no ENEM'\\\r\n",
    "      .format(round(yhat_prev[:,1][0]*100, 2)))"
   ],
   "outputs": [
    {
     "output_type": "stream",
     "name": "stdout",
     "text": [
      "Ele teria 80.61% de probabilidade de passar no ENEM\n"
     ]
    }
   ],
   "metadata": {}
  },
  {
   "cell_type": "markdown",
   "source": [
    "Analise 2 - E um homem negro nas mesmas condições anteriores?"
   ],
   "metadata": {}
  },
  {
   "cell_type": "code",
   "execution_count": 28,
   "source": [
    "previsao2 = default_prevision.copy()\r\n",
    "\r\n",
    "previsao2.TP_SEXO_M = 1\r\n",
    "previsao2.TP_COR_RACA_2 = 1\r\n",
    "previsao2.TP_ESTADO_CIVIL_1 = 1\r\n",
    "previsao2.SG_UF_RESIDENCIA_SP = 1\r\n",
    "previsao2.Q001_G = 1\r\n",
    "previsao2.Q002_G = 1\r\n",
    "previsao2.Q006_Q = 1\r\n",
    "previsao2.NU_IDADE = 18\r\n",
    "previsao2.NU_NOTA_CN = 700\r\n",
    "previsao2.NU_NOTA_CH = 700\r\n",
    "previsao2.NU_NOTA_LC = 700\r\n",
    "previsao2.NU_NOTA_MT = 700\r\n",
    "previsao2.NU_NOTA_REDACAO = 700\r\n",
    "previsao2.Q005 = 3\r\n",
    "previsao2.NU_NOTA_MEDIA = 700\r\n",
    "\r\n",
    "yhat_prev = model.predict_proba(previsao2)\r\n",
    "\r\n",
    "print('Ele teria {}% de probabilidade de passar no ENEM'\\\r\n",
    "      .format(round(yhat_prev[:,1][0]*100, 2)))"
   ],
   "outputs": [
    {
     "output_type": "stream",
     "name": "stdout",
     "text": [
      "Ele teria 79.0% de probabilidade de passar no ENEM\n"
     ]
    }
   ],
   "metadata": {}
  },
  {
   "cell_type": "markdown",
   "source": [
    "Analise 3 - E uma mulher negra nas mesmas condições anteriores?"
   ],
   "metadata": {}
  },
  {
   "cell_type": "code",
   "execution_count": 29,
   "source": [
    "previsao3 = default_prevision.copy()\r\n",
    "\r\n",
    "previsao3.TP_COR_RACA_2 = 1\r\n",
    "previsao3.TP_ESTADO_CIVIL_1 = 1\r\n",
    "previsao3.SG_UF_RESIDENCIA_SP = 1\r\n",
    "previsao3.Q001_G = 1\r\n",
    "previsao3.Q002_G = 1\r\n",
    "previsao3.Q006_Q = 1\r\n",
    "previsao3.NU_IDADE = 18\r\n",
    "previsao3.NU_NOTA_CN = 700\r\n",
    "previsao3.NU_NOTA_CH = 700\r\n",
    "previsao3.NU_NOTA_LC = 700\r\n",
    "previsao3.NU_NOTA_MT = 700\r\n",
    "previsao3.NU_NOTA_REDACAO = 700\r\n",
    "previsao3.Q005 = 3\r\n",
    "previsao3.NU_NOTA_MEDIA = 700\r\n",
    "\r\n",
    "yhat_prev = model.predict_proba(previsao3)\r\n",
    "\r\n",
    "print('Ele teria {}% de probabilidade de passar no ENEM'\\\r\n",
    "      .format(round(yhat_prev[:,1][0]*100, 2)))"
   ],
   "outputs": [
    {
     "output_type": "stream",
     "name": "stdout",
     "text": [
      "Ele teria 79.77% de probabilidade de passar no ENEM\n"
     ]
    }
   ],
   "metadata": {}
  },
  {
   "cell_type": "markdown",
   "source": [
    "### Mas as condições realmente são iguai?"
   ],
   "metadata": {}
  },
  {
   "cell_type": "code",
   "execution_count": 30,
   "source": [
    "enem_total = pd.read_csv('../src/enem_total.csv')"
   ],
   "outputs": [],
   "metadata": {}
  },
  {
   "cell_type": "code",
   "execution_count": 31,
   "source": [
    "enem_total.head()"
   ],
   "outputs": [
    {
     "output_type": "execute_result",
     "data": {
      "text/html": [
       "<div>\n",
       "<style scoped>\n",
       "    .dataframe tbody tr th:only-of-type {\n",
       "        vertical-align: middle;\n",
       "    }\n",
       "\n",
       "    .dataframe tbody tr th {\n",
       "        vertical-align: top;\n",
       "    }\n",
       "\n",
       "    .dataframe thead th {\n",
       "        text-align: right;\n",
       "    }\n",
       "</style>\n",
       "<table border=\"1\" class=\"dataframe\">\n",
       "  <thead>\n",
       "    <tr style=\"text-align: right;\">\n",
       "      <th></th>\n",
       "      <th>NU_INSCRICAO</th>\n",
       "      <th>NU_ANO</th>\n",
       "      <th>TP_SEXO</th>\n",
       "      <th>TP_COR_RACA</th>\n",
       "      <th>TP_ESTADO_CIVIL</th>\n",
       "      <th>TP_NACIONALIDADE</th>\n",
       "      <th>SG_UF_RESIDENCIA</th>\n",
       "      <th>TP_ST_CONCLUSAO</th>\n",
       "      <th>Q001</th>\n",
       "      <th>Q002</th>\n",
       "      <th>...</th>\n",
       "      <th>NU_IDADE</th>\n",
       "      <th>NU_NOTA_CN</th>\n",
       "      <th>NU_NOTA_CH</th>\n",
       "      <th>NU_NOTA_LC</th>\n",
       "      <th>NU_NOTA_MT</th>\n",
       "      <th>NU_NOTA_REDACAO</th>\n",
       "      <th>Q005</th>\n",
       "      <th>NU_NOTA_MEDIA</th>\n",
       "      <th>APPROVED_ADM</th>\n",
       "      <th>APPROVED_MED</th>\n",
       "    </tr>\n",
       "  </thead>\n",
       "  <tbody>\n",
       "    <tr>\n",
       "      <th>0</th>\n",
       "      <td>190003903183</td>\n",
       "      <td>2019</td>\n",
       "      <td>F</td>\n",
       "      <td>3</td>\n",
       "      <td>1</td>\n",
       "      <td>1</td>\n",
       "      <td>SE</td>\n",
       "      <td>2</td>\n",
       "      <td>B</td>\n",
       "      <td>B</td>\n",
       "      <td>...</td>\n",
       "      <td>19</td>\n",
       "      <td>437.9</td>\n",
       "      <td>423.7</td>\n",
       "      <td>457.2</td>\n",
       "      <td>461.9</td>\n",
       "      <td>0.0</td>\n",
       "      <td>5</td>\n",
       "      <td>445.175</td>\n",
       "      <td>0</td>\n",
       "      <td>0</td>\n",
       "    </tr>\n",
       "    <tr>\n",
       "      <th>1</th>\n",
       "      <td>190005124618</td>\n",
       "      <td>2019</td>\n",
       "      <td>F</td>\n",
       "      <td>2</td>\n",
       "      <td>1</td>\n",
       "      <td>1</td>\n",
       "      <td>SP</td>\n",
       "      <td>2</td>\n",
       "      <td>A</td>\n",
       "      <td>A</td>\n",
       "      <td>...</td>\n",
       "      <td>19</td>\n",
       "      <td>426.2</td>\n",
       "      <td>548.7</td>\n",
       "      <td>537.9</td>\n",
       "      <td>427.7</td>\n",
       "      <td>600.0</td>\n",
       "      <td>4</td>\n",
       "      <td>485.125</td>\n",
       "      <td>0</td>\n",
       "      <td>0</td>\n",
       "    </tr>\n",
       "    <tr>\n",
       "      <th>2</th>\n",
       "      <td>190001447215</td>\n",
       "      <td>2019</td>\n",
       "      <td>F</td>\n",
       "      <td>3</td>\n",
       "      <td>2</td>\n",
       "      <td>1</td>\n",
       "      <td>BA</td>\n",
       "      <td>1</td>\n",
       "      <td>B</td>\n",
       "      <td>C</td>\n",
       "      <td>...</td>\n",
       "      <td>39</td>\n",
       "      <td>471.0</td>\n",
       "      <td>512.2</td>\n",
       "      <td>527.3</td>\n",
       "      <td>501.5</td>\n",
       "      <td>580.0</td>\n",
       "      <td>3</td>\n",
       "      <td>503.000</td>\n",
       "      <td>0</td>\n",
       "      <td>0</td>\n",
       "    </tr>\n",
       "    <tr>\n",
       "      <th>3</th>\n",
       "      <td>190003825026</td>\n",
       "      <td>2019</td>\n",
       "      <td>M</td>\n",
       "      <td>3</td>\n",
       "      <td>1</td>\n",
       "      <td>1</td>\n",
       "      <td>MT</td>\n",
       "      <td>2</td>\n",
       "      <td>E</td>\n",
       "      <td>E</td>\n",
       "      <td>...</td>\n",
       "      <td>17</td>\n",
       "      <td>359.3</td>\n",
       "      <td>520.1</td>\n",
       "      <td>430.1</td>\n",
       "      <td>493.3</td>\n",
       "      <td>440.0</td>\n",
       "      <td>4</td>\n",
       "      <td>450.700</td>\n",
       "      <td>0</td>\n",
       "      <td>0</td>\n",
       "    </tr>\n",
       "    <tr>\n",
       "      <th>4</th>\n",
       "      <td>190001995539</td>\n",
       "      <td>2019</td>\n",
       "      <td>F</td>\n",
       "      <td>1</td>\n",
       "      <td>1</td>\n",
       "      <td>1</td>\n",
       "      <td>MA</td>\n",
       "      <td>2</td>\n",
       "      <td>B</td>\n",
       "      <td>E</td>\n",
       "      <td>...</td>\n",
       "      <td>17</td>\n",
       "      <td>494.7</td>\n",
       "      <td>503.7</td>\n",
       "      <td>545.2</td>\n",
       "      <td>585.6</td>\n",
       "      <td>880.0</td>\n",
       "      <td>5</td>\n",
       "      <td>532.300</td>\n",
       "      <td>0</td>\n",
       "      <td>0</td>\n",
       "    </tr>\n",
       "  </tbody>\n",
       "</table>\n",
       "<p>5 rows × 23 columns</p>\n",
       "</div>"
      ],
      "text/plain": [
       "   NU_INSCRICAO  NU_ANO TP_SEXO  TP_COR_RACA  TP_ESTADO_CIVIL  \\\n",
       "0  190003903183    2019       F            3                1   \n",
       "1  190005124618    2019       F            2                1   \n",
       "2  190001447215    2019       F            3                2   \n",
       "3  190003825026    2019       M            3                1   \n",
       "4  190001995539    2019       F            1                1   \n",
       "\n",
       "   TP_NACIONALIDADE SG_UF_RESIDENCIA  TP_ST_CONCLUSAO Q001 Q002  ... NU_IDADE  \\\n",
       "0                 1               SE                2    B    B  ...       19   \n",
       "1                 1               SP                2    A    A  ...       19   \n",
       "2                 1               BA                1    B    C  ...       39   \n",
       "3                 1               MT                2    E    E  ...       17   \n",
       "4                 1               MA                2    B    E  ...       17   \n",
       "\n",
       "  NU_NOTA_CN NU_NOTA_CH  NU_NOTA_LC  NU_NOTA_MT  NU_NOTA_REDACAO  Q005  \\\n",
       "0      437.9      423.7       457.2       461.9              0.0     5   \n",
       "1      426.2      548.7       537.9       427.7            600.0     4   \n",
       "2      471.0      512.2       527.3       501.5            580.0     3   \n",
       "3      359.3      520.1       430.1       493.3            440.0     4   \n",
       "4      494.7      503.7       545.2       585.6            880.0     5   \n",
       "\n",
       "   NU_NOTA_MEDIA  APPROVED_ADM  APPROVED_MED  \n",
       "0        445.175             0             0  \n",
       "1        485.125             0             0  \n",
       "2        503.000             0             0  \n",
       "3        450.700             0             0  \n",
       "4        532.300             0             0  \n",
       "\n",
       "[5 rows x 23 columns]"
      ]
     },
     "metadata": {},
     "execution_count": 31
    }
   ],
   "metadata": {}
  },
  {
   "cell_type": "code",
   "execution_count": 53,
   "source": [
    "enem_total_notal = enem_total[['NU_NOTA_CN', 'NU_NOTA_CH', 'NU_NOTA_LC', 'NU_NOTA_MT', 'TP_COR_RACA', 'NU_NOTA_REDACAO', 'NU_NOTA_MEDIA']]\r\n",
    "media_nota = enem_total_notal.groupby(by='TP_COR_RACA').mean()\r\n",
    "\r\n",
    "\r\n",
    "writer = pd.ExcelWriter('../tabelas/media_nota_por_raca.xlsx', engine = 'xlsxwriter')\r\n",
    "media_nota.to_excel(writer)\r\n",
    "writer.save()\r\n",
    "writer.close()\r\n",
    "\r\n",
    "media_nota"
   ],
   "outputs": [
    {
     "output_type": "stream",
     "name": "stderr",
     "text": [
      "C:\\Users\\DESKTOP\\AppData\\Local\\Programs\\Python\\Python39\\lib\\site-packages\\xlsxwriter\\workbook.py:339: UserWarning: Calling close() on already closed file.\n",
      "  warn(\"Calling close() on already closed file.\")\n"
     ]
    },
    {
     "output_type": "execute_result",
     "data": {
      "text/html": [
       "<div>\n",
       "<style scoped>\n",
       "    .dataframe tbody tr th:only-of-type {\n",
       "        vertical-align: middle;\n",
       "    }\n",
       "\n",
       "    .dataframe tbody tr th {\n",
       "        vertical-align: top;\n",
       "    }\n",
       "\n",
       "    .dataframe thead th {\n",
       "        text-align: right;\n",
       "    }\n",
       "</style>\n",
       "<table border=\"1\" class=\"dataframe\">\n",
       "  <thead>\n",
       "    <tr style=\"text-align: right;\">\n",
       "      <th></th>\n",
       "      <th>NU_NOTA_CN</th>\n",
       "      <th>NU_NOTA_CH</th>\n",
       "      <th>NU_NOTA_LC</th>\n",
       "      <th>NU_NOTA_MT</th>\n",
       "      <th>NU_NOTA_REDACAO</th>\n",
       "      <th>NU_NOTA_MEDIA</th>\n",
       "    </tr>\n",
       "    <tr>\n",
       "      <th>TP_COR_RACA</th>\n",
       "      <th></th>\n",
       "      <th></th>\n",
       "      <th></th>\n",
       "      <th></th>\n",
       "      <th></th>\n",
       "      <th></th>\n",
       "    </tr>\n",
       "  </thead>\n",
       "  <tbody>\n",
       "    <tr>\n",
       "      <th>0</th>\n",
       "      <td>477.840625</td>\n",
       "      <td>513.388021</td>\n",
       "      <td>527.811979</td>\n",
       "      <td>532.494271</td>\n",
       "      <td>567.812500</td>\n",
       "      <td>512.883724</td>\n",
       "    </tr>\n",
       "    <tr>\n",
       "      <th>1</th>\n",
       "      <td>492.637255</td>\n",
       "      <td>527.416736</td>\n",
       "      <td>538.241342</td>\n",
       "      <td>543.626263</td>\n",
       "      <td>605.672466</td>\n",
       "      <td>525.480399</td>\n",
       "    </tr>\n",
       "    <tr>\n",
       "      <th>2</th>\n",
       "      <td>464.235155</td>\n",
       "      <td>496.934992</td>\n",
       "      <td>514.796330</td>\n",
       "      <td>494.586623</td>\n",
       "      <td>553.376835</td>\n",
       "      <td>492.638275</td>\n",
       "    </tr>\n",
       "    <tr>\n",
       "      <th>3</th>\n",
       "      <td>467.497726</td>\n",
       "      <td>498.826963</td>\n",
       "      <td>513.805663</td>\n",
       "      <td>503.910639</td>\n",
       "      <td>563.547834</td>\n",
       "      <td>496.010248</td>\n",
       "    </tr>\n",
       "    <tr>\n",
       "      <th>4</th>\n",
       "      <td>478.181933</td>\n",
       "      <td>510.144538</td>\n",
       "      <td>527.249160</td>\n",
       "      <td>525.423109</td>\n",
       "      <td>593.277311</td>\n",
       "      <td>510.249685</td>\n",
       "    </tr>\n",
       "    <tr>\n",
       "      <th>5</th>\n",
       "      <td>457.408197</td>\n",
       "      <td>479.150820</td>\n",
       "      <td>495.101639</td>\n",
       "      <td>506.468852</td>\n",
       "      <td>529.180328</td>\n",
       "      <td>484.532377</td>\n",
       "    </tr>\n",
       "  </tbody>\n",
       "</table>\n",
       "</div>"
      ],
      "text/plain": [
       "             NU_NOTA_CN  NU_NOTA_CH  NU_NOTA_LC  NU_NOTA_MT  NU_NOTA_REDACAO  \\\n",
       "TP_COR_RACA                                                                    \n",
       "0            477.840625  513.388021  527.811979  532.494271       567.812500   \n",
       "1            492.637255  527.416736  538.241342  543.626263       605.672466   \n",
       "2            464.235155  496.934992  514.796330  494.586623       553.376835   \n",
       "3            467.497726  498.826963  513.805663  503.910639       563.547834   \n",
       "4            478.181933  510.144538  527.249160  525.423109       593.277311   \n",
       "5            457.408197  479.150820  495.101639  506.468852       529.180328   \n",
       "\n",
       "             NU_NOTA_MEDIA  \n",
       "TP_COR_RACA                 \n",
       "0               512.883724  \n",
       "1               525.480399  \n",
       "2               492.638275  \n",
       "3               496.010248  \n",
       "4               510.249685  \n",
       "5               484.532377  "
      ]
     },
     "metadata": {},
     "execution_count": 53
    }
   ],
   "metadata": {}
  },
  {
   "cell_type": "code",
   "execution_count": 54,
   "source": [
    "enem_total.groupby(by='TP_COR_RACA').agg({'Q006': 'value_counts'}).unstack(0).plot(kind='bar', figsize=(20,10))\r\n",
    "\r\n",
    "plt.savefig('../img/renda_por_raca.png',  bbox_inches='tight')"
   ],
   "outputs": [
    {
     "output_type": "display_data",
     "data": {
      "image/png": "[encoded data removed]",
      "text/plain": [
       "<Figure size 1440x720 with 1 Axes>"
      ]
     },
     "metadata": {}
    }
   ],
   "metadata": {}
  },
  {
   "cell_type": "markdown",
   "source": [
    "Com as análises acima, consegue-se ver que:\r\n",
    "\r\n",
    "    - Para as estudantes das Raças Preta (2) e Parda (3) as Médias das Notas são menores em comparação com estudantes da Raça Branca (1).\r\n",
    "    - No gráfico acima, temos o agrupamento das Raças em relação a Faixa de Renda das Famílias e tem-se:\r\n",
    "        Uma quantidade muito maior concentrada nas Faixas de Renda mais baixas da soma das Raças Preta e Parda em comparação com as outras. \r\n",
    "        E nas maiores faixas quase nenhuma representação.\r\n",
    "        É nítido no gráfico que na Faixa A predomina Raça Parda, assim como na B, C e D.\r\n",
    "        A partir da Faixa E começa a inverter e a Raça Branca começa a dominar, não na mesma proporção, mas isso pode fazer a média de renda da Raça Branca ser maior que a Parda, que está concentrada nas Faixas mais baixas."
   ],
   "metadata": {}
  },
  {
   "cell_type": "markdown",
   "source": [
    "### Mais uma Análise"
   ],
   "metadata": {}
  },
  {
   "cell_type": "markdown",
   "source": [
    "Com base no que foi visto, propõe-se uma nova previsão mais realista do que os Dados informaram"
   ],
   "metadata": {}
  },
  {
   "cell_type": "markdown",
   "source": [
    "Pretas e Pardas - NOTA média CN 467.497726 CH 498.826963 LC 513.805663 MT 503.910639 REDACAO 563.547834 MEDIA 496.010248\r\n",
    "                    Renda - B\r\n",
    "\r\n",
    "Brancas - NOTAM média CN 492.637255 CH 527.416736 LC 538.241342\tMT 543.626263 REDACAO 605.672466\tMEDIA 525.480399\r\n",
    "                    Renda - G"
   ],
   "metadata": {}
  },
  {
   "cell_type": "code",
   "execution_count": 34,
   "source": [
    "previsao4 = default_prevision.copy()\r\n",
    "\r\n",
    "previsao4.TP_SEXO_M = 1\r\n",
    "previsao4.TP_COR_RACA_1 = 1\r\n",
    "previsao4.TP_ESTADO_CIVIL_1 = 1\r\n",
    "previsao4.SG_UF_RESIDENCIA_SP = 1\r\n",
    "previsao4.Q001_G = 1\r\n",
    "previsao4.Q002_G = 1\r\n",
    "previsao4.Q006_G = 1\r\n",
    "previsao4.NU_IDADE = 18\r\n",
    "previsao4.NU_NOTA_CN = 492\r\n",
    "previsao4.NU_NOTA_CH = 527\r\n",
    "previsao4.NU_NOTA_LC = 538\r\n",
    "previsao4.NU_NOTA_MT = 543\r\n",
    "previsao4.NU_NOTA_REDACAO = 605\r\n",
    "previsao4.Q005 = 3\r\n",
    "previsao4.NU_NOTA_MEDIA = 525\r\n",
    "\r\n",
    "yhat_prev = model.predict_proba(previsao4)\r\n",
    "\r\n",
    "print('Ele teria {}% de probabilidade de passar no ENEM'\\\r\n",
    "      .format(round(yhat_prev[:,1][0]*100, 2)))"
   ],
   "outputs": [
    {
     "output_type": "stream",
     "name": "stdout",
     "text": [
      "Ele teria 31.0% de probabilidade de passar no ENEM\n"
     ]
    }
   ],
   "metadata": {}
  },
  {
   "cell_type": "code",
   "execution_count": 35,
   "source": [
    "previsao5 = default_prevision.copy()\r\n",
    "\r\n",
    "previsao5.TP_SEXO_M = 1\r\n",
    "previsao5.TP_COR_RACA_1 = 1\r\n",
    "previsao5.TP_ESTADO_CIVIL_1 = 1\r\n",
    "previsao5.SG_UF_RESIDENCIA_SP = 1\r\n",
    "previsao5.Q001_G = 1\r\n",
    "previsao5.Q002_G = 1\r\n",
    "previsao5.Q006_B = 1\r\n",
    "previsao5.NU_IDADE = 18\r\n",
    "previsao5.NU_NOTA_CN = 467\r\n",
    "previsao5.NU_NOTA_CH = 498\r\n",
    "previsao5.NU_NOTA_LC = 513\r\n",
    "previsao5.NU_NOTA_MT = 503\r\n",
    "previsao5.NU_NOTA_REDACAO = 563\r\n",
    "previsao5.Q005 = 3\r\n",
    "previsao5.NU_NOTA_MEDIA = 496\r\n",
    "\r\n",
    "yhat_prev = model.predict_proba(previsao5)\r\n",
    "\r\n",
    "print('Ele teria {}% de probabilidade de passar no ENEM'\\\r\n",
    "      .format(round(yhat_prev[:,1][0]*100, 2)))"
   ],
   "outputs": [
    {
     "output_type": "stream",
     "name": "stdout",
     "text": [
      "Ele teria 16.98% de probabilidade de passar no ENEM\n"
     ]
    }
   ],
   "metadata": {}
  },
  {
   "cell_type": "markdown",
   "source": [
    "## Segundo Modelo Logístico com Validação Cruzada"
   ],
   "metadata": {}
  },
  {
   "cell_type": "code",
   "execution_count": 36,
   "source": [
    "test_size = 0.20\r\n",
    "np.random.seed(7)\r\n",
    "scoring = 'accuracy'\r\n",
    "num_folds = 10\r\n",
    "solver = 'newton-cg'"
   ],
   "outputs": [],
   "metadata": {}
  },
  {
   "cell_type": "code",
   "execution_count": 37,
   "source": [
    "X_train, X_test, y_train, y_test = train_test_split(X, y, test_size = test_size)"
   ],
   "outputs": [],
   "metadata": {}
  },
  {
   "cell_type": "code",
   "execution_count": 38,
   "source": [
    "model = LogisticRegression(solver = solver)"
   ],
   "outputs": [],
   "metadata": {}
  },
  {
   "cell_type": "code",
   "execution_count": 39,
   "source": [
    "kfold = KFold(n_splits = num_folds)"
   ],
   "outputs": [],
   "metadata": {}
  },
  {
   "cell_type": "code",
   "execution_count": 40,
   "source": [
    "cv_result = cross_val_score(model, X_train, y_train, cv = kfold, scoring = scoring)"
   ],
   "outputs": [
    {
     "output_type": "stream",
     "name": "stderr",
     "text": [
      "C:\\Users\\DESKTOP\\AppData\\Local\\Programs\\Python\\Python39\\lib\\site-packages\\sklearn\\utils\\optimize.py:210: ConvergenceWarning: newton-cg failed to converge. Increase the number of iterations.\n",
      "  warnings.warn(\n",
      "C:\\Users\\DESKTOP\\AppData\\Local\\Programs\\Python\\Python39\\lib\\site-packages\\sklearn\\utils\\optimize.py:210: ConvergenceWarning: newton-cg failed to converge. Increase the number of iterations.\n",
      "  warnings.warn(\n",
      "C:\\Users\\DESKTOP\\AppData\\Local\\Programs\\Python\\Python39\\lib\\site-packages\\sklearn\\utils\\optimize.py:210: ConvergenceWarning: newton-cg failed to converge. Increase the number of iterations.\n",
      "  warnings.warn(\n",
      "C:\\Users\\DESKTOP\\AppData\\Local\\Programs\\Python\\Python39\\lib\\site-packages\\sklearn\\utils\\optimize.py:210: ConvergenceWarning: newton-cg failed to converge. Increase the number of iterations.\n",
      "  warnings.warn(\n",
      "C:\\Users\\DESKTOP\\AppData\\Local\\Programs\\Python\\Python39\\lib\\site-packages\\sklearn\\utils\\optimize.py:210: ConvergenceWarning: newton-cg failed to converge. Increase the number of iterations.\n",
      "  warnings.warn(\n",
      "C:\\Users\\DESKTOP\\AppData\\Local\\Programs\\Python\\Python39\\lib\\site-packages\\sklearn\\utils\\optimize.py:210: ConvergenceWarning: newton-cg failed to converge. Increase the number of iterations.\n",
      "  warnings.warn(\n",
      "C:\\Users\\DESKTOP\\AppData\\Local\\Programs\\Python\\Python39\\lib\\site-packages\\sklearn\\utils\\optimize.py:210: ConvergenceWarning: newton-cg failed to converge. Increase the number of iterations.\n",
      "  warnings.warn(\n",
      "C:\\Users\\DESKTOP\\AppData\\Local\\Programs\\Python\\Python39\\lib\\site-packages\\sklearn\\utils\\optimize.py:210: ConvergenceWarning: newton-cg failed to converge. Increase the number of iterations.\n",
      "  warnings.warn(\n",
      "C:\\Users\\DESKTOP\\AppData\\Local\\Programs\\Python\\Python39\\lib\\site-packages\\sklearn\\utils\\optimize.py:210: ConvergenceWarning: newton-cg failed to converge. Increase the number of iterations.\n",
      "  warnings.warn(\n",
      "C:\\Users\\DESKTOP\\AppData\\Local\\Programs\\Python\\Python39\\lib\\site-packages\\sklearn\\utils\\optimize.py:210: ConvergenceWarning: newton-cg failed to converge. Increase the number of iterations.\n",
      "  warnings.warn(\n"
     ]
    }
   ],
   "metadata": {}
  },
  {
   "cell_type": "code",
   "execution_count": 41,
   "source": [
    "cv_result"
   ],
   "outputs": [
    {
     "output_type": "execute_result",
     "data": {
      "text/plain": [
       "array([0.995  , 0.99125, 0.9925 , 0.99625, 0.9925 , 0.99   , 0.99   ,\n",
       "       0.99   , 0.9925 , 0.9925 ])"
      ]
     },
     "metadata": {},
     "execution_count": 41
    }
   ],
   "metadata": {}
  },
  {
   "cell_type": "code",
   "execution_count": 42,
   "source": [
    "print('%s: %0.5f(%0.4f)' % ('Regressão Logística', cv_result.mean(), cv_result.std()))"
   ],
   "outputs": [
    {
     "output_type": "stream",
     "name": "stdout",
     "text": [
      "Regressão Logística: 0.99225(0.0020)\n"
     ]
    }
   ],
   "metadata": {}
  },
  {
   "cell_type": "markdown",
   "source": [
    "## Ajuste dos Hiperparâmetros do Modelo Logístico"
   ],
   "metadata": {}
  },
  {
   "cell_type": "markdown",
   "source": [
    "## Comparação entre Modelos de Classificação"
   ],
   "metadata": {}
  },
  {
   "cell_type": "code",
   "execution_count": 43,
   "source": [
    "from sklearn.pipeline import Pipeline\r\n",
    "from sklearn.tree import DecisionTreeClassifier\r\n",
    "from sklearn.neighbors import KNeighborsClassifier\r\n",
    "from sklearn.naive_bayes import GaussianNB\r\n",
    "from sklearn.svm import SVC\r\n",
    "\r\n",
    "from sklearn.preprocessing import StandardScaler"
   ],
   "outputs": [],
   "metadata": {}
  },
  {
   "cell_type": "code",
   "execution_count": 44,
   "source": [
    "models = []"
   ],
   "outputs": [],
   "metadata": {}
  },
  {
   "cell_type": "code",
   "execution_count": 45,
   "source": [
    "models.append(('LR', LogisticRegression(solver='newton-cg')))"
   ],
   "outputs": [],
   "metadata": {}
  },
  {
   "cell_type": "code",
   "execution_count": 46,
   "source": [
    "models.append(('KNN', KNeighborsClassifier()))"
   ],
   "outputs": [],
   "metadata": {}
  },
  {
   "cell_type": "code",
   "execution_count": 47,
   "source": [
    "models.append(('CART', DecisionTreeClassifier()))"
   ],
   "outputs": [],
   "metadata": {}
  },
  {
   "cell_type": "code",
   "execution_count": 48,
   "source": [
    "models.append(('NB', GaussianNB()))"
   ],
   "outputs": [],
   "metadata": {}
  },
  {
   "cell_type": "code",
   "execution_count": 49,
   "source": [
    "models.append(('SVM', SVC()))"
   ],
   "outputs": [],
   "metadata": {}
  },
  {
   "cell_type": "code",
   "execution_count": 50,
   "source": [
    "results = []\r\n",
    "names = []\r\n",
    "for name, model in models:\r\n",
    "    kfold = KFold(n_splits=num_folds)\r\n",
    "    cv_results = cross_val_score(model, X_train, y_train, cv=kfold, scoring=scoring)\r\n",
    "    results.append(cv_results)\r\n",
    "    names.append(name)\r\n",
    "    msg = '%s: %f (%f)' % (name, cv_results.mean(), cv_results.std())\r\n",
    "    print(msg)"
   ],
   "outputs": [
    {
     "output_type": "stream",
     "name": "stderr",
     "text": [
      "C:\\Users\\DESKTOP\\AppData\\Local\\Programs\\Python\\Python39\\lib\\site-packages\\sklearn\\utils\\optimize.py:210: ConvergenceWarning: newton-cg failed to converge. Increase the number of iterations.\n",
      "  warnings.warn(\n",
      "C:\\Users\\DESKTOP\\AppData\\Local\\Programs\\Python\\Python39\\lib\\site-packages\\sklearn\\utils\\optimize.py:210: ConvergenceWarning: newton-cg failed to converge. Increase the number of iterations.\n",
      "  warnings.warn(\n",
      "C:\\Users\\DESKTOP\\AppData\\Local\\Programs\\Python\\Python39\\lib\\site-packages\\sklearn\\utils\\optimize.py:210: ConvergenceWarning: newton-cg failed to converge. Increase the number of iterations.\n",
      "  warnings.warn(\n",
      "C:\\Users\\DESKTOP\\AppData\\Local\\Programs\\Python\\Python39\\lib\\site-packages\\sklearn\\utils\\optimize.py:210: ConvergenceWarning: newton-cg failed to converge. Increase the number of iterations.\n",
      "  warnings.warn(\n",
      "C:\\Users\\DESKTOP\\AppData\\Local\\Programs\\Python\\Python39\\lib\\site-packages\\sklearn\\utils\\optimize.py:210: ConvergenceWarning: newton-cg failed to converge. Increase the number of iterations.\n",
      "  warnings.warn(\n",
      "C:\\Users\\DESKTOP\\AppData\\Local\\Programs\\Python\\Python39\\lib\\site-packages\\sklearn\\utils\\optimize.py:210: ConvergenceWarning: newton-cg failed to converge. Increase the number of iterations.\n",
      "  warnings.warn(\n",
      "C:\\Users\\DESKTOP\\AppData\\Local\\Programs\\Python\\Python39\\lib\\site-packages\\sklearn\\utils\\optimize.py:210: ConvergenceWarning: newton-cg failed to converge. Increase the number of iterations.\n",
      "  warnings.warn(\n",
      "C:\\Users\\DESKTOP\\AppData\\Local\\Programs\\Python\\Python39\\lib\\site-packages\\sklearn\\utils\\optimize.py:210: ConvergenceWarning: newton-cg failed to converge. Increase the number of iterations.\n",
      "  warnings.warn(\n",
      "C:\\Users\\DESKTOP\\AppData\\Local\\Programs\\Python\\Python39\\lib\\site-packages\\sklearn\\utils\\optimize.py:210: ConvergenceWarning: newton-cg failed to converge. Increase the number of iterations.\n",
      "  warnings.warn(\n",
      "C:\\Users\\DESKTOP\\AppData\\Local\\Programs\\Python\\Python39\\lib\\site-packages\\sklearn\\utils\\optimize.py:210: ConvergenceWarning: newton-cg failed to converge. Increase the number of iterations.\n",
      "  warnings.warn(\n"
     ]
    },
    {
     "output_type": "stream",
     "name": "stdout",
     "text": [
      "LR: 0.992250 (0.002000)\n",
      "KNN: 0.987625 (0.003810)\n",
      "CART: 0.999875 (0.000375)\n",
      "NB: 0.888375 (0.010171)\n",
      "SVM: 0.991000 (0.002151)\n"
     ]
    }
   ],
   "metadata": {}
  },
  {
   "cell_type": "markdown",
   "source": [
    "## Método da Máxima Verossimilhança"
   ],
   "metadata": {}
  },
  {
   "cell_type": "code",
   "execution_count": 51,
   "source": [
    "model.classes_"
   ],
   "outputs": [
    {
     "output_type": "error",
     "ename": "AttributeError",
     "evalue": "'SVC' object has no attribute 'classes_'",
     "traceback": [
      "\u001b[1;31m---------------------------------------------------------------------------\u001b[0m",
      "\u001b[1;31mAttributeError\u001b[0m                            Traceback (most recent call last)",
      "\u001b[1;32m~\\AppData\\Local\\Temp/ipykernel_10060/1709541280.py\u001b[0m in \u001b[0;36m<module>\u001b[1;34m\u001b[0m\n\u001b[1;32m----> 1\u001b[1;33m \u001b[0mmodel\u001b[0m\u001b[1;33m.\u001b[0m\u001b[0mclasses_\u001b[0m\u001b[1;33m\u001b[0m\u001b[1;33m\u001b[0m\u001b[0m\n\u001b[0m",
      "\u001b[1;31mAttributeError\u001b[0m: 'SVC' object has no attribute 'classes_'"
     ]
    }
   ],
   "metadata": {}
  },
  {
   "cell_type": "code",
   "execution_count": null,
   "source": [
    "model.intercept_"
   ],
   "outputs": [
    {
     "output_type": "execute_result",
     "data": {
      "text/plain": [
       "array([-21.07417003])"
      ]
     },
     "metadata": {},
     "execution_count": 16
    }
   ],
   "metadata": {}
  },
  {
   "cell_type": "code",
   "execution_count": null,
   "source": [
    "model.coef_"
   ],
   "outputs": [
    {
     "output_type": "execute_result",
     "data": {
      "text/plain": [
       "array([[ 0.00000000e+00, -2.10619664e-03,  0.00000000e+00, ...,\n",
       "         2.20322086e-01,  1.36162989e-01,  5.22376168e+00]])"
      ]
     },
     "metadata": {},
     "execution_count": 17
    }
   ],
   "metadata": {}
  },
  {
   "cell_type": "code",
   "execution_count": null,
   "source": [
    "log_likelihood_elements = y*np.log(yhat) + (1-y)*np.log(1-yhat)\r\n",
    "log_likelihood_elements"
   ],
   "outputs": [
    {
     "output_type": "execute_result",
     "data": {
      "text/plain": [
       "NU_INSCRICAO\n",
       "190003903183    0.000000e+00\n",
       "190005124618   -1.174616e-13\n",
       "190001447215   -4.192480e-10\n",
       "190003825026    0.000000e+00\n",
       "190001995539   -2.628550e-06\n",
       "                    ...     \n",
       "190005285745    0.000000e+00\n",
       "190001247842   -3.713141e-11\n",
       "190003996202   -1.665446e-12\n",
       "190002228082   -9.436896e-15\n",
       "190002234389    0.000000e+00\n",
       "Name: APPROVED_ADM, Length: 10000, dtype: float64"
      ]
     },
     "metadata": {},
     "execution_count": 11
    }
   ],
   "metadata": {}
  },
  {
   "cell_type": "code",
   "execution_count": null,
   "source": [
    "-np.sum(log_likelihood_elements)/len(y)\r\n",
    "# 0.60671964791658428\r\n",
    "\r\n",
    "log_loss(y, yhat) == -np.sum(log_likelihood_elements)/len(y)"
   ],
   "outputs": [
    {
     "output_type": "error",
     "ename": "NameError",
     "evalue": "name 'log_loss' is not defined",
     "traceback": [
      "\u001b[1;31m---------------------------------------------------------------------------\u001b[0m",
      "\u001b[1;31mNameError\u001b[0m                                 Traceback (most recent call last)",
      "\u001b[1;32m~\\AppData\\Local\\Temp/ipykernel_13912/616072223.py\u001b[0m in \u001b[0;36m<module>\u001b[1;34m\u001b[0m\n\u001b[0;32m      2\u001b[0m \u001b[1;31m# 0.60671964791658428\u001b[0m\u001b[1;33m\u001b[0m\u001b[1;33m\u001b[0m\u001b[0m\n\u001b[0;32m      3\u001b[0m \u001b[1;33m\u001b[0m\u001b[0m\n\u001b[1;32m----> 4\u001b[1;33m \u001b[0mlog_loss\u001b[0m\u001b[1;33m(\u001b[0m\u001b[0my\u001b[0m\u001b[1;33m,\u001b[0m \u001b[0myhat\u001b[0m\u001b[1;33m)\u001b[0m \u001b[1;33m==\u001b[0m \u001b[1;33m-\u001b[0m\u001b[0mnp\u001b[0m\u001b[1;33m.\u001b[0m\u001b[0msum\u001b[0m\u001b[1;33m(\u001b[0m\u001b[0mlog_likelihood_elements\u001b[0m\u001b[1;33m)\u001b[0m\u001b[1;33m/\u001b[0m\u001b[0mlen\u001b[0m\u001b[1;33m(\u001b[0m\u001b[0my\u001b[0m\u001b[1;33m)\u001b[0m\u001b[1;33m\u001b[0m\u001b[1;33m\u001b[0m\u001b[0m\n\u001b[0m",
      "\u001b[1;31mNameError\u001b[0m: name 'log_loss' is not defined"
     ]
    }
   ],
   "metadata": {}
  },
  {
   "cell_type": "markdown",
   "source": [
    "## Modelo Logistico com Stats Model"
   ],
   "metadata": {}
  },
  {
   "cell_type": "code",
   "execution_count": null,
   "source": [
    "import statsmodels.api as sm"
   ],
   "outputs": [],
   "metadata": {}
  },
  {
   "cell_type": "code",
   "execution_count": null,
   "source": [
    "model = sm.Logit(y, X)"
   ],
   "outputs": [],
   "metadata": {}
  },
  {
   "cell_type": "code",
   "execution_count": null,
   "source": [
    "corr = np.corrcoef(X.values, rowvar=False)\r\n",
    "sns.heatmap(corr, annot=True, cmap='Blues', fmt='.2f', cbar=False, xticklabels=X.columns, yticklabels=X.columns)"
   ],
   "outputs": [
    {
     "output_type": "stream",
     "name": "stderr",
     "text": [
      "C:\\Users\\DESKTOP\\AppData\\Local\\Programs\\Python\\Python39\\lib\\site-packages\\numpy\\lib\\function_base.py:2691: RuntimeWarning: invalid value encountered in true_divide\n",
      "  c /= stddev[:, None]\n",
      "C:\\Users\\DESKTOP\\AppData\\Local\\Programs\\Python\\Python39\\lib\\site-packages\\numpy\\lib\\function_base.py:2692: RuntimeWarning: invalid value encountered in true_divide\n",
      "  c /= stddev[None, :]\n"
     ]
    }
   ],
   "metadata": {}
  },
  {
   "cell_type": "code",
   "execution_count": null,
   "source": [
    "result = model.fit(method='newton')"
   ],
   "outputs": [
    {
     "output_type": "stream",
     "name": "stderr",
     "text": [
      "C:\\Users\\DESKTOP\\AppData\\Local\\Programs\\Python\\Python39\\lib\\site-packages\\statsmodels\\discrete\\discrete_model.py:1819: RuntimeWarning: overflow encountered in exp\n",
      "  return 1/(1+np.exp(-X))\n",
      "C:\\Users\\DESKTOP\\AppData\\Local\\Programs\\Python\\Python39\\lib\\site-packages\\statsmodels\\discrete\\discrete_model.py:1872: RuntimeWarning: divide by zero encountered in log\n",
      "  return np.sum(np.log(self.cdf(q*np.dot(X,params))))\n"
     ]
    },
    {
     "output_type": "stream",
     "name": "stdout",
     "text": [
      "Warning: Maximum number of iterations has been exceeded.\n",
      "         Current function value: inf\n",
      "         Iterations: 35\n"
     ]
    },
    {
     "output_type": "error",
     "ename": "LinAlgError",
     "evalue": "Singular matrix",
     "traceback": [
      "\u001b[1;31m---------------------------------------------------------------------------\u001b[0m",
      "\u001b[1;31mLinAlgError\u001b[0m                               Traceback (most recent call last)",
      "\u001b[1;32m~\\AppData\\Local\\Temp/ipykernel_13912/869117110.py\u001b[0m in \u001b[0;36m<module>\u001b[1;34m\u001b[0m\n\u001b[1;32m----> 1\u001b[1;33m \u001b[0mresult\u001b[0m \u001b[1;33m=\u001b[0m \u001b[0mmodel\u001b[0m\u001b[1;33m.\u001b[0m\u001b[0mfit\u001b[0m\u001b[1;33m(\u001b[0m\u001b[0mmethod\u001b[0m\u001b[1;33m=\u001b[0m\u001b[1;34m'newton'\u001b[0m\u001b[1;33m)\u001b[0m\u001b[1;33m\u001b[0m\u001b[1;33m\u001b[0m\u001b[0m\n\u001b[0m",
      "\u001b[1;32m~\\AppData\\Local\\Programs\\Python\\Python39\\lib\\site-packages\\statsmodels\\discrete\\discrete_model.py\u001b[0m in \u001b[0;36mfit\u001b[1;34m(self, start_params, method, maxiter, full_output, disp, callback, **kwargs)\u001b[0m\n\u001b[0;32m   1981\u001b[0m     def fit(self, start_params=None, method='newton', maxiter=35,\n\u001b[0;32m   1982\u001b[0m             full_output=1, disp=1, callback=None, **kwargs):\n\u001b[1;32m-> 1983\u001b[1;33m         bnryfit = super().fit(start_params=start_params,\n\u001b[0m\u001b[0;32m   1984\u001b[0m                               \u001b[0mmethod\u001b[0m\u001b[1;33m=\u001b[0m\u001b[0mmethod\u001b[0m\u001b[1;33m,\u001b[0m\u001b[1;33m\u001b[0m\u001b[1;33m\u001b[0m\u001b[0m\n\u001b[0;32m   1985\u001b[0m                               \u001b[0mmaxiter\u001b[0m\u001b[1;33m=\u001b[0m\u001b[0mmaxiter\u001b[0m\u001b[1;33m,\u001b[0m\u001b[1;33m\u001b[0m\u001b[1;33m\u001b[0m\u001b[0m\n",
      "\u001b[1;32m~\\AppData\\Local\\Programs\\Python\\Python39\\lib\\site-packages\\statsmodels\\discrete\\discrete_model.py\u001b[0m in \u001b[0;36mfit\u001b[1;34m(self, start_params, method, maxiter, full_output, disp, callback, **kwargs)\u001b[0m\n\u001b[0;32m    228\u001b[0m             \u001b[1;32mpass\u001b[0m  \u001b[1;31m# TODO: make a function factory to have multiple call-backs\u001b[0m\u001b[1;33m\u001b[0m\u001b[1;33m\u001b[0m\u001b[0m\n\u001b[0;32m    229\u001b[0m \u001b[1;33m\u001b[0m\u001b[0m\n\u001b[1;32m--> 230\u001b[1;33m         mlefit = super().fit(start_params=start_params,\n\u001b[0m\u001b[0;32m    231\u001b[0m                              \u001b[0mmethod\u001b[0m\u001b[1;33m=\u001b[0m\u001b[0mmethod\u001b[0m\u001b[1;33m,\u001b[0m\u001b[1;33m\u001b[0m\u001b[1;33m\u001b[0m\u001b[0m\n\u001b[0;32m    232\u001b[0m                              \u001b[0mmaxiter\u001b[0m\u001b[1;33m=\u001b[0m\u001b[0mmaxiter\u001b[0m\u001b[1;33m,\u001b[0m\u001b[1;33m\u001b[0m\u001b[1;33m\u001b[0m\u001b[0m\n",
      "\u001b[1;32m~\\AppData\\Local\\Programs\\Python\\Python39\\lib\\site-packages\\statsmodels\\base\\model.py\u001b[0m in \u001b[0;36mfit\u001b[1;34m(self, start_params, method, maxiter, full_output, disp, fargs, callback, retall, skip_hessian, **kwargs)\u001b[0m\n\u001b[0;32m    577\u001b[0m             \u001b[0mHinv\u001b[0m \u001b[1;33m=\u001b[0m \u001b[0mcov_params_func\u001b[0m\u001b[1;33m(\u001b[0m\u001b[0mself\u001b[0m\u001b[1;33m,\u001b[0m \u001b[0mxopt\u001b[0m\u001b[1;33m,\u001b[0m \u001b[0mretvals\u001b[0m\u001b[1;33m)\u001b[0m\u001b[1;33m\u001b[0m\u001b[1;33m\u001b[0m\u001b[0m\n\u001b[0;32m    578\u001b[0m         \u001b[1;32melif\u001b[0m \u001b[0mmethod\u001b[0m \u001b[1;33m==\u001b[0m \u001b[1;34m'newton'\u001b[0m \u001b[1;32mand\u001b[0m \u001b[0mfull_output\u001b[0m\u001b[1;33m:\u001b[0m\u001b[1;33m\u001b[0m\u001b[1;33m\u001b[0m\u001b[0m\n\u001b[1;32m--> 579\u001b[1;33m             \u001b[0mHinv\u001b[0m \u001b[1;33m=\u001b[0m \u001b[0mnp\u001b[0m\u001b[1;33m.\u001b[0m\u001b[0mlinalg\u001b[0m\u001b[1;33m.\u001b[0m\u001b[0minv\u001b[0m\u001b[1;33m(\u001b[0m\u001b[1;33m-\u001b[0m\u001b[0mretvals\u001b[0m\u001b[1;33m[\u001b[0m\u001b[1;34m'Hessian'\u001b[0m\u001b[1;33m]\u001b[0m\u001b[1;33m)\u001b[0m \u001b[1;33m/\u001b[0m \u001b[0mnobs\u001b[0m\u001b[1;33m\u001b[0m\u001b[1;33m\u001b[0m\u001b[0m\n\u001b[0m\u001b[0;32m    580\u001b[0m         \u001b[1;32melif\u001b[0m \u001b[1;32mnot\u001b[0m \u001b[0mskip_hessian\u001b[0m\u001b[1;33m:\u001b[0m\u001b[1;33m\u001b[0m\u001b[1;33m\u001b[0m\u001b[0m\n\u001b[0;32m    581\u001b[0m             \u001b[0mH\u001b[0m \u001b[1;33m=\u001b[0m \u001b[1;33m-\u001b[0m\u001b[1;36m1\u001b[0m \u001b[1;33m*\u001b[0m \u001b[0mself\u001b[0m\u001b[1;33m.\u001b[0m\u001b[0mhessian\u001b[0m\u001b[1;33m(\u001b[0m\u001b[0mxopt\u001b[0m\u001b[1;33m)\u001b[0m\u001b[1;33m\u001b[0m\u001b[1;33m\u001b[0m\u001b[0m\n",
      "\u001b[1;32m<__array_function__ internals>\u001b[0m in \u001b[0;36minv\u001b[1;34m(*args, **kwargs)\u001b[0m\n",
      "\u001b[1;32m~\\AppData\\Local\\Programs\\Python\\Python39\\lib\\site-packages\\numpy\\linalg\\linalg.py\u001b[0m in \u001b[0;36minv\u001b[1;34m(a)\u001b[0m\n\u001b[0;32m    543\u001b[0m     \u001b[0msignature\u001b[0m \u001b[1;33m=\u001b[0m \u001b[1;34m'D->D'\u001b[0m \u001b[1;32mif\u001b[0m \u001b[0misComplexType\u001b[0m\u001b[1;33m(\u001b[0m\u001b[0mt\u001b[0m\u001b[1;33m)\u001b[0m \u001b[1;32melse\u001b[0m \u001b[1;34m'd->d'\u001b[0m\u001b[1;33m\u001b[0m\u001b[1;33m\u001b[0m\u001b[0m\n\u001b[0;32m    544\u001b[0m     \u001b[0mextobj\u001b[0m \u001b[1;33m=\u001b[0m \u001b[0mget_linalg_error_extobj\u001b[0m\u001b[1;33m(\u001b[0m\u001b[0m_raise_linalgerror_singular\u001b[0m\u001b[1;33m)\u001b[0m\u001b[1;33m\u001b[0m\u001b[1;33m\u001b[0m\u001b[0m\n\u001b[1;32m--> 545\u001b[1;33m     \u001b[0mainv\u001b[0m \u001b[1;33m=\u001b[0m \u001b[0m_umath_linalg\u001b[0m\u001b[1;33m.\u001b[0m\u001b[0minv\u001b[0m\u001b[1;33m(\u001b[0m\u001b[0ma\u001b[0m\u001b[1;33m,\u001b[0m \u001b[0msignature\u001b[0m\u001b[1;33m=\u001b[0m\u001b[0msignature\u001b[0m\u001b[1;33m,\u001b[0m \u001b[0mextobj\u001b[0m\u001b[1;33m=\u001b[0m\u001b[0mextobj\u001b[0m\u001b[1;33m)\u001b[0m\u001b[1;33m\u001b[0m\u001b[1;33m\u001b[0m\u001b[0m\n\u001b[0m\u001b[0;32m    546\u001b[0m     \u001b[1;32mreturn\u001b[0m \u001b[0mwrap\u001b[0m\u001b[1;33m(\u001b[0m\u001b[0mainv\u001b[0m\u001b[1;33m.\u001b[0m\u001b[0mastype\u001b[0m\u001b[1;33m(\u001b[0m\u001b[0mresult_t\u001b[0m\u001b[1;33m,\u001b[0m \u001b[0mcopy\u001b[0m\u001b[1;33m=\u001b[0m\u001b[1;32mFalse\u001b[0m\u001b[1;33m)\u001b[0m\u001b[1;33m)\u001b[0m\u001b[1;33m\u001b[0m\u001b[1;33m\u001b[0m\u001b[0m\n\u001b[0;32m    547\u001b[0m \u001b[1;33m\u001b[0m\u001b[0m\n",
      "\u001b[1;32m~\\AppData\\Local\\Programs\\Python\\Python39\\lib\\site-packages\\numpy\\linalg\\linalg.py\u001b[0m in \u001b[0;36m_raise_linalgerror_singular\u001b[1;34m(err, flag)\u001b[0m\n\u001b[0;32m     86\u001b[0m \u001b[1;33m\u001b[0m\u001b[0m\n\u001b[0;32m     87\u001b[0m \u001b[1;32mdef\u001b[0m \u001b[0m_raise_linalgerror_singular\u001b[0m\u001b[1;33m(\u001b[0m\u001b[0merr\u001b[0m\u001b[1;33m,\u001b[0m \u001b[0mflag\u001b[0m\u001b[1;33m)\u001b[0m\u001b[1;33m:\u001b[0m\u001b[1;33m\u001b[0m\u001b[1;33m\u001b[0m\u001b[0m\n\u001b[1;32m---> 88\u001b[1;33m     \u001b[1;32mraise\u001b[0m \u001b[0mLinAlgError\u001b[0m\u001b[1;33m(\u001b[0m\u001b[1;34m\"Singular matrix\"\u001b[0m\u001b[1;33m)\u001b[0m\u001b[1;33m\u001b[0m\u001b[1;33m\u001b[0m\u001b[0m\n\u001b[0m\u001b[0;32m     89\u001b[0m \u001b[1;33m\u001b[0m\u001b[0m\n\u001b[0;32m     90\u001b[0m \u001b[1;32mdef\u001b[0m \u001b[0m_raise_linalgerror_nonposdef\u001b[0m\u001b[1;33m(\u001b[0m\u001b[0merr\u001b[0m\u001b[1;33m,\u001b[0m \u001b[0mflag\u001b[0m\u001b[1;33m)\u001b[0m\u001b[1;33m:\u001b[0m\u001b[1;33m\u001b[0m\u001b[1;33m\u001b[0m\u001b[0m\n",
      "\u001b[1;31mLinAlgError\u001b[0m: Singular matrix"
     ]
    }
   ],
   "metadata": {}
  },
  {
   "cell_type": "code",
   "execution_count": null,
   "source": [
    "result.params"
   ],
   "outputs": [],
   "metadata": {}
  },
  {
   "cell_type": "code",
   "execution_count": null,
   "source": [
    "result.summary()"
   ],
   "outputs": [],
   "metadata": {}
  }
 ],
 "metadata": {
  "orig_nbformat": 4,
  "language_info": {
   "name": "python",
   "version": "3.9.7",
   "mimetype": "text/x-python",
   "codemirror_mode": {
    "name": "ipython",
    "version": 3
   },
   "pygments_lexer": "ipython3",
   "nbconvert_exporter": "python",
   "file_extension": ".py"
  },
  "kernelspec": {
   "name": "python3",
   "display_name": "Python 3.9.7 64-bit"
  },
  "interpreter": {
   "hash": "d716d3087447d732d408563f09e95056395e35756340cb54fdc49b8a8ffe1616"
  }
 },
 "nbformat": 4,
 "nbformat_minor": 2
}