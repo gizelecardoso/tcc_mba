{
 "cells": [
  {
   "cell_type": "markdown",
   "source": [
    "# Análise ENEM 2010"
   ],
   "metadata": {}
  },
  {
   "cell_type": "markdown",
   "source": [
    "## Carregando Bibliotecas"
   ],
   "metadata": {}
  },
  {
   "cell_type": "markdown",
   "source": [
    "### Variável de ambiente"
   ],
   "metadata": {}
  },
  {
   "cell_type": "code",
   "execution_count": 1,
   "source": [
    "import os\r\n",
    "\r\n",
    "os.environ[\"SPARK_HOME\"] = \"D:\\spark\\spark-3.2.1-bin-hadoop3.2\"\r\n",
    "os.environ['HADOOP_HOME'] = \"D:\\spark\\spark-3.2.1-bin-hadoop3.2\\hadoop\" \r\n",
    "\r\n",
    "os.environ[\"PYARROW_IGNORE_TIMEZONE\"] = \"1\""
   ],
   "outputs": [],
   "metadata": {}
  },
  {
   "cell_type": "markdown",
   "source": [
    "### Pyspark"
   ],
   "metadata": {}
  },
  {
   "cell_type": "code",
   "execution_count": 2,
   "source": [
    "import findspark\r\n",
    "findspark.init()"
   ],
   "outputs": [],
   "metadata": {}
  },
  {
   "cell_type": "code",
   "execution_count": 3,
   "source": [
    "from pyspark.sql import SparkSession\r\n",
    "\r\n",
    "import pyspark.sql as py\r\n",
    "\r\n",
    "import pyspark.pandas as ps"
   ],
   "outputs": [],
   "metadata": {}
  },
  {
   "cell_type": "code",
   "execution_count": 4,
   "source": [
    "spark = SparkSession.builder.master('local[*]').getOrCreate()"
   ],
   "outputs": [],
   "metadata": {}
  },
  {
   "cell_type": "markdown",
   "source": [
    "### Visualização"
   ],
   "metadata": {}
  },
  {
   "cell_type": "code",
   "execution_count": 5,
   "source": [
    "import matplotlib.pyplot as plt\r\n",
    "import seaborn as sns\r\n",
    "\r\n",
    "sns.set()"
   ],
   "outputs": [],
   "metadata": {}
  },
  {
   "cell_type": "markdown",
   "source": [
    "## Carregando os dados"
   ],
   "metadata": {}
  },
  {
   "cell_type": "code",
   "execution_count": 6,
   "source": [
    "enem_2010 = ps.read_csv(\"base_dados/enem/microdados_enem2010/DADOS/MICRODADOS_enem_2010.csv\", sep=';')"
   ],
   "outputs": [],
   "metadata": {}
  },
  {
   "cell_type": "code",
   "execution_count": 7,
   "source": [
    "enem_2010 = enem_2010.rename(columns={  'Q01': 'Q001', \r\n",
    "                                        'Q02' :'Q002',\r\n",
    "                                        'Q03': 'Q003',\r\n",
    "                                        'Q04': 'Q004',\r\n",
    "                                        'Q05': 'Q005',\r\n",
    "                                        'Q06': 'Q006'})"
   ],
   "outputs": [],
   "metadata": {}
  },
  {
   "cell_type": "code",
   "execution_count": 8,
   "source": [
    "columns=['NU_IDADE', 'TP_COR_RACA', 'TP_ESTADO_CIVIL' ,'TP_SEXO', 'TP_ST_CONCLUSAO', 'NU_NOTA_CN', 'NU_NOTA_CH', 'NU_NOTA_LC', 'NU_NOTA_MT', 'NU_NOTA_REDACAO', 'Q001', 'Q002', 'Q003', 'Q004', 'Q005', 'Q006']"
   ],
   "outputs": [],
   "metadata": {}
  },
  {
   "cell_type": "code",
   "execution_count": 9,
   "source": [
    "enem_2010_selected = enem_2010[columns]"
   ],
   "outputs": [],
   "metadata": {}
  },
  {
   "cell_type": "markdown",
   "source": [
    "## Verificando Valores Ausentes"
   ],
   "metadata": {}
  },
  {
   "cell_type": "markdown",
   "source": [
    "### Visualização"
   ],
   "metadata": {}
  },
  {
   "cell_type": "code",
   "execution_count": 10,
   "source": [
    "import plotly.graph_objects as go"
   ],
   "outputs": [],
   "metadata": {}
  },
  {
   "cell_type": "code",
   "execution_count": 11,
   "source": [
    "missing = enem_2010_selected.isnull().sum()\r\n",
    "missing = missing[missing > 0]\r\n",
    "missing.sort_values(inplace = True)"
   ],
   "outputs": [],
   "metadata": {}
  },
  {
   "cell_type": "code",
   "execution_count": 12,
   "source": [
    "texto_grafico = []\r\n",
    "for i in range(len(missing)):\r\n",
    "    texto_grafico.append(str(missing.values[i]))"
   ],
   "outputs": [
    {
     "output_type": "stream",
     "name": "stderr",
     "text": [
      "D:\\spark\\spark-3.2.1-bin-hadoop3.2\\python\\pyspark\\pandas\\generic.py:638: UserWarning: We recommend using `Series.to_numpy()` instead.\n",
      "  warnings.warn(\"We recommend using `{}.to_numpy()` instead.\".format(type(self).__name__))\n"
     ]
    }
   ],
   "metadata": {}
  },
  {
   "cell_type": "code",
   "execution_count": 13,
   "source": [
    "fig = go.Figure()\r\n",
    "\r\n",
    "fig.add_trace(go.Bar(\r\n",
    "    x=missing.index.tolist(),\r\n",
    "    y=missing.values,\r\n",
    "    #mode=\"markers+text\",\r\n",
    "    name=\"Markers and Text\",\r\n",
    "    text=texto_grafico,\r\n",
    "    textposition=\"outside\"\r\n",
    "))\r\n",
    "\r\n",
    "fig.update_layout(\r\n",
    "    autosize=False,\r\n",
    "    width=1000,\r\n",
    "    height=500)\r\n",
    "\r\n",
    "fig.update_layout(title_text=\"Quantidade de Dados Ausentes por Colunas (NAN)\",\r\n",
    "                  title_font_size=20)\r\n",
    "\r\n",
    "fig.update_xaxes(title_text=\"Colunas\")\r\n",
    "fig.update_yaxes(title_text=\"Quantidade de Valores Ausentes\")\r\n",
    "\r\n",
    "fig.show()"
   ],
   "outputs": [
    {
     "output_type": "stream",
     "name": "stderr",
     "text": [
      "D:\\spark\\spark-3.2.1-bin-hadoop3.2\\python\\pyspark\\pandas\\generic.py:638: UserWarning:\n",
      "\n",
      "We recommend using `Series.to_numpy()` instead.\n",
      "\n"
     ]
    },
    {
     "output_type": "display_data",
     "data": {
      "application/vnd.plotly.v1+json": {
       "data": [
        {
         "name": "Markers and Text",
         "text": [
          "2",
          "23",
          "332",
          "14478",
          "14478",
          "14478",
          "14478",
          "14478",
          "14478",
          "14478",
          "14478",
          "1241331",
          "1241331",
          "1369929",
          "1369929"
         ],
         "textposition": "outside",
         "x": [
          "NU_NOTA_REDACAO",
          "TP_ST_CONCLUSAO",
          "NU_IDADE",
          "TP_COR_RACA",
          "TP_ESTADO_CIVIL",
          "Q001",
          "Q002",
          "Q003",
          "Q004",
          "Q005",
          "Q006",
          "NU_NOTA_CN",
          "NU_NOTA_CH",
          "NU_NOTA_LC",
          "NU_NOTA_MT"
         ],
         "y": [
          2,
          23,
          332,
          14478,
          14478,
          14478,
          14478,
          14478,
          14478,
          14478,
          14478,
          1241331,
          1241331,
          1369929,
          1369929
         ],
         "type": "bar"
        }
       ],
       "layout": {
        "template": {
         "data": {
          "histogram2dcontour": [
           {
            "type": "histogram2dcontour",
            "colorbar": {
             "outlinewidth": 0,
             "ticks": ""
            },
            "colorscale": [
             [
              0,
              "#0d0887"
             ],
             [
              0.1111111111111111,
              "#46039f"
             ],
             [
              0.2222222222222222,
              "#7201a8"
             ],
             [
              0.3333333333333333,
              "#9c179e"
             ],
             [
              0.4444444444444444,
              "#bd3786"
             ],
             [
              0.5555555555555556,
              "#d8576b"
             ],
             [
              0.6666666666666666,
              "#ed7953"
             ],
             [
              0.7777777777777778,
              "#fb9f3a"
             ],
             [
              0.8888888888888888,
              "#fdca26"
             ],
             [
              1,
              "#f0f921"
             ]
            ]
           }
          ],
          "choropleth": [
           {
            "type": "choropleth",
            "colorbar": {
             "outlinewidth": 0,
             "ticks": ""
            }
           }
          ],
          "histogram2d": [
           {
            "type": "histogram2d",
            "colorbar": {
             "outlinewidth": 0,
             "ticks": ""
            },
            "colorscale": [
             [
              0,
              "#0d0887"
             ],
             [
              0.1111111111111111,
              "#46039f"
             ],
             [
              0.2222222222222222,
              "#7201a8"
             ],
             [
              0.3333333333333333,
              "#9c179e"
             ],
             [
              0.4444444444444444,
              "#bd3786"
             ],
             [
              0.5555555555555556,
              "#d8576b"
             ],
             [
              0.6666666666666666,
              "#ed7953"
             ],
             [
              0.7777777777777778,
              "#fb9f3a"
             ],
             [
              0.8888888888888888,
              "#fdca26"
             ],
             [
              1,
              "#f0f921"
             ]
            ]
           }
          ],
          "heatmap": [
           {
            "type": "heatmap",
            "colorbar": {
             "outlinewidth": 0,
             "ticks": ""
            },
            "colorscale": [
             [
              0,
              "#0d0887"
             ],
             [
              0.1111111111111111,
              "#46039f"
             ],
             [
              0.2222222222222222,
              "#7201a8"
             ],
             [
              0.3333333333333333,
              "#9c179e"
             ],
             [
              0.4444444444444444,
              "#bd3786"
             ],
             [
              0.5555555555555556,
              "#d8576b"
             ],
             [
              0.6666666666666666,
              "#ed7953"
             ],
             [
              0.7777777777777778,
              "#fb9f3a"
             ],
             [
              0.8888888888888888,
              "#fdca26"
             ],
             [
              1,
              "#f0f921"
             ]
            ]
           }
          ],
          "heatmapgl": [
           {
            "type": "heatmapgl",
            "colorbar": {
             "outlinewidth": 0,
             "ticks": ""
            },
            "colorscale": [
             [
              0,
              "#0d0887"
             ],
             [
              0.1111111111111111,
              "#46039f"
             ],
             [
              0.2222222222222222,
              "#7201a8"
             ],
             [
              0.3333333333333333,
              "#9c179e"
             ],
             [
              0.4444444444444444,
              "#bd3786"
             ],
             [
              0.5555555555555556,
              "#d8576b"
             ],
             [
              0.6666666666666666,
              "#ed7953"
             ],
             [
              0.7777777777777778,
              "#fb9f3a"
             ],
             [
              0.8888888888888888,
              "#fdca26"
             ],
             [
              1,
              "#f0f921"
             ]
            ]
           }
          ],
          "contourcarpet": [
           {
            "type": "contourcarpet",
            "colorbar": {
             "outlinewidth": 0,
             "ticks": ""
            }
           }
          ],
          "contour": [
           {
            "type": "contour",
            "colorbar": {
             "outlinewidth": 0,
             "ticks": ""
            },
            "colorscale": [
             [
              0,
              "#0d0887"
             ],
             [
              0.1111111111111111,
              "#46039f"
             ],
             [
              0.2222222222222222,
              "#7201a8"
             ],
             [
              0.3333333333333333,
              "#9c179e"
             ],
             [
              0.4444444444444444,
              "#bd3786"
             ],
             [
              0.5555555555555556,
              "#d8576b"
             ],
             [
              0.6666666666666666,
              "#ed7953"
             ],
             [
              0.7777777777777778,
              "#fb9f3a"
             ],
             [
              0.8888888888888888,
              "#fdca26"
             ],
             [
              1,
              "#f0f921"
             ]
            ]
           }
          ],
          "surface": [
           {
            "type": "surface",
            "colorbar": {
             "outlinewidth": 0,
             "ticks": ""
            },
            "colorscale": [
             [
              0,
              "#0d0887"
             ],
             [
              0.1111111111111111,
              "#46039f"
             ],
             [
              0.2222222222222222,
              "#7201a8"
             ],
             [
              0.3333333333333333,
              "#9c179e"
             ],
             [
              0.4444444444444444,
              "#bd3786"
             ],
             [
              0.5555555555555556,
              "#d8576b"
             ],
             [
              0.6666666666666666,
              "#ed7953"
             ],
             [
              0.7777777777777778,
              "#fb9f3a"
             ],
             [
              0.8888888888888888,
              "#fdca26"
             ],
             [
              1,
              "#f0f921"
             ]
            ]
           }
          ],
          "mesh3d": [
           {
            "type": "mesh3d",
            "colorbar": {
             "outlinewidth": 0,
             "ticks": ""
            }
           }
          ],
          "scatter": [
           {
            "fillpattern": {
             "fillmode": "overlay",
             "size": 10,
             "solidity": 0.2
            },
            "type": "scatter"
           }
          ],
          "parcoords": [
           {
            "type": "parcoords",
            "line": {
             "colorbar": {
              "outlinewidth": 0,
              "ticks": ""
             }
            }
           }
          ],
          "scatterpolargl": [
           {
            "type": "scatterpolargl",
            "marker": {
             "colorbar": {
              "outlinewidth": 0,
              "ticks": ""
             }
            }
           }
          ],
          "bar": [
           {
            "error_x": {
             "color": "#2a3f5f"
            },
            "error_y": {
             "color": "#2a3f5f"
            },
            "marker": {
             "line": {
              "color": "#E5ECF6",
              "width": 0.5
             },
             "pattern": {
              "fillmode": "overlay",
              "size": 10,
              "solidity": 0.2
             }
            },
            "type": "bar"
           }
          ],
          "scattergeo": [
           {
            "type": "scattergeo",
            "marker": {
             "colorbar": {
              "outlinewidth": 0,
              "ticks": ""
             }
            }
           }
          ],
          "scatterpolar": [
           {
            "type": "scatterpolar",
            "marker": {
             "colorbar": {
              "outlinewidth": 0,
              "ticks": ""
             }
            }
           }
          ],
          "histogram": [
           {
            "marker": {
             "pattern": {
              "fillmode": "overlay",
              "size": 10,
              "solidity": 0.2
             }
            },
            "type": "histogram"
           }
          ],
          "scattergl": [
           {
            "type": "scattergl",
            "marker": {
             "colorbar": {
              "outlinewidth": 0,
              "ticks": ""
             }
            }
           }
          ],
          "scatter3d": [
           {
            "type": "scatter3d",
            "line": {
             "colorbar": {
              "outlinewidth": 0,
              "ticks": ""
             }
            },
            "marker": {
             "colorbar": {
              "outlinewidth": 0,
              "ticks": ""
             }
            }
           }
          ],
          "scattermapbox": [
           {
            "type": "scattermapbox",
            "marker": {
             "colorbar": {
              "outlinewidth": 0,
              "ticks": ""
             }
            }
           }
          ],
          "scatterternary": [
           {
            "type": "scatterternary",
            "marker": {
             "colorbar": {
              "outlinewidth": 0,
              "ticks": ""
             }
            }
           }
          ],
          "scattercarpet": [
           {
            "type": "scattercarpet",
            "marker": {
             "colorbar": {
              "outlinewidth": 0,
              "ticks": ""
             }
            }
           }
          ],
          "carpet": [
           {
            "aaxis": {
             "endlinecolor": "#2a3f5f",
             "gridcolor": "white",
             "linecolor": "white",
             "minorgridcolor": "white",
             "startlinecolor": "#2a3f5f"
            },
            "baxis": {
             "endlinecolor": "#2a3f5f",
             "gridcolor": "white",
             "linecolor": "white",
             "minorgridcolor": "white",
             "startlinecolor": "#2a3f5f"
            },
            "type": "carpet"
           }
          ],
          "table": [
           {
            "cells": {
             "fill": {
              "color": "#EBF0F8"
             },
             "line": {
              "color": "white"
             }
            },
            "header": {
             "fill": {
              "color": "#C8D4E3"
             },
             "line": {
              "color": "white"
             }
            },
            "type": "table"
           }
          ],
          "barpolar": [
           {
            "marker": {
             "line": {
              "color": "#E5ECF6",
              "width": 0.5
             },
             "pattern": {
              "fillmode": "overlay",
              "size": 10,
              "solidity": 0.2
             }
            },
            "type": "barpolar"
           }
          ],
          "pie": [
           {
            "automargin": true,
            "type": "pie"
           }
          ]
         },
         "layout": {
          "autotypenumbers": "strict",
          "colorway": [
           "#636efa",
           "#EF553B",
           "#00cc96",
           "#ab63fa",
           "#FFA15A",
           "#19d3f3",
           "#FF6692",
           "#B6E880",
           "#FF97FF",
           "#FECB52"
          ],
          "font": {
           "color": "#2a3f5f"
          },
          "hovermode": "closest",
          "hoverlabel": {
           "align": "left"
          },
          "paper_bgcolor": "white",
          "plot_bgcolor": "#E5ECF6",
          "polar": {
           "bgcolor": "#E5ECF6",
           "angularaxis": {
            "gridcolor": "white",
            "linecolor": "white",
            "ticks": ""
           },
           "radialaxis": {
            "gridcolor": "white",
            "linecolor": "white",
            "ticks": ""
           }
          },
          "ternary": {
           "bgcolor": "#E5ECF6",
           "aaxis": {
            "gridcolor": "white",
            "linecolor": "white",
            "ticks": ""
           },
           "baxis": {
            "gridcolor": "white",
            "linecolor": "white",
            "ticks": ""
           },
           "caxis": {
            "gridcolor": "white",
            "linecolor": "white",
            "ticks": ""
           }
          },
          "coloraxis": {
           "colorbar": {
            "outlinewidth": 0,
            "ticks": ""
           }
          },
          "colorscale": {
           "sequential": [
            [
             0,
             "#0d0887"
            ],
            [
             0.1111111111111111,
             "#46039f"
            ],
            [
             0.2222222222222222,
             "#7201a8"
            ],
            [
             0.3333333333333333,
             "#9c179e"
            ],
            [
             0.4444444444444444,
             "#bd3786"
            ],
            [
             0.5555555555555556,
             "#d8576b"
            ],
            [
             0.6666666666666666,
             "#ed7953"
            ],
            [
             0.7777777777777778,
             "#fb9f3a"
            ],
            [
             0.8888888888888888,
             "#fdca26"
            ],
            [
             1,
             "#f0f921"
            ]
           ],
           "sequentialminus": [
            [
             0,
             "#0d0887"
            ],
            [
             0.1111111111111111,
             "#46039f"
            ],
            [
             0.2222222222222222,
             "#7201a8"
            ],
            [
             0.3333333333333333,
             "#9c179e"
            ],
            [
             0.4444444444444444,
             "#bd3786"
            ],
            [
             0.5555555555555556,
             "#d8576b"
            ],
            [
             0.6666666666666666,
             "#ed7953"
            ],
            [
             0.7777777777777778,
             "#fb9f3a"
            ],
            [
             0.8888888888888888,
             "#fdca26"
            ],
            [
             1,
             "#f0f921"
            ]
           ],
           "diverging": [
            [
             0,
             "#8e0152"
            ],
            [
             0.1,
             "#c51b7d"
            ],
            [
             0.2,
             "#de77ae"
            ],
            [
             0.3,
             "#f1b6da"
            ],
            [
             0.4,
             "#fde0ef"
            ],
            [
             0.5,
             "#f7f7f7"
            ],
            [
             0.6,
             "#e6f5d0"
            ],
            [
             0.7,
             "#b8e186"
            ],
            [
             0.8,
             "#7fbc41"
            ],
            [
             0.9,
             "#4d9221"
            ],
            [
             1,
             "#276419"
            ]
           ]
          },
          "xaxis": {
           "gridcolor": "white",
           "linecolor": "white",
           "ticks": "",
           "title": {
            "standoff": 15
           },
           "zerolinecolor": "white",
           "automargin": true,
           "zerolinewidth": 2
          },
          "yaxis": {
           "gridcolor": "white",
           "linecolor": "white",
           "ticks": "",
           "title": {
            "standoff": 15
           },
           "zerolinecolor": "white",
           "automargin": true,
           "zerolinewidth": 2
          },
          "scene": {
           "xaxis": {
            "backgroundcolor": "#E5ECF6",
            "gridcolor": "white",
            "linecolor": "white",
            "showbackground": true,
            "ticks": "",
            "zerolinecolor": "white",
            "gridwidth": 2
           },
           "yaxis": {
            "backgroundcolor": "#E5ECF6",
            "gridcolor": "white",
            "linecolor": "white",
            "showbackground": true,
            "ticks": "",
            "zerolinecolor": "white",
            "gridwidth": 2
           },
           "zaxis": {
            "backgroundcolor": "#E5ECF6",
            "gridcolor": "white",
            "linecolor": "white",
            "showbackground": true,
            "ticks": "",
            "zerolinecolor": "white",
            "gridwidth": 2
           }
          },
          "shapedefaults": {
           "line": {
            "color": "#2a3f5f"
           }
          },
          "annotationdefaults": {
           "arrowcolor": "#2a3f5f",
           "arrowhead": 0,
           "arrowwidth": 1
          },
          "geo": {
           "bgcolor": "white",
           "landcolor": "#E5ECF6",
           "subunitcolor": "white",
           "showland": true,
           "showlakes": true,
           "lakecolor": "white"
          },
          "title": {
           "x": 0.05
          },
          "mapbox": {
           "style": "light"
          }
         }
        },
        "autosize": false,
        "width": 1000,
        "height": 500,
        "title": {
         "font": {
          "size": 20
         },
         "text": "Quantidade de Dados Ausentes por Colunas (NAN)"
        },
        "xaxis": {
         "title": {
          "text": "Colunas"
         }
        },
        "yaxis": {
         "title": {
          "text": "Quantidade de Valores Ausentes"
         }
        }
       },
       "config": {
        "plotlyServerURL": "https://plot.ly"
       }
      }
     },
     "metadata": {}
    }
   ],
   "metadata": {}
  },
  {
   "cell_type": "markdown",
   "source": [
    "### Tabela com Porcentagem"
   ],
   "metadata": {}
  },
  {
   "cell_type": "code",
   "execution_count": 14,
   "source": [
    "var_with_nan = []\r\n",
    "def verfify_nan_values(df):\r\n",
    "    var_without_nan = []\r\n",
    "    var_column = []\r\n",
    "    var_percent = []\r\n",
    "    total = df.shape[0]\r\n",
    "    count = 0\r\n",
    "    for index, value in df.isna().sum().iteritems():\r\n",
    "        if value == 0:\r\n",
    "            var_without_nan.append(index)\r\n",
    "        else:\r\n",
    "            percent_with_nan = (value / total) * 100\r\n",
    "            var_with_nan.append(count)\r\n",
    "            var_column.append(index)\r\n",
    "            var_percent.append(percent_with_nan)\r\n",
    "        count  = count + 1\r\n",
    "\r\n",
    "    d = {'coluna': var_column, 'porcentagem_nan %': var_percent}\r\n",
    "    df_nan = ps.DataFrame(data=d)\r\n",
    "\r\n",
    "    return df_nan"
   ],
   "outputs": [],
   "metadata": {}
  },
  {
   "cell_type": "code",
   "execution_count": 15,
   "source": [
    "df_nan = verfify_nan_values(enem_2010_selected)\r\n",
    "\r\n",
    "df_nan"
   ],
   "outputs": [
    {
     "output_type": "execute_result",
     "data": {
      "text/html": [
       "<div>\n",
       "<style scoped>\n",
       "    .dataframe tbody tr th:only-of-type {\n",
       "        vertical-align: middle;\n",
       "    }\n",
       "\n",
       "    .dataframe tbody tr th {\n",
       "        vertical-align: top;\n",
       "    }\n",
       "\n",
       "    .dataframe thead th {\n",
       "        text-align: right;\n",
       "    }\n",
       "</style>\n",
       "<table border=\"1\" class=\"dataframe\">\n",
       "  <thead>\n",
       "    <tr style=\"text-align: right;\">\n",
       "      <th></th>\n",
       "      <th>coluna</th>\n",
       "      <th>porcentagem_nan %</th>\n",
       "    </tr>\n",
       "  </thead>\n",
       "  <tbody>\n",
       "    <tr>\n",
       "      <th>0</th>\n",
       "      <td>NU_IDADE</td>\n",
       "      <td>0.007177</td>\n",
       "    </tr>\n",
       "    <tr>\n",
       "      <th>1</th>\n",
       "      <td>TP_COR_RACA</td>\n",
       "      <td>0.312964</td>\n",
       "    </tr>\n",
       "    <tr>\n",
       "      <th>2</th>\n",
       "      <td>TP_ESTADO_CIVIL</td>\n",
       "      <td>0.312964</td>\n",
       "    </tr>\n",
       "    <tr>\n",
       "      <th>3</th>\n",
       "      <td>TP_ST_CONCLUSAO</td>\n",
       "      <td>0.000497</td>\n",
       "    </tr>\n",
       "    <tr>\n",
       "      <th>4</th>\n",
       "      <td>NU_NOTA_CN</td>\n",
       "      <td>26.833242</td>\n",
       "    </tr>\n",
       "    <tr>\n",
       "      <th>5</th>\n",
       "      <td>NU_NOTA_CH</td>\n",
       "      <td>26.833242</td>\n",
       "    </tr>\n",
       "    <tr>\n",
       "      <th>6</th>\n",
       "      <td>NU_NOTA_LC</td>\n",
       "      <td>29.613082</td>\n",
       "    </tr>\n",
       "    <tr>\n",
       "      <th>7</th>\n",
       "      <td>NU_NOTA_MT</td>\n",
       "      <td>29.613082</td>\n",
       "    </tr>\n",
       "    <tr>\n",
       "      <th>8</th>\n",
       "      <td>NU_NOTA_REDACAO</td>\n",
       "      <td>0.000043</td>\n",
       "    </tr>\n",
       "    <tr>\n",
       "      <th>9</th>\n",
       "      <td>Q001</td>\n",
       "      <td>0.312964</td>\n",
       "    </tr>\n",
       "    <tr>\n",
       "      <th>10</th>\n",
       "      <td>Q002</td>\n",
       "      <td>0.312964</td>\n",
       "    </tr>\n",
       "    <tr>\n",
       "      <th>11</th>\n",
       "      <td>Q003</td>\n",
       "      <td>0.312964</td>\n",
       "    </tr>\n",
       "    <tr>\n",
       "      <th>12</th>\n",
       "      <td>Q004</td>\n",
       "      <td>0.312964</td>\n",
       "    </tr>\n",
       "    <tr>\n",
       "      <th>13</th>\n",
       "      <td>Q005</td>\n",
       "      <td>0.312964</td>\n",
       "    </tr>\n",
       "    <tr>\n",
       "      <th>14</th>\n",
       "      <td>Q006</td>\n",
       "      <td>0.312964</td>\n",
       "    </tr>\n",
       "  </tbody>\n",
       "</table>\n",
       "</div>"
      ],
      "text/plain": [
       "             coluna  porcentagem_nan %\n",
       "0          NU_IDADE           0.007177\n",
       "1       TP_COR_RACA           0.312964\n",
       "2   TP_ESTADO_CIVIL           0.312964\n",
       "3   TP_ST_CONCLUSAO           0.000497\n",
       "4        NU_NOTA_CN          26.833242\n",
       "5        NU_NOTA_CH          26.833242\n",
       "6        NU_NOTA_LC          29.613082\n",
       "7        NU_NOTA_MT          29.613082\n",
       "8   NU_NOTA_REDACAO           0.000043\n",
       "9              Q001           0.312964\n",
       "10             Q002           0.312964\n",
       "11             Q003           0.312964\n",
       "12             Q004           0.312964\n",
       "13             Q005           0.312964\n",
       "14             Q006           0.312964"
      ]
     },
     "metadata": {},
     "execution_count": 15
    }
   ],
   "metadata": {}
  },
  {
   "cell_type": "markdown",
   "source": [
    "### Tratamento dos Dados Ausentes"
   ],
   "metadata": {}
  },
  {
   "cell_type": "code",
   "execution_count": 16,
   "source": [
    "enem_2010_without_nan = enem_2010_selected.dropna(subset = ['NU_NOTA_CN', 'NU_NOTA_CH', 'Q001'])"
   ],
   "outputs": [],
   "metadata": {}
  },
  {
   "cell_type": "markdown",
   "source": [
    "## Adicionando Média das Notas"
   ],
   "metadata": {}
  },
  {
   "cell_type": "markdown",
   "source": [
    "Pesquisa com Base curso de Medicina na USP\r\n",
    "\r\n",
    "https://www.sisu.pro.br/sisu/sisu-2021-usp-2.html#:~:text=Pesos%20para%20Medicina&text=Linguagens%20e%20C%C3%B3digos%3A%202%C3%97,Matem%C3%A1tica%3A%203%C3%97500%20%3D%201.500\r\n",
    "\r\n",
    "* Redação: 2\r\n",
    "* Linguagens e Códigos: 2\r\n",
    "* Ciências Humanas: 2\r\n",
    "* Ciências da Natureza: 4\r\n",
    "* Matemática: 3"
   ],
   "metadata": {}
  },
  {
   "cell_type": "code",
   "execution_count": 17,
   "source": [
    "def mean_med(df):\r\n",
    "    df['MEDIA_MED'] = ( \r\n",
    "        df['NU_NOTA_CN'] * 4 + \r\n",
    "        df['NU_NOTA_CH'] * 2 + \r\n",
    "        df['NU_NOTA_LC'] * 2 + \r\n",
    "        df['NU_NOTA_MT'] * 3 + \r\n",
    "        df['NU_NOTA_REDACAO'] * 2\r\n",
    "    ) / (4+2+2+3+2)"
   ],
   "outputs": [],
   "metadata": {}
  },
  {
   "cell_type": "code",
   "execution_count": 18,
   "source": [
    "mean_med(enem_2010_without_nan)"
   ],
   "outputs": [],
   "metadata": {}
  },
  {
   "cell_type": "markdown",
   "source": [
    "Pesquisa com Base curso de Administração na Unicentro Paraná\r\n",
    "\r\n",
    "https://www3.unicentro.br/vestibular/sisu/cursos-e-pesos/\r\n",
    "\r\n",
    "\r\n",
    "* Redação: 1\r\n",
    "* Linguagens e Códigos: 2\r\n",
    "* Ciências Humanas: 2\r\n",
    "* Ciências da Natureza: 2\r\n",
    "* Matemática: 3"
   ],
   "metadata": {}
  },
  {
   "cell_type": "code",
   "execution_count": 19,
   "source": [
    "def mean_adm(df):\r\n",
    "    df['MEDIA_ADM'] = ( \r\n",
    "        df['NU_NOTA_CN'] * 2 + \r\n",
    "        df['NU_NOTA_CH'] * 2 + \r\n",
    "        df['NU_NOTA_LC'] * 2 + \r\n",
    "        df['NU_NOTA_MT'] * 3 + \r\n",
    "        df['NU_NOTA_REDACAO'] * 1\r\n",
    "    ) / (2+2+2+3+1)"
   ],
   "outputs": [],
   "metadata": {}
  },
  {
   "cell_type": "code",
   "execution_count": 20,
   "source": [
    "mean_adm(enem_2010_without_nan)"
   ],
   "outputs": [],
   "metadata": {}
  },
  {
   "cell_type": "markdown",
   "source": [
    "## Análise dos Agrupamentos"
   ],
   "metadata": {}
  },
  {
   "cell_type": "code",
   "execution_count": 21,
   "source": [
    "enem_2010_without_nan.columns"
   ],
   "outputs": [
    {
     "output_type": "execute_result",
     "data": {
      "text/plain": [
       "Index(['NU_IDADE', 'TP_COR_RACA', 'TP_ESTADO_CIVIL', 'TP_SEXO',\n",
       "       'TP_ST_CONCLUSAO', 'NU_NOTA_CN', 'NU_NOTA_CH', 'NU_NOTA_LC',\n",
       "       'NU_NOTA_MT', 'NU_NOTA_REDACAO', 'Q001', 'Q002', 'Q003', 'Q004', 'Q005',\n",
       "       'Q006', 'MEDIA_MED', 'MEDIA_ADM'],\n",
       "      dtype='object')"
      ]
     },
     "metadata": {},
     "execution_count": 21
    }
   ],
   "metadata": {}
  },
  {
   "cell_type": "markdown",
   "source": [
    "#### Media por Raça"
   ],
   "metadata": {}
  },
  {
   "cell_type": "code",
   "execution_count": 22,
   "source": [
    "enem_group_raca_media = enem_2010_without_nan[['TP_COR_RACA', 'MEDIA_MED', 'MEDIA_ADM']].groupby(['TP_COR_RACA']).mean()"
   ],
   "outputs": [],
   "metadata": {}
  },
  {
   "cell_type": "code",
   "execution_count": 23,
   "source": [
    "enem_group_raca_media = enem_group_raca_media.reset_index()"
   ],
   "outputs": [],
   "metadata": {}
  },
  {
   "cell_type": "code",
   "execution_count": 24,
   "source": [
    "legenda_raca = {\r\n",
    "0 : 'Não declarado',\r\n",
    "1 : 'Branca',\r\n",
    "2 : 'Preta',\r\n",
    "3 : 'Parda',\r\n",
    "4 : 'Amarela',\r\n",
    "5 : 'Indígena',\r\n",
    "6 : 'Não dispõe da informação'\r\n",
    "}"
   ],
   "outputs": [],
   "metadata": {}
  },
  {
   "cell_type": "code",
   "execution_count": 25,
   "source": [
    "enem_group_raca_media['TP_COR_RACA'] = enem_group_raca_media['TP_COR_RACA'].map(legenda_raca)"
   ],
   "outputs": [],
   "metadata": {}
  },
  {
   "cell_type": "code",
   "execution_count": 26,
   "source": [
    "enem_group_raca_media.sort_values(by=['MEDIA_MED'])"
   ],
   "outputs": [
    {
     "output_type": "execute_result",
     "data": {
      "text/html": [
       "<div>\n",
       "<style scoped>\n",
       "    .dataframe tbody tr th:only-of-type {\n",
       "        vertical-align: middle;\n",
       "    }\n",
       "\n",
       "    .dataframe tbody tr th {\n",
       "        vertical-align: top;\n",
       "    }\n",
       "\n",
       "    .dataframe thead th {\n",
       "        text-align: right;\n",
       "    }\n",
       "</style>\n",
       "<table border=\"1\" class=\"dataframe\">\n",
       "  <thead>\n",
       "    <tr style=\"text-align: right;\">\n",
       "      <th></th>\n",
       "      <th>TP_COR_RACA</th>\n",
       "      <th>MEDIA_MED</th>\n",
       "      <th>MEDIA_ADM</th>\n",
       "    </tr>\n",
       "  </thead>\n",
       "  <tbody>\n",
       "    <tr>\n",
       "      <th>2</th>\n",
       "      <td>Indígena</td>\n",
       "      <td>485.826216</td>\n",
       "      <td>485.648034</td>\n",
       "    </tr>\n",
       "    <tr>\n",
       "      <th>4</th>\n",
       "      <td>Preta</td>\n",
       "      <td>500.121334</td>\n",
       "      <td>500.060448</td>\n",
       "    </tr>\n",
       "    <tr>\n",
       "      <th>1</th>\n",
       "      <td>Parda</td>\n",
       "      <td>502.880740</td>\n",
       "      <td>502.513200</td>\n",
       "    </tr>\n",
       "    <tr>\n",
       "      <th>5</th>\n",
       "      <td>Não declarado</td>\n",
       "      <td>519.885988</td>\n",
       "      <td>520.912193</td>\n",
       "    </tr>\n",
       "    <tr>\n",
       "      <th>3</th>\n",
       "      <td>Amarela</td>\n",
       "      <td>527.673313</td>\n",
       "      <td>528.430729</td>\n",
       "    </tr>\n",
       "    <tr>\n",
       "      <th>0</th>\n",
       "      <td>Branca</td>\n",
       "      <td>534.408718</td>\n",
       "      <td>535.722069</td>\n",
       "    </tr>\n",
       "  </tbody>\n",
       "</table>\n",
       "</div>"
      ],
      "text/plain": [
       "     TP_COR_RACA   MEDIA_MED   MEDIA_ADM\n",
       "2       Indígena  485.826216  485.648034\n",
       "4          Preta  500.121334  500.060448\n",
       "1          Parda  502.880740  502.513200\n",
       "5  Não declarado  519.885988  520.912193\n",
       "3        Amarela  527.673313  528.430729\n",
       "0         Branca  534.408718  535.722069"
      ]
     },
     "metadata": {},
     "execution_count": 26
    }
   ],
   "metadata": {}
  },
  {
   "cell_type": "markdown",
   "source": [
    "#### Media por Renda"
   ],
   "metadata": {}
  },
  {
   "cell_type": "code",
   "execution_count": 27,
   "source": [
    "legenda_renda = {\r\n",
    "'A':'Nenhuma Renda',\r\n",
    "'B':'Até R$ 1.045,00',\r\n",
    "'C':'De R$ 1.045,01 até R$ 1.567,50',\r\n",
    "'D':'De R$ 1.567,51 até R$ 2.090,00',\r\n",
    "'E':'De R$ 2.090,01 até R$ 2.612,50',\r\n",
    "'F':'De R$ 2.612,51 até R$ 3.135,00',\r\n",
    "'G':'De R$ 3.135,01 até R$ 4.180,00',\r\n",
    "'H':'De R$ 4.180,01 até R$ 5.225,00',\r\n",
    "'I':'De R$ 5.225,01 até R$ 6.270,00',\r\n",
    "'J':'De R$ 6.270,01 até R$ 7.315,00',\r\n",
    "'K':'De R$ 7.315,01 até R$ 8.360,00',\r\n",
    "'L':'De R$ 8.360,01 até R$ 9.405,00',\r\n",
    "'M':'De R$ 9.405,01 até R$ 10.450,00',\r\n",
    "'N':'De R$ 10.450,01 até R$ 12.540,00',\r\n",
    "'O':'De R$ 12.540,01 até R$ 15.675,00',\r\n",
    "'P':'De R$ 15.675,01 até R$ 20.900,00',\r\n",
    "'Q':'Acima de R$ 20.900,00'\r\n",
    "}"
   ],
   "outputs": [],
   "metadata": {}
  },
  {
   "cell_type": "code",
   "execution_count": 28,
   "source": [
    "enem_group_renda_media = enem_2010_without_nan[['Q006', 'MEDIA_MED', 'MEDIA_ADM']].groupby(['Q006']).mean()"
   ],
   "outputs": [],
   "metadata": {}
  },
  {
   "cell_type": "code",
   "execution_count": 29,
   "source": [
    "enem_group_renda_media = enem_group_renda_media.reset_index()"
   ],
   "outputs": [],
   "metadata": {}
  },
  {
   "cell_type": "code",
   "execution_count": 30,
   "source": [
    "enem_group_renda_media['Q006'] = enem_group_renda_media['Q006'].map(legenda_renda)"
   ],
   "outputs": [],
   "metadata": {}
  },
  {
   "cell_type": "code",
   "execution_count": 31,
   "source": [
    "enem_group_renda_media.rename(columns={'Q006': 'Faixa Renda'}, inplace=True)"
   ],
   "outputs": [],
   "metadata": {}
  },
  {
   "cell_type": "code",
   "execution_count": 32,
   "source": [
    "enem_group_renda_media.sort_values(by=['MEDIA_MED'])"
   ],
   "outputs": [
    {
     "output_type": "execute_result",
     "data": {
      "text/html": [
       "<div>\n",
       "<style scoped>\n",
       "    .dataframe tbody tr th:only-of-type {\n",
       "        vertical-align: middle;\n",
       "    }\n",
       "\n",
       "    .dataframe tbody tr th {\n",
       "        vertical-align: top;\n",
       "    }\n",
       "\n",
       "    .dataframe thead th {\n",
       "        text-align: right;\n",
       "    }\n",
       "</style>\n",
       "<table border=\"1\" class=\"dataframe\">\n",
       "  <thead>\n",
       "    <tr style=\"text-align: right;\">\n",
       "      <th></th>\n",
       "      <th>Faixa Renda</th>\n",
       "      <th>MEDIA_MED</th>\n",
       "      <th>MEDIA_ADM</th>\n",
       "    </tr>\n",
       "  </thead>\n",
       "  <tbody>\n",
       "    <tr>\n",
       "      <th>1</th>\n",
       "      <td>De R$ 1.045,01 até R$ 1.567,50</td>\n",
       "      <td>511.890818</td>\n",
       "      <td>512.528728</td>\n",
       "    </tr>\n",
       "    <tr>\n",
       "      <th>2</th>\n",
       "      <td>Nenhuma Renda</td>\n",
       "      <td>517.763258</td>\n",
       "      <td>518.162759</td>\n",
       "    </tr>\n",
       "    <tr>\n",
       "      <th>0</th>\n",
       "      <td>Até R$ 1.045,00</td>\n",
       "      <td>519.790803</td>\n",
       "      <td>520.500253</td>\n",
       "    </tr>\n",
       "  </tbody>\n",
       "</table>\n",
       "</div>"
      ],
      "text/plain": [
       "                      Faixa Renda   MEDIA_MED   MEDIA_ADM\n",
       "1  De R$ 1.045,01 até R$ 1.567,50  511.890818  512.528728\n",
       "2                   Nenhuma Renda  517.763258  518.162759\n",
       "0                 Até R$ 1.045,00  519.790803  520.500253"
      ]
     },
     "metadata": {},
     "execution_count": 32
    }
   ],
   "metadata": {}
  },
  {
   "cell_type": "markdown",
   "source": [
    "#### Media por Renda e por Raça"
   ],
   "metadata": {}
  },
  {
   "cell_type": "code",
   "execution_count": 33,
   "source": [
    "enem_group_renda_raca_media = enem_2010_without_nan[['Q006', 'TP_COR_RACA', 'MEDIA_MED', 'MEDIA_ADM']].groupby(['Q006', 'TP_COR_RACA']).mean()"
   ],
   "outputs": [],
   "metadata": {}
  },
  {
   "cell_type": "code",
   "execution_count": 34,
   "source": [
    "enem_group_renda_raca_media = enem_group_renda_raca_media.reset_index()"
   ],
   "outputs": [],
   "metadata": {}
  },
  {
   "cell_type": "code",
   "execution_count": 35,
   "source": [
    "enem_group_renda_raca_media['Q006'] = enem_group_renda_raca_media['Q006'].map(legenda_renda)\r\n",
    "enem_group_renda_raca_media['TP_COR_RACA'] = enem_group_renda_raca_media['TP_COR_RACA'].map(legenda_raca)"
   ],
   "outputs": [],
   "metadata": {}
  },
  {
   "cell_type": "code",
   "execution_count": 36,
   "source": [
    "enem_group_renda_raca_media.rename(columns={'Q006': 'Faixa Renda'}, inplace=True)"
   ],
   "outputs": [],
   "metadata": {}
  },
  {
   "cell_type": "code",
   "execution_count": 37,
   "source": [
    "enem_group_renda_raca_media.sort_values(by=['MEDIA_MED'])"
   ],
   "outputs": [
    {
     "output_type": "execute_result",
     "data": {
      "text/html": [
       "<div>\n",
       "<style scoped>\n",
       "    .dataframe tbody tr th:only-of-type {\n",
       "        vertical-align: middle;\n",
       "    }\n",
       "\n",
       "    .dataframe tbody tr th {\n",
       "        vertical-align: top;\n",
       "    }\n",
       "\n",
       "    .dataframe thead th {\n",
       "        text-align: right;\n",
       "    }\n",
       "</style>\n",
       "<table border=\"1\" class=\"dataframe\">\n",
       "  <thead>\n",
       "    <tr style=\"text-align: right;\">\n",
       "      <th></th>\n",
       "      <th>Faixa Renda</th>\n",
       "      <th>TP_COR_RACA</th>\n",
       "      <th>MEDIA_MED</th>\n",
       "      <th>MEDIA_ADM</th>\n",
       "    </tr>\n",
       "  </thead>\n",
       "  <tbody>\n",
       "    <tr>\n",
       "      <th>4</th>\n",
       "      <td>Nenhuma Renda</td>\n",
       "      <td>Indígena</td>\n",
       "      <td>483.173717</td>\n",
       "      <td>482.838576</td>\n",
       "    </tr>\n",
       "    <tr>\n",
       "      <th>17</th>\n",
       "      <td>De R$ 1.045,01 até R$ 1.567,50</td>\n",
       "      <td>Indígena</td>\n",
       "      <td>488.823337</td>\n",
       "      <td>489.297794</td>\n",
       "    </tr>\n",
       "    <tr>\n",
       "      <th>0</th>\n",
       "      <td>Até R$ 1.045,00</td>\n",
       "      <td>Indígena</td>\n",
       "      <td>493.263982</td>\n",
       "      <td>493.277440</td>\n",
       "    </tr>\n",
       "    <tr>\n",
       "      <th>7</th>\n",
       "      <td>Nenhuma Renda</td>\n",
       "      <td>Preta</td>\n",
       "      <td>498.923301</td>\n",
       "      <td>498.685575</td>\n",
       "    </tr>\n",
       "    <tr>\n",
       "      <th>3</th>\n",
       "      <td>Nenhuma Renda</td>\n",
       "      <td>Parda</td>\n",
       "      <td>501.496136</td>\n",
       "      <td>500.963015</td>\n",
       "    </tr>\n",
       "    <tr>\n",
       "      <th>11</th>\n",
       "      <td>De R$ 1.045,01 até R$ 1.567,50</td>\n",
       "      <td>Preta</td>\n",
       "      <td>501.732292</td>\n",
       "      <td>502.141412</td>\n",
       "    </tr>\n",
       "    <tr>\n",
       "      <th>1</th>\n",
       "      <td>De R$ 1.045,01 até R$ 1.567,50</td>\n",
       "      <td>Parda</td>\n",
       "      <td>503.642645</td>\n",
       "      <td>503.712205</td>\n",
       "    </tr>\n",
       "    <tr>\n",
       "      <th>16</th>\n",
       "      <td>Até R$ 1.045,00</td>\n",
       "      <td>Preta</td>\n",
       "      <td>503.686218</td>\n",
       "      <td>504.003098</td>\n",
       "    </tr>\n",
       "    <tr>\n",
       "      <th>10</th>\n",
       "      <td>Até R$ 1.045,00</td>\n",
       "      <td>Parda</td>\n",
       "      <td>507.837663</td>\n",
       "      <td>507.856380</td>\n",
       "    </tr>\n",
       "    <tr>\n",
       "      <th>15</th>\n",
       "      <td>De R$ 1.045,01 até R$ 1.567,50</td>\n",
       "      <td>Amarela</td>\n",
       "      <td>516.086655</td>\n",
       "      <td>516.379251</td>\n",
       "    </tr>\n",
       "    <tr>\n",
       "      <th>14</th>\n",
       "      <td>De R$ 1.045,01 até R$ 1.567,50</td>\n",
       "      <td>Não declarado</td>\n",
       "      <td>516.184218</td>\n",
       "      <td>517.309140</td>\n",
       "    </tr>\n",
       "    <tr>\n",
       "      <th>5</th>\n",
       "      <td>Nenhuma Renda</td>\n",
       "      <td>Não declarado</td>\n",
       "      <td>519.229185</td>\n",
       "      <td>520.103792</td>\n",
       "    </tr>\n",
       "    <tr>\n",
       "      <th>8</th>\n",
       "      <td>De R$ 1.045,01 até R$ 1.567,50</td>\n",
       "      <td>Branca</td>\n",
       "      <td>522.697225</td>\n",
       "      <td>523.931018</td>\n",
       "    </tr>\n",
       "    <tr>\n",
       "      <th>13</th>\n",
       "      <td>Até R$ 1.045,00</td>\n",
       "      <td>Amarela</td>\n",
       "      <td>524.193658</td>\n",
       "      <td>524.795032</td>\n",
       "    </tr>\n",
       "    <tr>\n",
       "      <th>2</th>\n",
       "      <td>Até R$ 1.045,00</td>\n",
       "      <td>Não declarado</td>\n",
       "      <td>524.255068</td>\n",
       "      <td>525.772563</td>\n",
       "    </tr>\n",
       "    <tr>\n",
       "      <th>12</th>\n",
       "      <td>Nenhuma Renda</td>\n",
       "      <td>Amarela</td>\n",
       "      <td>530.154853</td>\n",
       "      <td>531.016320</td>\n",
       "    </tr>\n",
       "    <tr>\n",
       "      <th>9</th>\n",
       "      <td>Até R$ 1.045,00</td>\n",
       "      <td>Branca</td>\n",
       "      <td>533.137055</td>\n",
       "      <td>534.455684</td>\n",
       "    </tr>\n",
       "    <tr>\n",
       "      <th>6</th>\n",
       "      <td>Nenhuma Renda</td>\n",
       "      <td>Branca</td>\n",
       "      <td>536.377005</td>\n",
       "      <td>537.699902</td>\n",
       "    </tr>\n",
       "  </tbody>\n",
       "</table>\n",
       "</div>"
      ],
      "text/plain": [
       "                       Faixa Renda    TP_COR_RACA   MEDIA_MED   MEDIA_ADM\n",
       "4                    Nenhuma Renda       Indígena  483.173717  482.838576\n",
       "17  De R$ 1.045,01 até R$ 1.567,50       Indígena  488.823337  489.297794\n",
       "0                  Até R$ 1.045,00       Indígena  493.263982  493.277440\n",
       "7                    Nenhuma Renda          Preta  498.923301  498.685575\n",
       "3                    Nenhuma Renda          Parda  501.496136  500.963015\n",
       "11  De R$ 1.045,01 até R$ 1.567,50          Preta  501.732292  502.141412\n",
       "1   De R$ 1.045,01 até R$ 1.567,50          Parda  503.642645  503.712205\n",
       "16                 Até R$ 1.045,00          Preta  503.686218  504.003098\n",
       "10                 Até R$ 1.045,00          Parda  507.837663  507.856380\n",
       "15  De R$ 1.045,01 até R$ 1.567,50        Amarela  516.086655  516.379251\n",
       "14  De R$ 1.045,01 até R$ 1.567,50  Não declarado  516.184218  517.309140\n",
       "5                    Nenhuma Renda  Não declarado  519.229185  520.103792\n",
       "8   De R$ 1.045,01 até R$ 1.567,50         Branca  522.697225  523.931018\n",
       "13                 Até R$ 1.045,00        Amarela  524.193658  524.795032\n",
       "2                  Até R$ 1.045,00  Não declarado  524.255068  525.772563\n",
       "12                   Nenhuma Renda        Amarela  530.154853  531.016320\n",
       "9                  Até R$ 1.045,00         Branca  533.137055  534.455684\n",
       "6                    Nenhuma Renda         Branca  536.377005  537.699902"
      ]
     },
     "metadata": {},
     "execution_count": 37
    }
   ],
   "metadata": {}
  },
  {
   "cell_type": "markdown",
   "source": [
    "#### Quantidade por Raça"
   ],
   "metadata": {}
  },
  {
   "cell_type": "code",
   "execution_count": 38,
   "source": [
    "enem_group_raca_quant = enem_2010_without_nan[['TP_COR_RACA', 'MEDIA_MED']].groupby(['TP_COR_RACA']).count()"
   ],
   "outputs": [],
   "metadata": {}
  },
  {
   "cell_type": "code",
   "execution_count": 39,
   "source": [
    "enem_group_raca_quant = enem_group_raca_quant.reset_index()"
   ],
   "outputs": [],
   "metadata": {}
  },
  {
   "cell_type": "code",
   "execution_count": 40,
   "source": [
    "enem_group_raca_quant['TP_COR_RACA'] = enem_group_raca_quant['TP_COR_RACA'].map(legenda_raca)"
   ],
   "outputs": [],
   "metadata": {}
  },
  {
   "cell_type": "code",
   "execution_count": 41,
   "source": [
    "enem_group_raca_quant.sort_values(by=['MEDIA_MED'])"
   ],
   "outputs": [
    {
     "output_type": "execute_result",
     "data": {
      "text/html": [
       "<div>\n",
       "<style scoped>\n",
       "    .dataframe tbody tr th:only-of-type {\n",
       "        vertical-align: middle;\n",
       "    }\n",
       "\n",
       "    .dataframe tbody tr th {\n",
       "        vertical-align: top;\n",
       "    }\n",
       "\n",
       "    .dataframe thead th {\n",
       "        text-align: right;\n",
       "    }\n",
       "</style>\n",
       "<table border=\"1\" class=\"dataframe\">\n",
       "  <thead>\n",
       "    <tr style=\"text-align: right;\">\n",
       "      <th></th>\n",
       "      <th>TP_COR_RACA</th>\n",
       "      <th>MEDIA_MED</th>\n",
       "    </tr>\n",
       "  </thead>\n",
       "  <tbody>\n",
       "    <tr>\n",
       "      <th>2</th>\n",
       "      <td>Indígena</td>\n",
       "      <td>20590</td>\n",
       "    </tr>\n",
       "    <tr>\n",
       "      <th>3</th>\n",
       "      <td>Amarela</td>\n",
       "      <td>71218</td>\n",
       "    </tr>\n",
       "    <tr>\n",
       "      <th>5</th>\n",
       "      <td>Não declarado</td>\n",
       "      <td>104761</td>\n",
       "    </tr>\n",
       "    <tr>\n",
       "      <th>4</th>\n",
       "      <td>Preta</td>\n",
       "      <td>360968</td>\n",
       "    </tr>\n",
       "    <tr>\n",
       "      <th>1</th>\n",
       "      <td>Parda</td>\n",
       "      <td>1243402</td>\n",
       "    </tr>\n",
       "    <tr>\n",
       "      <th>0</th>\n",
       "      <td>Branca</td>\n",
       "      <td>1433284</td>\n",
       "    </tr>\n",
       "  </tbody>\n",
       "</table>\n",
       "</div>"
      ],
      "text/plain": [
       "     TP_COR_RACA  MEDIA_MED\n",
       "2       Indígena      20590\n",
       "3        Amarela      71218\n",
       "5  Não declarado     104761\n",
       "4          Preta     360968\n",
       "1          Parda    1243402\n",
       "0         Branca    1433284"
      ]
     },
     "metadata": {},
     "execution_count": 41
    }
   ],
   "metadata": {}
  },
  {
   "cell_type": "markdown",
   "source": [
    "#### Quantidade por Renda e Raça"
   ],
   "metadata": {}
  },
  {
   "cell_type": "code",
   "execution_count": 42,
   "source": [
    "enem_group_raca_renda_quant = enem_2010_without_nan[['TP_COR_RACA', 'Q006', 'MEDIA_MED']].groupby(['TP_COR_RACA', 'Q006']).count()"
   ],
   "outputs": [],
   "metadata": {}
  },
  {
   "cell_type": "code",
   "execution_count": 43,
   "source": [
    "enem_group_raca_renda_quant = enem_group_raca_renda_quant.reset_index()"
   ],
   "outputs": [],
   "metadata": {}
  },
  {
   "cell_type": "code",
   "execution_count": 44,
   "source": [
    "enem_group_raca_renda_quant['TP_COR_RACA'] = enem_group_raca_renda_quant['TP_COR_RACA'].map(legenda_raca)\r\n",
    "enem_group_raca_renda_quant['Q006'] = enem_group_raca_renda_quant['Q006'].map(legenda_renda)"
   ],
   "outputs": [],
   "metadata": {}
  },
  {
   "cell_type": "code",
   "execution_count": 45,
   "source": [
    "enem_group_raca_renda_quant.sort_values(by=['MEDIA_MED'])"
   ],
   "outputs": [
    {
     "output_type": "execute_result",
     "data": {
      "text/html": [
       "<div>\n",
       "<style scoped>\n",
       "    .dataframe tbody tr th:only-of-type {\n",
       "        vertical-align: middle;\n",
       "    }\n",
       "\n",
       "    .dataframe tbody tr th {\n",
       "        vertical-align: top;\n",
       "    }\n",
       "\n",
       "    .dataframe thead th {\n",
       "        text-align: right;\n",
       "    }\n",
       "</style>\n",
       "<table border=\"1\" class=\"dataframe\">\n",
       "  <thead>\n",
       "    <tr style=\"text-align: right;\">\n",
       "      <th></th>\n",
       "      <th>TP_COR_RACA</th>\n",
       "      <th>Q006</th>\n",
       "      <th>MEDIA_MED</th>\n",
       "    </tr>\n",
       "  </thead>\n",
       "  <tbody>\n",
       "    <tr>\n",
       "      <th>14</th>\n",
       "      <td>Indígena</td>\n",
       "      <td>De R$ 1.045,01 até R$ 1.567,50</td>\n",
       "      <td>2189</td>\n",
       "    </tr>\n",
       "    <tr>\n",
       "      <th>13</th>\n",
       "      <td>Indígena</td>\n",
       "      <td>Até R$ 1.045,00</td>\n",
       "      <td>4187</td>\n",
       "    </tr>\n",
       "    <tr>\n",
       "      <th>17</th>\n",
       "      <td>Amarela</td>\n",
       "      <td>De R$ 1.045,01 até R$ 1.567,50</td>\n",
       "      <td>6689</td>\n",
       "    </tr>\n",
       "    <tr>\n",
       "      <th>4</th>\n",
       "      <td>Não declarado</td>\n",
       "      <td>De R$ 1.045,01 até R$ 1.567,50</td>\n",
       "      <td>11066</td>\n",
       "    </tr>\n",
       "    <tr>\n",
       "      <th>7</th>\n",
       "      <td>Amarela</td>\n",
       "      <td>Até R$ 1.045,00</td>\n",
       "      <td>13861</td>\n",
       "    </tr>\n",
       "    <tr>\n",
       "      <th>15</th>\n",
       "      <td>Indígena</td>\n",
       "      <td>Nenhuma Renda</td>\n",
       "      <td>14214</td>\n",
       "    </tr>\n",
       "    <tr>\n",
       "      <th>6</th>\n",
       "      <td>Não declarado</td>\n",
       "      <td>Até R$ 1.045,00</td>\n",
       "      <td>20395</td>\n",
       "    </tr>\n",
       "    <tr>\n",
       "      <th>1</th>\n",
       "      <td>Preta</td>\n",
       "      <td>De R$ 1.045,01 até R$ 1.567,50</td>\n",
       "      <td>42150</td>\n",
       "    </tr>\n",
       "    <tr>\n",
       "      <th>16</th>\n",
       "      <td>Amarela</td>\n",
       "      <td>Nenhuma Renda</td>\n",
       "      <td>50668</td>\n",
       "    </tr>\n",
       "    <tr>\n",
       "      <th>9</th>\n",
       "      <td>Preta</td>\n",
       "      <td>Até R$ 1.045,00</td>\n",
       "      <td>65937</td>\n",
       "    </tr>\n",
       "    <tr>\n",
       "      <th>12</th>\n",
       "      <td>Não declarado</td>\n",
       "      <td>Nenhuma Renda</td>\n",
       "      <td>73300</td>\n",
       "    </tr>\n",
       "    <tr>\n",
       "      <th>0</th>\n",
       "      <td>Parda</td>\n",
       "      <td>De R$ 1.045,01 até R$ 1.567,50</td>\n",
       "      <td>134814</td>\n",
       "    </tr>\n",
       "    <tr>\n",
       "      <th>8</th>\n",
       "      <td>Branca</td>\n",
       "      <td>De R$ 1.045,01 até R$ 1.567,50</td>\n",
       "      <td>140201</td>\n",
       "    </tr>\n",
       "    <tr>\n",
       "      <th>10</th>\n",
       "      <td>Parda</td>\n",
       "      <td>Até R$ 1.045,00</td>\n",
       "      <td>225851</td>\n",
       "    </tr>\n",
       "    <tr>\n",
       "      <th>5</th>\n",
       "      <td>Preta</td>\n",
       "      <td>Nenhuma Renda</td>\n",
       "      <td>252881</td>\n",
       "    </tr>\n",
       "    <tr>\n",
       "      <th>11</th>\n",
       "      <td>Branca</td>\n",
       "      <td>Até R$ 1.045,00</td>\n",
       "      <td>278768</td>\n",
       "    </tr>\n",
       "    <tr>\n",
       "      <th>3</th>\n",
       "      <td>Parda</td>\n",
       "      <td>Nenhuma Renda</td>\n",
       "      <td>882737</td>\n",
       "    </tr>\n",
       "    <tr>\n",
       "      <th>2</th>\n",
       "      <td>Branca</td>\n",
       "      <td>Nenhuma Renda</td>\n",
       "      <td>1014315</td>\n",
       "    </tr>\n",
       "  </tbody>\n",
       "</table>\n",
       "</div>"
      ],
      "text/plain": [
       "      TP_COR_RACA                            Q006  MEDIA_MED\n",
       "14       Indígena  De R$ 1.045,01 até R$ 1.567,50       2189\n",
       "13       Indígena                 Até R$ 1.045,00       4187\n",
       "17        Amarela  De R$ 1.045,01 até R$ 1.567,50       6689\n",
       "4   Não declarado  De R$ 1.045,01 até R$ 1.567,50      11066\n",
       "7         Amarela                 Até R$ 1.045,00      13861\n",
       "15       Indígena                   Nenhuma Renda      14214\n",
       "6   Não declarado                 Até R$ 1.045,00      20395\n",
       "1           Preta  De R$ 1.045,01 até R$ 1.567,50      42150\n",
       "16        Amarela                   Nenhuma Renda      50668\n",
       "9           Preta                 Até R$ 1.045,00      65937\n",
       "12  Não declarado                   Nenhuma Renda      73300\n",
       "0           Parda  De R$ 1.045,01 até R$ 1.567,50     134814\n",
       "8          Branca  De R$ 1.045,01 até R$ 1.567,50     140201\n",
       "10          Parda                 Até R$ 1.045,00     225851\n",
       "5           Preta                   Nenhuma Renda     252881\n",
       "11         Branca                 Até R$ 1.045,00     278768\n",
       "3           Parda                   Nenhuma Renda     882737\n",
       "2          Branca                   Nenhuma Renda    1014315"
      ]
     },
     "metadata": {},
     "execution_count": 45
    }
   ],
   "metadata": {}
  }
 ],
 "metadata": {
  "orig_nbformat": 4,
  "language_info": {
   "name": "python",
   "version": "3.9.7",
   "mimetype": "text/x-python",
   "codemirror_mode": {
    "name": "ipython",
    "version": 3
   },
   "pygments_lexer": "ipython3",
   "nbconvert_exporter": "python",
   "file_extension": ".py"
  },
  "kernelspec": {
   "name": "python3",
   "display_name": "Python 3.9.7 64-bit"
  },
  "interpreter": {
   "hash": "d716d3087447d732d408563f09e95056395e35756340cb54fdc49b8a8ffe1616"
  }
 },
 "nbformat": 4,
 "nbformat_minor": 2
}