{
 "cells": [
  {
   "cell_type": "markdown",
   "source": [
    "# Big Data com PySpark"
   ],
   "metadata": {}
  },
  {
   "cell_type": "markdown",
   "source": [
    "## Configurações Iniciais"
   ],
   "metadata": {}
  },
  {
   "cell_type": "code",
   "execution_count": 1,
   "source": [
    "import os\r\n",
    "\r\n",
    "os.environ[\"SPARK_HOME\"] = \"D:\\spark\\spark-3.2.1-bin-hadoop3.2\"\r\n",
    "os.environ['HADOOP_HOME'] = \"D:\\spark\\spark-3.2.1-bin-hadoop3.2\\hadoop\" "
   ],
   "outputs": [],
   "metadata": {}
  },
  {
   "cell_type": "code",
   "execution_count": 2,
   "source": [
    "import findspark\r\n",
    "findspark.init()"
   ],
   "outputs": [],
   "metadata": {}
  },
  {
   "cell_type": "code",
   "execution_count": 3,
   "source": [
    "from pyspark.sql import SparkSession\r\n",
    "\r\n",
    "import pyspark.sql as py"
   ],
   "outputs": [],
   "metadata": {}
  },
  {
   "cell_type": "code",
   "execution_count": 4,
   "source": [
    "spark = SparkSession.builder.master('local[*]').getOrCreate()"
   ],
   "outputs": [],
   "metadata": {}
  },
  {
   "cell_type": "code",
   "execution_count": 5,
   "source": [
    "spark"
   ],
   "outputs": [
    {
     "output_type": "execute_result",
     "data": {
      "text/html": [
       "\n",
       "            <div>\n",
       "                <p><b>SparkSession - in-memory</b></p>\n",
       "                \n",
       "        <div>\n",
       "            <p><b>SparkContext</b></p>\n",
       "\n",
       "            <p><a href=\"http://host.docker.internal:4040\">Spark UI</a></p>\n",
       "\n",
       "            <dl>\n",
       "              <dt>Version</dt>\n",
       "                <dd><code>v3.2.1</code></dd>\n",
       "              <dt>Master</dt>\n",
       "                <dd><code>local[*]</code></dd>\n",
       "              <dt>AppName</dt>\n",
       "                <dd><code>pyspark-shell</code></dd>\n",
       "            </dl>\n",
       "        </div>\n",
       "        \n",
       "            </div>\n",
       "        "
      ],
      "text/plain": [
       "<pyspark.sql.session.SparkSession at 0x278d3c8de80>"
      ]
     },
     "metadata": {},
     "execution_count": 5
    }
   ],
   "metadata": {}
  },
  {
   "cell_type": "markdown",
   "source": [
    "## PySpark read CSV"
   ],
   "metadata": {}
  },
  {
   "cell_type": "code",
   "execution_count": 6,
   "source": [
    "enem_2019 = spark.read.csv(r\"D:\\DESKTOP\\Documents\\TCC\\base_dados\\enem\\microdados_enem2019\\DADOS\\MICRODADOS_ENEM_2019.csv\", sep=';', inferSchema=True, header=True)"
   ],
   "outputs": [],
   "metadata": {}
  },
  {
   "cell_type": "code",
   "execution_count": 7,
   "source": [
    "total_dados = enem_2019.count()\r\n",
    "\r\n",
    "total_dados"
   ],
   "outputs": [
    {
     "output_type": "execute_result",
     "data": {
      "text/plain": [
       "5095270"
      ]
     },
     "metadata": {},
     "execution_count": 7
    }
   ],
   "metadata": {}
  },
  {
   "cell_type": "code",
   "execution_count": 8,
   "source": [
    "columns=['NU_ANO', 'NU_IDADE', 'TP_COR_RACA', 'TP_ESTADO_CIVIL', 'TP_NACIONALIDADE','TP_SEXO', 'NO_MUNICIPIO_RESIDENCIA', 'SG_UF_RESIDENCIA', 'TP_ST_CONCLUSAO', 'TP_ENSINO', 'NU_NOTA_CN', 'NU_NOTA_CH', 'NU_NOTA_LC', 'NU_NOTA_MT', 'NU_NOTA_COMP1', 'NU_NOTA_COMP2', 'NU_NOTA_COMP3', 'NU_NOTA_COMP4', 'NU_NOTA_COMP5', 'NU_NOTA_REDACAO', 'IN_BRAILLE', 'IN_AMPLIADA_18', 'IN_AMPLIADA_24', 'IN_LEDOR', 'IN_ACESSO', 'IN_TRANSCRICAO', 'IN_LIBRAS', 'Q001', 'Q002', 'Q003', 'Q004', 'Q005', 'Q006']"
   ],
   "outputs": [],
   "metadata": {}
  },
  {
   "cell_type": "code",
   "execution_count": 9,
   "source": [
    "enem_2019_selected = enem_2019.select(columns)"
   ],
   "outputs": [],
   "metadata": {}
  },
  {
   "cell_type": "code",
   "execution_count": 10,
   "source": [
    "enem_2019_selected.limit(5).toPandas()"
   ],
   "outputs": [
    {
     "output_type": "execute_result",
     "data": {
      "text/html": [
       "<div>\n",
       "<style scoped>\n",
       "    .dataframe tbody tr th:only-of-type {\n",
       "        vertical-align: middle;\n",
       "    }\n",
       "\n",
       "    .dataframe tbody tr th {\n",
       "        vertical-align: top;\n",
       "    }\n",
       "\n",
       "    .dataframe thead th {\n",
       "        text-align: right;\n",
       "    }\n",
       "</style>\n",
       "<table border=\"1\" class=\"dataframe\">\n",
       "  <thead>\n",
       "    <tr style=\"text-align: right;\">\n",
       "      <th></th>\n",
       "      <th>NU_ANO</th>\n",
       "      <th>NU_IDADE</th>\n",
       "      <th>TP_COR_RACA</th>\n",
       "      <th>TP_ESTADO_CIVIL</th>\n",
       "      <th>TP_NACIONALIDADE</th>\n",
       "      <th>TP_SEXO</th>\n",
       "      <th>NO_MUNICIPIO_RESIDENCIA</th>\n",
       "      <th>SG_UF_RESIDENCIA</th>\n",
       "      <th>TP_ST_CONCLUSAO</th>\n",
       "      <th>TP_ENSINO</th>\n",
       "      <th>...</th>\n",
       "      <th>IN_LEDOR</th>\n",
       "      <th>IN_ACESSO</th>\n",
       "      <th>IN_TRANSCRICAO</th>\n",
       "      <th>IN_LIBRAS</th>\n",
       "      <th>Q001</th>\n",
       "      <th>Q002</th>\n",
       "      <th>Q003</th>\n",
       "      <th>Q004</th>\n",
       "      <th>Q005</th>\n",
       "      <th>Q006</th>\n",
       "    </tr>\n",
       "  </thead>\n",
       "  <tbody>\n",
       "    <tr>\n",
       "      <th>0</th>\n",
       "      <td>2019</td>\n",
       "      <td>36</td>\n",
       "      <td>3</td>\n",
       "      <td>1</td>\n",
       "      <td>1</td>\n",
       "      <td>M</td>\n",
       "      <td>Sorocaba</td>\n",
       "      <td>SP</td>\n",
       "      <td>1</td>\n",
       "      <td>NaN</td>\n",
       "      <td>...</td>\n",
       "      <td>0</td>\n",
       "      <td>0</td>\n",
       "      <td>0</td>\n",
       "      <td>0</td>\n",
       "      <td>B</td>\n",
       "      <td>B</td>\n",
       "      <td>A</td>\n",
       "      <td>A</td>\n",
       "      <td>2</td>\n",
       "      <td>A</td>\n",
       "    </tr>\n",
       "    <tr>\n",
       "      <th>1</th>\n",
       "      <td>2019</td>\n",
       "      <td>23</td>\n",
       "      <td>1</td>\n",
       "      <td>1</td>\n",
       "      <td>1</td>\n",
       "      <td>M</td>\n",
       "      <td>Feira de Santana</td>\n",
       "      <td>BA</td>\n",
       "      <td>1</td>\n",
       "      <td>1.0</td>\n",
       "      <td>...</td>\n",
       "      <td>0</td>\n",
       "      <td>0</td>\n",
       "      <td>0</td>\n",
       "      <td>0</td>\n",
       "      <td>C</td>\n",
       "      <td>E</td>\n",
       "      <td>B</td>\n",
       "      <td>B</td>\n",
       "      <td>4</td>\n",
       "      <td>C</td>\n",
       "    </tr>\n",
       "    <tr>\n",
       "      <th>2</th>\n",
       "      <td>2019</td>\n",
       "      <td>39</td>\n",
       "      <td>3</td>\n",
       "      <td>1</td>\n",
       "      <td>1</td>\n",
       "      <td>F</td>\n",
       "      <td>Fortaleza</td>\n",
       "      <td>CE</td>\n",
       "      <td>1</td>\n",
       "      <td>1.0</td>\n",
       "      <td>...</td>\n",
       "      <td>0</td>\n",
       "      <td>0</td>\n",
       "      <td>0</td>\n",
       "      <td>0</td>\n",
       "      <td>E</td>\n",
       "      <td>E</td>\n",
       "      <td>B</td>\n",
       "      <td>C</td>\n",
       "      <td>2</td>\n",
       "      <td>B</td>\n",
       "    </tr>\n",
       "    <tr>\n",
       "      <th>3</th>\n",
       "      <td>2019</td>\n",
       "      <td>25</td>\n",
       "      <td>1</td>\n",
       "      <td>1</td>\n",
       "      <td>1</td>\n",
       "      <td>F</td>\n",
       "      <td>Palmas</td>\n",
       "      <td>TO</td>\n",
       "      <td>1</td>\n",
       "      <td>NaN</td>\n",
       "      <td>...</td>\n",
       "      <td>0</td>\n",
       "      <td>0</td>\n",
       "      <td>0</td>\n",
       "      <td>0</td>\n",
       "      <td>C</td>\n",
       "      <td>E</td>\n",
       "      <td>B</td>\n",
       "      <td>D</td>\n",
       "      <td>4</td>\n",
       "      <td>E</td>\n",
       "    </tr>\n",
       "    <tr>\n",
       "      <th>4</th>\n",
       "      <td>2019</td>\n",
       "      <td>22</td>\n",
       "      <td>1</td>\n",
       "      <td>1</td>\n",
       "      <td>1</td>\n",
       "      <td>F</td>\n",
       "      <td>Contagem</td>\n",
       "      <td>MG</td>\n",
       "      <td>1</td>\n",
       "      <td>1.0</td>\n",
       "      <td>...</td>\n",
       "      <td>0</td>\n",
       "      <td>0</td>\n",
       "      <td>0</td>\n",
       "      <td>0</td>\n",
       "      <td>E</td>\n",
       "      <td>E</td>\n",
       "      <td>C</td>\n",
       "      <td>C</td>\n",
       "      <td>3</td>\n",
       "      <td>G</td>\n",
       "    </tr>\n",
       "  </tbody>\n",
       "</table>\n",
       "<p>5 rows × 33 columns</p>\n",
       "</div>"
      ],
      "text/plain": [
       "   NU_ANO  NU_IDADE  TP_COR_RACA  TP_ESTADO_CIVIL  TP_NACIONALIDADE TP_SEXO  \\\n",
       "0    2019        36            3                1                 1       M   \n",
       "1    2019        23            1                1                 1       M   \n",
       "2    2019        39            3                1                 1       F   \n",
       "3    2019        25            1                1                 1       F   \n",
       "4    2019        22            1                1                 1       F   \n",
       "\n",
       "  NO_MUNICIPIO_RESIDENCIA SG_UF_RESIDENCIA  TP_ST_CONCLUSAO  TP_ENSINO  ...  \\\n",
       "0                Sorocaba               SP                1        NaN  ...   \n",
       "1        Feira de Santana               BA                1        1.0  ...   \n",
       "2               Fortaleza               CE                1        1.0  ...   \n",
       "3                  Palmas               TO                1        NaN  ...   \n",
       "4                Contagem               MG                1        1.0  ...   \n",
       "\n",
       "   IN_LEDOR  IN_ACESSO  IN_TRANSCRICAO  IN_LIBRAS  Q001  Q002  Q003  Q004  \\\n",
       "0         0          0               0          0     B     B     A     A   \n",
       "1         0          0               0          0     C     E     B     B   \n",
       "2         0          0               0          0     E     E     B     C   \n",
       "3         0          0               0          0     C     E     B     D   \n",
       "4         0          0               0          0     E     E     C     C   \n",
       "\n",
       "   Q005  Q006  \n",
       "0     2     A  \n",
       "1     4     C  \n",
       "2     2     B  \n",
       "3     4     E  \n",
       "4     3     G  \n",
       "\n",
       "[5 rows x 33 columns]"
      ]
     },
     "metadata": {},
     "execution_count": 10
    }
   ],
   "metadata": {}
  },
  {
   "cell_type": "markdown",
   "source": [
    "## Verificando Valores NAN"
   ],
   "metadata": {}
  },
  {
   "cell_type": "code",
   "execution_count": 11,
   "source": [
    "from pyspark.sql.functions import col,isnan,when,count"
   ],
   "outputs": [],
   "metadata": {}
  },
  {
   "cell_type": "code",
   "execution_count": 12,
   "source": [
    "nan = enem_2019_selected.select([count(when(isnan(c) | col(c).isNull(), c)).alias(c) for c in enem_2019_selected.columns]).toPandas()"
   ],
   "outputs": [],
   "metadata": {}
  },
  {
   "cell_type": "code",
   "execution_count": 13,
   "source": [
    "import matplotlib.pyplot as plt\r\n",
    "import seaborn as sns\r\n",
    "\r\n",
    "sns.set()"
   ],
   "outputs": [],
   "metadata": {}
  },
  {
   "cell_type": "code",
   "execution_count": 14,
   "source": [
    "nan = nan.T\r\n",
    "\r\n",
    "nan.rename(columns = {0: 'nan_value'}, inplace=True)"
   ],
   "outputs": [],
   "metadata": {}
  },
  {
   "cell_type": "code",
   "execution_count": 15,
   "source": [
    "missing = nan.loc[nan['nan_value'] > 0]"
   ],
   "outputs": [],
   "metadata": {}
  },
  {
   "cell_type": "code",
   "execution_count": 16,
   "source": [
    "missing.sort_values(by='nan_value',inplace = True)"
   ],
   "outputs": [
    {
     "output_type": "stream",
     "name": "stderr",
     "text": [
      "C:\\Users\\DESKTOP\\AppData\\Local\\Programs\\Python\\Python39\\lib\\site-packages\\pandas\\util\\_decorators.py:311: SettingWithCopyWarning: \n",
      "A value is trying to be set on a copy of a slice from a DataFrame\n",
      "\n",
      "See the caveats in the documentation: https://pandas.pydata.org/pandas-docs/stable/user_guide/indexing.html#returning-a-view-versus-a-copy\n",
      "  return func(*args, **kwargs)\n"
     ]
    }
   ],
   "metadata": {}
  },
  {
   "cell_type": "code",
   "execution_count": 17,
   "source": [
    "missing"
   ],
   "outputs": [
    {
     "output_type": "execute_result",
     "data": {
      "text/html": [
       "<div>\n",
       "<style scoped>\n",
       "    .dataframe tbody tr th:only-of-type {\n",
       "        vertical-align: middle;\n",
       "    }\n",
       "\n",
       "    .dataframe tbody tr th {\n",
       "        vertical-align: top;\n",
       "    }\n",
       "\n",
       "    .dataframe thead th {\n",
       "        text-align: right;\n",
       "    }\n",
       "</style>\n",
       "<table border=\"1\" class=\"dataframe\">\n",
       "  <thead>\n",
       "    <tr style=\"text-align: right;\">\n",
       "      <th></th>\n",
       "      <th>nan_value</th>\n",
       "    </tr>\n",
       "  </thead>\n",
       "  <tbody>\n",
       "    <tr>\n",
       "      <th>NU_IDADE</th>\n",
       "      <td>69</td>\n",
       "    </tr>\n",
       "    <tr>\n",
       "      <th>NU_NOTA_CH</th>\n",
       "      <td>1172125</td>\n",
       "    </tr>\n",
       "    <tr>\n",
       "      <th>NU_NOTA_LC</th>\n",
       "      <td>1172125</td>\n",
       "    </tr>\n",
       "    <tr>\n",
       "      <th>NU_NOTA_COMP1</th>\n",
       "      <td>1172126</td>\n",
       "    </tr>\n",
       "    <tr>\n",
       "      <th>NU_NOTA_COMP2</th>\n",
       "      <td>1172126</td>\n",
       "    </tr>\n",
       "    <tr>\n",
       "      <th>NU_NOTA_COMP3</th>\n",
       "      <td>1172126</td>\n",
       "    </tr>\n",
       "    <tr>\n",
       "      <th>NU_NOTA_COMP4</th>\n",
       "      <td>1172126</td>\n",
       "    </tr>\n",
       "    <tr>\n",
       "      <th>NU_NOTA_COMP5</th>\n",
       "      <td>1172126</td>\n",
       "    </tr>\n",
       "    <tr>\n",
       "      <th>NU_NOTA_REDACAO</th>\n",
       "      <td>1172126</td>\n",
       "    </tr>\n",
       "    <tr>\n",
       "      <th>NU_NOTA_CN</th>\n",
       "      <td>1384837</td>\n",
       "    </tr>\n",
       "    <tr>\n",
       "      <th>NU_NOTA_MT</th>\n",
       "      <td>1384837</td>\n",
       "    </tr>\n",
       "    <tr>\n",
       "      <th>TP_ENSINO</th>\n",
       "      <td>2217073</td>\n",
       "    </tr>\n",
       "  </tbody>\n",
       "</table>\n",
       "</div>"
      ],
      "text/plain": [
       "                 nan_value\n",
       "NU_IDADE                69\n",
       "NU_NOTA_CH         1172125\n",
       "NU_NOTA_LC         1172125\n",
       "NU_NOTA_COMP1      1172126\n",
       "NU_NOTA_COMP2      1172126\n",
       "NU_NOTA_COMP3      1172126\n",
       "NU_NOTA_COMP4      1172126\n",
       "NU_NOTA_COMP5      1172126\n",
       "NU_NOTA_REDACAO    1172126\n",
       "NU_NOTA_CN         1384837\n",
       "NU_NOTA_MT         1384837\n",
       "TP_ENSINO          2217073"
      ]
     },
     "metadata": {},
     "execution_count": 17
    }
   ],
   "metadata": {}
  },
  {
   "cell_type": "code",
   "execution_count": 18,
   "source": [
    "fig, ax = plt.subplots(figsize=(12,6))\r\n",
    "\r\n",
    "sns.barplot(x=missing.index, y=missing['nan_value'], ax=ax, data=missing,     \r\n",
    "            palette='RdPu')\r\n",
    "\r\n",
    "ax.set_title(\"Quantidade de Dados Ausentes por Colunas (NAN)\", fontdict={'fontsize':15})\r\n",
    "ax.set_xlabel('Colunas', fontdict={'fontsize':14})\r\n",
    "ax.set_ylabel('Quantidade Valores Nan', fontdict={'fontsize':14})\r\n",
    "\r\n",
    "fig.tight_layout()\r\n",
    "\r\n",
    "ax.tick_params(labelsize=12)\r\n",
    "\r\n",
    "for tick in ax.get_xticklabels():\r\n",
    "    tick.set_rotation(45)\r\n",
    "\r\n",
    "for i in range(missing.size):\r\n",
    "    x = (-0.3 + i)\r\n",
    "    y = (missing.values[i] + 50)\r\n",
    "    plt.annotate(missing.values[i], (x, y), fontsize=12)"
   ],
   "outputs": [
    {
     "output_type": "stream",
     "name": "stderr",
     "text": [
      "C:\\Users\\DESKTOP\\AppData\\Local\\Programs\\Python\\Python39\\lib\\site-packages\\matplotlib\\text.py:1215: FutureWarning: elementwise comparison failed; returning scalar instead, but in the future will perform elementwise comparison\n",
      "  if s != self._text:\n"
     ]
    },
    {
     "output_type": "display_data",
     "data": {
      "image/png": "[encoded data removed]",
      "text/plain": [
       "<Figure size 864x432 with 1 Axes>"
      ]
     },
     "metadata": {}
    }
   ],
   "metadata": {}
  },
  {
   "cell_type": "code",
   "execution_count": 19,
   "source": [
    "missing_percent = missing.copy()\r\n",
    "missing_percent['total'] = total_dados\r\n",
    "\r\n",
    "missing_percent['percentual'] = round((missing_percent.nan_value / missing_percent.total) * 100, 2)\r\n",
    "\r\n",
    "missing_percent"
   ],
   "outputs": [
    {
     "output_type": "execute_result",
     "data": {
      "text/html": [
       "<div>\n",
       "<style scoped>\n",
       "    .dataframe tbody tr th:only-of-type {\n",
       "        vertical-align: middle;\n",
       "    }\n",
       "\n",
       "    .dataframe tbody tr th {\n",
       "        vertical-align: top;\n",
       "    }\n",
       "\n",
       "    .dataframe thead th {\n",
       "        text-align: right;\n",
       "    }\n",
       "</style>\n",
       "<table border=\"1\" class=\"dataframe\">\n",
       "  <thead>\n",
       "    <tr style=\"text-align: right;\">\n",
       "      <th></th>\n",
       "      <th>nan_value</th>\n",
       "      <th>total</th>\n",
       "      <th>percentual</th>\n",
       "    </tr>\n",
       "  </thead>\n",
       "  <tbody>\n",
       "    <tr>\n",
       "      <th>NU_IDADE</th>\n",
       "      <td>69</td>\n",
       "      <td>5095270</td>\n",
       "      <td>0.00</td>\n",
       "    </tr>\n",
       "    <tr>\n",
       "      <th>NU_NOTA_CH</th>\n",
       "      <td>1172125</td>\n",
       "      <td>5095270</td>\n",
       "      <td>23.00</td>\n",
       "    </tr>\n",
       "    <tr>\n",
       "      <th>NU_NOTA_LC</th>\n",
       "      <td>1172125</td>\n",
       "      <td>5095270</td>\n",
       "      <td>23.00</td>\n",
       "    </tr>\n",
       "    <tr>\n",
       "      <th>NU_NOTA_COMP1</th>\n",
       "      <td>1172126</td>\n",
       "      <td>5095270</td>\n",
       "      <td>23.00</td>\n",
       "    </tr>\n",
       "    <tr>\n",
       "      <th>NU_NOTA_COMP2</th>\n",
       "      <td>1172126</td>\n",
       "      <td>5095270</td>\n",
       "      <td>23.00</td>\n",
       "    </tr>\n",
       "    <tr>\n",
       "      <th>NU_NOTA_COMP3</th>\n",
       "      <td>1172126</td>\n",
       "      <td>5095270</td>\n",
       "      <td>23.00</td>\n",
       "    </tr>\n",
       "    <tr>\n",
       "      <th>NU_NOTA_COMP4</th>\n",
       "      <td>1172126</td>\n",
       "      <td>5095270</td>\n",
       "      <td>23.00</td>\n",
       "    </tr>\n",
       "    <tr>\n",
       "      <th>NU_NOTA_COMP5</th>\n",
       "      <td>1172126</td>\n",
       "      <td>5095270</td>\n",
       "      <td>23.00</td>\n",
       "    </tr>\n",
       "    <tr>\n",
       "      <th>NU_NOTA_REDACAO</th>\n",
       "      <td>1172126</td>\n",
       "      <td>5095270</td>\n",
       "      <td>23.00</td>\n",
       "    </tr>\n",
       "    <tr>\n",
       "      <th>NU_NOTA_CN</th>\n",
       "      <td>1384837</td>\n",
       "      <td>5095270</td>\n",
       "      <td>27.18</td>\n",
       "    </tr>\n",
       "    <tr>\n",
       "      <th>NU_NOTA_MT</th>\n",
       "      <td>1384837</td>\n",
       "      <td>5095270</td>\n",
       "      <td>27.18</td>\n",
       "    </tr>\n",
       "    <tr>\n",
       "      <th>TP_ENSINO</th>\n",
       "      <td>2217073</td>\n",
       "      <td>5095270</td>\n",
       "      <td>43.51</td>\n",
       "    </tr>\n",
       "  </tbody>\n",
       "</table>\n",
       "</div>"
      ],
      "text/plain": [
       "                 nan_value    total  percentual\n",
       "NU_IDADE                69  5095270        0.00\n",
       "NU_NOTA_CH         1172125  5095270       23.00\n",
       "NU_NOTA_LC         1172125  5095270       23.00\n",
       "NU_NOTA_COMP1      1172126  5095270       23.00\n",
       "NU_NOTA_COMP2      1172126  5095270       23.00\n",
       "NU_NOTA_COMP3      1172126  5095270       23.00\n",
       "NU_NOTA_COMP4      1172126  5095270       23.00\n",
       "NU_NOTA_COMP5      1172126  5095270       23.00\n",
       "NU_NOTA_REDACAO    1172126  5095270       23.00\n",
       "NU_NOTA_CN         1384837  5095270       27.18\n",
       "NU_NOTA_MT         1384837  5095270       27.18\n",
       "TP_ENSINO          2217073  5095270       43.51"
      ]
     },
     "metadata": {},
     "execution_count": 19
    }
   ],
   "metadata": {}
  },
  {
   "cell_type": "markdown",
   "source": [
    "Conforme tabela acima, foi iremos desconsiderar os dados da coluna TP_ENSINO por conter muitos valores NANs, adotando como padrão excluir colunas com mais de 30% dos dados Nan"
   ],
   "metadata": {}
  },
  {
   "cell_type": "code",
   "execution_count": 25,
   "source": [
    "columns"
   ],
   "outputs": [
    {
     "output_type": "execute_result",
     "data": {
      "text/plain": [
       "['NU_IDADE',\n",
       " 'NU_NOTA_CH',\n",
       " 'NU_NOTA_LC',\n",
       " 'NU_NOTA_COMP1',\n",
       " 'NU_NOTA_COMP2',\n",
       " 'NU_NOTA_COMP3',\n",
       " 'NU_NOTA_COMP4',\n",
       " 'NU_NOTA_COMP5',\n",
       " 'NU_NOTA_REDACAO',\n",
       " 'NU_NOTA_CN',\n",
       " 'NU_NOTA_MT',\n",
       " 'TP_ENSINO']"
      ]
     },
     "metadata": {},
     "execution_count": 25
    }
   ],
   "metadata": {}
  },
  {
   "cell_type": "code",
   "execution_count": 26,
   "source": [
    "enem_2019_selected_nan = enem_2019.select(columns)"
   ],
   "outputs": [],
   "metadata": {}
  },
  {
   "cell_type": "code",
   "execution_count": 27,
   "source": [
    "from pyspark.ml.feature import Imputer\r\n",
    "\r\n",
    "imputer = Imputer(\r\n",
    "    inputCols=enem_2019_selected_nan.columns, \r\n",
    "    outputCols=[\"{}\".format(c) for c in enem_2019_selected_nan.columns]\r\n",
    "    ).setStrategy(\"median\")\r\n",
    "\r\n",
    "imputer"
   ],
   "outputs": [
    {
     "output_type": "execute_result",
     "data": {
      "text/plain": [
       "Imputer_c988ee607e8f"
      ]
     },
     "metadata": {},
     "execution_count": 27
    }
   ],
   "metadata": {}
  },
  {
   "cell_type": "code",
   "execution_count": 28,
   "source": [
    "columns = list(missing.index)"
   ],
   "outputs": [],
   "metadata": {}
  },
  {
   "cell_type": "code",
   "execution_count": 29,
   "source": [
    "# Add imputation cols to df\r\n",
    "df = imputer.fit(enem_2019_selected_nan).transform(enem_2019_selected_nan)"
   ],
   "outputs": [],
   "metadata": {}
  },
  {
   "cell_type": "code",
   "execution_count": 30,
   "source": [
    "df2 = df.drop('TP_ENSINO')\r\n",
    "\r\n",
    "df2.show()"
   ],
   "outputs": [
    {
     "output_type": "stream",
     "name": "stdout",
     "text": [
      "+--------+----------+----------+-------------+-------------+-------------+-------------+-------------+---------------+----------+----------+\n",
      "|NU_IDADE|NU_NOTA_CH|NU_NOTA_LC|NU_NOTA_COMP1|NU_NOTA_COMP2|NU_NOTA_COMP3|NU_NOTA_COMP4|NU_NOTA_COMP5|NU_NOTA_REDACAO|NU_NOTA_CN|NU_NOTA_MT|\n",
      "+--------+----------+----------+-------------+-------------+-------------+-------------+-------------+---------------+----------+----------+\n",
      "|      36|     510.6|     526.2|          120|          120|          120|          120|          100|            580|     470.2|     501.0|\n",
      "|      23|     510.6|     526.2|          120|          120|          120|          120|          100|            580|     470.2|     501.0|\n",
      "|      39|     510.6|     526.2|          120|          120|          120|          120|          100|            580|     470.2|     501.0|\n",
      "|      25|     503.6|     537.3|          120|          120|          120|          100|            0|            460|     483.8|     392.0|\n",
      "|      22|     575.5|     570.7|          160|          120|          180|          200|          200|            860|     513.6|     677.0|\n",
      "|      37|     644.9|     564.2|          160|          200|          180|          180|           80|            800|     563.7|     675.3|\n",
      "|      22|     488.4|     507.2|          140|          120|          120|          160|           60|            600|     484.6|     594.7|\n",
      "|      20|     510.6|     526.2|          120|          120|          120|          120|          100|            580|     470.2|     501.0|\n",
      "|      20|     510.6|     526.2|          120|          120|          120|          120|          100|            580|     470.2|     501.0|\n",
      "|      17|     548.1|     502.5|          120|           40|          120|          120|            0|            400|     543.9|     480.7|\n",
      "|      21|     510.6|     526.2|          120|          120|          120|          120|          100|            580|     470.2|     501.0|\n",
      "|      19|     351.7|     417.6|          120|          120|          120|          120|           20|            500|     518.2|     459.0|\n",
      "|      23|     393.6|     451.0|          120|           40|           40|          100|            0|            300|     373.8|     484.7|\n",
      "|      21|     441.6|     413.0|           80|           40|           40|           80|            0|            240|     458.9|     399.0|\n",
      "|      30|     510.6|     526.2|          120|          120|          120|          120|          100|            580|     470.2|     501.0|\n",
      "|      19|     510.6|     526.2|          120|          120|          120|          120|          100|            580|     470.2|     501.0|\n",
      "|      19|     453.0|     515.2|          100|          120|          100|          140|           60|            520|     390.1|     461.5|\n",
      "|      21|     510.6|     526.2|          120|          120|          120|          120|          100|            580|     470.2|     501.0|\n",
      "|      19|     379.2|     470.2|          140|          120|          140|          120|           40|            560|     415.7|     375.1|\n",
      "|      27|     585.0|     552.1|          140|          120|          140|          120|          140|            660|     461.9|     437.3|\n",
      "+--------+----------+----------+-------------+-------------+-------------+-------------+-------------+---------------+----------+----------+\n",
      "only showing top 20 rows\n",
      "\n"
     ]
    }
   ],
   "metadata": {}
  },
  {
   "cell_type": "code",
   "execution_count": 31,
   "source": [
    "df2.limit(10).toPandas()"
   ],
   "outputs": [
    {
     "output_type": "execute_result",
     "data": {
      "text/html": [
       "<div>\n",
       "<style scoped>\n",
       "    .dataframe tbody tr th:only-of-type {\n",
       "        vertical-align: middle;\n",
       "    }\n",
       "\n",
       "    .dataframe tbody tr th {\n",
       "        vertical-align: top;\n",
       "    }\n",
       "\n",
       "    .dataframe thead th {\n",
       "        text-align: right;\n",
       "    }\n",
       "</style>\n",
       "<table border=\"1\" class=\"dataframe\">\n",
       "  <thead>\n",
       "    <tr style=\"text-align: right;\">\n",
       "      <th></th>\n",
       "      <th>NU_IDADE</th>\n",
       "      <th>NU_NOTA_CH</th>\n",
       "      <th>NU_NOTA_LC</th>\n",
       "      <th>NU_NOTA_COMP1</th>\n",
       "      <th>NU_NOTA_COMP2</th>\n",
       "      <th>NU_NOTA_COMP3</th>\n",
       "      <th>NU_NOTA_COMP4</th>\n",
       "      <th>NU_NOTA_COMP5</th>\n",
       "      <th>NU_NOTA_REDACAO</th>\n",
       "      <th>NU_NOTA_CN</th>\n",
       "      <th>NU_NOTA_MT</th>\n",
       "    </tr>\n",
       "  </thead>\n",
       "  <tbody>\n",
       "    <tr>\n",
       "      <th>0</th>\n",
       "      <td>36</td>\n",
       "      <td>510.6</td>\n",
       "      <td>526.2</td>\n",
       "      <td>120</td>\n",
       "      <td>120</td>\n",
       "      <td>120</td>\n",
       "      <td>120</td>\n",
       "      <td>100</td>\n",
       "      <td>580</td>\n",
       "      <td>470.2</td>\n",
       "      <td>501.0</td>\n",
       "    </tr>\n",
       "    <tr>\n",
       "      <th>1</th>\n",
       "      <td>23</td>\n",
       "      <td>510.6</td>\n",
       "      <td>526.2</td>\n",
       "      <td>120</td>\n",
       "      <td>120</td>\n",
       "      <td>120</td>\n",
       "      <td>120</td>\n",
       "      <td>100</td>\n",
       "      <td>580</td>\n",
       "      <td>470.2</td>\n",
       "      <td>501.0</td>\n",
       "    </tr>\n",
       "    <tr>\n",
       "      <th>2</th>\n",
       "      <td>39</td>\n",
       "      <td>510.6</td>\n",
       "      <td>526.2</td>\n",
       "      <td>120</td>\n",
       "      <td>120</td>\n",
       "      <td>120</td>\n",
       "      <td>120</td>\n",
       "      <td>100</td>\n",
       "      <td>580</td>\n",
       "      <td>470.2</td>\n",
       "      <td>501.0</td>\n",
       "    </tr>\n",
       "    <tr>\n",
       "      <th>3</th>\n",
       "      <td>25</td>\n",
       "      <td>503.6</td>\n",
       "      <td>537.3</td>\n",
       "      <td>120</td>\n",
       "      <td>120</td>\n",
       "      <td>120</td>\n",
       "      <td>100</td>\n",
       "      <td>0</td>\n",
       "      <td>460</td>\n",
       "      <td>483.8</td>\n",
       "      <td>392.0</td>\n",
       "    </tr>\n",
       "    <tr>\n",
       "      <th>4</th>\n",
       "      <td>22</td>\n",
       "      <td>575.5</td>\n",
       "      <td>570.7</td>\n",
       "      <td>160</td>\n",
       "      <td>120</td>\n",
       "      <td>180</td>\n",
       "      <td>200</td>\n",
       "      <td>200</td>\n",
       "      <td>860</td>\n",
       "      <td>513.6</td>\n",
       "      <td>677.0</td>\n",
       "    </tr>\n",
       "    <tr>\n",
       "      <th>5</th>\n",
       "      <td>37</td>\n",
       "      <td>644.9</td>\n",
       "      <td>564.2</td>\n",
       "      <td>160</td>\n",
       "      <td>200</td>\n",
       "      <td>180</td>\n",
       "      <td>180</td>\n",
       "      <td>80</td>\n",
       "      <td>800</td>\n",
       "      <td>563.7</td>\n",
       "      <td>675.3</td>\n",
       "    </tr>\n",
       "    <tr>\n",
       "      <th>6</th>\n",
       "      <td>22</td>\n",
       "      <td>488.4</td>\n",
       "      <td>507.2</td>\n",
       "      <td>140</td>\n",
       "      <td>120</td>\n",
       "      <td>120</td>\n",
       "      <td>160</td>\n",
       "      <td>60</td>\n",
       "      <td>600</td>\n",
       "      <td>484.6</td>\n",
       "      <td>594.7</td>\n",
       "    </tr>\n",
       "    <tr>\n",
       "      <th>7</th>\n",
       "      <td>20</td>\n",
       "      <td>510.6</td>\n",
       "      <td>526.2</td>\n",
       "      <td>120</td>\n",
       "      <td>120</td>\n",
       "      <td>120</td>\n",
       "      <td>120</td>\n",
       "      <td>100</td>\n",
       "      <td>580</td>\n",
       "      <td>470.2</td>\n",
       "      <td>501.0</td>\n",
       "    </tr>\n",
       "    <tr>\n",
       "      <th>8</th>\n",
       "      <td>20</td>\n",
       "      <td>510.6</td>\n",
       "      <td>526.2</td>\n",
       "      <td>120</td>\n",
       "      <td>120</td>\n",
       "      <td>120</td>\n",
       "      <td>120</td>\n",
       "      <td>100</td>\n",
       "      <td>580</td>\n",
       "      <td>470.2</td>\n",
       "      <td>501.0</td>\n",
       "    </tr>\n",
       "    <tr>\n",
       "      <th>9</th>\n",
       "      <td>17</td>\n",
       "      <td>548.1</td>\n",
       "      <td>502.5</td>\n",
       "      <td>120</td>\n",
       "      <td>40</td>\n",
       "      <td>120</td>\n",
       "      <td>120</td>\n",
       "      <td>0</td>\n",
       "      <td>400</td>\n",
       "      <td>543.9</td>\n",
       "      <td>480.7</td>\n",
       "    </tr>\n",
       "  </tbody>\n",
       "</table>\n",
       "</div>"
      ],
      "text/plain": [
       "   NU_IDADE  NU_NOTA_CH  NU_NOTA_LC  NU_NOTA_COMP1  NU_NOTA_COMP2  \\\n",
       "0        36       510.6       526.2            120            120   \n",
       "1        23       510.6       526.2            120            120   \n",
       "2        39       510.6       526.2            120            120   \n",
       "3        25       503.6       537.3            120            120   \n",
       "4        22       575.5       570.7            160            120   \n",
       "5        37       644.9       564.2            160            200   \n",
       "6        22       488.4       507.2            140            120   \n",
       "7        20       510.6       526.2            120            120   \n",
       "8        20       510.6       526.2            120            120   \n",
       "9        17       548.1       502.5            120             40   \n",
       "\n",
       "   NU_NOTA_COMP3  NU_NOTA_COMP4  NU_NOTA_COMP5  NU_NOTA_REDACAO  NU_NOTA_CN  \\\n",
       "0            120            120            100              580       470.2   \n",
       "1            120            120            100              580       470.2   \n",
       "2            120            120            100              580       470.2   \n",
       "3            120            100              0              460       483.8   \n",
       "4            180            200            200              860       513.6   \n",
       "5            180            180             80              800       563.7   \n",
       "6            120            160             60              600       484.6   \n",
       "7            120            120            100              580       470.2   \n",
       "8            120            120            100              580       470.2   \n",
       "9            120            120              0              400       543.9   \n",
       "\n",
       "   NU_NOTA_MT  \n",
       "0       501.0  \n",
       "1       501.0  \n",
       "2       501.0  \n",
       "3       392.0  \n",
       "4       677.0  \n",
       "5       675.3  \n",
       "6       594.7  \n",
       "7       501.0  \n",
       "8       501.0  \n",
       "9       480.7  "
      ]
     },
     "metadata": {},
     "execution_count": 31
    }
   ],
   "metadata": {}
  },
  {
   "cell_type": "markdown",
   "source": [
    "## Outliers"
   ],
   "metadata": {}
  },
  {
   "cell_type": "code",
   "execution_count": 32,
   "source": [
    "import seaborn as sns"
   ],
   "outputs": [],
   "metadata": {}
  },
  {
   "cell_type": "code",
   "execution_count": 33,
   "source": [
    "x = df2.select('NU_IDADE').toPandas()\r\n",
    "\r\n",
    "fig = plt.figure(figsize=(20, 8))\r\n",
    "ax = fig.add_subplot(1, 2, 1)\r\n",
    "ax = sns.boxplot(data=x)"
   ],
   "outputs": [
    {
     "output_type": "display_data",
     "data": {
      "image/png": "[encoded data removed]",
      "text/plain": [
       "<Figure size 1440x576 with 1 Axes>"
      ]
     },
     "metadata": {}
    }
   ],
   "metadata": {}
  },
  {
   "cell_type": "markdown",
   "source": [
    "## Análises Distribuição dos Dados"
   ],
   "metadata": {}
  },
  {
   "cell_type": "code",
   "execution_count": 34,
   "source": [
    "from pyspark.sql.functions import col, skewness, kurtosis\r\n",
    "df2.select(skewness('NU_IDADE'),kurtosis('NU_IDADE')).show()"
   ],
   "outputs": [
    {
     "output_type": "stream",
     "name": "stdout",
     "text": [
      "+------------------+------------------+\n",
      "|skewness(NU_IDADE)|kurtosis(NU_IDADE)|\n",
      "+------------------+------------------+\n",
      "|2.2563588381879693| 5.821632358798867|\n",
      "+------------------+------------------+\n",
      "\n"
     ]
    }
   ],
   "metadata": {}
  },
  {
   "cell_type": "code",
   "execution_count": 35,
   "source": [
    "import numpy as np\r\n",
    "import scipy.stats as ss\r\n",
    "\r\n",
    "var = 'NU_IDADE'\r\n",
    "plot_data = df2.select(var).toPandas()\r\n",
    "x= plot_data[var]\r\n",
    "\r\n",
    "bins = np.arange(0, 100, 5.0)\r\n",
    "#sns.histplot(data=lista, stat=\"density\", kde=True)\r\n",
    "\r\n",
    "plt.figure(figsize=(10,8))\r\n",
    "# the histogram of the data\r\n",
    "plt.hist(x, bins, alpha=0.8, histtype='bar', color='gold', ec='black')\r\n",
    "\r\n",
    "plt.xlabel('NU_IDADE')\r\n",
    "plt.ylabel('percentage')\r\n",
    "plt.xticks(bins)\r\n",
    "plt.show()"
   ],
   "outputs": [
    {
     "output_type": "display_data",
     "data": {
      "image/png": "[encoded data removed]",
      "text/plain": [
       "<Figure size 720x576 with 1 Axes>"
      ]
     },
     "metadata": {}
    }
   ],
   "metadata": {}
  },
  {
   "cell_type": "markdown",
   "source": [
    "## Correlação"
   ],
   "metadata": {}
  },
  {
   "cell_type": "markdown",
   "source": [
    "### Quantitativas - Correlação de Pearson"
   ],
   "metadata": {}
  },
  {
   "cell_type": "code",
   "execution_count": null,
   "source": [
    "from pyspark.mllib.stat import Statistics\r\n",
    "import pandas as pd\r\n",
    "\r\n",
    "corr_data = df2\r\n",
    "\r\n",
    "col_names = corr_data.columns\r\n",
    "features = df2.rdd.map(lambda row: row[0:10000])  \r\n",
    "corr_mat=Statistics.corr(features, method=\"pearson\")\r\n",
    "corr_df = pd.DataFrame(corr_mat)\r\n",
    "corr_df.index, corr_df.columns = col_names, col_names\r\n",
    "\r\n",
    "print(corr_df.to_string())"
   ],
   "outputs": [],
   "metadata": {}
  },
  {
   "cell_type": "markdown",
   "source": [
    "https://stackoverflow.com/questions/58070125/how-to-properly-use-the-chisquaretest-function-in-pyspark\r\n"
   ],
   "metadata": {}
  },
  {
   "cell_type": "markdown",
   "source": [
    "## Dummies"
   ],
   "metadata": {}
  },
  {
   "cell_type": "code",
   "execution_count": null,
   "source": [
    "columns_quali = [\r\n",
    "'TP_SEXO',\r\n",
    "'TP_COR_RACA',\r\n",
    "'TP_ESTADO_CIVIL',\r\n",
    "'SG_UF_RESIDENCIA',\r\n",
    "'Q001',\r\n",
    "'Q002',\r\n",
    "'Q003',\r\n",
    "'Q004',\r\n",
    "'Q006']"
   ],
   "outputs": [],
   "metadata": {}
  },
  {
   "cell_type": "code",
   "execution_count": null,
   "source": [
    "enem_2019_quali = enem_2019_selected.select(columns_quali)"
   ],
   "outputs": [],
   "metadata": {}
  },
  {
   "cell_type": "code",
   "execution_count": null,
   "source": [
    "enem_2019_quali.limit(10).toPandas()"
   ],
   "outputs": [
    {
     "output_type": "error",
     "ename": "NameError",
     "evalue": "name 'enem_2019_quali' is not defined",
     "traceback": [
      "\u001b[1;31m---------------------------------------------------------------------------\u001b[0m",
      "\u001b[1;31mNameError\u001b[0m                                 Traceback (most recent call last)",
      "\u001b[1;32m~\\AppData\\Local\\Temp/ipykernel_14808/4170411547.py\u001b[0m in \u001b[0;36m<module>\u001b[1;34m\u001b[0m\n\u001b[1;32m----> 1\u001b[1;33m \u001b[0menem_2019_quali\u001b[0m\u001b[1;33m.\u001b[0m\u001b[0mlimit\u001b[0m\u001b[1;33m(\u001b[0m\u001b[1;36m10\u001b[0m\u001b[1;33m)\u001b[0m\u001b[1;33m.\u001b[0m\u001b[0mtoPandas\u001b[0m\u001b[1;33m(\u001b[0m\u001b[1;33m)\u001b[0m\u001b[1;33m\u001b[0m\u001b[1;33m\u001b[0m\u001b[0m\n\u001b[0m",
      "\u001b[1;31mNameError\u001b[0m: name 'enem_2019_quali' is not defined"
     ]
    }
   ],
   "metadata": {}
  },
  {
   "cell_type": "markdown",
   "source": [
    "https://spark.apache.org/docs/3.2.0/api/python/reference/pyspark.pandas/api/pyspark.pandas.get_dummies.html\r\n"
   ],
   "metadata": {}
  },
  {
   "cell_type": "markdown",
   "source": [
    "https://amigoedu.com.br/blogdoamigo/comocalcularanotadoenem\r\n",
    "\r\n",
    "https://runawayhorse001.github.io/LearningApacheSpark/exploration.html\r\n",
    "\r\n",
    "https://docs.microsoft.com/en-us/azure/databricks/_static/notebooks/pandas-to-pandas-api-on-spark-in-10-minutes.html\r\n"
   ],
   "metadata": {}
  }
 ],
 "metadata": {
  "orig_nbformat": 4,
  "language_info": {
   "name": "python",
   "version": "3.9.7",
   "mimetype": "text/x-python",
   "codemirror_mode": {
    "name": "ipython",
    "version": 3
   },
   "pygments_lexer": "ipython3",
   "nbconvert_exporter": "python",
   "file_extension": ".py"
  },
  "kernelspec": {
   "name": "python3",
   "display_name": "Python 3.9.7 64-bit"
  },
  "interpreter": {
   "hash": "d716d3087447d732d408563f09e95056395e35756340cb54fdc49b8a8ffe1616"
  }
 },
 "nbformat": 4,
 "nbformat_minor": 2
}