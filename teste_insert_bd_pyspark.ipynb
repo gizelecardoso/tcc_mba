{
 "cells": [
  {
   "cell_type": "markdown",
   "source": [
    "# ETL - TCC"
   ],
   "metadata": {}
  },
  {
   "cell_type": "markdown",
   "source": [
    "## Com PySpark"
   ],
   "metadata": {}
  },
  {
   "cell_type": "markdown",
   "source": [
    "### Carregando Bibliotecas"
   ],
   "metadata": {}
  },
  {
   "cell_type": "code",
   "execution_count": 2,
   "source": [
    "import os\r\n",
    "\r\n",
    "os.environ[\"SPARK_HOME\"] = \"D:\\spark\\spark-3.2.1-bin-hadoop3.2\"\r\n",
    "os.environ['HADOOP_HOME'] = \"D:\\spark\\spark-3.2.1-bin-hadoop3.2\" \r\n",
    "\r\n",
    "os.environ['JAVA_HOME'] = \"C:\\Program Files\\Java\\jre1.8.0_202\"\r\n",
    "\r\n",
    "jardrv = r\"C:\\Program Files\\MySQL\\Connector J 8.0\\mysql-connector-java-8.0.26.jar\"\r\n",
    "\r\n",
    "os.environ[\"PYARROW_IGNORE_TIMEZONE\"] = \"1\""
   ],
   "outputs": [],
   "metadata": {}
  },
  {
   "cell_type": "code",
   "execution_count": 3,
   "source": [
    "import findspark\r\n",
    "findspark.init()"
   ],
   "outputs": [],
   "metadata": {}
  },
  {
   "cell_type": "code",
   "execution_count": 4,
   "source": [
    "import pyspark\r\n",
    "from pyspark.sql import SparkSession\r\n",
    "from pyspark.sql import Row\r\n",
    "import random\r\n",
    "import pandas as pd\r\n",
    "import pyspark.pandas as ps\r\n",
    "import pyspark.sql.functions"
   ],
   "outputs": [],
   "metadata": {}
  },
  {
   "cell_type": "code",
   "execution_count": 5,
   "source": [
    "spark = SparkSession.builder.config(\"spark.jars\", jardrv).config('spark.driver.extraClassPath', jardrv).getOrCreate()"
   ],
   "outputs": [],
   "metadata": {}
  },
  {
   "cell_type": "code",
   "execution_count": 31,
   "source": [
    "sc = spark.sparkContext"
   ],
   "outputs": [],
   "metadata": {}
  },
  {
   "cell_type": "markdown",
   "source": [
    "# ENEM 2020"
   ],
   "metadata": {}
  },
  {
   "cell_type": "markdown",
   "source": [
    "### Carregando Dados"
   ],
   "metadata": {}
  },
  {
   "cell_type": "code",
   "execution_count": 6,
   "source": [
    "enem_2020 = spark.read.csv(r\"D:\\DESKTOP\\Documents\\TCC\\base_dados\\enem\\microdados_enem2020\\DADOS\\MICRODADOS_ENEM_2020.csv\", sep=';', inferSchema=True, header=True)"
   ],
   "outputs": [],
   "metadata": {}
  },
  {
   "cell_type": "code",
   "execution_count": 53,
   "source": [
    "columns=['NU_INSCRICAO', 'NU_ANO', 'TP_COR_RACA', 'TP_ESTADO_CIVIL','TP_SEXO', 'NU_NOTA_CN', 'NU_NOTA_CH', 'NU_NOTA_LC', 'NU_NOTA_MT', 'NU_NOTA_REDACAO', 'Q001', 'Q002', 'Q003', 'Q004', 'Q005', 'Q006']"
   ],
   "outputs": [],
   "metadata": {}
  },
  {
   "cell_type": "code",
   "execution_count": 54,
   "source": [
    "enem_2020_selected = enem_2020.select(columns)"
   ],
   "outputs": [],
   "metadata": {}
  },
  {
   "cell_type": "code",
   "execution_count": 55,
   "source": [
    "enem_2020_without_nan = enem_2020_selected.dropna(subset = ['NU_NOTA_CN'])"
   ],
   "outputs": [],
   "metadata": {}
  },
  {
   "cell_type": "code",
   "execution_count": 56,
   "source": [
    "enem_2020_without_nan = enem_2020_without_nan.withColumn('NU_NOTA_CN',enem_2020_without_nan['NU_NOTA_CN'].cast('double')).withColumn('NU_NOTA_CH',enem_2020_without_nan['NU_NOTA_CH'].cast('double')).withColumn('NU_NOTA_LC',enem_2020_without_nan['NU_NOTA_LC'].cast('double')).withColumn('NU_NOTA_MT',enem_2020_without_nan['NU_NOTA_MT'].cast('double')).withColumn('NU_NOTA_REDACAO',enem_2020_without_nan['NU_NOTA_REDACAO'].cast('double')).withColumn('Q005',enem_2020_without_nan['Q005'].cast('int'))"
   ],
   "outputs": [],
   "metadata": {}
  },
  {
   "cell_type": "markdown",
   "source": [
    "### Adicionando Média das Notas"
   ],
   "metadata": {}
  },
  {
   "cell_type": "markdown",
   "source": [
    "Pesquisa com Base curso de Medicina na USP\r\n",
    "\r\n",
    "https://www.sisu.pro.br/sisu/sisu-2021-usp-2.html#:~:text=Pesos%20para%20Medicina&text=Linguagens%20e%20C%C3%B3digos%3A%202%C3%97,Matem%C3%A1tica%3A%203%C3%97500%20%3D%201.500\r\n",
    "\r\n",
    "* Redação: 2\r\n",
    "* Linguagens e Códigos: 2\r\n",
    "* Ciências Humanas: 2\r\n",
    "* Ciências da Natureza: 4\r\n",
    "* Matemática: 3"
   ],
   "metadata": {}
  },
  {
   "cell_type": "code",
   "execution_count": 73,
   "source": [
    "def mean_med(df):\r\n",
    "    df2 = df.withColumn(\"MEDIA_MED\", (( \\\r\n",
    "        df['NU_NOTA_CN'] * 4 + \\\r\n",
    "        df['NU_NOTA_CH'] * 2 + \\\r\n",
    "        df['NU_NOTA_LC'] * 2 + \\\r\n",
    "        df['NU_NOTA_MT'] * 3 + \\\r\n",
    "        df['NU_NOTA_REDACAO'] * 2\\\r\n",
    "    ) / (4+2+2+3+2)))\r\n",
    "    return df2"
   ],
   "outputs": [],
   "metadata": {}
  },
  {
   "cell_type": "code",
   "execution_count": 74,
   "source": [
    "enem_2020_without_nan2 = mean_med(enem_2020_without_nan)"
   ],
   "outputs": [
    {
     "output_type": "error",
     "ename": "TypeError",
     "evalue": "type Column doesn't define __round__ method",
     "traceback": [
      "\u001b[1;31m---------------------------------------------------------------------------\u001b[0m",
      "\u001b[1;31mTypeError\u001b[0m                                 Traceback (most recent call last)",
      "\u001b[1;32m~\\AppData\\Local\\Temp/ipykernel_16156/3367524704.py\u001b[0m in \u001b[0;36m<module>\u001b[1;34m\u001b[0m\n\u001b[1;32m----> 1\u001b[1;33m \u001b[0menem_2020_without_nan2\u001b[0m \u001b[1;33m=\u001b[0m \u001b[0mmean_med\u001b[0m\u001b[1;33m(\u001b[0m\u001b[0menem_2020_without_nan\u001b[0m\u001b[1;33m)\u001b[0m\u001b[1;33m\u001b[0m\u001b[1;33m\u001b[0m\u001b[0m\n\u001b[0m",
      "\u001b[1;32m~\\AppData\\Local\\Temp/ipykernel_16156/3169496752.py\u001b[0m in \u001b[0;36mmean_med\u001b[1;34m(df)\u001b[0m\n\u001b[0;32m      1\u001b[0m \u001b[1;32mdef\u001b[0m \u001b[0mmean_med\u001b[0m\u001b[1;33m(\u001b[0m\u001b[0mdf\u001b[0m\u001b[1;33m)\u001b[0m\u001b[1;33m:\u001b[0m\u001b[1;33m\u001b[0m\u001b[1;33m\u001b[0m\u001b[0m\n\u001b[1;32m----> 2\u001b[1;33m     df2 = df.withColumn(\"MEDIA_MED\", round(( \\\n\u001b[0m\u001b[0;32m      3\u001b[0m         \u001b[0mdf\u001b[0m\u001b[1;33m[\u001b[0m\u001b[1;34m'NU_NOTA_CN'\u001b[0m\u001b[1;33m]\u001b[0m \u001b[1;33m*\u001b[0m \u001b[1;36m4\u001b[0m \u001b[1;33m+\u001b[0m\u001b[0;31m \u001b[0m\u001b[0;31m\\\u001b[0m\u001b[1;33m\u001b[0m\u001b[1;33m\u001b[0m\u001b[0m\n\u001b[0;32m      4\u001b[0m         \u001b[0mdf\u001b[0m\u001b[1;33m[\u001b[0m\u001b[1;34m'NU_NOTA_CH'\u001b[0m\u001b[1;33m]\u001b[0m \u001b[1;33m*\u001b[0m \u001b[1;36m2\u001b[0m \u001b[1;33m+\u001b[0m\u001b[0;31m \u001b[0m\u001b[0;31m\\\u001b[0m\u001b[1;33m\u001b[0m\u001b[1;33m\u001b[0m\u001b[0m\n\u001b[0;32m      5\u001b[0m         \u001b[0mdf\u001b[0m\u001b[1;33m[\u001b[0m\u001b[1;34m'NU_NOTA_LC'\u001b[0m\u001b[1;33m]\u001b[0m \u001b[1;33m*\u001b[0m \u001b[1;36m2\u001b[0m \u001b[1;33m+\u001b[0m\u001b[0;31m \u001b[0m\u001b[0;31m\\\u001b[0m\u001b[1;33m\u001b[0m\u001b[1;33m\u001b[0m\u001b[0m\n",
      "\u001b[1;31mTypeError\u001b[0m: type Column doesn't define __round__ method"
     ]
    }
   ],
   "metadata": {}
  },
  {
   "cell_type": "markdown",
   "source": [
    "Pesquisa com Base curso de Administração na Unicentro Paraná\r\n",
    "\r\n",
    "https://www3.unicentro.br/vestibular/sisu/cursos-e-pesos/\r\n",
    "\r\n",
    "\r\n",
    "* Redação: 1\r\n",
    "* Linguagens e Códigos: 2\r\n",
    "* Ciências Humanas: 2\r\n",
    "* Ciências da Natureza: 2\r\n",
    "* Matemática: 3"
   ],
   "metadata": {}
  },
  {
   "cell_type": "code",
   "execution_count": 59,
   "source": [
    "def mean_adm(df):\r\n",
    "    df2 = df.withColumn(\"MEDIA_ADM\", (( \\\r\n",
    "        df['NU_NOTA_CN'] * 2 + \r\n",
    "        df['NU_NOTA_CH'] * 2 + \r\n",
    "        df['NU_NOTA_LC'] * 2 + \r\n",
    "        df['NU_NOTA_MT'] * 3 + \r\n",
    "        df['NU_NOTA_REDACAO'] * 1\r\n",
    "    ) / (2+2+2+3+1)))\r\n",
    "    return df2"
   ],
   "outputs": [],
   "metadata": {}
  },
  {
   "cell_type": "code",
   "execution_count": 60,
   "source": [
    "enem_2020_without_nan3 = mean_adm(enem_2020_without_nan2)"
   ],
   "outputs": [],
   "metadata": {}
  },
  {
   "cell_type": "markdown",
   "source": [
    "### Tranformando pyspark em pandas"
   ],
   "metadata": {}
  },
  {
   "cell_type": "code",
   "execution_count": 47,
   "source": [
    "count_enem_2020 = list(range(0, enem_2020_without_nan3.count()))"
   ],
   "outputs": [],
   "metadata": {}
  },
  {
   "cell_type": "code",
   "execution_count": 48,
   "source": [
    "index_df = sc.parallelize(count_enem_2020).map(lambda x: (x, )).toDF(['index'])"
   ],
   "outputs": [],
   "metadata": {}
  },
  {
   "cell_type": "markdown",
   "source": [
    "### Inserção"
   ],
   "metadata": {}
  },
  {
   "cell_type": "code",
   "execution_count": null,
   "source": [
    "import mysql.connector as mysql\r\n",
    "from mysql.connector import Error\r\n",
    "from config import config\r\n",
    "import csv"
   ],
   "outputs": [],
   "metadata": {}
  },
  {
   "cell_type": "code",
   "execution_count": null,
   "source": [
    "enem_2020_without_nan.write.format(\"jdbc\") \\\r\n",
    "    .option(\"url\", \"jdbc:mysql://----\") \\\r\n",
    "    .option(\"driver\", \"com.mysql.jdbc.Driver\") \\\r\n",
    "    .option(\"dbtable\", 'enem_tcc') \\\r\n",
    "    .option(\"user\", \"---\") \\\r\n",
    "    .option(\"password\", \"----\") \\\r\n",
    "    .mode(\"append\") \\\r\n",
    "    .save()"
   ],
   "outputs": [],
   "metadata": {}
  },
  {
   "cell_type": "markdown",
   "source": [
    "# OUTROS ANOS"
   ],
   "metadata": {}
  },
  {
   "cell_type": "code",
   "execution_count": 6,
   "source": [
    "enem_2019 = spark.read.csv(r\"D:\\DESKTOP\\Documents\\TCC\\base_dados\\enem\\microdados_enem2019\\DADOS\\MICRODADOS_ENEM_2019.csv\", sep=';', inferSchema=True, header=True)\r\n",
    "enem_2018 = spark.read.csv(r\"D:\\DESKTOP\\Documents\\TCC\\base_dados\\enem\\microdados_enem2018\\DADOS\\MICRODADOS_ENEM_2018.csv\", sep=';', inferSchema=True, header=True)\r\n",
    "enem_2017 = spark.read.csv(r\"D:\\DESKTOP\\Documents\\TCC\\base_dados\\enem\\microdados_enem2017\\DADOS\\MICRODADOS_ENEM_2017.csv\", sep=';', inferSchema=True, header=True)\r\n",
    "enem_2016 = spark.read.csv(r\"D:\\DESKTOP\\Documents\\TCC\\base_dados\\enem\\microdados_enem2016\\DADOS\\MICRODADOS_ENEM_2016.csv\", sep=';', inferSchema=True, header=True)\r\n",
    "enem_2013 = spark.read.csv(r\"D:\\DESKTOP\\Documents\\TCC\\base_dados\\enem\\microdados_enem2013\\DADOS\\MICRODADOS_ENEM_2013.csv\", sep=';', inferSchema=True, header=True)\r\n",
    "enem_2010 = spark.read.csv(r\"D:\\DESKTOP\\Documents\\TCC\\base_dados\\enem\\microdados_enem2010\\DADOS\\MICRODADOS_ENEM_2010.csv\", sep=';', inferSchema=True, header=True)"
   ],
   "outputs": [],
   "metadata": {}
  },
  {
   "cell_type": "code",
   "execution_count": null,
   "source": [
    "enem_2012 = spark.read.csv(r\"D:\\DESKTOP\\Documents\\TCC\\base_dados\\enem\\microdados_enem2012\\DADOS\\MICRODADOS_ENEM_2012.csv\", inferSchema=True, header=True)\r\n",
    "enem_2015 = spark.read.csv(r\"D:\\DESKTOP\\Documents\\TCC\\base_dados\\enem\\microdados_enem2015\\DADOS\\MICRODADOS_ENEM_2015.csv\", inferSchema=True, header=True)\r\n",
    "enem_2014 = spark.read.csv(r\"D:\\DESKTOP\\Documents\\TCC\\base_dados\\enem\\microdados_enem2014\\DADOS\\MICRODADOS_ENEM_2014.csv\", inferSchema=True, header=True)"
   ],
   "outputs": [],
   "metadata": {}
  },
  {
   "cell_type": "code",
   "execution_count": null,
   "source": [
    "enem_2019_without_nan2 = mean_med(enem_2019_without_nan)\r\n",
    "enem_2018_without_nan2 = mean_med(enem_2018_without_nan)\r\n",
    "enem_2017_without_nan2 = mean_med(enem_2017_without_nan)\r\n",
    "enem_2016_without_nan2 = mean_med(enem_2016_without_nan)\r\n",
    "enem_2015_without_nan2 = mean_med(enem_2015_without_nan)\r\n",
    "enem_2014_without_nan2 = mean_med(enem_2014_without_nan)\r\n",
    "enem_2013_without_nan2 = mean_med(enem_2013_without_nan)\r\n",
    "enem_2012_without_nan2 = mean_med(enem_2012_without_nan)\r\n",
    "enem_2010_without_nan2 = mean_med(enem_2010_without_nan)"
   ],
   "outputs": [],
   "metadata": {}
  },
  {
   "cell_type": "code",
   "execution_count": null,
   "source": [
    "enem_2019_without_nan3 = mean_adm(enem_2019_without_nan2)\r\n",
    "enem_2018_without_nan3 = mean_adm(enem_2018_without_nan2)\r\n",
    "enem_2017_without_nan3 = mean_adm(enem_2017_without_nan2)\r\n",
    "enem_2016_without_nan3 = mean_adm(enem_2016_without_nan2)\r\n",
    "enem_2015_without_nan3 = mean_adm(enem_2015_without_nan2)\r\n",
    "enem_2014_without_nan3 = mean_adm(enem_2014_without_nan2)\r\n",
    "enem_2013_without_nan3 = mean_adm(enem_2013_without_nan2)\r\n",
    "enem_2012_without_nan3 = mean_adm(enem_2012_without_nan2)\r\n",
    "enem_2010_without_nan3 = mean_adm(enem_2010_without_nan2)"
   ],
   "outputs": [],
   "metadata": {}
  },
  {
   "cell_type": "markdown",
   "source": [
    "### Selecionando Colunas Importantes"
   ],
   "metadata": {}
  },
  {
   "cell_type": "code",
   "execution_count": null,
   "source": [
    "columns=['NU_ANO', 'TP_COR_RACA', 'TP_ESTADO_CIVIL','TP_SEXO', 'NU_NOTA_CN', 'NU_NOTA_CH', 'NU_NOTA_LC', 'NU_NOTA_MT', 'NU_NOTA_REDACAO', 'Q001', 'Q002', 'Q003', 'Q004', 'Q005', 'Q006']\r\n",
    "\r\n",
    "columns_2012=['NU_ANO', 'TP_COR_RACA', 'TP_ESTADO_CIVIL', 'TP_SEXO', 'NU_NOTA_CN', 'NU_NOTA_CH', 'NU_NOTA_LC', 'NU_NOTA_MT', 'NU_NOTA_REDACAO']\r\n",
    "\r\n",
    "columns_2010 = ['NU_ANO', 'TP_COR_RACA', 'TP_ESTADO_CIVIL','TP_SEXO', 'NU_NOTA_CN', 'NU_NOTA_CH', 'NU_NOTA_LC', 'NU_NOTA_MT', 'NU_NOTA_REDACAO', 'Q001', 'Q002', 'Q003', 'Q004', 'Q005', 'Q006']"
   ],
   "outputs": [],
   "metadata": {}
  },
  {
   "cell_type": "code",
   "execution_count": null,
   "source": [
    "enem_2014 = enem_2014.withColumnRenamed(\"NOTA_CN\", \"NU_NOTA_CN\")\\\r\n",
    "                     .withColumnRenamed(\"NOTA_LC\", \"NU_NOTA_LC\")\\\r\n",
    "                     .withColumnRenamed(\"NOTA_CH\", \"NU_NOTA_CH\")\\\r\n",
    "                     .withColumnRenamed(\"NOTA_MT\", \"NU_NOTA_MT\")"
   ],
   "outputs": [],
   "metadata": {}
  },
  {
   "cell_type": "code",
   "execution_count": null,
   "source": [
    "enem_2013 = enem_2013.withColumnRenamed(\"NOTA_CN\", \"NU_NOTA_CN\")\\\r\n",
    "                     .withColumnRenamed(\"NOTA_LC\", \"NU_NOTA_LC\")\\\r\n",
    "                     .withColumnRenamed(\"NOTA_CH\", \"NU_NOTA_CH\")\\\r\n",
    "                     .withColumnRenamed(\"NOTA_MT\", \"NU_NOTA_MT\")"
   ],
   "outputs": [],
   "metadata": {}
  },
  {
   "cell_type": "code",
   "execution_count": null,
   "source": [
    "enem_2012 = enem_2012.withColumnRenamed(\"NU_NT_CN\", \"NU_NOTA_CN\")\\\r\n",
    "                     .withColumnRenamed(\"NU_NT_CH\", \"NU_NOTA_LC\")\\\r\n",
    "                     .withColumnRenamed(\"NU_NT_LC\", \"NU_NOTA_CH\")\\\r\n",
    "                     .withColumnRenamed(\"NU_NT_MT\", \"NU_NOTA_MT\")"
   ],
   "outputs": [],
   "metadata": {}
  },
  {
   "cell_type": "code",
   "execution_count": null,
   "source": [
    "enem_2010 = enem_2010.withColumnRenamed(\"Q01\", \"Q001\")\\\r\n",
    "                     .withColumnRenamed(\"Q02\", \"Q002\")\\\r\n",
    "                     .withColumnRenamed(\"Q03\", \"Q003\")\\\r\n",
    "                     .withColumnRenamed(\"Q04\", \"Q004\")\\\r\n",
    "                     .withColumnRenamed(\"Q05\", \"Q005\")\\\r\n",
    "                     .withColumnRenamed(\"Q06\", \"Q006\")"
   ],
   "outputs": [],
   "metadata": {}
  },
  {
   "cell_type": "code",
   "execution_count": null,
   "source": [
    "enem_2010_selected = enem_2010.select(columns_2010)\r\n",
    "enem_2012_selected = enem_2012.select(columns_2012)\r\n",
    "enem_2013_selected = enem_2013.select(columns)\r\n",
    "enem_2014_selected = enem_2014.select(columns)\r\n",
    "enem_2015_selected = enem_2015.select(columns)\r\n",
    "enem_2016_selected = enem_2016.select(columns)\r\n",
    "enem_2017_selected = enem_2017.select(columns)\r\n",
    "enem_2018_selected = enem_2018.select(columns)\r\n",
    "enem_2019_selected = enem_2019.select(columns)\r\n",
    "enem_2020_selected = enem_2020.select(columns)"
   ],
   "outputs": [],
   "metadata": {}
  },
  {
   "cell_type": "markdown",
   "source": [
    "### Lidando com Valores NAN"
   ],
   "metadata": {}
  },
  {
   "cell_type": "code",
   "execution_count": null,
   "source": [
    "var_with_nan = []\r\n",
    "def verfify_nan_values(df):\r\n",
    "    df_nan = ps.DataFrame()\r\n",
    "    var_without_nan = []\r\n",
    "    var_column = []\r\n",
    "    var_percent = []\r\n",
    "    total = df.shape[0]\r\n",
    "    count = 0\r\n",
    "    for index, value in df.isna().sum().iteritems():\r\n",
    "        if value == 0:\r\n",
    "            var_without_nan.append(index)\r\n",
    "        else:\r\n",
    "            percent_with_nan = (value / total) * 100\r\n",
    "            var_with_nan.append(count)\r\n",
    "            var_column.append(index)\r\n",
    "            var_percent.append(percent_with_nan)\r\n",
    "        count  = count + 1\r\n",
    "\r\n",
    "    d = {'coluna': var_column, 'porcentagem_nan %': var_percent}\r\n",
    "    df_nan = ps.DataFrame(data=d)\r\n",
    "    #df_nan.insert(0, 'coluna', var_column, True)\r\n",
    "    #df_nan.insert(1, 'porcentagem_nan %', var_percent, True)\r\n",
    "\r\n",
    "    return df_nan"
   ],
   "outputs": [],
   "metadata": {}
  },
  {
   "cell_type": "code",
   "execution_count": null,
   "source": [
    "#df_nan = verfify_nan_values(enem_2020_selected)\r\n",
    "\r\n",
    "#df_nan"
   ],
   "outputs": [],
   "metadata": {}
  },
  {
   "cell_type": "markdown",
   "source": [
    "### Tratamento dos Valores Ausentes"
   ],
   "metadata": {}
  },
  {
   "cell_type": "code",
   "execution_count": null,
   "source": [
    "enem_2019_without_nan = enem_2019_selected.dropna(subset = ['NU_NOTA_CN'])\r\n",
    "enem_2018_without_nan = enem_2018_selected.dropna(subset = ['NU_NOTA_CN'])\r\n",
    "enem_2017_without_nan = enem_2017_selected.dropna(subset = ['NU_NOTA_CN'])\r\n",
    "enem_2016_without_nan = enem_2016_selected.dropna(subset = ['NU_NOTA_CN'])\r\n",
    "enem_2015_without_nan = enem_2015_selected.dropna(subset = ['NU_NOTA_CN'])\r\n",
    "enem_2014_without_nan = enem_2014_selected.dropna(subset = ['NU_NOTA_CN'])\r\n",
    "enem_2013_without_nan = enem_2013_selected.dropna(subset = ['NU_NOTA_CN'])\r\n",
    "enem_2012_without_nan = enem_2012_selected.dropna(subset = ['NU_NOTA_CN'])\r\n",
    "enem_2010_without_nan = enem_2010_selected.dropna(subset = ['NU_NOTA_CN'])"
   ],
   "outputs": [],
   "metadata": {}
  },
  {
   "cell_type": "markdown",
   "source": [
    "### Alterando Tipos das Variáveis"
   ],
   "metadata": {}
  },
  {
   "cell_type": "markdown",
   "source": [
    "1. Variáveis Quantitativas"
   ],
   "metadata": {}
  },
  {
   "cell_type": "code",
   "execution_count": null,
   "source": [
    "var_quant = ['NU_NOTA_CN', 'NU_NOTA_CH', 'NU_NOTA_LC', 'NU_NOTA_MT', 'NU_NOTA_REDACAO', 'Q005']"
   ],
   "outputs": [],
   "metadata": {}
  },
  {
   "cell_type": "code",
   "execution_count": null,
   "source": [
    "enem_2010_without_nan = enem_2010_without_nan.withColumn('NU_NOTA_CN',enem_2010_without_nan['NU_NOTA_CN'].cast('double')).withColumn('NU_NOTA_CH',enem_2010_without_nan['NU_NOTA_CH'].cast('double')).withColumn('NU_NOTA_LC',enem_2010_without_nan['NU_NOTA_LC'].cast('double')).withColumn('NU_NOTA_MT',enem_2010_without_nan['NU_NOTA_MT'].cast('double')).withColumn('NU_NOTA_REDACAO',enem_2010_without_nan['NU_NOTA_REDACAO'].cast('double')).withColumn('Q005',enem_2010_without_nan['Q005'].cast('int'))\r\n",
    "enem_2012_without_nan = enem_2012_without_nan.withColumn('NU_NOTA_CN',enem_2012_without_nan['NU_NOTA_CN'].cast('double')).withColumn('NU_NOTA_CH',enem_2012_without_nan['NU_NOTA_CH'].cast('double')).withColumn('NU_NOTA_LC',enem_2012_without_nan['NU_NOTA_LC'].cast('double')).withColumn('NU_NOTA_MT',enem_2012_without_nan['NU_NOTA_MT'].cast('double')).withColumn('NU_NOTA_REDACAO',enem_2012_without_nan['NU_NOTA_REDACAO'].cast('double'))\r\n",
    "enem_2013_without_nan = enem_2013_without_nan.withColumn('NU_NOTA_CN',enem_2013_without_nan['NU_NOTA_CN'].cast('double')).withColumn('NU_NOTA_CH',enem_2013_without_nan['NU_NOTA_CH'].cast('double')).withColumn('NU_NOTA_LC',enem_2013_without_nan['NU_NOTA_LC'].cast('double')).withColumn('NU_NOTA_MT',enem_2013_without_nan['NU_NOTA_MT'].cast('double')).withColumn('NU_NOTA_REDACAO',enem_2013_without_nan['NU_NOTA_REDACAO'].cast('double')).withColumn('Q005',enem_2013_without_nan['Q005'].cast('int'))\r\n",
    "enem_2014_without_nan = enem_2014_without_nan.withColumn('NU_NOTA_CN',enem_2014_without_nan['NU_NOTA_CN'].cast('double')).withColumn('NU_NOTA_CH',enem_2014_without_nan['NU_NOTA_CH'].cast('double')).withColumn('NU_NOTA_LC',enem_2014_without_nan['NU_NOTA_LC'].cast('double')).withColumn('NU_NOTA_MT',enem_2014_without_nan['NU_NOTA_MT'].cast('double')).withColumn('NU_NOTA_REDACAO',enem_2014_without_nan['NU_NOTA_REDACAO'].cast('double')).withColumn('Q005',enem_2014_without_nan['Q005'].cast('int'))\r\n",
    "enem_2015_without_nan = enem_2015_without_nan.withColumn('NU_NOTA_CN',enem_2015_without_nan['NU_NOTA_CN'].cast('double')).withColumn('NU_NOTA_CH',enem_2015_without_nan['NU_NOTA_CH'].cast('double')).withColumn('NU_NOTA_LC',enem_2015_without_nan['NU_NOTA_LC'].cast('double')).withColumn('NU_NOTA_MT',enem_2015_without_nan['NU_NOTA_MT'].cast('double')).withColumn('NU_NOTA_REDACAO',enem_2015_without_nan['NU_NOTA_REDACAO'].cast('double')).withColumn('Q005',enem_2015_without_nan['Q005'].cast('int'))\r\n",
    "enem_2016_without_nan = enem_2016_without_nan.withColumn('NU_NOTA_CN',enem_2016_without_nan['NU_NOTA_CN'].cast('double')).withColumn('NU_NOTA_CH',enem_2016_without_nan['NU_NOTA_CH'].cast('double')).withColumn('NU_NOTA_LC',enem_2016_without_nan['NU_NOTA_LC'].cast('double')).withColumn('NU_NOTA_MT',enem_2016_without_nan['NU_NOTA_MT'].cast('double')).withColumn('NU_NOTA_REDACAO',enem_2016_without_nan['NU_NOTA_REDACAO'].cast('double')).withColumn('Q005',enem_2016_without_nan['Q005'].cast('int'))\r\n",
    "enem_2017_without_nan = enem_2017_without_nan.withColumn('NU_NOTA_CN',enem_2017_without_nan['NU_NOTA_CN'].cast('double')).withColumn('NU_NOTA_CH',enem_2017_without_nan['NU_NOTA_CH'].cast('double')).withColumn('NU_NOTA_LC',enem_2017_without_nan['NU_NOTA_LC'].cast('double')).withColumn('NU_NOTA_MT',enem_2017_without_nan['NU_NOTA_MT'].cast('double')).withColumn('NU_NOTA_REDACAO',enem_2017_without_nan['NU_NOTA_REDACAO'].cast('double')).withColumn('Q005',enem_2017_without_nan['Q005'].cast('int'))\r\n",
    "enem_2018_without_nan = enem_2018_without_nan.withColumn('NU_NOTA_CN',enem_2018_without_nan['NU_NOTA_CN'].cast('double')).withColumn('NU_NOTA_CH',enem_2018_without_nan['NU_NOTA_CH'].cast('double')).withColumn('NU_NOTA_LC',enem_2018_without_nan['NU_NOTA_LC'].cast('double')).withColumn('NU_NOTA_MT',enem_2018_without_nan['NU_NOTA_MT'].cast('double')).withColumn('NU_NOTA_REDACAO',enem_2018_without_nan['NU_NOTA_REDACAO'].cast('double')).withColumn('Q005',enem_2018_without_nan['Q005'].cast('int'))\r\n",
    "enem_2019_without_nan = enem_2019_without_nan.withColumn('NU_NOTA_CN',enem_2019_without_nan['NU_NOTA_CN'].cast('double')).withColumn('NU_NOTA_CH',enem_2019_without_nan['NU_NOTA_CH'].cast('double')).withColumn('NU_NOTA_LC',enem_2019_without_nan['NU_NOTA_LC'].cast('double')).withColumn('NU_NOTA_MT',enem_2019_without_nan['NU_NOTA_MT'].cast('double')).withColumn('NU_NOTA_REDACAO',enem_2019_without_nan['NU_NOTA_REDACAO'].cast('double')).withColumn('Q005',enem_2019_without_nan['Q005'].cast('int'))\r\n"
   ],
   "outputs": [],
   "metadata": {}
  },
  {
   "cell_type": "markdown",
   "source": [
    "2. Variáveis Qualitativas"
   ],
   "metadata": {}
  },
  {
   "cell_type": "code",
   "execution_count": null,
   "source": [
    "var_quali = ['NU_ANO', 'TP_COR_RACA', 'TP_ESTADO_CIVIL','TP_SEXO', 'Q001', 'Q002', 'Q003', 'Q004', 'Q006']"
   ],
   "outputs": [],
   "metadata": {}
  },
  {
   "cell_type": "markdown",
   "source": [
    "### Transformando PySpark em Pandas"
   ],
   "metadata": {}
  },
  {
   "cell_type": "markdown",
   "source": [
    "### Criando Tabela Banco de Dados"
   ],
   "metadata": {}
  },
  {
   "cell_type": "markdown",
   "source": [
    "### Adicionando Valores a Tabela"
   ],
   "metadata": {}
  }
 ],
 "metadata": {
  "orig_nbformat": 4,
  "language_info": {
   "name": "python",
   "version": "3.9.7",
   "mimetype": "text/x-python",
   "codemirror_mode": {
    "name": "ipython",
    "version": 3
   },
   "pygments_lexer": "ipython3",
   "nbconvert_exporter": "python",
   "file_extension": ".py"
  },
  "kernelspec": {
   "name": "python3",
   "display_name": "Python 3.9.7 64-bit"
  },
  "interpreter": {
   "hash": "d716d3087447d732d408563f09e95056395e35756340cb54fdc49b8a8ffe1616"
  }
 },
 "nbformat": 4,
 "nbformat_minor": 2
}