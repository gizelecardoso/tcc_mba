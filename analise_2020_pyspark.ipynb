{
 "cells": [
  {
   "cell_type": "markdown",
   "source": [
    "# Análise ENEM 2020"
   ],
   "metadata": {}
  },
  {
   "cell_type": "markdown",
   "source": [
    "## Carregando Bibliotecas"
   ],
   "metadata": {}
  },
  {
   "cell_type": "markdown",
   "source": [
    "### Variável de ambiente"
   ],
   "metadata": {}
  },
  {
   "cell_type": "code",
   "execution_count": 1,
   "source": [
    "import os\r\n",
    "\r\n",
    "os.environ[\"SPARK_HOME\"] = \"D:\\spark\\spark-3.2.1-bin-hadoop3.2\"\r\n",
    "os.environ['HADOOP_HOME'] = \"D:\\spark\\spark-3.2.1-bin-hadoop3.2\\hadoop\" \r\n",
    "\r\n",
    "os.environ[\"PYARROW_IGNORE_TIMEZONE\"] = \"1\""
   ],
   "outputs": [],
   "metadata": {}
  },
  {
   "cell_type": "markdown",
   "source": [
    "### Pyspark"
   ],
   "metadata": {}
  },
  {
   "cell_type": "code",
   "execution_count": 2,
   "source": [
    "import findspark\r\n",
    "findspark.init()"
   ],
   "outputs": [],
   "metadata": {}
  },
  {
   "cell_type": "code",
   "execution_count": 3,
   "source": [
    "from pyspark.sql import SparkSession\r\n",
    "\r\n",
    "import pyspark.sql as py\r\n",
    "\r\n",
    "import pyspark.pandas as ps"
   ],
   "outputs": [],
   "metadata": {}
  },
  {
   "cell_type": "code",
   "execution_count": 4,
   "source": [
    "spark = SparkSession.builder.master('local[*]').getOrCreate()"
   ],
   "outputs": [],
   "metadata": {}
  },
  {
   "cell_type": "markdown",
   "source": [
    "### Visualização"
   ],
   "metadata": {}
  },
  {
   "cell_type": "code",
   "execution_count": 5,
   "source": [
    "import matplotlib.pyplot as plt\r\n",
    "import seaborn as sns\r\n",
    "\r\n",
    "sns.set()"
   ],
   "outputs": [],
   "metadata": {}
  },
  {
   "cell_type": "markdown",
   "source": [
    "## Carregando os dados"
   ],
   "metadata": {}
  },
  {
   "cell_type": "code",
   "execution_count": 6,
   "source": [
    "enem_2020 = ps.read_csv(\"base_dados/enem/microdados_enem2020/DADOS/MICRODADOS_ENEM_2020.csv\", sep=';')"
   ],
   "outputs": [],
   "metadata": {}
  },
  {
   "cell_type": "code",
   "execution_count": 7,
   "source": [
    "columns=['TP_FAIXA_ETARIA', 'TP_COR_RACA', 'TP_ESTADO_CIVIL' ,'TP_SEXO', 'TP_ST_CONCLUSAO', 'NU_NOTA_CN', 'NU_NOTA_CH', 'NU_NOTA_LC', 'NU_NOTA_MT', 'NU_NOTA_REDACAO', 'Q001', 'Q002', 'Q003', 'Q004', 'Q005', 'Q006']"
   ],
   "outputs": [],
   "metadata": {}
  },
  {
   "cell_type": "code",
   "execution_count": 9,
   "source": [
    "enem_2020_selected = enem_2020[columns]"
   ],
   "outputs": [],
   "metadata": {}
  },
  {
   "cell_type": "markdown",
   "source": [
    "## Verificando Valores Ausentes"
   ],
   "metadata": {}
  },
  {
   "cell_type": "markdown",
   "source": [
    "### Visualização"
   ],
   "metadata": {}
  },
  {
   "cell_type": "code",
   "execution_count": 10,
   "source": [
    "import plotly.graph_objects as go"
   ],
   "outputs": [],
   "metadata": {}
  },
  {
   "cell_type": "code",
   "execution_count": 11,
   "source": [
    "missing = enem_2020_selected.isnull().sum()\r\n",
    "missing = missing[missing > 0]\r\n",
    "missing.sort_values(inplace = True)"
   ],
   "outputs": [],
   "metadata": {}
  },
  {
   "cell_type": "code",
   "execution_count": 12,
   "source": [
    "texto_grafico = []\r\n",
    "for i in range(len(missing)):\r\n",
    "    texto_grafico.append(str(missing.values[i]))"
   ],
   "outputs": [
    {
     "output_type": "stream",
     "name": "stderr",
     "text": [
      "D:\\spark\\spark-3.2.1-bin-hadoop3.2\\python\\pyspark\\pandas\\generic.py:638: UserWarning: We recommend using `Series.to_numpy()` instead.\n",
      "  warnings.warn(\"We recommend using `{}.to_numpy()` instead.\".format(type(self).__name__))\n"
     ]
    }
   ],
   "metadata": {}
  },
  {
   "cell_type": "code",
   "execution_count": 13,
   "source": [
    "fig = go.Figure()\r\n",
    "\r\n",
    "fig.add_trace(go.Bar(\r\n",
    "    x=missing.index.tolist(),\r\n",
    "    y=missing.values,\r\n",
    "    #mode=\"markers+text\",\r\n",
    "    name=\"Markers and Text\",\r\n",
    "    text=texto_grafico,\r\n",
    "    textposition=\"outside\"\r\n",
    "))\r\n",
    "\r\n",
    "fig.update_layout(\r\n",
    "    autosize=False,\r\n",
    "    width=1000,\r\n",
    "    height=500)\r\n",
    "\r\n",
    "fig.update_layout(title_text=\"Quantidade de Dados Ausentes por Colunas (NAN)\",\r\n",
    "                  title_font_size=20)\r\n",
    "\r\n",
    "fig.update_xaxes(title_text=\"Colunas\")\r\n",
    "fig.update_yaxes(title_text=\"Quantidade de Valores Ausentes\")\r\n",
    "\r\n",
    "fig.show()"
   ],
   "outputs": [
    {
     "output_type": "stream",
     "name": "stderr",
     "text": [
      "D:\\spark\\spark-3.2.1-bin-hadoop3.2\\python\\pyspark\\pandas\\generic.py:638: UserWarning:\n",
      "\n",
      "We recommend using `Series.to_numpy()` instead.\n",
      "\n"
     ]
    },
    {
     "output_type": "display_data",
     "data": {
      "application/vnd.plotly.v1+json": {
       "data": [
        {
         "name": "Markers and Text",
         "text": [
          "95966",
          "95966",
          "95966",
          "95966",
          "95966",
          "95966",
          "3028969",
          "3028969",
          "3028969",
          "3185669",
          "3185669"
         ],
         "textposition": "outside",
         "x": [
          "Q001",
          "Q002",
          "Q003",
          "Q004",
          "Q005",
          "Q006",
          "NU_NOTA_CH",
          "NU_NOTA_LC",
          "NU_NOTA_REDACAO",
          "NU_NOTA_CN",
          "NU_NOTA_MT"
         ],
         "y": [
          95966,
          95966,
          95966,
          95966,
          95966,
          95966,
          3028969,
          3028969,
          3028969,
          3185669,
          3185669
         ],
         "type": "bar"
        }
       ],
       "layout": {
        "template": {
         "data": {
          "histogram2dcontour": [
           {
            "type": "histogram2dcontour",
            "colorbar": {
             "outlinewidth": 0,
             "ticks": ""
            },
            "colorscale": [
             [
              0,
              "#0d0887"
             ],
             [
              0.1111111111111111,
              "#46039f"
             ],
             [
              0.2222222222222222,
              "#7201a8"
             ],
             [
              0.3333333333333333,
              "#9c179e"
             ],
             [
              0.4444444444444444,
              "#bd3786"
             ],
             [
              0.5555555555555556,
              "#d8576b"
             ],
             [
              0.6666666666666666,
              "#ed7953"
             ],
             [
              0.7777777777777778,
              "#fb9f3a"
             ],
             [
              0.8888888888888888,
              "#fdca26"
             ],
             [
              1,
              "#f0f921"
             ]
            ]
           }
          ],
          "choropleth": [
           {
            "type": "choropleth",
            "colorbar": {
             "outlinewidth": 0,
             "ticks": ""
            }
           }
          ],
          "histogram2d": [
           {
            "type": "histogram2d",
            "colorbar": {
             "outlinewidth": 0,
             "ticks": ""
            },
            "colorscale": [
             [
              0,
              "#0d0887"
             ],
             [
              0.1111111111111111,
              "#46039f"
             ],
             [
              0.2222222222222222,
              "#7201a8"
             ],
             [
              0.3333333333333333,
              "#9c179e"
             ],
             [
              0.4444444444444444,
              "#bd3786"
             ],
             [
              0.5555555555555556,
              "#d8576b"
             ],
             [
              0.6666666666666666,
              "#ed7953"
             ],
             [
              0.7777777777777778,
              "#fb9f3a"
             ],
             [
              0.8888888888888888,
              "#fdca26"
             ],
             [
              1,
              "#f0f921"
             ]
            ]
           }
          ],
          "heatmap": [
           {
            "type": "heatmap",
            "colorbar": {
             "outlinewidth": 0,
             "ticks": ""
            },
            "colorscale": [
             [
              0,
              "#0d0887"
             ],
             [
              0.1111111111111111,
              "#46039f"
             ],
             [
              0.2222222222222222,
              "#7201a8"
             ],
             [
              0.3333333333333333,
              "#9c179e"
             ],
             [
              0.4444444444444444,
              "#bd3786"
             ],
             [
              0.5555555555555556,
              "#d8576b"
             ],
             [
              0.6666666666666666,
              "#ed7953"
             ],
             [
              0.7777777777777778,
              "#fb9f3a"
             ],
             [
              0.8888888888888888,
              "#fdca26"
             ],
             [
              1,
              "#f0f921"
             ]
            ]
           }
          ],
          "heatmapgl": [
           {
            "type": "heatmapgl",
            "colorbar": {
             "outlinewidth": 0,
             "ticks": ""
            },
            "colorscale": [
             [
              0,
              "#0d0887"
             ],
             [
              0.1111111111111111,
              "#46039f"
             ],
             [
              0.2222222222222222,
              "#7201a8"
             ],
             [
              0.3333333333333333,
              "#9c179e"
             ],
             [
              0.4444444444444444,
              "#bd3786"
             ],
             [
              0.5555555555555556,
              "#d8576b"
             ],
             [
              0.6666666666666666,
              "#ed7953"
             ],
             [
              0.7777777777777778,
              "#fb9f3a"
             ],
             [
              0.8888888888888888,
              "#fdca26"
             ],
             [
              1,
              "#f0f921"
             ]
            ]
           }
          ],
          "contourcarpet": [
           {
            "type": "contourcarpet",
            "colorbar": {
             "outlinewidth": 0,
             "ticks": ""
            }
           }
          ],
          "contour": [
           {
            "type": "contour",
            "colorbar": {
             "outlinewidth": 0,
             "ticks": ""
            },
            "colorscale": [
             [
              0,
              "#0d0887"
             ],
             [
              0.1111111111111111,
              "#46039f"
             ],
             [
              0.2222222222222222,
              "#7201a8"
             ],
             [
              0.3333333333333333,
              "#9c179e"
             ],
             [
              0.4444444444444444,
              "#bd3786"
             ],
             [
              0.5555555555555556,
              "#d8576b"
             ],
             [
              0.6666666666666666,
              "#ed7953"
             ],
             [
              0.7777777777777778,
              "#fb9f3a"
             ],
             [
              0.8888888888888888,
              "#fdca26"
             ],
             [
              1,
              "#f0f921"
             ]
            ]
           }
          ],
          "surface": [
           {
            "type": "surface",
            "colorbar": {
             "outlinewidth": 0,
             "ticks": ""
            },
            "colorscale": [
             [
              0,
              "#0d0887"
             ],
             [
              0.1111111111111111,
              "#46039f"
             ],
             [
              0.2222222222222222,
              "#7201a8"
             ],
             [
              0.3333333333333333,
              "#9c179e"
             ],
             [
              0.4444444444444444,
              "#bd3786"
             ],
             [
              0.5555555555555556,
              "#d8576b"
             ],
             [
              0.6666666666666666,
              "#ed7953"
             ],
             [
              0.7777777777777778,
              "#fb9f3a"
             ],
             [
              0.8888888888888888,
              "#fdca26"
             ],
             [
              1,
              "#f0f921"
             ]
            ]
           }
          ],
          "mesh3d": [
           {
            "type": "mesh3d",
            "colorbar": {
             "outlinewidth": 0,
             "ticks": ""
            }
           }
          ],
          "scatter": [
           {
            "fillpattern": {
             "fillmode": "overlay",
             "size": 10,
             "solidity": 0.2
            },
            "type": "scatter"
           }
          ],
          "parcoords": [
           {
            "type": "parcoords",
            "line": {
             "colorbar": {
              "outlinewidth": 0,
              "ticks": ""
             }
            }
           }
          ],
          "scatterpolargl": [
           {
            "type": "scatterpolargl",
            "marker": {
             "colorbar": {
              "outlinewidth": 0,
              "ticks": ""
             }
            }
           }
          ],
          "bar": [
           {
            "error_x": {
             "color": "#2a3f5f"
            },
            "error_y": {
             "color": "#2a3f5f"
            },
            "marker": {
             "line": {
              "color": "#E5ECF6",
              "width": 0.5
             },
             "pattern": {
              "fillmode": "overlay",
              "size": 10,
              "solidity": 0.2
             }
            },
            "type": "bar"
           }
          ],
          "scattergeo": [
           {
            "type": "scattergeo",
            "marker": {
             "colorbar": {
              "outlinewidth": 0,
              "ticks": ""
             }
            }
           }
          ],
          "scatterpolar": [
           {
            "type": "scatterpolar",
            "marker": {
             "colorbar": {
              "outlinewidth": 0,
              "ticks": ""
             }
            }
           }
          ],
          "histogram": [
           {
            "marker": {
             "pattern": {
              "fillmode": "overlay",
              "size": 10,
              "solidity": 0.2
             }
            },
            "type": "histogram"
           }
          ],
          "scattergl": [
           {
            "type": "scattergl",
            "marker": {
             "colorbar": {
              "outlinewidth": 0,
              "ticks": ""
             }
            }
           }
          ],
          "scatter3d": [
           {
            "type": "scatter3d",
            "line": {
             "colorbar": {
              "outlinewidth": 0,
              "ticks": ""
             }
            },
            "marker": {
             "colorbar": {
              "outlinewidth": 0,
              "ticks": ""
             }
            }
           }
          ],
          "scattermapbox": [
           {
            "type": "scattermapbox",
            "marker": {
             "colorbar": {
              "outlinewidth": 0,
              "ticks": ""
             }
            }
           }
          ],
          "scatterternary": [
           {
            "type": "scatterternary",
            "marker": {
             "colorbar": {
              "outlinewidth": 0,
              "ticks": ""
             }
            }
           }
          ],
          "scattercarpet": [
           {
            "type": "scattercarpet",
            "marker": {
             "colorbar": {
              "outlinewidth": 0,
              "ticks": ""
             }
            }
           }
          ],
          "carpet": [
           {
            "aaxis": {
             "endlinecolor": "#2a3f5f",
             "gridcolor": "white",
             "linecolor": "white",
             "minorgridcolor": "white",
             "startlinecolor": "#2a3f5f"
            },
            "baxis": {
             "endlinecolor": "#2a3f5f",
             "gridcolor": "white",
             "linecolor": "white",
             "minorgridcolor": "white",
             "startlinecolor": "#2a3f5f"
            },
            "type": "carpet"
           }
          ],
          "table": [
           {
            "cells": {
             "fill": {
              "color": "#EBF0F8"
             },
             "line": {
              "color": "white"
             }
            },
            "header": {
             "fill": {
              "color": "#C8D4E3"
             },
             "line": {
              "color": "white"
             }
            },
            "type": "table"
           }
          ],
          "barpolar": [
           {
            "marker": {
             "line": {
              "color": "#E5ECF6",
              "width": 0.5
             },
             "pattern": {
              "fillmode": "overlay",
              "size": 10,
              "solidity": 0.2
             }
            },
            "type": "barpolar"
           }
          ],
          "pie": [
           {
            "automargin": true,
            "type": "pie"
           }
          ]
         },
         "layout": {
          "autotypenumbers": "strict",
          "colorway": [
           "#636efa",
           "#EF553B",
           "#00cc96",
           "#ab63fa",
           "#FFA15A",
           "#19d3f3",
           "#FF6692",
           "#B6E880",
           "#FF97FF",
           "#FECB52"
          ],
          "font": {
           "color": "#2a3f5f"
          },
          "hovermode": "closest",
          "hoverlabel": {
           "align": "left"
          },
          "paper_bgcolor": "white",
          "plot_bgcolor": "#E5ECF6",
          "polar": {
           "bgcolor": "#E5ECF6",
           "angularaxis": {
            "gridcolor": "white",
            "linecolor": "white",
            "ticks": ""
           },
           "radialaxis": {
            "gridcolor": "white",
            "linecolor": "white",
            "ticks": ""
           }
          },
          "ternary": {
           "bgcolor": "#E5ECF6",
           "aaxis": {
            "gridcolor": "white",
            "linecolor": "white",
            "ticks": ""
           },
           "baxis": {
            "gridcolor": "white",
            "linecolor": "white",
            "ticks": ""
           },
           "caxis": {
            "gridcolor": "white",
            "linecolor": "white",
            "ticks": ""
           }
          },
          "coloraxis": {
           "colorbar": {
            "outlinewidth": 0,
            "ticks": ""
           }
          },
          "colorscale": {
           "sequential": [
            [
             0,
             "#0d0887"
            ],
            [
             0.1111111111111111,
             "#46039f"
            ],
            [
             0.2222222222222222,
             "#7201a8"
            ],
            [
             0.3333333333333333,
             "#9c179e"
            ],
            [
             0.4444444444444444,
             "#bd3786"
            ],
            [
             0.5555555555555556,
             "#d8576b"
            ],
            [
             0.6666666666666666,
             "#ed7953"
            ],
            [
             0.7777777777777778,
             "#fb9f3a"
            ],
            [
             0.8888888888888888,
             "#fdca26"
            ],
            [
             1,
             "#f0f921"
            ]
           ],
           "sequentialminus": [
            [
             0,
             "#0d0887"
            ],
            [
             0.1111111111111111,
             "#46039f"
            ],
            [
             0.2222222222222222,
             "#7201a8"
            ],
            [
             0.3333333333333333,
             "#9c179e"
            ],
            [
             0.4444444444444444,
             "#bd3786"
            ],
            [
             0.5555555555555556,
             "#d8576b"
            ],
            [
             0.6666666666666666,
             "#ed7953"
            ],
            [
             0.7777777777777778,
             "#fb9f3a"
            ],
            [
             0.8888888888888888,
             "#fdca26"
            ],
            [
             1,
             "#f0f921"
            ]
           ],
           "diverging": [
            [
             0,
             "#8e0152"
            ],
            [
             0.1,
             "#c51b7d"
            ],
            [
             0.2,
             "#de77ae"
            ],
            [
             0.3,
             "#f1b6da"
            ],
            [
             0.4,
             "#fde0ef"
            ],
            [
             0.5,
             "#f7f7f7"
            ],
            [
             0.6,
             "#e6f5d0"
            ],
            [
             0.7,
             "#b8e186"
            ],
            [
             0.8,
             "#7fbc41"
            ],
            [
             0.9,
             "#4d9221"
            ],
            [
             1,
             "#276419"
            ]
           ]
          },
          "xaxis": {
           "gridcolor": "white",
           "linecolor": "white",
           "ticks": "",
           "title": {
            "standoff": 15
           },
           "zerolinecolor": "white",
           "automargin": true,
           "zerolinewidth": 2
          },
          "yaxis": {
           "gridcolor": "white",
           "linecolor": "white",
           "ticks": "",
           "title": {
            "standoff": 15
           },
           "zerolinecolor": "white",
           "automargin": true,
           "zerolinewidth": 2
          },
          "scene": {
           "xaxis": {
            "backgroundcolor": "#E5ECF6",
            "gridcolor": "white",
            "linecolor": "white",
            "showbackground": true,
            "ticks": "",
            "zerolinecolor": "white",
            "gridwidth": 2
           },
           "yaxis": {
            "backgroundcolor": "#E5ECF6",
            "gridcolor": "white",
            "linecolor": "white",
            "showbackground": true,
            "ticks": "",
            "zerolinecolor": "white",
            "gridwidth": 2
           },
           "zaxis": {
            "backgroundcolor": "#E5ECF6",
            "gridcolor": "white",
            "linecolor": "white",
            "showbackground": true,
            "ticks": "",
            "zerolinecolor": "white",
            "gridwidth": 2
           }
          },
          "shapedefaults": {
           "line": {
            "color": "#2a3f5f"
           }
          },
          "annotationdefaults": {
           "arrowcolor": "#2a3f5f",
           "arrowhead": 0,
           "arrowwidth": 1
          },
          "geo": {
           "bgcolor": "white",
           "landcolor": "#E5ECF6",
           "subunitcolor": "white",
           "showland": true,
           "showlakes": true,
           "lakecolor": "white"
          },
          "title": {
           "x": 0.05
          },
          "mapbox": {
           "style": "light"
          }
         }
        },
        "autosize": false,
        "width": 1000,
        "height": 500,
        "title": {
         "font": {
          "size": 20
         },
         "text": "Quantidade de Dados Ausentes por Colunas (NAN)"
        },
        "xaxis": {
         "title": {
          "text": "Colunas"
         }
        },
        "yaxis": {
         "title": {
          "text": "Quantidade de Valores Ausentes"
         }
        }
       },
       "config": {
        "plotlyServerURL": "https://plot.ly"
       }
      }
     },
     "metadata": {}
    }
   ],
   "metadata": {}
  },
  {
   "cell_type": "markdown",
   "source": [
    "### Tabela com Porcentagem"
   ],
   "metadata": {}
  },
  {
   "cell_type": "code",
   "execution_count": 14,
   "source": [
    "var_with_nan = []\r\n",
    "def verfify_nan_values(df):\r\n",
    "    var_without_nan = []\r\n",
    "    var_column = []\r\n",
    "    var_percent = []\r\n",
    "    total = df.shape[0]\r\n",
    "    count = 0\r\n",
    "    for index, value in df.isna().sum().iteritems():\r\n",
    "        if value == 0:\r\n",
    "            var_without_nan.append(index)\r\n",
    "        else:\r\n",
    "            percent_with_nan = (value / total) * 100\r\n",
    "            var_with_nan.append(count)\r\n",
    "            var_column.append(index)\r\n",
    "            var_percent.append(percent_with_nan)\r\n",
    "        count  = count + 1\r\n",
    "\r\n",
    "    d = {'coluna': var_column, 'porcentagem_nan %': var_percent}\r\n",
    "    df_nan = ps.DataFrame(data=d)\r\n",
    "\r\n",
    "    return df_nan"
   ],
   "outputs": [],
   "metadata": {}
  },
  {
   "cell_type": "code",
   "execution_count": 15,
   "source": [
    "df_nan = verfify_nan_values(enem_2020_selected)\r\n",
    "\r\n",
    "df_nan"
   ],
   "outputs": [
    {
     "output_type": "execute_result",
     "data": {
      "text/html": [
       "<div>\n",
       "<style scoped>\n",
       "    .dataframe tbody tr th:only-of-type {\n",
       "        vertical-align: middle;\n",
       "    }\n",
       "\n",
       "    .dataframe tbody tr th {\n",
       "        vertical-align: top;\n",
       "    }\n",
       "\n",
       "    .dataframe thead th {\n",
       "        text-align: right;\n",
       "    }\n",
       "</style>\n",
       "<table border=\"1\" class=\"dataframe\">\n",
       "  <thead>\n",
       "    <tr style=\"text-align: right;\">\n",
       "      <th></th>\n",
       "      <th>coluna</th>\n",
       "      <th>porcentagem_nan %</th>\n",
       "    </tr>\n",
       "  </thead>\n",
       "  <tbody>\n",
       "    <tr>\n",
       "      <th>0</th>\n",
       "      <td>NU_NOTA_CN</td>\n",
       "      <td>55.085751</td>\n",
       "    </tr>\n",
       "    <tr>\n",
       "      <th>1</th>\n",
       "      <td>NU_NOTA_CH</td>\n",
       "      <td>52.376135</td>\n",
       "    </tr>\n",
       "    <tr>\n",
       "      <th>2</th>\n",
       "      <td>NU_NOTA_LC</td>\n",
       "      <td>52.376135</td>\n",
       "    </tr>\n",
       "    <tr>\n",
       "      <th>3</th>\n",
       "      <td>NU_NOTA_MT</td>\n",
       "      <td>55.085751</td>\n",
       "    </tr>\n",
       "    <tr>\n",
       "      <th>4</th>\n",
       "      <td>NU_NOTA_REDACAO</td>\n",
       "      <td>52.376135</td>\n",
       "    </tr>\n",
       "    <tr>\n",
       "      <th>5</th>\n",
       "      <td>Q001</td>\n",
       "      <td>1.659419</td>\n",
       "    </tr>\n",
       "    <tr>\n",
       "      <th>6</th>\n",
       "      <td>Q002</td>\n",
       "      <td>1.659419</td>\n",
       "    </tr>\n",
       "    <tr>\n",
       "      <th>7</th>\n",
       "      <td>Q003</td>\n",
       "      <td>1.659419</td>\n",
       "    </tr>\n",
       "    <tr>\n",
       "      <th>8</th>\n",
       "      <td>Q004</td>\n",
       "      <td>1.659419</td>\n",
       "    </tr>\n",
       "    <tr>\n",
       "      <th>9</th>\n",
       "      <td>Q005</td>\n",
       "      <td>1.659419</td>\n",
       "    </tr>\n",
       "    <tr>\n",
       "      <th>10</th>\n",
       "      <td>Q006</td>\n",
       "      <td>1.659419</td>\n",
       "    </tr>\n",
       "  </tbody>\n",
       "</table>\n",
       "</div>"
      ],
      "text/plain": [
       "             coluna  porcentagem_nan %\n",
       "0        NU_NOTA_CN          55.085751\n",
       "1        NU_NOTA_CH          52.376135\n",
       "2        NU_NOTA_LC          52.376135\n",
       "3        NU_NOTA_MT          55.085751\n",
       "4   NU_NOTA_REDACAO          52.376135\n",
       "5              Q001           1.659419\n",
       "6              Q002           1.659419\n",
       "7              Q003           1.659419\n",
       "8              Q004           1.659419\n",
       "9              Q005           1.659419\n",
       "10             Q006           1.659419"
      ]
     },
     "metadata": {},
     "execution_count": 15
    }
   ],
   "metadata": {}
  },
  {
   "cell_type": "markdown",
   "source": [
    "### Tratamento dos Dados Ausentes"
   ],
   "metadata": {}
  },
  {
   "cell_type": "code",
   "execution_count": 16,
   "source": [
    "enem_2020_without_nan = enem_2020_selected.dropna(subset = ['NU_NOTA_CN', 'NU_NOTA_CH', 'Q001'])"
   ],
   "outputs": [],
   "metadata": {}
  },
  {
   "cell_type": "markdown",
   "source": [
    "## Adicionando Média das Notas"
   ],
   "metadata": {}
  },
  {
   "cell_type": "markdown",
   "source": [
    "Pesquisa com Base curso de Medicina na USP\r\n",
    "\r\n",
    "https://www.sisu.pro.br/sisu/sisu-2021-usp-2.html#:~:text=Pesos%20para%20Medicina&text=Linguagens%20e%20C%C3%B3digos%3A%202%C3%97,Matem%C3%A1tica%3A%203%C3%97500%20%3D%201.500\r\n",
    "\r\n",
    "* Redação: 2\r\n",
    "* Linguagens e Códigos: 2\r\n",
    "* Ciências Humanas: 2\r\n",
    "* Ciências da Natureza: 4\r\n",
    "* Matemática: 3"
   ],
   "metadata": {}
  },
  {
   "cell_type": "code",
   "execution_count": 17,
   "source": [
    "def mean_med(df):\r\n",
    "    df['MEDIA_MED'] = ( \r\n",
    "        df['NU_NOTA_CN'] * 4 + \r\n",
    "        df['NU_NOTA_CH'] * 2 + \r\n",
    "        df['NU_NOTA_LC'] * 2 + \r\n",
    "        df['NU_NOTA_MT'] * 3 + \r\n",
    "        df['NU_NOTA_REDACAO'] * 2\r\n",
    "    ) / (4+2+2+3+2)"
   ],
   "outputs": [],
   "metadata": {}
  },
  {
   "cell_type": "code",
   "execution_count": 18,
   "source": [
    "mean_med(enem_2020_without_nan)"
   ],
   "outputs": [],
   "metadata": {}
  },
  {
   "cell_type": "markdown",
   "source": [
    "Pesquisa com Base curso de Administração na Unicentro Paraná\r\n",
    "\r\n",
    "https://www3.unicentro.br/vestibular/sisu/cursos-e-pesos/\r\n",
    "\r\n",
    "\r\n",
    "* Redação: 1\r\n",
    "* Linguagens e Códigos: 2\r\n",
    "* Ciências Humanas: 2\r\n",
    "* Ciências da Natureza: 2\r\n",
    "* Matemática: 3"
   ],
   "metadata": {}
  },
  {
   "cell_type": "code",
   "execution_count": 19,
   "source": [
    "def mean_adm(df):\r\n",
    "    df['MEDIA_ADM'] = ( \r\n",
    "        df['NU_NOTA_CN'] * 2 + \r\n",
    "        df['NU_NOTA_CH'] * 2 + \r\n",
    "        df['NU_NOTA_LC'] * 2 + \r\n",
    "        df['NU_NOTA_MT'] * 3 + \r\n",
    "        df['NU_NOTA_REDACAO'] * 1\r\n",
    "    ) / (2+2+2+3+1)"
   ],
   "outputs": [],
   "metadata": {}
  },
  {
   "cell_type": "code",
   "execution_count": 20,
   "source": [
    "mean_adm(enem_2020_without_nan)"
   ],
   "outputs": [],
   "metadata": {}
  },
  {
   "cell_type": "markdown",
   "source": [
    "## Análise dos Agrupamentos"
   ],
   "metadata": {}
  },
  {
   "cell_type": "code",
   "execution_count": 21,
   "source": [
    "enem_2020_without_nan.columns"
   ],
   "outputs": [
    {
     "output_type": "execute_result",
     "data": {
      "text/plain": [
       "Index(['NU_IDADE', 'TP_COR_RACA', 'TP_ESTADO_CIVIL', 'TP_SEXO',\n",
       "       'TP_ST_CONCLUSAO', 'NU_NOTA_CN', 'NU_NOTA_CH', 'NU_NOTA_LC',\n",
       "       'NU_NOTA_MT', 'NU_NOTA_REDACAO', 'Q001', 'Q002', 'Q003', 'Q004', 'Q005',\n",
       "       'Q006', 'MEDIA_MED', 'MEDIA_ADM'],\n",
       "      dtype='object')"
      ]
     },
     "metadata": {},
     "execution_count": 21
    }
   ],
   "metadata": {}
  },
  {
   "cell_type": "markdown",
   "source": [
    "#### Media por Raça"
   ],
   "metadata": {}
  },
  {
   "cell_type": "code",
   "execution_count": 22,
   "source": [
    "enem_group_raca_media = enem_2020_without_nan[['TP_COR_RACA', 'MEDIA_MED', 'MEDIA_ADM']].groupby(['TP_COR_RACA']).mean()"
   ],
   "outputs": [],
   "metadata": {}
  },
  {
   "cell_type": "code",
   "execution_count": 23,
   "source": [
    "enem_group_raca_media = enem_group_raca_media.reset_index()"
   ],
   "outputs": [],
   "metadata": {}
  },
  {
   "cell_type": "code",
   "execution_count": 24,
   "source": [
    "legenda_raca = {\r\n",
    "0 : 'Não declarado',\r\n",
    "1 : 'Branca',\r\n",
    "2 : 'Preta',\r\n",
    "3 : 'Parda',\r\n",
    "4 : 'Amarela',\r\n",
    "5 : 'Indígena',\r\n",
    "6 : 'Não dispõe da informação'\r\n",
    "}"
   ],
   "outputs": [],
   "metadata": {}
  },
  {
   "cell_type": "code",
   "execution_count": 25,
   "source": [
    "enem_group_raca_media['TP_COR_RACA'] = enem_group_raca_media['TP_COR_RACA'].map(legenda_raca)"
   ],
   "outputs": [],
   "metadata": {}
  },
  {
   "cell_type": "code",
   "execution_count": 26,
   "source": [
    "enem_group_raca_media.sort_values(by=['MEDIA_MED'])"
   ],
   "outputs": [
    {
     "output_type": "execute_result",
     "data": {
      "text/html": [
       "<div>\n",
       "<style scoped>\n",
       "    .dataframe tbody tr th:only-of-type {\n",
       "        vertical-align: middle;\n",
       "    }\n",
       "\n",
       "    .dataframe tbody tr th {\n",
       "        vertical-align: top;\n",
       "    }\n",
       "\n",
       "    .dataframe thead th {\n",
       "        text-align: right;\n",
       "    }\n",
       "</style>\n",
       "<table border=\"1\" class=\"dataframe\">\n",
       "  <thead>\n",
       "    <tr style=\"text-align: right;\">\n",
       "      <th></th>\n",
       "      <th>TP_COR_RACA</th>\n",
       "      <th>MEDIA_MED</th>\n",
       "      <th>MEDIA_ADM</th>\n",
       "    </tr>\n",
       "  </thead>\n",
       "  <tbody>\n",
       "    <tr>\n",
       "      <th>2</th>\n",
       "      <td>Indígena</td>\n",
       "      <td>468.917145</td>\n",
       "      <td>469.380467</td>\n",
       "    </tr>\n",
       "    <tr>\n",
       "      <th>4</th>\n",
       "      <td>Preta</td>\n",
       "      <td>495.053620</td>\n",
       "      <td>495.231243</td>\n",
       "    </tr>\n",
       "    <tr>\n",
       "      <th>1</th>\n",
       "      <td>Parda</td>\n",
       "      <td>502.918815</td>\n",
       "      <td>502.675000</td>\n",
       "    </tr>\n",
       "    <tr>\n",
       "      <th>3</th>\n",
       "      <td>Amarela</td>\n",
       "      <td>519.638740</td>\n",
       "      <td>519.290911</td>\n",
       "    </tr>\n",
       "    <tr>\n",
       "      <th>5</th>\n",
       "      <td>Não declarado</td>\n",
       "      <td>528.470517</td>\n",
       "      <td>528.840026</td>\n",
       "    </tr>\n",
       "    <tr>\n",
       "      <th>0</th>\n",
       "      <td>Branca</td>\n",
       "      <td>550.124117</td>\n",
       "      <td>550.145222</td>\n",
       "    </tr>\n",
       "  </tbody>\n",
       "</table>\n",
       "</div>"
      ],
      "text/plain": [
       "     TP_COR_RACA   MEDIA_MED   MEDIA_ADM\n",
       "2       Indígena  468.917145  469.380467\n",
       "4          Preta  495.053620  495.231243\n",
       "1          Parda  502.918815  502.675000\n",
       "3        Amarela  519.638740  519.290911\n",
       "5  Não declarado  528.470517  528.840026\n",
       "0         Branca  550.124117  550.145222"
      ]
     },
     "metadata": {},
     "execution_count": 26
    }
   ],
   "metadata": {}
  },
  {
   "cell_type": "markdown",
   "source": [
    "#### Media por Renda"
   ],
   "metadata": {}
  },
  {
   "cell_type": "code",
   "execution_count": 45,
   "source": [
    "legenda_renda = {\r\n",
    "'A':'Nenhuma Renda',\r\n",
    "'B':'Até R$ 1.045,00',\r\n",
    "'C':'De R$ 1.045,01 até R$ 1.567,50',\r\n",
    "'D':'De R$ 1.567,51 até R$ 2.090,00',\r\n",
    "'E':'De R$ 2.090,01 até R$ 2.612,50',\r\n",
    "'F':'De R$ 2.612,51 até R$ 3.135,00',\r\n",
    "'G':'De R$ 3.135,01 até R$ 4.180,00',\r\n",
    "'H':'De R$ 4.180,01 até R$ 5.225,00',\r\n",
    "'I':'De R$ 5.225,01 até R$ 6.270,00',\r\n",
    "'J':'De R$ 6.270,01 até R$ 7.315,00',\r\n",
    "'K':'De R$ 7.315,01 até R$ 8.360,00',\r\n",
    "'L':'De R$ 8.360,01 até R$ 9.405,00',\r\n",
    "'M':'De R$ 9.405,01 até R$ 10.450,00',\r\n",
    "'N':'De R$ 10.450,01 até R$ 12.540,00',\r\n",
    "'O':'De R$ 12.540,01 até R$ 15.675,00',\r\n",
    "'P':'De R$ 15.675,01 até R$ 20.900,00',\r\n",
    "'Q':'Acima de R$ 20.900,00'\r\n",
    "}"
   ],
   "outputs": [],
   "metadata": {}
  },
  {
   "cell_type": "code",
   "execution_count": 40,
   "source": [
    "enem_group_renda_media = enem_2020_without_nan[['Q006', 'MEDIA_MED', 'MEDIA_ADM']].groupby(['Q006']).mean()"
   ],
   "outputs": [],
   "metadata": {}
  },
  {
   "cell_type": "code",
   "execution_count": 42,
   "source": [
    "enem_group_renda_media = enem_group_renda_media.reset_index()"
   ],
   "outputs": [],
   "metadata": {}
  },
  {
   "cell_type": "code",
   "execution_count": 47,
   "source": [
    "enem_group_renda_media['Q006'] = enem_group_renda_media['Q006'].map(legenda_renda)"
   ],
   "outputs": [],
   "metadata": {}
  },
  {
   "cell_type": "code",
   "execution_count": 49,
   "source": [
    "enem_group_renda_media.rename(columns={'Q006': 'Faixa Renda'}, inplace=True)"
   ],
   "outputs": [],
   "metadata": {}
  },
  {
   "cell_type": "code",
   "execution_count": 48,
   "source": [
    "enem_group_renda_media.sort_values(by=['MEDIA_MED'])"
   ],
   "outputs": [
    {
     "output_type": "execute_result",
     "data": {
      "text/html": [
       "<div>\n",
       "<style scoped>\n",
       "    .dataframe tbody tr th:only-of-type {\n",
       "        vertical-align: middle;\n",
       "    }\n",
       "\n",
       "    .dataframe tbody tr th {\n",
       "        vertical-align: top;\n",
       "    }\n",
       "\n",
       "    .dataframe thead th {\n",
       "        text-align: right;\n",
       "    }\n",
       "</style>\n",
       "<table border=\"1\" class=\"dataframe\">\n",
       "  <thead>\n",
       "    <tr style=\"text-align: right;\">\n",
       "      <th></th>\n",
       "      <th>Q006</th>\n",
       "      <th>MEDIA_MED</th>\n",
       "      <th>MEDIA_ADM</th>\n",
       "    </tr>\n",
       "  </thead>\n",
       "  <tbody>\n",
       "    <tr>\n",
       "      <th>11</th>\n",
       "      <td>Nenhuma Renda</td>\n",
       "      <td>465.499549</td>\n",
       "      <td>465.419109</td>\n",
       "    </tr>\n",
       "    <tr>\n",
       "      <th>4</th>\n",
       "      <td>Até R$ 1.045,00</td>\n",
       "      <td>481.967149</td>\n",
       "      <td>481.647560</td>\n",
       "    </tr>\n",
       "    <tr>\n",
       "      <th>9</th>\n",
       "      <td>De R$ 1.045,01 até R$ 1.567,50</td>\n",
       "      <td>505.112431</td>\n",
       "      <td>505.409640</td>\n",
       "    </tr>\n",
       "    <tr>\n",
       "      <th>7</th>\n",
       "      <td>De R$ 1.567,51 até R$ 2.090,00</td>\n",
       "      <td>519.198730</td>\n",
       "      <td>519.609885</td>\n",
       "    </tr>\n",
       "    <tr>\n",
       "      <th>3</th>\n",
       "      <td>De R$ 2.090,01 até R$ 2.612,50</td>\n",
       "      <td>535.807729</td>\n",
       "      <td>536.251117</td>\n",
       "    </tr>\n",
       "    <tr>\n",
       "      <th>1</th>\n",
       "      <td>De R$ 2.612,51 até R$ 3.135,00</td>\n",
       "      <td>545.886771</td>\n",
       "      <td>545.904329</td>\n",
       "    </tr>\n",
       "    <tr>\n",
       "      <th>13</th>\n",
       "      <td>De R$ 3.135,01 até R$ 4.180,00</td>\n",
       "      <td>562.498036</td>\n",
       "      <td>562.365734</td>\n",
       "    </tr>\n",
       "    <tr>\n",
       "      <th>16</th>\n",
       "      <td>De R$ 4.180,01 até R$ 5.225,00</td>\n",
       "      <td>576.821714</td>\n",
       "      <td>576.370507</td>\n",
       "    </tr>\n",
       "    <tr>\n",
       "      <th>14</th>\n",
       "      <td>De R$ 5.225,01 até R$ 6.270,00</td>\n",
       "      <td>587.379963</td>\n",
       "      <td>586.665846</td>\n",
       "    </tr>\n",
       "    <tr>\n",
       "      <th>10</th>\n",
       "      <td>De R$ 6.270,01 até R$ 7.315,00</td>\n",
       "      <td>595.391831</td>\n",
       "      <td>594.571242</td>\n",
       "    </tr>\n",
       "    <tr>\n",
       "      <th>0</th>\n",
       "      <td>De R$ 7.315,01 até R$ 8.360,00</td>\n",
       "      <td>601.802039</td>\n",
       "      <td>601.025558</td>\n",
       "    </tr>\n",
       "    <tr>\n",
       "      <th>5</th>\n",
       "      <td>De R$ 8.360,01 até R$ 9.405,00</td>\n",
       "      <td>605.940792</td>\n",
       "      <td>605.007058</td>\n",
       "    </tr>\n",
       "    <tr>\n",
       "      <th>6</th>\n",
       "      <td>De R$ 9.405,01 até R$ 10.450,00</td>\n",
       "      <td>610.445022</td>\n",
       "      <td>609.595355</td>\n",
       "    </tr>\n",
       "    <tr>\n",
       "      <th>12</th>\n",
       "      <td>De R$ 10.450,01 até R$ 12.540,00</td>\n",
       "      <td>616.641350</td>\n",
       "      <td>615.845493</td>\n",
       "    </tr>\n",
       "    <tr>\n",
       "      <th>8</th>\n",
       "      <td>De R$ 12.540,01 até R$ 15.675,00</td>\n",
       "      <td>622.671652</td>\n",
       "      <td>621.920462</td>\n",
       "    </tr>\n",
       "    <tr>\n",
       "      <th>15</th>\n",
       "      <td>De R$ 15.675,01 até R$ 20.900,00</td>\n",
       "      <td>629.771597</td>\n",
       "      <td>629.088310</td>\n",
       "    </tr>\n",
       "    <tr>\n",
       "      <th>2</th>\n",
       "      <td>Acima de R$ 20.900,00</td>\n",
       "      <td>637.723574</td>\n",
       "      <td>637.813048</td>\n",
       "    </tr>\n",
       "  </tbody>\n",
       "</table>\n",
       "</div>"
      ],
      "text/plain": [
       "                                Q006   MEDIA_MED   MEDIA_ADM\n",
       "11                     Nenhuma Renda  465.499549  465.419109\n",
       "4                    Até R$ 1.045,00  481.967149  481.647560\n",
       "9     De R$ 1.045,01 até R$ 1.567,50  505.112431  505.409640\n",
       "7     De R$ 1.567,51 até R$ 2.090,00  519.198730  519.609885\n",
       "3     De R$ 2.090,01 até R$ 2.612,50  535.807729  536.251117\n",
       "1     De R$ 2.612,51 até R$ 3.135,00  545.886771  545.904329\n",
       "13    De R$ 3.135,01 até R$ 4.180,00  562.498036  562.365734\n",
       "16    De R$ 4.180,01 até R$ 5.225,00  576.821714  576.370507\n",
       "14    De R$ 5.225,01 até R$ 6.270,00  587.379963  586.665846\n",
       "10    De R$ 6.270,01 até R$ 7.315,00  595.391831  594.571242\n",
       "0     De R$ 7.315,01 até R$ 8.360,00  601.802039  601.025558\n",
       "5     De R$ 8.360,01 até R$ 9.405,00  605.940792  605.007058\n",
       "6    De R$ 9.405,01 até R$ 10.450,00  610.445022  609.595355\n",
       "12  De R$ 10.450,01 até R$ 12.540,00  616.641350  615.845493\n",
       "8   De R$ 12.540,01 até R$ 15.675,00  622.671652  621.920462\n",
       "15  De R$ 15.675,01 até R$ 20.900,00  629.771597  629.088310\n",
       "2              Acima de R$ 20.900,00  637.723574  637.813048"
      ]
     },
     "metadata": {},
     "execution_count": 48
    }
   ],
   "metadata": {}
  },
  {
   "cell_type": "markdown",
   "source": [
    "#### Media por Renda e por Raça"
   ],
   "metadata": {}
  },
  {
   "cell_type": "code",
   "execution_count": 58,
   "source": [
    "enem_group_renda_raca_media = enem_2020_without_nan[['Q006', 'TP_COR_RACA', 'MEDIA_MED', 'MEDIA_ADM']].groupby(['Q006', 'TP_COR_RACA']).mean()"
   ],
   "outputs": [],
   "metadata": {}
  },
  {
   "cell_type": "code",
   "execution_count": 59,
   "source": [
    "enem_group_renda_raca_media = enem_group_renda_raca_media.reset_index()"
   ],
   "outputs": [],
   "metadata": {}
  },
  {
   "cell_type": "code",
   "execution_count": 60,
   "source": [
    "enem_group_renda_raca_media['Q006'] = enem_group_renda_raca_media['Q006'].map(legenda_renda)\r\n",
    "enem_group_renda_raca_media['TP_COR_RACA'] = enem_group_renda_raca_media['TP_COR_RACA'].map(legenda_raca)"
   ],
   "outputs": [],
   "metadata": {}
  },
  {
   "cell_type": "code",
   "execution_count": 61,
   "source": [
    "enem_group_renda_raca_media.rename(columns={'Q006': 'Faixa Renda'}, inplace=True)"
   ],
   "outputs": [],
   "metadata": {}
  },
  {
   "cell_type": "code",
   "execution_count": 62,
   "source": [
    "enem_group_renda_raca_media.sort_values(by=['MEDIA_MED'])"
   ],
   "outputs": [
    {
     "output_type": "execute_result",
     "data": {
      "text/html": [
       "<div>\n",
       "<style scoped>\n",
       "    .dataframe tbody tr th:only-of-type {\n",
       "        vertical-align: middle;\n",
       "    }\n",
       "\n",
       "    .dataframe tbody tr th {\n",
       "        vertical-align: top;\n",
       "    }\n",
       "\n",
       "    .dataframe thead th {\n",
       "        text-align: right;\n",
       "    }\n",
       "</style>\n",
       "<table border=\"1\" class=\"dataframe\">\n",
       "  <thead>\n",
       "    <tr style=\"text-align: right;\">\n",
       "      <th></th>\n",
       "      <th>Faixa Renda</th>\n",
       "      <th>TP_COR_RACA</th>\n",
       "      <th>MEDIA_MED</th>\n",
       "      <th>MEDIA_ADM</th>\n",
       "    </tr>\n",
       "  </thead>\n",
       "  <tbody>\n",
       "    <tr>\n",
       "      <th>29</th>\n",
       "      <td>Nenhuma Renda</td>\n",
       "      <td>Indígena</td>\n",
       "      <td>436.855819</td>\n",
       "      <td>438.297140</td>\n",
       "    </tr>\n",
       "    <tr>\n",
       "      <th>8</th>\n",
       "      <td>Até R$ 1.045,00</td>\n",
       "      <td>Indígena</td>\n",
       "      <td>456.439396</td>\n",
       "      <td>456.697376</td>\n",
       "    </tr>\n",
       "    <tr>\n",
       "      <th>52</th>\n",
       "      <td>Nenhuma Renda</td>\n",
       "      <td>Preta</td>\n",
       "      <td>460.002618</td>\n",
       "      <td>460.122666</td>\n",
       "    </tr>\n",
       "    <tr>\n",
       "      <th>26</th>\n",
       "      <td>Nenhuma Renda</td>\n",
       "      <td>Parda</td>\n",
       "      <td>460.754443</td>\n",
       "      <td>460.498184</td>\n",
       "    </tr>\n",
       "    <tr>\n",
       "      <th>74</th>\n",
       "      <td>Nenhuma Renda</td>\n",
       "      <td>Amarela</td>\n",
       "      <td>463.313031</td>\n",
       "      <td>462.840133</td>\n",
       "    </tr>\n",
       "    <tr>\n",
       "      <th>38</th>\n",
       "      <td>Nenhuma Renda</td>\n",
       "      <td>Não declarado</td>\n",
       "      <td>470.218311</td>\n",
       "      <td>470.847215</td>\n",
       "    </tr>\n",
       "    <tr>\n",
       "      <th>93</th>\n",
       "      <td>Até R$ 1.045,00</td>\n",
       "      <td>Preta</td>\n",
       "      <td>475.087654</td>\n",
       "      <td>474.923336</td>\n",
       "    </tr>\n",
       "    <tr>\n",
       "      <th>69</th>\n",
       "      <td>Até R$ 1.045,00</td>\n",
       "      <td>Parda</td>\n",
       "      <td>477.444312</td>\n",
       "      <td>476.995359</td>\n",
       "    </tr>\n",
       "    <tr>\n",
       "      <th>99</th>\n",
       "      <td>De R$ 1.045,01 até R$ 1.567,50</td>\n",
       "      <td>Indígena</td>\n",
       "      <td>477.837504</td>\n",
       "      <td>478.758276</td>\n",
       "    </tr>\n",
       "    <tr>\n",
       "      <th>77</th>\n",
       "      <td>Até R$ 1.045,00</td>\n",
       "      <td>Amarela</td>\n",
       "      <td>480.071985</td>\n",
       "      <td>479.300768</td>\n",
       "    </tr>\n",
       "    <tr>\n",
       "      <th>53</th>\n",
       "      <td>Nenhuma Renda</td>\n",
       "      <td>Branca</td>\n",
       "      <td>484.998156</td>\n",
       "      <td>485.129545</td>\n",
       "    </tr>\n",
       "    <tr>\n",
       "      <th>13</th>\n",
       "      <td>Até R$ 1.045,00</td>\n",
       "      <td>Não declarado</td>\n",
       "      <td>485.533397</td>\n",
       "      <td>485.870286</td>\n",
       "    </tr>\n",
       "    <tr>\n",
       "      <th>97</th>\n",
       "      <td>De R$ 1.567,51 até R$ 2.090,00</td>\n",
       "      <td>Indígena</td>\n",
       "      <td>490.355603</td>\n",
       "      <td>490.493389</td>\n",
       "    </tr>\n",
       "    <tr>\n",
       "      <th>70</th>\n",
       "      <td>De R$ 1.045,01 até R$ 1.567,50</td>\n",
       "      <td>Preta</td>\n",
       "      <td>493.888129</td>\n",
       "      <td>494.415301</td>\n",
       "    </tr>\n",
       "    <tr>\n",
       "      <th>78</th>\n",
       "      <td>De R$ 2.090,01 até R$ 2.612,50</td>\n",
       "      <td>Indígena</td>\n",
       "      <td>497.589978</td>\n",
       "      <td>497.563308</td>\n",
       "    </tr>\n",
       "    <tr>\n",
       "      <th>64</th>\n",
       "      <td>Até R$ 1.045,00</td>\n",
       "      <td>Branca</td>\n",
       "      <td>498.422178</td>\n",
       "      <td>498.286399</td>\n",
       "    </tr>\n",
       "    <tr>\n",
       "      <th>12</th>\n",
       "      <td>De R$ 1.045,01 até R$ 1.567,50</td>\n",
       "      <td>Parda</td>\n",
       "      <td>499.026829</td>\n",
       "      <td>499.093130</td>\n",
       "    </tr>\n",
       "    <tr>\n",
       "      <th>89</th>\n",
       "      <td>De R$ 1.045,01 até R$ 1.567,50</td>\n",
       "      <td>Amarela</td>\n",
       "      <td>501.534325</td>\n",
       "      <td>501.327056</td>\n",
       "    </tr>\n",
       "    <tr>\n",
       "      <th>43</th>\n",
       "      <td>De R$ 1.567,51 até R$ 2.090,00</td>\n",
       "      <td>Preta</td>\n",
       "      <td>504.706400</td>\n",
       "      <td>505.405576</td>\n",
       "    </tr>\n",
       "    <tr>\n",
       "      <th>90</th>\n",
       "      <td>De R$ 2.612,51 até R$ 3.135,00</td>\n",
       "      <td>Indígena</td>\n",
       "      <td>508.519966</td>\n",
       "      <td>508.107760</td>\n",
       "    </tr>\n",
       "    <tr>\n",
       "      <th>72</th>\n",
       "      <td>De R$ 1.567,51 até R$ 2.090,00</td>\n",
       "      <td>Parda</td>\n",
       "      <td>511.891639</td>\n",
       "      <td>512.145635</td>\n",
       "    </tr>\n",
       "    <tr>\n",
       "      <th>80</th>\n",
       "      <td>De R$ 1.045,01 até R$ 1.567,50</td>\n",
       "      <td>Não declarado</td>\n",
       "      <td>512.718828</td>\n",
       "      <td>513.467808</td>\n",
       "    </tr>\n",
       "    <tr>\n",
       "      <th>94</th>\n",
       "      <td>De R$ 1.567,51 até R$ 2.090,00</td>\n",
       "      <td>Amarela</td>\n",
       "      <td>517.736955</td>\n",
       "      <td>517.581980</td>\n",
       "    </tr>\n",
       "    <tr>\n",
       "      <th>61</th>\n",
       "      <td>De R$ 1.045,01 até R$ 1.567,50</td>\n",
       "      <td>Branca</td>\n",
       "      <td>519.660532</td>\n",
       "      <td>520.206929</td>\n",
       "    </tr>\n",
       "    <tr>\n",
       "      <th>32</th>\n",
       "      <td>De R$ 2.090,01 até R$ 2.612,50</td>\n",
       "      <td>Preta</td>\n",
       "      <td>519.689106</td>\n",
       "      <td>520.531842</td>\n",
       "    </tr>\n",
       "    <tr>\n",
       "      <th>24</th>\n",
       "      <td>De R$ 3.135,01 até R$ 4.180,00</td>\n",
       "      <td>Indígena</td>\n",
       "      <td>523.951470</td>\n",
       "      <td>523.716592</td>\n",
       "    </tr>\n",
       "    <tr>\n",
       "      <th>67</th>\n",
       "      <td>De R$ 2.090,01 até R$ 2.612,50</td>\n",
       "      <td>Parda</td>\n",
       "      <td>526.772683</td>\n",
       "      <td>527.128628</td>\n",
       "    </tr>\n",
       "    <tr>\n",
       "      <th>20</th>\n",
       "      <td>De R$ 2.612,51 até R$ 3.135,00</td>\n",
       "      <td>Preta</td>\n",
       "      <td>527.151367</td>\n",
       "      <td>527.438179</td>\n",
       "    </tr>\n",
       "    <tr>\n",
       "      <th>21</th>\n",
       "      <td>De R$ 1.567,51 até R$ 2.090,00</td>\n",
       "      <td>Não declarado</td>\n",
       "      <td>527.900149</td>\n",
       "      <td>528.594506</td>\n",
       "    </tr>\n",
       "    <tr>\n",
       "      <th>76</th>\n",
       "      <td>De R$ 1.567,51 até R$ 2.090,00</td>\n",
       "      <td>Branca</td>\n",
       "      <td>532.216318</td>\n",
       "      <td>532.737436</td>\n",
       "    </tr>\n",
       "    <tr>\n",
       "      <th>50</th>\n",
       "      <td>De R$ 4.180,01 até R$ 5.225,00</td>\n",
       "      <td>Indígena</td>\n",
       "      <td>533.331697</td>\n",
       "      <td>533.633618</td>\n",
       "    </tr>\n",
       "    <tr>\n",
       "      <th>10</th>\n",
       "      <td>De R$ 2.612,51 até R$ 3.135,00</td>\n",
       "      <td>Parda</td>\n",
       "      <td>535.922005</td>\n",
       "      <td>535.749361</td>\n",
       "    </tr>\n",
       "    <tr>\n",
       "      <th>22</th>\n",
       "      <td>De R$ 10.450,01 até R$ 12.540,00</td>\n",
       "      <td>Indígena</td>\n",
       "      <td>537.619231</td>\n",
       "      <td>535.343000</td>\n",
       "    </tr>\n",
       "    <tr>\n",
       "      <th>5</th>\n",
       "      <td>De R$ 2.090,01 até R$ 2.612,50</td>\n",
       "      <td>Amarela</td>\n",
       "      <td>538.384095</td>\n",
       "      <td>538.615585</td>\n",
       "    </tr>\n",
       "    <tr>\n",
       "      <th>84</th>\n",
       "      <td>De R$ 5.225,01 até R$ 6.270,00</td>\n",
       "      <td>Indígena</td>\n",
       "      <td>540.210769</td>\n",
       "      <td>538.123400</td>\n",
       "    </tr>\n",
       "    <tr>\n",
       "      <th>31</th>\n",
       "      <td>De R$ 9.405,01 até R$ 10.450,00</td>\n",
       "      <td>Indígena</td>\n",
       "      <td>541.138248</td>\n",
       "      <td>544.233611</td>\n",
       "    </tr>\n",
       "    <tr>\n",
       "      <th>14</th>\n",
       "      <td>De R$ 3.135,01 até R$ 4.180,00</td>\n",
       "      <td>Preta</td>\n",
       "      <td>541.212794</td>\n",
       "      <td>541.445736</td>\n",
       "    </tr>\n",
       "    <tr>\n",
       "      <th>51</th>\n",
       "      <td>De R$ 2.090,01 até R$ 2.612,50</td>\n",
       "      <td>Não declarado</td>\n",
       "      <td>545.201527</td>\n",
       "      <td>545.680013</td>\n",
       "    </tr>\n",
       "    <tr>\n",
       "      <th>85</th>\n",
       "      <td>De R$ 2.090,01 até R$ 2.612,50</td>\n",
       "      <td>Branca</td>\n",
       "      <td>547.240308</td>\n",
       "      <td>547.679818</td>\n",
       "    </tr>\n",
       "    <tr>\n",
       "      <th>40</th>\n",
       "      <td>De R$ 2.612,51 até R$ 3.135,00</td>\n",
       "      <td>Amarela</td>\n",
       "      <td>550.647100</td>\n",
       "      <td>550.553163</td>\n",
       "    </tr>\n",
       "    <tr>\n",
       "      <th>96</th>\n",
       "      <td>De R$ 3.135,01 até R$ 4.180,00</td>\n",
       "      <td>Parda</td>\n",
       "      <td>551.594467</td>\n",
       "      <td>551.234976</td>\n",
       "    </tr>\n",
       "    <tr>\n",
       "      <th>46</th>\n",
       "      <td>De R$ 4.180,01 até R$ 5.225,00</td>\n",
       "      <td>Preta</td>\n",
       "      <td>555.288240</td>\n",
       "      <td>555.107445</td>\n",
       "    </tr>\n",
       "    <tr>\n",
       "      <th>3</th>\n",
       "      <td>De R$ 7.315,01 até R$ 8.360,00</td>\n",
       "      <td>Indígena</td>\n",
       "      <td>556.638462</td>\n",
       "      <td>553.253750</td>\n",
       "    </tr>\n",
       "    <tr>\n",
       "      <th>63</th>\n",
       "      <td>De R$ 2.612,51 até R$ 3.135,00</td>\n",
       "      <td>Branca</td>\n",
       "      <td>556.673077</td>\n",
       "      <td>556.790072</td>\n",
       "    </tr>\n",
       "    <tr>\n",
       "      <th>98</th>\n",
       "      <td>De R$ 6.270,01 até R$ 7.315,00</td>\n",
       "      <td>Indígena</td>\n",
       "      <td>558.184615</td>\n",
       "      <td>556.818983</td>\n",
       "    </tr>\n",
       "    <tr>\n",
       "      <th>62</th>\n",
       "      <td>De R$ 2.612,51 até R$ 3.135,00</td>\n",
       "      <td>Não declarado</td>\n",
       "      <td>559.451035</td>\n",
       "      <td>559.540734</td>\n",
       "    </tr>\n",
       "    <tr>\n",
       "      <th>48</th>\n",
       "      <td>De R$ 8.360,01 até R$ 9.405,00</td>\n",
       "      <td>Indígena</td>\n",
       "      <td>562.185165</td>\n",
       "      <td>559.822143</td>\n",
       "    </tr>\n",
       "    <tr>\n",
       "      <th>75</th>\n",
       "      <td>De R$ 12.540,01 até R$ 15.675,00</td>\n",
       "      <td>Indígena</td>\n",
       "      <td>563.512821</td>\n",
       "      <td>563.225185</td>\n",
       "    </tr>\n",
       "    <tr>\n",
       "      <th>83</th>\n",
       "      <td>De R$ 5.225,01 até R$ 6.270,00</td>\n",
       "      <td>Preta</td>\n",
       "      <td>564.421678</td>\n",
       "      <td>564.064019</td>\n",
       "    </tr>\n",
       "    <tr>\n",
       "      <th>92</th>\n",
       "      <td>De R$ 4.180,01 até R$ 5.225,00</td>\n",
       "      <td>Parda</td>\n",
       "      <td>565.787251</td>\n",
       "      <td>564.929256</td>\n",
       "    </tr>\n",
       "    <tr>\n",
       "      <th>37</th>\n",
       "      <td>De R$ 3.135,01 até R$ 4.180,00</td>\n",
       "      <td>Amarela</td>\n",
       "      <td>571.737923</td>\n",
       "      <td>571.312535</td>\n",
       "    </tr>\n",
       "    <tr>\n",
       "      <th>16</th>\n",
       "      <td>De R$ 3.135,01 até R$ 4.180,00</td>\n",
       "      <td>Branca</td>\n",
       "      <td>571.922366</td>\n",
       "      <td>571.887791</td>\n",
       "    </tr>\n",
       "    <tr>\n",
       "      <th>91</th>\n",
       "      <td>De R$ 6.270,01 até R$ 7.315,00</td>\n",
       "      <td>Preta</td>\n",
       "      <td>572.660785</td>\n",
       "      <td>571.802973</td>\n",
       "    </tr>\n",
       "    <tr>\n",
       "      <th>23</th>\n",
       "      <td>De R$ 5.225,01 até R$ 6.270,00</td>\n",
       "      <td>Parda</td>\n",
       "      <td>575.951868</td>\n",
       "      <td>574.892671</td>\n",
       "    </tr>\n",
       "    <tr>\n",
       "      <th>7</th>\n",
       "      <td>De R$ 3.135,01 até R$ 4.180,00</td>\n",
       "      <td>Não declarado</td>\n",
       "      <td>576.397031</td>\n",
       "      <td>576.386064</td>\n",
       "    </tr>\n",
       "    <tr>\n",
       "      <th>35</th>\n",
       "      <td>De R$ 8.360,01 até R$ 9.405,00</td>\n",
       "      <td>Preta</td>\n",
       "      <td>577.885564</td>\n",
       "      <td>576.983083</td>\n",
       "    </tr>\n",
       "    <tr>\n",
       "      <th>95</th>\n",
       "      <td>De R$ 7.315,01 até R$ 8.360,00</td>\n",
       "      <td>Preta</td>\n",
       "      <td>578.531720</td>\n",
       "      <td>578.303435</td>\n",
       "    </tr>\n",
       "    <tr>\n",
       "      <th>34</th>\n",
       "      <td>De R$ 9.405,01 até R$ 10.450,00</td>\n",
       "      <td>Preta</td>\n",
       "      <td>581.259334</td>\n",
       "      <td>580.275682</td>\n",
       "    </tr>\n",
       "    <tr>\n",
       "      <th>73</th>\n",
       "      <td>De R$ 6.270,01 até R$ 7.315,00</td>\n",
       "      <td>Parda</td>\n",
       "      <td>583.038258</td>\n",
       "      <td>581.978145</td>\n",
       "    </tr>\n",
       "    <tr>\n",
       "      <th>41</th>\n",
       "      <td>De R$ 4.180,01 até R$ 5.225,00</td>\n",
       "      <td>Branca</td>\n",
       "      <td>584.495366</td>\n",
       "      <td>584.215729</td>\n",
       "    </tr>\n",
       "    <tr>\n",
       "      <th>79</th>\n",
       "      <td>De R$ 4.180,01 até R$ 5.225,00</td>\n",
       "      <td>Amarela</td>\n",
       "      <td>587.124108</td>\n",
       "      <td>586.984325</td>\n",
       "    </tr>\n",
       "    <tr>\n",
       "      <th>19</th>\n",
       "      <td>De R$ 15.675,01 até R$ 20.900,00</td>\n",
       "      <td>Indígena</td>\n",
       "      <td>589.343956</td>\n",
       "      <td>589.166429</td>\n",
       "    </tr>\n",
       "    <tr>\n",
       "      <th>15</th>\n",
       "      <td>De R$ 7.315,01 até R$ 8.360,00</td>\n",
       "      <td>Parda</td>\n",
       "      <td>589.875378</td>\n",
       "      <td>588.728859</td>\n",
       "    </tr>\n",
       "    <tr>\n",
       "      <th>44</th>\n",
       "      <td>De R$ 4.180,01 até R$ 5.225,00</td>\n",
       "      <td>Não declarado</td>\n",
       "      <td>590.477007</td>\n",
       "      <td>590.080071</td>\n",
       "    </tr>\n",
       "    <tr>\n",
       "      <th>56</th>\n",
       "      <td>De R$ 8.360,01 até R$ 9.405,00</td>\n",
       "      <td>Parda</td>\n",
       "      <td>593.833582</td>\n",
       "      <td>592.366572</td>\n",
       "    </tr>\n",
       "    <tr>\n",
       "      <th>60</th>\n",
       "      <td>De R$ 5.225,01 até R$ 6.270,00</td>\n",
       "      <td>Branca</td>\n",
       "      <td>594.443918</td>\n",
       "      <td>593.858843</td>\n",
       "    </tr>\n",
       "    <tr>\n",
       "      <th>47</th>\n",
       "      <td>De R$ 10.450,01 até R$ 12.540,00</td>\n",
       "      <td>Preta</td>\n",
       "      <td>596.387578</td>\n",
       "      <td>595.622307</td>\n",
       "    </tr>\n",
       "    <tr>\n",
       "      <th>30</th>\n",
       "      <td>De R$ 12.540,01 até R$ 15.675,00</td>\n",
       "      <td>Preta</td>\n",
       "      <td>596.875235</td>\n",
       "      <td>596.314901</td>\n",
       "    </tr>\n",
       "    <tr>\n",
       "      <th>4</th>\n",
       "      <td>De R$ 5.225,01 até R$ 6.270,00</td>\n",
       "      <td>Não declarado</td>\n",
       "      <td>597.020924</td>\n",
       "      <td>596.411667</td>\n",
       "    </tr>\n",
       "    <tr>\n",
       "      <th>49</th>\n",
       "      <td>De R$ 9.405,01 até R$ 10.450,00</td>\n",
       "      <td>Parda</td>\n",
       "      <td>597.768754</td>\n",
       "      <td>596.357685</td>\n",
       "    </tr>\n",
       "    <tr>\n",
       "      <th>87</th>\n",
       "      <td>De R$ 6.270,01 até R$ 7.315,00</td>\n",
       "      <td>Branca</td>\n",
       "      <td>602.043557</td>\n",
       "      <td>601.279805</td>\n",
       "    </tr>\n",
       "    <tr>\n",
       "      <th>71</th>\n",
       "      <td>De R$ 5.225,01 até R$ 6.270,00</td>\n",
       "      <td>Amarela</td>\n",
       "      <td>603.689011</td>\n",
       "      <td>603.015325</td>\n",
       "    </tr>\n",
       "    <tr>\n",
       "      <th>100</th>\n",
       "      <td>De R$ 10.450,01 até R$ 12.540,00</td>\n",
       "      <td>Parda</td>\n",
       "      <td>604.822029</td>\n",
       "      <td>603.534828</td>\n",
       "    </tr>\n",
       "    <tr>\n",
       "      <th>25</th>\n",
       "      <td>De R$ 15.675,01 até R$ 20.900,00</td>\n",
       "      <td>Preta</td>\n",
       "      <td>605.429182</td>\n",
       "      <td>603.877086</td>\n",
       "    </tr>\n",
       "    <tr>\n",
       "      <th>18</th>\n",
       "      <td>Acima de R$ 20.900,00</td>\n",
       "      <td>Preta</td>\n",
       "      <td>606.116529</td>\n",
       "      <td>605.973523</td>\n",
       "    </tr>\n",
       "    <tr>\n",
       "      <th>58</th>\n",
       "      <td>De R$ 7.315,01 até R$ 8.360,00</td>\n",
       "      <td>Branca</td>\n",
       "      <td>607.520206</td>\n",
       "      <td>606.803353</td>\n",
       "    </tr>\n",
       "    <tr>\n",
       "      <th>101</th>\n",
       "      <td>De R$ 6.270,01 até R$ 7.315,00</td>\n",
       "      <td>Amarela</td>\n",
       "      <td>609.183933</td>\n",
       "      <td>608.851932</td>\n",
       "    </tr>\n",
       "    <tr>\n",
       "      <th>57</th>\n",
       "      <td>De R$ 6.270,01 até R$ 7.315,00</td>\n",
       "      <td>Não declarado</td>\n",
       "      <td>609.933028</td>\n",
       "      <td>610.245180</td>\n",
       "    </tr>\n",
       "    <tr>\n",
       "      <th>65</th>\n",
       "      <td>De R$ 12.540,01 até R$ 15.675,00</td>\n",
       "      <td>Parda</td>\n",
       "      <td>610.311573</td>\n",
       "      <td>609.120396</td>\n",
       "    </tr>\n",
       "    <tr>\n",
       "      <th>42</th>\n",
       "      <td>Acima de R$ 20.900,00</td>\n",
       "      <td>Indígena</td>\n",
       "      <td>610.797692</td>\n",
       "      <td>615.108000</td>\n",
       "    </tr>\n",
       "    <tr>\n",
       "      <th>55</th>\n",
       "      <td>De R$ 8.360,01 até R$ 9.405,00</td>\n",
       "      <td>Branca</td>\n",
       "      <td>611.574641</td>\n",
       "      <td>610.799891</td>\n",
       "    </tr>\n",
       "    <tr>\n",
       "      <th>36</th>\n",
       "      <td>De R$ 8.360,01 até R$ 9.405,00</td>\n",
       "      <td>Não declarado</td>\n",
       "      <td>611.822354</td>\n",
       "      <td>611.989658</td>\n",
       "    </tr>\n",
       "    <tr>\n",
       "      <th>2</th>\n",
       "      <td>De R$ 7.315,01 até R$ 8.360,00</td>\n",
       "      <td>Não declarado</td>\n",
       "      <td>612.203846</td>\n",
       "      <td>612.100204</td>\n",
       "    </tr>\n",
       "    <tr>\n",
       "      <th>59</th>\n",
       "      <td>De R$ 9.405,01 até R$ 10.450,00</td>\n",
       "      <td>Branca</td>\n",
       "      <td>615.122362</td>\n",
       "      <td>614.375256</td>\n",
       "    </tr>\n",
       "    <tr>\n",
       "      <th>81</th>\n",
       "      <td>De R$ 15.675,01 até R$ 20.900,00</td>\n",
       "      <td>Parda</td>\n",
       "      <td>617.523350</td>\n",
       "      <td>616.465926</td>\n",
       "    </tr>\n",
       "    <tr>\n",
       "      <th>1</th>\n",
       "      <td>De R$ 10.450,01 até R$ 12.540,00</td>\n",
       "      <td>Branca</td>\n",
       "      <td>620.650520</td>\n",
       "      <td>619.946476</td>\n",
       "    </tr>\n",
       "    <tr>\n",
       "      <th>17</th>\n",
       "      <td>De R$ 7.315,01 até R$ 8.360,00</td>\n",
       "      <td>Amarela</td>\n",
       "      <td>620.919672</td>\n",
       "      <td>621.069887</td>\n",
       "    </tr>\n",
       "    <tr>\n",
       "      <th>88</th>\n",
       "      <td>De R$ 9.405,01 até R$ 10.450,00</td>\n",
       "      <td>Não declarado</td>\n",
       "      <td>624.041837</td>\n",
       "      <td>624.300408</td>\n",
       "    </tr>\n",
       "    <tr>\n",
       "      <th>6</th>\n",
       "      <td>Acima de R$ 20.900,00</td>\n",
       "      <td>Parda</td>\n",
       "      <td>624.804594</td>\n",
       "      <td>624.135863</td>\n",
       "    </tr>\n",
       "    <tr>\n",
       "      <th>66</th>\n",
       "      <td>De R$ 8.360,01 até R$ 9.405,00</td>\n",
       "      <td>Amarela</td>\n",
       "      <td>625.149011</td>\n",
       "      <td>624.390271</td>\n",
       "    </tr>\n",
       "    <tr>\n",
       "      <th>82</th>\n",
       "      <td>De R$ 10.450,01 até R$ 12.540,00</td>\n",
       "      <td>Não declarado</td>\n",
       "      <td>625.329548</td>\n",
       "      <td>625.503496</td>\n",
       "    </tr>\n",
       "    <tr>\n",
       "      <th>86</th>\n",
       "      <td>De R$ 12.540,01 até R$ 15.675,00</td>\n",
       "      <td>Branca</td>\n",
       "      <td>626.847671</td>\n",
       "      <td>626.159415</td>\n",
       "    </tr>\n",
       "    <tr>\n",
       "      <th>33</th>\n",
       "      <td>De R$ 12.540,01 até R$ 15.675,00</td>\n",
       "      <td>Não declarado</td>\n",
       "      <td>627.171350</td>\n",
       "      <td>626.964082</td>\n",
       "    </tr>\n",
       "    <tr>\n",
       "      <th>54</th>\n",
       "      <td>De R$ 9.405,01 até R$ 10.450,00</td>\n",
       "      <td>Amarela</td>\n",
       "      <td>629.099282</td>\n",
       "      <td>629.471764</td>\n",
       "    </tr>\n",
       "    <tr>\n",
       "      <th>9</th>\n",
       "      <td>De R$ 15.675,01 até R$ 20.900,00</td>\n",
       "      <td>Branca</td>\n",
       "      <td>632.759454</td>\n",
       "      <td>632.134917</td>\n",
       "    </tr>\n",
       "    <tr>\n",
       "      <th>45</th>\n",
       "      <td>De R$ 10.450,01 até R$ 12.540,00</td>\n",
       "      <td>Amarela</td>\n",
       "      <td>633.958767</td>\n",
       "      <td>634.056469</td>\n",
       "    </tr>\n",
       "    <tr>\n",
       "      <th>28</th>\n",
       "      <td>De R$ 12.540,01 até R$ 15.675,00</td>\n",
       "      <td>Amarela</td>\n",
       "      <td>633.964215</td>\n",
       "      <td>634.204538</td>\n",
       "    </tr>\n",
       "    <tr>\n",
       "      <th>27</th>\n",
       "      <td>Acima de R$ 20.900,00</td>\n",
       "      <td>Branca</td>\n",
       "      <td>639.830730</td>\n",
       "      <td>639.995153</td>\n",
       "    </tr>\n",
       "    <tr>\n",
       "      <th>11</th>\n",
       "      <td>De R$ 15.675,01 até R$ 20.900,00</td>\n",
       "      <td>Não declarado</td>\n",
       "      <td>639.952055</td>\n",
       "      <td>639.959612</td>\n",
       "    </tr>\n",
       "    <tr>\n",
       "      <th>39</th>\n",
       "      <td>De R$ 15.675,01 até R$ 20.900,00</td>\n",
       "      <td>Amarela</td>\n",
       "      <td>640.352963</td>\n",
       "      <td>640.774295</td>\n",
       "    </tr>\n",
       "    <tr>\n",
       "      <th>68</th>\n",
       "      <td>Acima de R$ 20.900,00</td>\n",
       "      <td>Não declarado</td>\n",
       "      <td>642.708679</td>\n",
       "      <td>643.466875</td>\n",
       "    </tr>\n",
       "    <tr>\n",
       "      <th>0</th>\n",
       "      <td>Acima de R$ 20.900,00</td>\n",
       "      <td>Amarela</td>\n",
       "      <td>657.171151</td>\n",
       "      <td>658.495703</td>\n",
       "    </tr>\n",
       "  </tbody>\n",
       "</table>\n",
       "</div>"
      ],
      "text/plain": [
       "                          Faixa Renda    TP_COR_RACA   MEDIA_MED   MEDIA_ADM\n",
       "29                      Nenhuma Renda       Indígena  436.855819  438.297140\n",
       "8                     Até R$ 1.045,00       Indígena  456.439396  456.697376\n",
       "52                      Nenhuma Renda          Preta  460.002618  460.122666\n",
       "26                      Nenhuma Renda          Parda  460.754443  460.498184\n",
       "74                      Nenhuma Renda        Amarela  463.313031  462.840133\n",
       "38                      Nenhuma Renda  Não declarado  470.218311  470.847215\n",
       "93                    Até R$ 1.045,00          Preta  475.087654  474.923336\n",
       "69                    Até R$ 1.045,00          Parda  477.444312  476.995359\n",
       "99     De R$ 1.045,01 até R$ 1.567,50       Indígena  477.837504  478.758276\n",
       "77                    Até R$ 1.045,00        Amarela  480.071985  479.300768\n",
       "53                      Nenhuma Renda         Branca  484.998156  485.129545\n",
       "13                    Até R$ 1.045,00  Não declarado  485.533397  485.870286\n",
       "97     De R$ 1.567,51 até R$ 2.090,00       Indígena  490.355603  490.493389\n",
       "70     De R$ 1.045,01 até R$ 1.567,50          Preta  493.888129  494.415301\n",
       "78     De R$ 2.090,01 até R$ 2.612,50       Indígena  497.589978  497.563308\n",
       "64                    Até R$ 1.045,00         Branca  498.422178  498.286399\n",
       "12     De R$ 1.045,01 até R$ 1.567,50          Parda  499.026829  499.093130\n",
       "89     De R$ 1.045,01 até R$ 1.567,50        Amarela  501.534325  501.327056\n",
       "43     De R$ 1.567,51 até R$ 2.090,00          Preta  504.706400  505.405576\n",
       "90     De R$ 2.612,51 até R$ 3.135,00       Indígena  508.519966  508.107760\n",
       "72     De R$ 1.567,51 até R$ 2.090,00          Parda  511.891639  512.145635\n",
       "80     De R$ 1.045,01 até R$ 1.567,50  Não declarado  512.718828  513.467808\n",
       "94     De R$ 1.567,51 até R$ 2.090,00        Amarela  517.736955  517.581980\n",
       "61     De R$ 1.045,01 até R$ 1.567,50         Branca  519.660532  520.206929\n",
       "32     De R$ 2.090,01 até R$ 2.612,50          Preta  519.689106  520.531842\n",
       "24     De R$ 3.135,01 até R$ 4.180,00       Indígena  523.951470  523.716592\n",
       "67     De R$ 2.090,01 até R$ 2.612,50          Parda  526.772683  527.128628\n",
       "20     De R$ 2.612,51 até R$ 3.135,00          Preta  527.151367  527.438179\n",
       "21     De R$ 1.567,51 até R$ 2.090,00  Não declarado  527.900149  528.594506\n",
       "76     De R$ 1.567,51 até R$ 2.090,00         Branca  532.216318  532.737436\n",
       "50     De R$ 4.180,01 até R$ 5.225,00       Indígena  533.331697  533.633618\n",
       "10     De R$ 2.612,51 até R$ 3.135,00          Parda  535.922005  535.749361\n",
       "22   De R$ 10.450,01 até R$ 12.540,00       Indígena  537.619231  535.343000\n",
       "5      De R$ 2.090,01 até R$ 2.612,50        Amarela  538.384095  538.615585\n",
       "84     De R$ 5.225,01 até R$ 6.270,00       Indígena  540.210769  538.123400\n",
       "31    De R$ 9.405,01 até R$ 10.450,00       Indígena  541.138248  544.233611\n",
       "14     De R$ 3.135,01 até R$ 4.180,00          Preta  541.212794  541.445736\n",
       "51     De R$ 2.090,01 até R$ 2.612,50  Não declarado  545.201527  545.680013\n",
       "85     De R$ 2.090,01 até R$ 2.612,50         Branca  547.240308  547.679818\n",
       "40     De R$ 2.612,51 até R$ 3.135,00        Amarela  550.647100  550.553163\n",
       "96     De R$ 3.135,01 até R$ 4.180,00          Parda  551.594467  551.234976\n",
       "46     De R$ 4.180,01 até R$ 5.225,00          Preta  555.288240  555.107445\n",
       "3      De R$ 7.315,01 até R$ 8.360,00       Indígena  556.638462  553.253750\n",
       "63     De R$ 2.612,51 até R$ 3.135,00         Branca  556.673077  556.790072\n",
       "98     De R$ 6.270,01 até R$ 7.315,00       Indígena  558.184615  556.818983\n",
       "62     De R$ 2.612,51 até R$ 3.135,00  Não declarado  559.451035  559.540734\n",
       "48     De R$ 8.360,01 até R$ 9.405,00       Indígena  562.185165  559.822143\n",
       "75   De R$ 12.540,01 até R$ 15.675,00       Indígena  563.512821  563.225185\n",
       "83     De R$ 5.225,01 até R$ 6.270,00          Preta  564.421678  564.064019\n",
       "92     De R$ 4.180,01 até R$ 5.225,00          Parda  565.787251  564.929256\n",
       "37     De R$ 3.135,01 até R$ 4.180,00        Amarela  571.737923  571.312535\n",
       "16     De R$ 3.135,01 até R$ 4.180,00         Branca  571.922366  571.887791\n",
       "91     De R$ 6.270,01 até R$ 7.315,00          Preta  572.660785  571.802973\n",
       "23     De R$ 5.225,01 até R$ 6.270,00          Parda  575.951868  574.892671\n",
       "7      De R$ 3.135,01 até R$ 4.180,00  Não declarado  576.397031  576.386064\n",
       "35     De R$ 8.360,01 até R$ 9.405,00          Preta  577.885564  576.983083\n",
       "95     De R$ 7.315,01 até R$ 8.360,00          Preta  578.531720  578.303435\n",
       "34    De R$ 9.405,01 até R$ 10.450,00          Preta  581.259334  580.275682\n",
       "73     De R$ 6.270,01 até R$ 7.315,00          Parda  583.038258  581.978145\n",
       "41     De R$ 4.180,01 até R$ 5.225,00         Branca  584.495366  584.215729\n",
       "79     De R$ 4.180,01 até R$ 5.225,00        Amarela  587.124108  586.984325\n",
       "19   De R$ 15.675,01 até R$ 20.900,00       Indígena  589.343956  589.166429\n",
       "15     De R$ 7.315,01 até R$ 8.360,00          Parda  589.875378  588.728859\n",
       "44     De R$ 4.180,01 até R$ 5.225,00  Não declarado  590.477007  590.080071\n",
       "56     De R$ 8.360,01 até R$ 9.405,00          Parda  593.833582  592.366572\n",
       "60     De R$ 5.225,01 até R$ 6.270,00         Branca  594.443918  593.858843\n",
       "47   De R$ 10.450,01 até R$ 12.540,00          Preta  596.387578  595.622307\n",
       "30   De R$ 12.540,01 até R$ 15.675,00          Preta  596.875235  596.314901\n",
       "4      De R$ 5.225,01 até R$ 6.270,00  Não declarado  597.020924  596.411667\n",
       "49    De R$ 9.405,01 até R$ 10.450,00          Parda  597.768754  596.357685\n",
       "87     De R$ 6.270,01 até R$ 7.315,00         Branca  602.043557  601.279805\n",
       "71     De R$ 5.225,01 até R$ 6.270,00        Amarela  603.689011  603.015325\n",
       "100  De R$ 10.450,01 até R$ 12.540,00          Parda  604.822029  603.534828\n",
       "25   De R$ 15.675,01 até R$ 20.900,00          Preta  605.429182  603.877086\n",
       "18              Acima de R$ 20.900,00          Preta  606.116529  605.973523\n",
       "58     De R$ 7.315,01 até R$ 8.360,00         Branca  607.520206  606.803353\n",
       "101    De R$ 6.270,01 até R$ 7.315,00        Amarela  609.183933  608.851932\n",
       "57     De R$ 6.270,01 até R$ 7.315,00  Não declarado  609.933028  610.245180\n",
       "65   De R$ 12.540,01 até R$ 15.675,00          Parda  610.311573  609.120396\n",
       "42              Acima de R$ 20.900,00       Indígena  610.797692  615.108000\n",
       "55     De R$ 8.360,01 até R$ 9.405,00         Branca  611.574641  610.799891\n",
       "36     De R$ 8.360,01 até R$ 9.405,00  Não declarado  611.822354  611.989658\n",
       "2      De R$ 7.315,01 até R$ 8.360,00  Não declarado  612.203846  612.100204\n",
       "59    De R$ 9.405,01 até R$ 10.450,00         Branca  615.122362  614.375256\n",
       "81   De R$ 15.675,01 até R$ 20.900,00          Parda  617.523350  616.465926\n",
       "1    De R$ 10.450,01 até R$ 12.540,00         Branca  620.650520  619.946476\n",
       "17     De R$ 7.315,01 até R$ 8.360,00        Amarela  620.919672  621.069887\n",
       "88    De R$ 9.405,01 até R$ 10.450,00  Não declarado  624.041837  624.300408\n",
       "6               Acima de R$ 20.900,00          Parda  624.804594  624.135863\n",
       "66     De R$ 8.360,01 até R$ 9.405,00        Amarela  625.149011  624.390271\n",
       "82   De R$ 10.450,01 até R$ 12.540,00  Não declarado  625.329548  625.503496\n",
       "86   De R$ 12.540,01 até R$ 15.675,00         Branca  626.847671  626.159415\n",
       "33   De R$ 12.540,01 até R$ 15.675,00  Não declarado  627.171350  626.964082\n",
       "54    De R$ 9.405,01 até R$ 10.450,00        Amarela  629.099282  629.471764\n",
       "9    De R$ 15.675,01 até R$ 20.900,00         Branca  632.759454  632.134917\n",
       "45   De R$ 10.450,01 até R$ 12.540,00        Amarela  633.958767  634.056469\n",
       "28   De R$ 12.540,01 até R$ 15.675,00        Amarela  633.964215  634.204538\n",
       "27              Acima de R$ 20.900,00         Branca  639.830730  639.995153\n",
       "11   De R$ 15.675,01 até R$ 20.900,00  Não declarado  639.952055  639.959612\n",
       "39   De R$ 15.675,01 até R$ 20.900,00        Amarela  640.352963  640.774295\n",
       "68              Acima de R$ 20.900,00  Não declarado  642.708679  643.466875\n",
       "0               Acima de R$ 20.900,00        Amarela  657.171151  658.495703"
      ]
     },
     "metadata": {},
     "execution_count": 62
    }
   ],
   "metadata": {}
  },
  {
   "cell_type": "markdown",
   "source": [
    "#### Quantidade por Raça"
   ],
   "metadata": {}
  },
  {
   "cell_type": "code",
   "execution_count": 63,
   "source": [
    "enem_group_raca_quant = enem_2020_without_nan[['TP_COR_RACA', 'MEDIA_MED']].groupby(['TP_COR_RACA']).count()"
   ],
   "outputs": [],
   "metadata": {}
  },
  {
   "cell_type": "code",
   "execution_count": 64,
   "source": [
    "enem_group_raca_quant = enem_group_raca_quant.reset_index()"
   ],
   "outputs": [],
   "metadata": {}
  },
  {
   "cell_type": "code",
   "execution_count": 65,
   "source": [
    "enem_group_raca_quant['TP_COR_RACA'] = enem_group_raca_quant['TP_COR_RACA'].map(legenda_raca)"
   ],
   "outputs": [],
   "metadata": {}
  },
  {
   "cell_type": "code",
   "execution_count": 66,
   "source": [
    "enem_group_raca_quant.sort_values(by=['MEDIA_MED'])"
   ],
   "outputs": [
    {
     "output_type": "execute_result",
     "data": {
      "text/html": [
       "<div>\n",
       "<style scoped>\n",
       "    .dataframe tbody tr th:only-of-type {\n",
       "        vertical-align: middle;\n",
       "    }\n",
       "\n",
       "    .dataframe tbody tr th {\n",
       "        vertical-align: top;\n",
       "    }\n",
       "\n",
       "    .dataframe thead th {\n",
       "        text-align: right;\n",
       "    }\n",
       "</style>\n",
       "<table border=\"1\" class=\"dataframe\">\n",
       "  <thead>\n",
       "    <tr style=\"text-align: right;\">\n",
       "      <th></th>\n",
       "      <th>TP_COR_RACA</th>\n",
       "      <th>MEDIA_MED</th>\n",
       "    </tr>\n",
       "  </thead>\n",
       "  <tbody>\n",
       "    <tr>\n",
       "      <th>2</th>\n",
       "      <td>Indígena</td>\n",
       "      <td>13820</td>\n",
       "    </tr>\n",
       "    <tr>\n",
       "      <th>5</th>\n",
       "      <td>Não declarado</td>\n",
       "      <td>49395</td>\n",
       "    </tr>\n",
       "    <tr>\n",
       "      <th>3</th>\n",
       "      <td>Amarela</td>\n",
       "      <td>56786</td>\n",
       "    </tr>\n",
       "    <tr>\n",
       "      <th>4</th>\n",
       "      <td>Preta</td>\n",
       "      <td>309833</td>\n",
       "    </tr>\n",
       "    <tr>\n",
       "      <th>0</th>\n",
       "      <td>Branca</td>\n",
       "      <td>974067</td>\n",
       "    </tr>\n",
       "    <tr>\n",
       "      <th>1</th>\n",
       "      <td>Parda</td>\n",
       "      <td>1157403</td>\n",
       "    </tr>\n",
       "  </tbody>\n",
       "</table>\n",
       "</div>"
      ],
      "text/plain": [
       "     TP_COR_RACA  MEDIA_MED\n",
       "2       Indígena      13820\n",
       "5  Não declarado      49395\n",
       "3        Amarela      56786\n",
       "4          Preta     309833\n",
       "0         Branca     974067\n",
       "1          Parda    1157403"
      ]
     },
     "metadata": {},
     "execution_count": 66
    }
   ],
   "metadata": {}
  },
  {
   "cell_type": "markdown",
   "source": [
    "#### Quantidade por Renda e Raça"
   ],
   "metadata": {}
  },
  {
   "cell_type": "code",
   "execution_count": 67,
   "source": [
    "enem_group_raca_renda_quant = enem_2020_without_nan[['TP_COR_RACA', 'Q006', 'MEDIA_MED']].groupby(['TP_COR_RACA', 'Q006']).count()"
   ],
   "outputs": [],
   "metadata": {}
  },
  {
   "cell_type": "code",
   "execution_count": 70,
   "source": [
    "enem_group_raca_renda_quant = enem_group_raca_renda_quant.reset_index()"
   ],
   "outputs": [],
   "metadata": {}
  },
  {
   "cell_type": "code",
   "execution_count": 71,
   "source": [
    "enem_group_raca_renda_quant['TP_COR_RACA'] = enem_group_raca_renda_quant['TP_COR_RACA'].map(legenda_raca)\r\n",
    "enem_group_raca_renda_quant['Q006'] = enem_group_raca_renda_quant['Q006'].map(legenda_renda)"
   ],
   "outputs": [],
   "metadata": {}
  },
  {
   "cell_type": "code",
   "execution_count": 72,
   "source": [
    "enem_group_raca_renda_quant.sort_values(by=['MEDIA_MED'])"
   ],
   "outputs": [
    {
     "output_type": "execute_result",
     "data": {
      "text/html": [
       "<div>\n",
       "<style scoped>\n",
       "    .dataframe tbody tr th:only-of-type {\n",
       "        vertical-align: middle;\n",
       "    }\n",
       "\n",
       "    .dataframe tbody tr th {\n",
       "        vertical-align: top;\n",
       "    }\n",
       "\n",
       "    .dataframe thead th {\n",
       "        text-align: right;\n",
       "    }\n",
       "</style>\n",
       "<table border=\"1\" class=\"dataframe\">\n",
       "  <thead>\n",
       "    <tr style=\"text-align: right;\">\n",
       "      <th></th>\n",
       "      <th>TP_COR_RACA</th>\n",
       "      <th>Q006</th>\n",
       "      <th>MEDIA_MED</th>\n",
       "    </tr>\n",
       "  </thead>\n",
       "  <tbody>\n",
       "    <tr>\n",
       "      <th>46</th>\n",
       "      <td>Indígena</td>\n",
       "      <td>Acima de R$ 20.900,00</td>\n",
       "      <td>20</td>\n",
       "    </tr>\n",
       "    <tr>\n",
       "      <th>77</th>\n",
       "      <td>Indígena</td>\n",
       "      <td>De R$ 12.540,01 até R$ 15.675,00</td>\n",
       "      <td>27</td>\n",
       "    </tr>\n",
       "    <tr>\n",
       "      <th>0</th>\n",
       "      <td>Indígena</td>\n",
       "      <td>De R$ 15.675,01 até R$ 20.900,00</td>\n",
       "      <td>28</td>\n",
       "    </tr>\n",
       "    <tr>\n",
       "      <th>13</th>\n",
       "      <td>Indígena</td>\n",
       "      <td>De R$ 8.360,01 até R$ 9.405,00</td>\n",
       "      <td>28</td>\n",
       "    </tr>\n",
       "    <tr>\n",
       "      <th>90</th>\n",
       "      <td>Indígena</td>\n",
       "      <td>De R$ 7.315,01 até R$ 8.360,00</td>\n",
       "      <td>32</td>\n",
       "    </tr>\n",
       "    <tr>\n",
       "      <th>69</th>\n",
       "      <td>Indígena</td>\n",
       "      <td>De R$ 9.405,01 até R$ 10.450,00</td>\n",
       "      <td>36</td>\n",
       "    </tr>\n",
       "    <tr>\n",
       "      <th>75</th>\n",
       "      <td>Indígena</td>\n",
       "      <td>De R$ 10.450,01 até R$ 12.540,00</td>\n",
       "      <td>40</td>\n",
       "    </tr>\n",
       "    <tr>\n",
       "      <th>17</th>\n",
       "      <td>Indígena</td>\n",
       "      <td>De R$ 6.270,01 até R$ 7.315,00</td>\n",
       "      <td>59</td>\n",
       "    </tr>\n",
       "    <tr>\n",
       "      <th>33</th>\n",
       "      <td>Indígena</td>\n",
       "      <td>De R$ 5.225,01 até R$ 6.270,00</td>\n",
       "      <td>100</td>\n",
       "    </tr>\n",
       "    <tr>\n",
       "      <th>4</th>\n",
       "      <td>Indígena</td>\n",
       "      <td>De R$ 4.180,01 até R$ 5.225,00</td>\n",
       "      <td>199</td>\n",
       "    </tr>\n",
       "    <tr>\n",
       "      <th>63</th>\n",
       "      <td>Indígena</td>\n",
       "      <td>De R$ 3.135,01 até R$ 4.180,00</td>\n",
       "      <td>314</td>\n",
       "    </tr>\n",
       "    <tr>\n",
       "      <th>96</th>\n",
       "      <td>Não declarado</td>\n",
       "      <td>De R$ 8.360,01 até R$ 9.405,00</td>\n",
       "      <td>468</td>\n",
       "    </tr>\n",
       "    <tr>\n",
       "      <th>42</th>\n",
       "      <td>Preta</td>\n",
       "      <td>Acima de R$ 20.900,00</td>\n",
       "      <td>511</td>\n",
       "    </tr>\n",
       "    <tr>\n",
       "      <th>22</th>\n",
       "      <td>Amarela</td>\n",
       "      <td>De R$ 8.360,01 até R$ 9.405,00</td>\n",
       "      <td>517</td>\n",
       "    </tr>\n",
       "    <tr>\n",
       "      <th>95</th>\n",
       "      <td>Indígena</td>\n",
       "      <td>De R$ 2.090,01 até R$ 2.612,50</td>\n",
       "      <td>535</td>\n",
       "    </tr>\n",
       "    <tr>\n",
       "      <th>11</th>\n",
       "      <td>Indígena</td>\n",
       "      <td>De R$ 2.612,51 até R$ 3.135,00</td>\n",
       "      <td>549</td>\n",
       "    </tr>\n",
       "    <tr>\n",
       "      <th>44</th>\n",
       "      <td>Não declarado</td>\n",
       "      <td>De R$ 15.675,01 até R$ 20.900,00</td>\n",
       "      <td>567</td>\n",
       "    </tr>\n",
       "    <tr>\n",
       "      <th>68</th>\n",
       "      <td>Não declarado</td>\n",
       "      <td>De R$ 7.315,01 até R$ 8.360,00</td>\n",
       "      <td>588</td>\n",
       "    </tr>\n",
       "    <tr>\n",
       "      <th>73</th>\n",
       "      <td>Não declarado</td>\n",
       "      <td>De R$ 12.540,01 até R$ 15.675,00</td>\n",
       "      <td>588</td>\n",
       "    </tr>\n",
       "    <tr>\n",
       "      <th>21</th>\n",
       "      <td>Amarela</td>\n",
       "      <td>De R$ 12.540,01 até R$ 15.675,00</td>\n",
       "      <td>595</td>\n",
       "    </tr>\n",
       "    <tr>\n",
       "      <th>45</th>\n",
       "      <td>Não declarado</td>\n",
       "      <td>Acima de R$ 20.900,00</td>\n",
       "      <td>608</td>\n",
       "    </tr>\n",
       "    <tr>\n",
       "      <th>60</th>\n",
       "      <td>Amarela</td>\n",
       "      <td>De R$ 15.675,01 até R$ 20.900,00</td>\n",
       "      <td>610</td>\n",
       "    </tr>\n",
       "    <tr>\n",
       "      <th>101</th>\n",
       "      <td>Amarela</td>\n",
       "      <td>De R$ 7.315,01 até R$ 8.360,00</td>\n",
       "      <td>619</td>\n",
       "    </tr>\n",
       "    <tr>\n",
       "      <th>78</th>\n",
       "      <td>Não declarado</td>\n",
       "      <td>De R$ 9.405,01 até R$ 10.450,00</td>\n",
       "      <td>638</td>\n",
       "    </tr>\n",
       "    <tr>\n",
       "      <th>31</th>\n",
       "      <td>Não declarado</td>\n",
       "      <td>De R$ 10.450,01 até R$ 12.540,00</td>\n",
       "      <td>655</td>\n",
       "    </tr>\n",
       "    <tr>\n",
       "      <th>87</th>\n",
       "      <td>Preta</td>\n",
       "      <td>De R$ 15.675,01 até R$ 20.900,00</td>\n",
       "      <td>659</td>\n",
       "    </tr>\n",
       "    <tr>\n",
       "      <th>34</th>\n",
       "      <td>Amarela</td>\n",
       "      <td>De R$ 10.450,01 até R$ 12.540,00</td>\n",
       "      <td>691</td>\n",
       "    </tr>\n",
       "    <tr>\n",
       "      <th>23</th>\n",
       "      <td>Amarela</td>\n",
       "      <td>Acima de R$ 20.900,00</td>\n",
       "      <td>733</td>\n",
       "    </tr>\n",
       "    <tr>\n",
       "      <th>48</th>\n",
       "      <td>Amarela</td>\n",
       "      <td>De R$ 6.270,01 até R$ 7.315,00</td>\n",
       "      <td>766</td>\n",
       "    </tr>\n",
       "    <tr>\n",
       "      <th>2</th>\n",
       "      <td>Amarela</td>\n",
       "      <td>De R$ 9.405,01 até R$ 10.450,00</td>\n",
       "      <td>771</td>\n",
       "    </tr>\n",
       "    <tr>\n",
       "      <th>98</th>\n",
       "      <td>Não declarado</td>\n",
       "      <td>De R$ 6.270,01 até R$ 7.315,00</td>\n",
       "      <td>807</td>\n",
       "    </tr>\n",
       "    <tr>\n",
       "      <th>65</th>\n",
       "      <td>Preta</td>\n",
       "      <td>De R$ 12.540,01 até R$ 15.675,00</td>\n",
       "      <td>957</td>\n",
       "    </tr>\n",
       "    <tr>\n",
       "      <th>49</th>\n",
       "      <td>Preta</td>\n",
       "      <td>De R$ 8.360,01 até R$ 9.405,00</td>\n",
       "      <td>1038</td>\n",
       "    </tr>\n",
       "    <tr>\n",
       "      <th>91</th>\n",
       "      <td>Preta</td>\n",
       "      <td>De R$ 10.450,01 até R$ 12.540,00</td>\n",
       "      <td>1140</td>\n",
       "    </tr>\n",
       "    <tr>\n",
       "      <th>80</th>\n",
       "      <td>Preta</td>\n",
       "      <td>De R$ 9.405,01 até R$ 10.450,00</td>\n",
       "      <td>1225</td>\n",
       "    </tr>\n",
       "    <tr>\n",
       "      <th>30</th>\n",
       "      <td>Amarela</td>\n",
       "      <td>De R$ 5.225,01 até R$ 6.270,00</td>\n",
       "      <td>1232</td>\n",
       "    </tr>\n",
       "    <tr>\n",
       "      <th>18</th>\n",
       "      <td>Não declarado</td>\n",
       "      <td>De R$ 5.225,01 até R$ 6.270,00</td>\n",
       "      <td>1254</td>\n",
       "    </tr>\n",
       "    <tr>\n",
       "      <th>16</th>\n",
       "      <td>Indígena</td>\n",
       "      <td>De R$ 1.567,51 até R$ 2.090,00</td>\n",
       "      <td>1322</td>\n",
       "    </tr>\n",
       "    <tr>\n",
       "      <th>57</th>\n",
       "      <td>Preta</td>\n",
       "      <td>De R$ 7.315,01 até R$ 8.360,00</td>\n",
       "      <td>1546</td>\n",
       "    </tr>\n",
       "    <tr>\n",
       "      <th>41</th>\n",
       "      <td>Amarela</td>\n",
       "      <td>De R$ 4.180,01 até R$ 5.225,00</td>\n",
       "      <td>2044</td>\n",
       "    </tr>\n",
       "    <tr>\n",
       "      <th>81</th>\n",
       "      <td>Não declarado</td>\n",
       "      <td>De R$ 4.180,01 até R$ 5.225,00</td>\n",
       "      <td>2108</td>\n",
       "    </tr>\n",
       "    <tr>\n",
       "      <th>59</th>\n",
       "      <td>Preta</td>\n",
       "      <td>De R$ 6.270,01 até R$ 7.315,00</td>\n",
       "      <td>2186</td>\n",
       "    </tr>\n",
       "    <tr>\n",
       "      <th>82</th>\n",
       "      <td>Indígena</td>\n",
       "      <td>De R$ 1.045,01 até R$ 1.567,50</td>\n",
       "      <td>2233</td>\n",
       "    </tr>\n",
       "    <tr>\n",
       "      <th>89</th>\n",
       "      <td>Indígena</td>\n",
       "      <td>Nenhuma Renda</td>\n",
       "      <td>2238</td>\n",
       "    </tr>\n",
       "    <tr>\n",
       "      <th>72</th>\n",
       "      <td>Amarela</td>\n",
       "      <td>De R$ 3.135,01 até R$ 4.180,00</td>\n",
       "      <td>2726</td>\n",
       "    </tr>\n",
       "    <tr>\n",
       "      <th>50</th>\n",
       "      <td>Não declarado</td>\n",
       "      <td>De R$ 3.135,01 até R$ 4.180,00</td>\n",
       "      <td>2731</td>\n",
       "    </tr>\n",
       "    <tr>\n",
       "      <th>62</th>\n",
       "      <td>Não declarado</td>\n",
       "      <td>De R$ 2.090,01 até R$ 2.612,50</td>\n",
       "      <td>3134</td>\n",
       "    </tr>\n",
       "    <tr>\n",
       "      <th>15</th>\n",
       "      <td>Amarela</td>\n",
       "      <td>De R$ 2.090,01 até R$ 2.612,50</td>\n",
       "      <td>3135</td>\n",
       "    </tr>\n",
       "    <tr>\n",
       "      <th>86</th>\n",
       "      <td>Não declarado</td>\n",
       "      <td>De R$ 2.612,51 até R$ 3.135,00</td>\n",
       "      <td>3418</td>\n",
       "    </tr>\n",
       "    <tr>\n",
       "      <th>61</th>\n",
       "      <td>Amarela</td>\n",
       "      <td>De R$ 2.612,51 até R$ 3.135,00</td>\n",
       "      <td>3610</td>\n",
       "    </tr>\n",
       "    <tr>\n",
       "      <th>38</th>\n",
       "      <td>Preta</td>\n",
       "      <td>De R$ 5.225,01 até R$ 6.270,00</td>\n",
       "      <td>3849</td>\n",
       "    </tr>\n",
       "    <tr>\n",
       "      <th>71</th>\n",
       "      <td>Não declarado</td>\n",
       "      <td>Nenhuma Renda</td>\n",
       "      <td>4158</td>\n",
       "    </tr>\n",
       "    <tr>\n",
       "      <th>32</th>\n",
       "      <td>Parda</td>\n",
       "      <td>Acima de R$ 20.900,00</td>\n",
       "      <td>4206</td>\n",
       "    </tr>\n",
       "    <tr>\n",
       "      <th>94</th>\n",
       "      <td>Amarela</td>\n",
       "      <td>Nenhuma Renda</td>\n",
       "      <td>4278</td>\n",
       "    </tr>\n",
       "    <tr>\n",
       "      <th>6</th>\n",
       "      <td>Parda</td>\n",
       "      <td>De R$ 15.675,01 até R$ 20.900,00</td>\n",
       "      <td>4534</td>\n",
       "    </tr>\n",
       "    <tr>\n",
       "      <th>97</th>\n",
       "      <td>Parda</td>\n",
       "      <td>De R$ 12.540,01 até R$ 15.675,00</td>\n",
       "      <td>5360</td>\n",
       "    </tr>\n",
       "    <tr>\n",
       "      <th>66</th>\n",
       "      <td>Parda</td>\n",
       "      <td>De R$ 8.360,01 até R$ 9.405,00</td>\n",
       "      <td>5723</td>\n",
       "    </tr>\n",
       "    <tr>\n",
       "      <th>84</th>\n",
       "      <td>Não declarado</td>\n",
       "      <td>De R$ 1.567,51 até R$ 2.090,00</td>\n",
       "      <td>5817</td>\n",
       "    </tr>\n",
       "    <tr>\n",
       "      <th>76</th>\n",
       "      <td>Indígena</td>\n",
       "      <td>Até R$ 1.045,00</td>\n",
       "      <td>6060</td>\n",
       "    </tr>\n",
       "    <tr>\n",
       "      <th>64</th>\n",
       "      <td>Parda</td>\n",
       "      <td>De R$ 10.450,01 até R$ 12.540,00</td>\n",
       "      <td>6458</td>\n",
       "    </tr>\n",
       "    <tr>\n",
       "      <th>53</th>\n",
       "      <td>Amarela</td>\n",
       "      <td>De R$ 1.567,51 até R$ 2.090,00</td>\n",
       "      <td>6651</td>\n",
       "    </tr>\n",
       "    <tr>\n",
       "      <th>58</th>\n",
       "      <td>Preta</td>\n",
       "      <td>De R$ 4.180,01 até R$ 5.225,00</td>\n",
       "      <td>6916</td>\n",
       "    </tr>\n",
       "    <tr>\n",
       "      <th>100</th>\n",
       "      <td>Parda</td>\n",
       "      <td>De R$ 9.405,01 até R$ 10.450,00</td>\n",
       "      <td>6916</td>\n",
       "    </tr>\n",
       "    <tr>\n",
       "      <th>20</th>\n",
       "      <td>Não declarado</td>\n",
       "      <td>De R$ 1.045,01 até R$ 1.567,50</td>\n",
       "      <td>7687</td>\n",
       "    </tr>\n",
       "    <tr>\n",
       "      <th>39</th>\n",
       "      <td>Parda</td>\n",
       "      <td>De R$ 7.315,01 até R$ 8.360,00</td>\n",
       "      <td>7882</td>\n",
       "    </tr>\n",
       "    <tr>\n",
       "      <th>99</th>\n",
       "      <td>Amarela</td>\n",
       "      <td>De R$ 1.045,01 até R$ 1.567,50</td>\n",
       "      <td>9690</td>\n",
       "    </tr>\n",
       "    <tr>\n",
       "      <th>79</th>\n",
       "      <td>Parda</td>\n",
       "      <td>De R$ 6.270,01 até R$ 7.315,00</td>\n",
       "      <td>10657</td>\n",
       "    </tr>\n",
       "    <tr>\n",
       "      <th>92</th>\n",
       "      <td>Preta</td>\n",
       "      <td>De R$ 3.135,01 até R$ 4.180,00</td>\n",
       "      <td>11332</td>\n",
       "    </tr>\n",
       "    <tr>\n",
       "      <th>29</th>\n",
       "      <td>Não declarado</td>\n",
       "      <td>Até R$ 1.045,00</td>\n",
       "      <td>14169</td>\n",
       "    </tr>\n",
       "    <tr>\n",
       "      <th>56</th>\n",
       "      <td>Branca</td>\n",
       "      <td>De R$ 8.360,01 até R$ 9.405,00</td>\n",
       "      <td>15434</td>\n",
       "    </tr>\n",
       "    <tr>\n",
       "      <th>37</th>\n",
       "      <td>Preta</td>\n",
       "      <td>De R$ 2.090,01 até R$ 2.612,50</td>\n",
       "      <td>16942</td>\n",
       "    </tr>\n",
       "    <tr>\n",
       "      <th>26</th>\n",
       "      <td>Preta</td>\n",
       "      <td>De R$ 2.612,51 até R$ 3.135,00</td>\n",
       "      <td>17063</td>\n",
       "    </tr>\n",
       "    <tr>\n",
       "      <th>36</th>\n",
       "      <td>Amarela</td>\n",
       "      <td>Até R$ 1.045,00</td>\n",
       "      <td>18118</td>\n",
       "    </tr>\n",
       "    <tr>\n",
       "      <th>8</th>\n",
       "      <td>Parda</td>\n",
       "      <td>De R$ 5.225,01 até R$ 6.270,00</td>\n",
       "      <td>18549</td>\n",
       "    </tr>\n",
       "    <tr>\n",
       "      <th>85</th>\n",
       "      <td>Branca</td>\n",
       "      <td>De R$ 7.315,01 até R$ 8.360,00</td>\n",
       "      <td>19845</td>\n",
       "    </tr>\n",
       "    <tr>\n",
       "      <th>88</th>\n",
       "      <td>Branca</td>\n",
       "      <td>De R$ 12.540,01 até R$ 15.675,00</td>\n",
       "      <td>19916</td>\n",
       "    </tr>\n",
       "    <tr>\n",
       "      <th>67</th>\n",
       "      <td>Branca</td>\n",
       "      <td>De R$ 15.675,01 até R$ 20.900,00</td>\n",
       "      <td>20242</td>\n",
       "    </tr>\n",
       "    <tr>\n",
       "      <th>40</th>\n",
       "      <td>Branca</td>\n",
       "      <td>De R$ 10.450,01 até R$ 12.540,00</td>\n",
       "      <td>21182</td>\n",
       "    </tr>\n",
       "    <tr>\n",
       "      <th>83</th>\n",
       "      <td>Branca</td>\n",
       "      <td>De R$ 9.405,01 até R$ 10.450,00</td>\n",
       "      <td>21991</td>\n",
       "    </tr>\n",
       "    <tr>\n",
       "      <th>27</th>\n",
       "      <td>Branca</td>\n",
       "      <td>De R$ 6.270,01 até R$ 7.315,00</td>\n",
       "      <td>24240</td>\n",
       "    </tr>\n",
       "    <tr>\n",
       "      <th>28</th>\n",
       "      <td>Branca</td>\n",
       "      <td>Acima de R$ 20.900,00</td>\n",
       "      <td>25504</td>\n",
       "    </tr>\n",
       "    <tr>\n",
       "      <th>24</th>\n",
       "      <td>Preta</td>\n",
       "      <td>Nenhuma Renda</td>\n",
       "      <td>26949</td>\n",
       "    </tr>\n",
       "    <tr>\n",
       "      <th>54</th>\n",
       "      <td>Parda</td>\n",
       "      <td>De R$ 4.180,01 até R$ 5.225,00</td>\n",
       "      <td>32359</td>\n",
       "    </tr>\n",
       "    <tr>\n",
       "      <th>12</th>\n",
       "      <td>Branca</td>\n",
       "      <td>Nenhuma Renda</td>\n",
       "      <td>34393</td>\n",
       "    </tr>\n",
       "    <tr>\n",
       "      <th>3</th>\n",
       "      <td>Branca</td>\n",
       "      <td>De R$ 5.225,01 até R$ 6.270,00</td>\n",
       "      <td>38630</td>\n",
       "    </tr>\n",
       "    <tr>\n",
       "      <th>74</th>\n",
       "      <td>Preta</td>\n",
       "      <td>De R$ 1.567,51 até R$ 2.090,00</td>\n",
       "      <td>38707</td>\n",
       "    </tr>\n",
       "    <tr>\n",
       "      <th>51</th>\n",
       "      <td>Parda</td>\n",
       "      <td>De R$ 3.135,01 até R$ 4.180,00</td>\n",
       "      <td>49167</td>\n",
       "    </tr>\n",
       "    <tr>\n",
       "      <th>5</th>\n",
       "      <td>Preta</td>\n",
       "      <td>De R$ 1.045,01 até R$ 1.567,50</td>\n",
       "      <td>60460</td>\n",
       "    </tr>\n",
       "    <tr>\n",
       "      <th>7</th>\n",
       "      <td>Branca</td>\n",
       "      <td>De R$ 4.180,01 até R$ 5.225,00</td>\n",
       "      <td>60571</td>\n",
       "    </tr>\n",
       "    <tr>\n",
       "      <th>35</th>\n",
       "      <td>Parda</td>\n",
       "      <td>De R$ 2.090,01 até R$ 2.612,50</td>\n",
       "      <td>64890</td>\n",
       "    </tr>\n",
       "    <tr>\n",
       "      <th>25</th>\n",
       "      <td>Parda</td>\n",
       "      <td>De R$ 2.612,51 até R$ 3.135,00</td>\n",
       "      <td>68669</td>\n",
       "    </tr>\n",
       "    <tr>\n",
       "      <th>93</th>\n",
       "      <td>Branca</td>\n",
       "      <td>De R$ 2.090,01 até R$ 2.612,50</td>\n",
       "      <td>73675</td>\n",
       "    </tr>\n",
       "    <tr>\n",
       "      <th>14</th>\n",
       "      <td>Branca</td>\n",
       "      <td>De R$ 3.135,01 até R$ 4.180,00</td>\n",
       "      <td>77062</td>\n",
       "    </tr>\n",
       "    <tr>\n",
       "      <th>10</th>\n",
       "      <td>Branca</td>\n",
       "      <td>De R$ 2.612,51 até R$ 3.135,00</td>\n",
       "      <td>89087</td>\n",
       "    </tr>\n",
       "    <tr>\n",
       "      <th>19</th>\n",
       "      <td>Parda</td>\n",
       "      <td>Nenhuma Renda</td>\n",
       "      <td>98763</td>\n",
       "    </tr>\n",
       "    <tr>\n",
       "      <th>52</th>\n",
       "      <td>Preta</td>\n",
       "      <td>Até R$ 1.045,00</td>\n",
       "      <td>118353</td>\n",
       "    </tr>\n",
       "    <tr>\n",
       "      <th>43</th>\n",
       "      <td>Branca</td>\n",
       "      <td>De R$ 1.567,51 até R$ 2.090,00</td>\n",
       "      <td>121605</td>\n",
       "    </tr>\n",
       "    <tr>\n",
       "      <th>47</th>\n",
       "      <td>Branca</td>\n",
       "      <td>De R$ 1.045,01 até R$ 1.567,50</td>\n",
       "      <td>135520</td>\n",
       "    </tr>\n",
       "    <tr>\n",
       "      <th>9</th>\n",
       "      <td>Parda</td>\n",
       "      <td>De R$ 1.567,51 até R$ 2.090,00</td>\n",
       "      <td>140249</td>\n",
       "    </tr>\n",
       "    <tr>\n",
       "      <th>70</th>\n",
       "      <td>Branca</td>\n",
       "      <td>Até R$ 1.045,00</td>\n",
       "      <td>175170</td>\n",
       "    </tr>\n",
       "    <tr>\n",
       "      <th>1</th>\n",
       "      <td>Parda</td>\n",
       "      <td>De R$ 1.045,01 até R$ 1.567,50</td>\n",
       "      <td>206361</td>\n",
       "    </tr>\n",
       "    <tr>\n",
       "      <th>55</th>\n",
       "      <td>Parda</td>\n",
       "      <td>Até R$ 1.045,00</td>\n",
       "      <td>426660</td>\n",
       "    </tr>\n",
       "  </tbody>\n",
       "</table>\n",
       "</div>"
      ],
      "text/plain": [
       "       TP_COR_RACA                              Q006  MEDIA_MED\n",
       "46        Indígena             Acima de R$ 20.900,00         20\n",
       "77        Indígena  De R$ 12.540,01 até R$ 15.675,00         27\n",
       "0         Indígena  De R$ 15.675,01 até R$ 20.900,00         28\n",
       "13        Indígena    De R$ 8.360,01 até R$ 9.405,00         28\n",
       "90        Indígena    De R$ 7.315,01 até R$ 8.360,00         32\n",
       "69        Indígena   De R$ 9.405,01 até R$ 10.450,00         36\n",
       "75        Indígena  De R$ 10.450,01 até R$ 12.540,00         40\n",
       "17        Indígena    De R$ 6.270,01 até R$ 7.315,00         59\n",
       "33        Indígena    De R$ 5.225,01 até R$ 6.270,00        100\n",
       "4         Indígena    De R$ 4.180,01 até R$ 5.225,00        199\n",
       "63        Indígena    De R$ 3.135,01 até R$ 4.180,00        314\n",
       "96   Não declarado    De R$ 8.360,01 até R$ 9.405,00        468\n",
       "42           Preta             Acima de R$ 20.900,00        511\n",
       "22         Amarela    De R$ 8.360,01 até R$ 9.405,00        517\n",
       "95        Indígena    De R$ 2.090,01 até R$ 2.612,50        535\n",
       "11        Indígena    De R$ 2.612,51 até R$ 3.135,00        549\n",
       "44   Não declarado  De R$ 15.675,01 até R$ 20.900,00        567\n",
       "68   Não declarado    De R$ 7.315,01 até R$ 8.360,00        588\n",
       "73   Não declarado  De R$ 12.540,01 até R$ 15.675,00        588\n",
       "21         Amarela  De R$ 12.540,01 até R$ 15.675,00        595\n",
       "45   Não declarado             Acima de R$ 20.900,00        608\n",
       "60         Amarela  De R$ 15.675,01 até R$ 20.900,00        610\n",
       "101        Amarela    De R$ 7.315,01 até R$ 8.360,00        619\n",
       "78   Não declarado   De R$ 9.405,01 até R$ 10.450,00        638\n",
       "31   Não declarado  De R$ 10.450,01 até R$ 12.540,00        655\n",
       "87           Preta  De R$ 15.675,01 até R$ 20.900,00        659\n",
       "34         Amarela  De R$ 10.450,01 até R$ 12.540,00        691\n",
       "23         Amarela             Acima de R$ 20.900,00        733\n",
       "48         Amarela    De R$ 6.270,01 até R$ 7.315,00        766\n",
       "2          Amarela   De R$ 9.405,01 até R$ 10.450,00        771\n",
       "98   Não declarado    De R$ 6.270,01 até R$ 7.315,00        807\n",
       "65           Preta  De R$ 12.540,01 até R$ 15.675,00        957\n",
       "49           Preta    De R$ 8.360,01 até R$ 9.405,00       1038\n",
       "91           Preta  De R$ 10.450,01 até R$ 12.540,00       1140\n",
       "80           Preta   De R$ 9.405,01 até R$ 10.450,00       1225\n",
       "30         Amarela    De R$ 5.225,01 até R$ 6.270,00       1232\n",
       "18   Não declarado    De R$ 5.225,01 até R$ 6.270,00       1254\n",
       "16        Indígena    De R$ 1.567,51 até R$ 2.090,00       1322\n",
       "57           Preta    De R$ 7.315,01 até R$ 8.360,00       1546\n",
       "41         Amarela    De R$ 4.180,01 até R$ 5.225,00       2044\n",
       "81   Não declarado    De R$ 4.180,01 até R$ 5.225,00       2108\n",
       "59           Preta    De R$ 6.270,01 até R$ 7.315,00       2186\n",
       "82        Indígena    De R$ 1.045,01 até R$ 1.567,50       2233\n",
       "89        Indígena                     Nenhuma Renda       2238\n",
       "72         Amarela    De R$ 3.135,01 até R$ 4.180,00       2726\n",
       "50   Não declarado    De R$ 3.135,01 até R$ 4.180,00       2731\n",
       "62   Não declarado    De R$ 2.090,01 até R$ 2.612,50       3134\n",
       "15         Amarela    De R$ 2.090,01 até R$ 2.612,50       3135\n",
       "86   Não declarado    De R$ 2.612,51 até R$ 3.135,00       3418\n",
       "61         Amarela    De R$ 2.612,51 até R$ 3.135,00       3610\n",
       "38           Preta    De R$ 5.225,01 até R$ 6.270,00       3849\n",
       "71   Não declarado                     Nenhuma Renda       4158\n",
       "32           Parda             Acima de R$ 20.900,00       4206\n",
       "94         Amarela                     Nenhuma Renda       4278\n",
       "6            Parda  De R$ 15.675,01 até R$ 20.900,00       4534\n",
       "97           Parda  De R$ 12.540,01 até R$ 15.675,00       5360\n",
       "66           Parda    De R$ 8.360,01 até R$ 9.405,00       5723\n",
       "84   Não declarado    De R$ 1.567,51 até R$ 2.090,00       5817\n",
       "76        Indígena                   Até R$ 1.045,00       6060\n",
       "64           Parda  De R$ 10.450,01 até R$ 12.540,00       6458\n",
       "53         Amarela    De R$ 1.567,51 até R$ 2.090,00       6651\n",
       "58           Preta    De R$ 4.180,01 até R$ 5.225,00       6916\n",
       "100          Parda   De R$ 9.405,01 até R$ 10.450,00       6916\n",
       "20   Não declarado    De R$ 1.045,01 até R$ 1.567,50       7687\n",
       "39           Parda    De R$ 7.315,01 até R$ 8.360,00       7882\n",
       "99         Amarela    De R$ 1.045,01 até R$ 1.567,50       9690\n",
       "79           Parda    De R$ 6.270,01 até R$ 7.315,00      10657\n",
       "92           Preta    De R$ 3.135,01 até R$ 4.180,00      11332\n",
       "29   Não declarado                   Até R$ 1.045,00      14169\n",
       "56          Branca    De R$ 8.360,01 até R$ 9.405,00      15434\n",
       "37           Preta    De R$ 2.090,01 até R$ 2.612,50      16942\n",
       "26           Preta    De R$ 2.612,51 até R$ 3.135,00      17063\n",
       "36         Amarela                   Até R$ 1.045,00      18118\n",
       "8            Parda    De R$ 5.225,01 até R$ 6.270,00      18549\n",
       "85          Branca    De R$ 7.315,01 até R$ 8.360,00      19845\n",
       "88          Branca  De R$ 12.540,01 até R$ 15.675,00      19916\n",
       "67          Branca  De R$ 15.675,01 até R$ 20.900,00      20242\n",
       "40          Branca  De R$ 10.450,01 até R$ 12.540,00      21182\n",
       "83          Branca   De R$ 9.405,01 até R$ 10.450,00      21991\n",
       "27          Branca    De R$ 6.270,01 até R$ 7.315,00      24240\n",
       "28          Branca             Acima de R$ 20.900,00      25504\n",
       "24           Preta                     Nenhuma Renda      26949\n",
       "54           Parda    De R$ 4.180,01 até R$ 5.225,00      32359\n",
       "12          Branca                     Nenhuma Renda      34393\n",
       "3           Branca    De R$ 5.225,01 até R$ 6.270,00      38630\n",
       "74           Preta    De R$ 1.567,51 até R$ 2.090,00      38707\n",
       "51           Parda    De R$ 3.135,01 até R$ 4.180,00      49167\n",
       "5            Preta    De R$ 1.045,01 até R$ 1.567,50      60460\n",
       "7           Branca    De R$ 4.180,01 até R$ 5.225,00      60571\n",
       "35           Parda    De R$ 2.090,01 até R$ 2.612,50      64890\n",
       "25           Parda    De R$ 2.612,51 até R$ 3.135,00      68669\n",
       "93          Branca    De R$ 2.090,01 até R$ 2.612,50      73675\n",
       "14          Branca    De R$ 3.135,01 até R$ 4.180,00      77062\n",
       "10          Branca    De R$ 2.612,51 até R$ 3.135,00      89087\n",
       "19           Parda                     Nenhuma Renda      98763\n",
       "52           Preta                   Até R$ 1.045,00     118353\n",
       "43          Branca    De R$ 1.567,51 até R$ 2.090,00     121605\n",
       "47          Branca    De R$ 1.045,01 até R$ 1.567,50     135520\n",
       "9            Parda    De R$ 1.567,51 até R$ 2.090,00     140249\n",
       "70          Branca                   Até R$ 1.045,00     175170\n",
       "1            Parda    De R$ 1.045,01 até R$ 1.567,50     206361\n",
       "55           Parda                   Até R$ 1.045,00     426660"
      ]
     },
     "metadata": {},
     "execution_count": 72
    }
   ],
   "metadata": {}
  }
 ],
 "metadata": {
  "orig_nbformat": 4,
  "language_info": {
   "name": "python",
   "version": "3.9.7",
   "mimetype": "text/x-python",
   "codemirror_mode": {
    "name": "ipython",
    "version": 3
   },
   "pygments_lexer": "ipython3",
   "nbconvert_exporter": "python",
   "file_extension": ".py"
  },
  "kernelspec": {
   "name": "python3",
   "display_name": "Python 3.9.7 64-bit"
  },
  "interpreter": {
   "hash": "d716d3087447d732d408563f09e95056395e35756340cb54fdc49b8a8ffe1616"
  }
 },
 "nbformat": 4,
 "nbformat_minor": 2
}